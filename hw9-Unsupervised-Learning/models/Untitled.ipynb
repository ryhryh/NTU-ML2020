{
 "cells": [
  {
   "cell_type": "markdown",
   "metadata": {},
   "source": [
    "# ipmort "
   ]
  },
  {
   "cell_type": "code",
   "execution_count": 1,
   "metadata": {
    "ExecuteTime": {
     "end_time": "2020-11-01T12:36:10.823665Z",
     "start_time": "2020-11-01T12:36:09.882105Z"
    }
   },
   "outputs": [],
   "source": [
    "import os\n",
    "import numpy as np\n",
    "import pandas as pd\n",
    "\n",
    "import random\n",
    "import torch\n",
    "\n",
    "from torch.utils.data import Dataset\n",
    "import torch.nn as nn\n",
    "import torch\n",
    "from torch import optim\n",
    "from torch.utils.data import DataLoader\n",
    "\n",
    "os.environ[\"CUDA_VISIBLE_DEVICES\"]=\"3\""
   ]
  },
  {
   "cell_type": "markdown",
   "metadata": {},
   "source": [
    "# utils"
   ]
  },
  {
   "cell_type": "code",
   "execution_count": 2,
   "metadata": {
    "ExecuteTime": {
     "end_time": "2020-11-01T12:36:12.859274Z",
     "start_time": "2020-11-01T12:36:12.847688Z"
    }
   },
   "outputs": [],
   "source": [
    "def preprocess(image_list):\n",
    "    \"\"\" Normalize Image and Permute (N,H,W,C) to (N,C,H,W)\n",
    "    Args:\n",
    "      image_list: List of images (9000, 32, 32, 3)\n",
    "    Returns:\n",
    "      image_list: List of images (9000, 3, 32, 32)\n",
    "    \"\"\"\n",
    "    image_list = np.array(image_list)\n",
    "    image_list = np.transpose(image_list, (0, 3, 1, 2))\n",
    "    image_list = (image_list / 255.0) * 2 - 1\n",
    "    image_list = image_list.astype(np.float32)\n",
    "    return image_list"
   ]
  },
  {
   "cell_type": "code",
   "execution_count": 3,
   "metadata": {
    "ExecuteTime": {
     "end_time": "2020-11-01T12:36:15.943550Z",
     "start_time": "2020-11-01T12:36:15.925253Z"
    }
   },
   "outputs": [],
   "source": [
    "\n",
    "def count_parameters(model, only_trainable=False):\n",
    "    if only_trainable:\n",
    "        return sum(p.numel() for p in model.parameters() if p.requires_grad)\n",
    "    else:\n",
    "        return sum(p.numel() for p in model.parameters())\n",
    "\n",
    "def same_seeds(seed):\n",
    "    torch.manual_seed(seed)\n",
    "    if torch.cuda.is_available():\n",
    "        torch.cuda.manual_seed(seed)\n",
    "        torch.cuda.manual_seed_all(seed)  # if you are using multi-GPU.\n",
    "    np.random.seed(seed)  # Numpy module.\n",
    "    random.seed(seed)  # Python random module.\n",
    "    torch.backends.cudnn.benchmark = False\n",
    "    torch.backends.cudnn.deterministic = True\n"
   ]
  },
  {
   "cell_type": "code",
   "execution_count": 24,
   "metadata": {
    "ExecuteTime": {
     "end_time": "2020-11-01T12:58:08.076895Z",
     "start_time": "2020-11-01T12:58:08.066453Z"
    }
   },
   "outputs": [],
   "source": [
    "def save_model(model, file_name):\n",
    "    file_path = os.path.join('..', 'checkpoints', file_name)\n",
    "    torch.save(model.state_dict(), file_path)"
   ]
  },
  {
   "cell_type": "markdown",
   "metadata": {},
   "source": [
    "# data"
   ]
  },
  {
   "cell_type": "markdown",
   "metadata": {},
   "source": [
    "## check data"
   ]
  },
  {
   "cell_type": "code",
   "execution_count": null,
   "metadata": {
    "ExecuteTime": {
     "end_time": "2020-11-01T11:50:50.919907Z",
     "start_time": "2020-11-01T11:50:50.863280Z"
    }
   },
   "outputs": [],
   "source": [
    "trainX = np.load(os.path.join('..', 'datasets', 'trainX.npy'))\n",
    "trainX.shape\n"
   ]
  },
  {
   "cell_type": "code",
   "execution_count": null,
   "metadata": {
    "ExecuteTime": {
     "end_time": "2020-11-01T11:51:12.399557Z",
     "start_time": "2020-11-01T11:51:12.389993Z"
    }
   },
   "outputs": [],
   "source": [
    "valX = np.load(os.path.join('..', 'datasets', 'valX.npy'))\n",
    "valX.shape\n"
   ]
  },
  {
   "cell_type": "code",
   "execution_count": null,
   "metadata": {
    "ExecuteTime": {
     "end_time": "2020-11-01T11:51:28.939309Z",
     "start_time": "2020-11-01T11:51:28.931886Z"
    }
   },
   "outputs": [],
   "source": [
    "valY = np.load(os.path.join('..', 'datasets', 'valY.npy'))\n",
    "valY.shape\n"
   ]
  },
  {
   "cell_type": "markdown",
   "metadata": {},
   "source": [
    "## dataset"
   ]
  },
  {
   "cell_type": "code",
   "execution_count": 4,
   "metadata": {
    "ExecuteTime": {
     "end_time": "2020-11-01T12:36:17.564886Z",
     "start_time": "2020-11-01T12:36:17.551148Z"
    }
   },
   "outputs": [],
   "source": [
    "class ImageDataset(Dataset):\n",
    "    def __init__(self, file_name):\n",
    "        self.file_name = file_name\n",
    "        self.setup()\n",
    "        \n",
    "    def setup(self):\n",
    "        self.data = np.load(os.path.join('..', 'datasets', self.file_name))\n",
    "        self.data = preprocess(self.data)\n",
    "        \n",
    "    def __len__(self):\n",
    "        return len(self.data)\n",
    "    \n",
    "    def __getitem__(self, idx):\n",
    "        image = self.data[idx]\n",
    "        return image"
   ]
  },
  {
   "cell_type": "code",
   "execution_count": null,
   "metadata": {
    "ExecuteTime": {
     "end_time": "2020-11-01T12:16:02.413570Z",
     "start_time": "2020-11-01T12:16:02.037072Z"
    }
   },
   "outputs": [],
   "source": [
    "imageDataset = ImageDataset('trainX.npy')"
   ]
  },
  {
   "cell_type": "code",
   "execution_count": null,
   "metadata": {
    "ExecuteTime": {
     "end_time": "2020-11-01T12:16:04.967455Z",
     "start_time": "2020-11-01T12:16:04.957201Z"
    }
   },
   "outputs": [],
   "source": [
    "imageDataset[10].shape, len(imageDataset)"
   ]
  },
  {
   "cell_type": "markdown",
   "metadata": {},
   "source": [
    "## dataloader"
   ]
  },
  {
   "cell_type": "code",
   "execution_count": null,
   "metadata": {
    "ExecuteTime": {
     "end_time": "2020-11-01T12:17:22.974792Z",
     "start_time": "2020-11-01T12:17:22.968453Z"
    }
   },
   "outputs": [],
   "source": [
    "train_loader = DataLoader(imageDataset, batch_size=64, shuffle=True)\n"
   ]
  },
  {
   "cell_type": "code",
   "execution_count": null,
   "metadata": {
    "ExecuteTime": {
     "end_time": "2020-11-01T12:18:16.023181Z",
     "start_time": "2020-11-01T12:18:15.830927Z"
    }
   },
   "outputs": [],
   "source": [
    "a = next(iter(train_loader))\n",
    "a.shape"
   ]
  },
  {
   "cell_type": "markdown",
   "metadata": {},
   "source": [
    "# model"
   ]
  },
  {
   "cell_type": "code",
   "execution_count": 5,
   "metadata": {
    "ExecuteTime": {
     "end_time": "2020-11-01T12:36:21.885570Z",
     "start_time": "2020-11-01T12:36:21.866403Z"
    }
   },
   "outputs": [],
   "source": [
    "class AE(nn.Module):\n",
    "    def __init__(self):\n",
    "        super().__init__()\n",
    "        \n",
    "        self.encoder = nn.Sequential(\n",
    "            nn.Conv2d(3, 64, 3, stride=1, padding=1),\n",
    "            nn.ReLU(True),\n",
    "            nn.MaxPool2d(2),\n",
    "            nn.Conv2d(64, 128, 3, stride=1, padding=1),\n",
    "            nn.ReLU(True),\n",
    "            nn.MaxPool2d(2),\n",
    "            nn.Conv2d(128, 256, 3, stride=1, padding=1),\n",
    "            nn.ReLU(True),\n",
    "            nn.MaxPool2d(2)\n",
    "        )\n",
    " \n",
    "        self.decoder = nn.Sequential(\n",
    "            nn.ConvTranspose2d(256, 128, 5, stride=1),\n",
    "            nn.ReLU(True),\n",
    "            nn.ConvTranspose2d(128, 64, 9, stride=1),\n",
    "            nn.ReLU(True),\n",
    "            nn.ConvTranspose2d(64, 3, 17, stride=1),\n",
    "            nn.Tanh()\n",
    "        )\n",
    "\n",
    "    def forward(self, x):\n",
    "        code = self.encoder(x)\n",
    "        x_hat  = self.decoder(code)\n",
    "        return code, x_hat"
   ]
  },
  {
   "cell_type": "code",
   "execution_count": null,
   "metadata": {
    "ExecuteTime": {
     "end_time": "2020-11-01T12:24:21.401105Z",
     "start_time": "2020-11-01T12:24:21.363093Z"
    }
   },
   "outputs": [],
   "source": [
    "aeModel = AE()\n",
    "print(aeModel)"
   ]
  },
  {
   "cell_type": "markdown",
   "metadata": {},
   "source": [
    "# train"
   ]
  },
  {
   "cell_type": "markdown",
   "metadata": {},
   "source": [
    "## data"
   ]
  },
  {
   "cell_type": "code",
   "execution_count": null,
   "metadata": {
    "ExecuteTime": {
     "end_time": "2020-11-01T12:24:31.176518Z",
     "start_time": "2020-11-01T12:24:30.791960Z"
    }
   },
   "outputs": [],
   "source": [
    "imageDataset = ImageDataset('trainX.npy')\n",
    "train_loader = DataLoader(imageDataset, batch_size=64, shuffle=True)\n"
   ]
  },
  {
   "cell_type": "markdown",
   "metadata": {},
   "source": [
    "## build model"
   ]
  },
  {
   "cell_type": "code",
   "execution_count": 6,
   "metadata": {
    "ExecuteTime": {
     "end_time": "2020-11-01T12:36:23.848262Z",
     "start_time": "2020-11-01T12:36:23.840745Z"
    }
   },
   "outputs": [],
   "source": [
    "def build_model(device):\n",
    "    aeModel = AE()\n",
    "    aeModel = aeModel.to(device) #!\n",
    "    return aeModel"
   ]
  },
  {
   "cell_type": "code",
   "execution_count": null,
   "metadata": {
    "ExecuteTime": {
     "end_time": "2020-11-01T12:24:36.535628Z",
     "start_time": "2020-11-01T12:24:36.497175Z"
    }
   },
   "outputs": [],
   "source": [
    "aeModel = build_model(device)\n",
    "print(aeModel)"
   ]
  },
  {
   "cell_type": "markdown",
   "metadata": {},
   "source": [
    "## train on batch"
   ]
  },
  {
   "cell_type": "code",
   "execution_count": 26,
   "metadata": {
    "ExecuteTime": {
     "end_time": "2020-11-01T13:01:24.961598Z",
     "start_time": "2020-11-01T13:01:24.947881Z"
    }
   },
   "outputs": [],
   "source": [
    "def train_model(model, optimizer, train_loader, loss_function, device):\n",
    "    total_loss = 0.0\n",
    "    model.train()\n",
    "    \n",
    "    for i, data in enumerate(train_loader):\n",
    "\n",
    "        x = data.to(device)\n",
    "        code, x_hat = model(x)\n",
    "        \n",
    "        batch_loss = loss_function(x_hat, x)\n",
    "\n",
    "        optimizer.zero_grad()\n",
    "        batch_loss.backward()\n",
    "        optimizer.step()\n",
    "\n",
    "        total_loss += batch_loss.item()\n",
    "    \n",
    "#     avg_batch_loss = total_loss\n",
    "    avg_batch_loss = total_loss / len(train_loader) #? len(train_loader) = 幾個batch\n",
    "    \n",
    "    return model, optimizer, avg_batch_loss\n",
    "    "
   ]
  },
  {
   "cell_type": "code",
   "execution_count": 20,
   "metadata": {
    "ExecuteTime": {
     "end_time": "2020-11-01T12:51:03.233425Z",
     "start_time": "2020-11-01T12:51:03.228607Z"
    }
   },
   "outputs": [],
   "source": [
    "# loss = nn.MSELoss()\n",
    "# input = torch.randn(2, 1, requires_grad=True)\n",
    "# target = torch.randn(2, 1)\n",
    "# output = loss(input, target)\n",
    "# output.backward()\n",
    "# input, target, output"
   ]
  },
  {
   "cell_type": "code",
   "execution_count": 8,
   "metadata": {
    "ExecuteTime": {
     "end_time": "2020-11-01T12:37:05.058833Z",
     "start_time": "2020-11-01T12:36:59.202827Z"
    },
    "scrolled": true
   },
   "outputs": [],
   "source": [
    "imageDataset = ImageDataset('trainX.npy')\n",
    "train_loader = DataLoader(imageDataset, batch_size=64, shuffle=True)\n",
    "\n",
    "device = torch.device(\"cuda\" if torch.cuda.is_available() else \"cpu\")\n",
    "\n",
    "aeModel = build_model(device)\n",
    "loss_function = nn.MSELoss()\n",
    "optimizer = torch.optim.Adam(aeModel.parameters(), lr=1e-5, weight_decay=1e-5)\n",
    "\n",
    "aeModel, optimizer, train_loss = train_model(aeModel, optimizer, train_loader, loss_function, device) \n"
   ]
  },
  {
   "cell_type": "code",
   "execution_count": 9,
   "metadata": {
    "ExecuteTime": {
     "end_time": "2020-11-01T12:37:06.832517Z",
     "start_time": "2020-11-01T12:37:06.809603Z"
    }
   },
   "outputs": [
    {
     "data": {
      "text/plain": [
       "0.0035203646596740274"
      ]
     },
     "execution_count": 9,
     "metadata": {},
     "output_type": "execute_result"
    }
   ],
   "source": [
    "train_loss"
   ]
  },
  {
   "cell_type": "markdown",
   "metadata": {},
   "source": [
    "## train on epoch"
   ]
  },
  {
   "cell_type": "code",
   "execution_count": 28,
   "metadata": {
    "ExecuteTime": {
     "end_time": "2020-11-01T13:11:12.609823Z",
     "start_time": "2020-11-01T13:09:04.662726Z"
    },
    "scrolled": true
   },
   "outputs": [
    {
     "name": "stdout",
     "output_type": "stream",
     "text": [
      "0 0.2251900650728914\n",
      "1 0.18107222155072636\n",
      "2 0.1514452630303856\n",
      "3 0.13176027399704868\n",
      "4 0.1190653052881248\n",
      "5 0.11064204775301137\n",
      "6 0.10469059371634533\n",
      "7 0.10029113522373644\n",
      "8 0.09690998158508674\n",
      "9 0.09395781282643627\n",
      "10 0.09148211569938444\n",
      "11 0.0893798822298982\n",
      "12 0.08749928303006896\n",
      "13 0.08575173388970525\n",
      "14 0.08415552368737701\n",
      "15 0.08272958356410937\n",
      "16 0.08148219755717687\n",
      "17 0.08014767673006631\n",
      "18 0.07897871973595225\n",
      "19 0.07783780022895426\n",
      "20 0.07673409306689312\n",
      "21 0.07571928875338763\n",
      "22 0.07464096527126499\n",
      "23 0.07368508782377817\n",
      "24 0.0728012708512912\n",
      "25 0.07197398370257894\n",
      "26 0.07114040389432943\n",
      "27 0.07033306127764229\n",
      "28 0.06965883580365576\n",
      "29 0.06891632220126633\n",
      "30 0.06822566660051059\n",
      "31 0.06760457323345923\n",
      "32 0.06705864527283754\n",
      "33 0.0664275569519154\n",
      "34 0.06592858902045659\n",
      "35 0.06535841958751355\n",
      "36 0.06486303143595394\n",
      "37 0.0643361922549574\n",
      "38 0.0638407010837157\n",
      "39 0.06334892713597842\n",
      "40 0.0629552748698489\n",
      "41 0.06250425204074472\n",
      "42 0.062121382921485974\n",
      "43 0.06168840419417037\n",
      "44 0.06127798120330151\n",
      "45 0.06084877815573735\n",
      "46 0.06054196109000901\n",
      "47 0.060126760260279015\n",
      "48 0.059713938294496754\n",
      "49 0.059439526044560556\n",
      "50 0.05908112578037986\n",
      "51 0.058718637892402205\n",
      "52 0.05841525630059099\n",
      "53 0.05805906336894609\n",
      "54 0.05781838785212739\n",
      "55 0.0574923147048269\n",
      "56 0.057107711560968166\n",
      "57 0.05693652438826131\n",
      "58 0.05655875891671145\n",
      "59 0.056342906773762594\n",
      "60 0.05602143309954414\n",
      "61 0.05575928758633764\n",
      "62 0.05554261195816492\n",
      "63 0.055290612903304566\n",
      "64 0.05500087349262452\n",
      "65 0.05473673839430164\n",
      "66 0.054505654519661925\n",
      "67 0.054289736581924264\n",
      "68 0.05402720335842971\n",
      "69 0.053815682607709914\n",
      "70 0.05356860819055622\n",
      "71 0.05329749528738789\n",
      "72 0.053069705801798886\n",
      "73 0.052848454480780696\n",
      "74 0.05270800187735629\n",
      "75 0.05248991315974329\n",
      "76 0.05224498350145225\n",
      "77 0.05200476218995295\n",
      "78 0.051806700268858356\n",
      "79 0.05164893133971924\n",
      "80 0.05144970155412093\n",
      "81 0.0512243929998319\n",
      "82 0.050980776044210994\n",
      "83 0.0508663849835109\n",
      "84 0.050700833810899494\n",
      "85 0.05047143043432021\n",
      "86 0.05024644872523788\n",
      "87 0.050118471334751384\n",
      "88 0.04990295962171447\n",
      "89 0.049784966009227855\n",
      "90 0.04956938878149915\n",
      "91 0.04939993935868256\n",
      "92 0.04924519082769416\n",
      "93 0.04904790614780627\n",
      "94 0.04891224048639599\n",
      "95 0.04881188842026811\n",
      "96 0.04860646927491166\n",
      "97 0.04841574894866549\n",
      "98 0.04824519891263847\n",
      "99 0.04807774728178082\n"
     ]
    }
   ],
   "source": [
    "imageDataset = ImageDataset('trainX.npy')\n",
    "train_loader = DataLoader(imageDataset, batch_size=64, shuffle=True)\n",
    "\n",
    "device = torch.device(\"cuda\" if torch.cuda.is_available() else \"cpu\")\n",
    "\n",
    "aeModel = build_model(device)\n",
    "loss_function = nn.MSELoss()\n",
    "optimizer = torch.optim.Adam(aeModel.parameters(), lr=1e-5, weight_decay=1e-5)\n",
    "\n",
    "for epoch in range(100):\n",
    "    aeModel, optimizer, train_loss = train_model(aeModel, optimizer, train_loader, loss_function, device) \n",
    "    print(epoch, train_loss)\n",
    "    \n",
    "    if epoch % 10 == 0:\n",
    "        file_name = 'epoch_%s_loss_%s.pth'%(epoch, train_loss)\n",
    "        save_model(aeModel, file_name)\n",
    "    "
   ]
  },
  {
   "cell_type": "code",
   "execution_count": null,
   "metadata": {},
   "outputs": [],
   "source": []
  },
  {
   "cell_type": "code",
   "execution_count": null,
   "metadata": {},
   "outputs": [],
   "source": []
  },
  {
   "cell_type": "code",
   "execution_count": null,
   "metadata": {},
   "outputs": [],
   "source": []
  },
  {
   "cell_type": "code",
   "execution_count": null,
   "metadata": {},
   "outputs": [],
   "source": []
  },
  {
   "cell_type": "code",
   "execution_count": null,
   "metadata": {},
   "outputs": [],
   "source": []
  },
  {
   "cell_type": "code",
   "execution_count": null,
   "metadata": {},
   "outputs": [],
   "source": []
  },
  {
   "cell_type": "code",
   "execution_count": null,
   "metadata": {},
   "outputs": [],
   "source": []
  },
  {
   "cell_type": "code",
   "execution_count": null,
   "metadata": {},
   "outputs": [],
   "source": []
  },
  {
   "cell_type": "code",
   "execution_count": null,
   "metadata": {},
   "outputs": [],
   "source": []
  },
  {
   "cell_type": "code",
   "execution_count": null,
   "metadata": {},
   "outputs": [],
   "source": []
  },
  {
   "cell_type": "code",
   "execution_count": null,
   "metadata": {},
   "outputs": [],
   "source": []
  },
  {
   "cell_type": "code",
   "execution_count": null,
   "metadata": {},
   "outputs": [],
   "source": []
  },
  {
   "cell_type": "code",
   "execution_count": null,
   "metadata": {},
   "outputs": [],
   "source": []
  }
 ],
 "metadata": {
  "kernelspec": {
   "display_name": "Python 3",
   "language": "python",
   "name": "python3"
  },
  "language_info": {
   "codemirror_mode": {
    "name": "ipython",
    "version": 3
   },
   "file_extension": ".py",
   "mimetype": "text/x-python",
   "name": "python",
   "nbconvert_exporter": "python",
   "pygments_lexer": "ipython3",
   "version": "3.6.5"
  },
  "toc": {
   "base_numbering": 1,
   "nav_menu": {},
   "number_sections": true,
   "sideBar": true,
   "skip_h1_title": false,
   "title_cell": "Table of Contents",
   "title_sidebar": "Contents",
   "toc_cell": false,
   "toc_position": {
    "height": "calc(100% - 180px)",
    "left": "10px",
    "top": "150px",
    "width": "165px"
   },
   "toc_section_display": true,
   "toc_window_display": true
  }
 },
 "nbformat": 4,
 "nbformat_minor": 4
}
