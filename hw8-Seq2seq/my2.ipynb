{
 "cells": [
  {
   "cell_type": "markdown",
   "metadata": {},
   "source": [
    "# docs"
   ]
  },
  {
   "cell_type": "markdown",
   "metadata": {},
   "source": [
    "- pytorch example: https://pytorch.org/tutorials/intermediate/seq2seq_translation_tutorial.html\n",
    "    \n",
    "- pytorch colab: https://colab.research.google.com/github/pytorch/tutorials/blob/gh-pages/_downloads/a60617788061539b5449701ae76aee56/seq2seq_translation_tutorial.ipynb\n",
    "\n",
    "- ntu colab: https://colab.research.google.com/drive/11iwJbQv9iScRo6kGP7YfyHaaorlHhzMT"
   ]
  },
  {
   "cell_type": "markdown",
   "metadata": {},
   "source": [
    "# import"
   ]
  },
  {
   "cell_type": "code",
   "execution_count": 1,
   "metadata": {
    "ExecuteTime": {
     "end_time": "2021-02-07T16:19:21.315376Z",
     "start_time": "2021-02-07T16:19:19.892281Z"
    },
    "collapsed": true
   },
   "outputs": [],
   "source": [
    "from __future__ import unicode_literals, print_function, division\n",
    "from io import open\n",
    "import unicodedata\n",
    "import string\n",
    "import re\n",
    "import random\n",
    "import os\n",
    "\n",
    "import torch\n",
    "import torch.nn as nn\n",
    "from torch import optim\n",
    "import torch.nn.functional as F\n",
    "import torch.utils.data as data\n",
    "from torchvision import datasets, transforms\n",
    "\n",
    "import time\n",
    "import math\n",
    "\n",
    "import matplotlib.pyplot as plt\n",
    "plt.switch_backend('agg')\n",
    "import matplotlib.ticker as ticker\n",
    "import numpy as np\n",
    "\n",
    "\n",
    "os.environ[\"CUDA_VISIBLE_DEVICES\"]=\"0\"\n",
    "device = torch.device(\"cuda\" if torch.cuda.is_available() else \"cpu\")\n"
   ]
  },
  {
   "cell_type": "code",
   "execution_count": 2,
   "metadata": {
    "ExecuteTime": {
     "end_time": "2021-02-07T16:19:21.330782Z",
     "start_time": "2021-02-07T16:19:21.319549Z"
    }
   },
   "outputs": [
    {
     "data": {
      "text/plain": [
       "device(type='cuda')"
      ]
     },
     "execution_count": 2,
     "metadata": {},
     "output_type": "execute_result"
    }
   ],
   "source": [
    "device"
   ]
  },
  {
   "cell_type": "markdown",
   "metadata": {
    "ExecuteTime": {
     "end_time": "2021-01-23T16:47:50.958405Z",
     "start_time": "2021-01-23T16:47:50.953588Z"
    }
   },
   "source": [
    "# utils"
   ]
  },
  {
   "cell_type": "code",
   "execution_count": 3,
   "metadata": {
    "ExecuteTime": {
     "end_time": "2021-02-07T16:19:21.350590Z",
     "start_time": "2021-02-07T16:19:21.333994Z"
    },
    "collapsed": true
   },
   "outputs": [],
   "source": [
    "class Utils:\n",
    "    def __init__(self):\n",
    "        pass\n",
    "\n",
    "    def asMinutes(self, s):\n",
    "        m = math.floor(s / 60)\n",
    "        s -= m * 60\n",
    "        return '%dm %ds' % (m, s)\n",
    "\n",
    "\n",
    "    def timeSince(self, since, percent):\n",
    "        now = time.time()\n",
    "        s = now - since\n",
    "        es = s / (percent)\n",
    "        rs = es - s\n",
    "        return '%s (- %s)' % (self.asMinutes(s), self.asMinutes(rs))\n",
    "    \n",
    "    def showPlot(self, points):\n",
    "        plt.figure()\n",
    "        fig, ax = plt.subplots()\n",
    "        # this locator puts ticks at regular intervals\n",
    "        loc = ticker.MultipleLocator(base=0.2)\n",
    "        ax.yaxis.set_major_locator(loc)\n",
    "        plt.plot(points)\n",
    "        \n",
    "    def showAttention(self, input_sentence, output_words, attentions):\n",
    "        # Set up figure with colorbar\n",
    "        fig = plt.figure(figsize=(50, 10))\n",
    "        ax = fig.add_subplot(111)\n",
    "        cax = ax.matshow(attentions.numpy(), cmap='bone')\n",
    "        fig.colorbar(cax)\n",
    "\n",
    "        # Set up axes\n",
    "        ax.set_xticklabels([''] + input_sentence.split(' ') +\n",
    "                           ['<EOS>'], rotation=90)\n",
    "        ax.set_yticklabels([''] + output_words)\n",
    "\n",
    "        # Show label at every tick\n",
    "        ax.xaxis.set_major_locator(ticker.MultipleLocator(1))\n",
    "        ax.yaxis.set_major_locator(ticker.MultipleLocator(1))\n",
    "\n",
    "        plt.show()\n",
    "\n",
    "    def evaluateAndShowAttention(self, input_senText, output_words, attentions):\n",
    "        output_senText = ' '.join(output_words)\n",
    "        print('input =', input_senText)\n",
    "        print('output =', output_senText)\n",
    "        self.showAttention(input_senText, output_words, attentions)"
   ]
  },
  {
   "cell_type": "code",
   "execution_count": 4,
   "metadata": {
    "ExecuteTime": {
     "end_time": "2021-02-07T16:19:21.367564Z",
     "start_time": "2021-02-07T16:19:21.353356Z"
    },
    "collapsed": true
   },
   "outputs": [],
   "source": [
    "# utils = Utils()"
   ]
  },
  {
   "cell_type": "markdown",
   "metadata": {},
   "source": [
    "# option"
   ]
  },
  {
   "cell_type": "code",
   "execution_count": 5,
   "metadata": {
    "ExecuteTime": {
     "end_time": "2021-02-07T16:19:21.386283Z",
     "start_time": "2021-02-07T16:19:21.370059Z"
    },
    "collapsed": true
   },
   "outputs": [],
   "source": [
    "class Option:\n",
    "    def __init__(self, \n",
    "                 dropout_p=0.1, \n",
    "                 max_length=50, \n",
    "                 hidden_size=256, \n",
    "                 teacher_forcing_ratio=0.5, \n",
    "                 batch_number=10000, \n",
    "                 print_every=1000, \n",
    "                 plot_every=100, \n",
    "                 learning_rate=0.01):\n",
    "        \n",
    "        self.dropout_p = dropout_p\n",
    "        self.max_length = max_length\n",
    "        self.hidden_size = hidden_size\n",
    "        self.teacher_forcing_ratio = teacher_forcing_ratio\n",
    "        self.batch_number = batch_number\n",
    "        self.print_every = print_every\n",
    "        self.plot_every = plot_every\n",
    "        self.learning_rate = learning_rate\n"
   ]
  },
  {
   "cell_type": "code",
   "execution_count": 6,
   "metadata": {
    "ExecuteTime": {
     "end_time": "2021-02-07T16:19:21.499397Z",
     "start_time": "2021-02-07T16:19:21.388532Z"
    },
    "collapsed": true
   },
   "outputs": [],
   "source": [
    "# option = Option()"
   ]
  },
  {
   "cell_type": "code",
   "execution_count": null,
   "metadata": {
    "collapsed": true
   },
   "outputs": [],
   "source": []
  },
  {
   "cell_type": "markdown",
   "metadata": {
    "collapsed": true
   },
   "source": [
    "# data"
   ]
  },
  {
   "cell_type": "markdown",
   "metadata": {},
   "source": [
    "## todo"
   ]
  },
  {
   "cell_type": "markdown",
   "metadata": {
    "collapsed": true
   },
   "source": [
    "- 生成跟範例一樣的data\n",
    "\n",
    "    - 用範例的方法生成dict\n",
    "\n",
    "    - 用dataset / dataloader"
   ]
  },
  {
   "cell_type": "markdown",
   "metadata": {
    "collapsed": true
   },
   "source": [
    "邏輯用簡單，一個function做一件事(命名的那件事)"
   ]
  },
  {
   "cell_type": "markdown",
   "metadata": {},
   "source": [
    "## preprocess"
   ]
  },
  {
   "cell_type": "markdown",
   "metadata": {},
   "source": [
    "### MyPreData\n",
    "\n",
    "- 增加batch_size: 使用dataloader，做padding，讓長度變一樣\n",
    "- 假如要加padding: \n",
    "    - gru不改，padding在句子前面\n",
    "    - 改gru，可能要用雙向的 "
   ]
  },
  {
   "cell_type": "code",
   "execution_count": 7,
   "metadata": {
    "ExecuteTime": {
     "end_time": "2021-02-07T16:19:21.630068Z",
     "start_time": "2021-02-07T16:19:21.502011Z"
    },
    "collapsed": true
   },
   "outputs": [],
   "source": [
    "class Lang:\n",
    "    def __init__(self, name):\n",
    "        self.name = name\n",
    "        self.setup_dict()\n",
    "        \n",
    "    def setup_dict(self):\n",
    "        wordIndex_list = [[\"<SOS>\", 0], [\"<EOS>\", 1]]\n",
    "        self.word2count = {}\n",
    "        self.word2index = {wordIndex[0]:wordIndex[1] for wordIndex in wordIndex_list}\n",
    "        self.index2word = {wordIndex[1]:wordIndex[0] for wordIndex in wordIndex_list}\n",
    "        self.n_words = len(wordIndex_list)\n",
    "\n",
    "    def addsenText(self, senText):\n",
    "        for word in senText.split(' '):\n",
    "            self.addWord(word)\n",
    "\n",
    "    def addWord(self, word):\n",
    "        if word not in self.word2index:\n",
    "            index = self.n_words\n",
    "            self.word2index[word] = index\n",
    "            self.index2word[index] = word\n",
    "            self.word2count[word] = 1\n",
    "            self.n_words += 1\n",
    "        else:\n",
    "            self.word2count[word] += 1\n",
    "\n",
    "class MyPreData:\n",
    "    def __init__(self):\n",
    "        self.data_dir = '/media/disk3/feynman52/ntu-ml2020/hw8-Seq2seq/datasets/cmn-eng/'\n",
    "    \n",
    "    def read_txt(self, filename='training.txt'):\n",
    "        path = os.path.join(self.data_dir, filename)\n",
    "        with open(path) as f:\n",
    "            content = f.readlines()\n",
    "        return content\n",
    "    \n",
    "    def get_senText_list_pair(self, txt):\n",
    "        lang1_senText_list = []\n",
    "        lang2_senText_list = []\n",
    "        for senText_pair in txt:\n",
    "            lang1_senText, lang2_senText = senText_pair.split(' \\t')            \n",
    "            lang1_senText = self.process_lang1_senText(lang1_senText)\n",
    "            lang2_senText = self.process_lang2_senText(lang2_senText)\n",
    "            lang1_senText_list.append(lang1_senText)\n",
    "            lang2_senText_list.append(lang2_senText)\n",
    "        senText_list_pair = lang1_senText_list, lang2_senText_list\n",
    "        return senText_list_pair\n",
    "    \n",
    "    def process_lang1_senText(self, lang1_senText):\n",
    "        lang1_senText = lang1_senText.replace('@@ ', '')\n",
    "        return lang1_senText\n",
    "    \n",
    "    def process_lang2_senText(self, lang2_senText):\n",
    "        lang2_senText = lang2_senText.strip()\n",
    "        return lang2_senText\n",
    "    \n",
    "    def get_lang(self, name='en', senText_list=[]):\n",
    "        lang = Lang(name)\n",
    "        for senText in senText_list:\n",
    "            lang.addsenText(senText)\n",
    "        return lang\n",
    "    \n",
    "    def senText_to_senWord(self, senText):\n",
    "        senWord = senText.split(' ')\n",
    "        return senWord\n",
    "    \n",
    "    def senWord_to_senIndex(self, senWord, lang):\n",
    "        senIndex = [lang.word2index[word] for word in senWord]\n",
    "        eos_token = lang.word2index['<EOS>']\n",
    "        senIndex.append(eos_token)\n",
    "        return senIndex\n",
    "    \n",
    "    def senIndex_to_senTensor(self, senIndex):\n",
    "        senTensor = torch.LongTensor(senIndex) \n",
    "        return senTensor\n",
    "    \n",
    "    def senText_to_senTensor(self, senText, lang):\n",
    "        senWord = self.senText_to_senWord(senText)\n",
    "        senIndex = self.senWord_to_senIndex(senWord, lang)\n",
    "        senTensor = self.senIndex_to_senTensor(senIndex)\n",
    "        return senTensor\n",
    "    \n",
    "    def setup_preData(self, filename='training.txt'):\n",
    "        self.txt = self.read_txt(filename)\n",
    "\n",
    "        self.lang1_senText_list, self.lang2_senText_list = self.get_senText_list_pair(self.txt)\n",
    "        \n",
    "        self.lang1 = self.get_lang(name='en', senText_list=self.lang1_senText_list)\n",
    "        self.lang2 = self.get_lang(name='cn', senText_list=self.lang2_senText_list)\n",
    "\n",
    "        self.lang1_senTensor_list = [self.senText_to_senTensor(senText, self.lang1) for senText in self.lang1_senText_list]\n",
    "        self.lang2_senTensor_list = [self.senText_to_senTensor(senText, self.lang2) for senText in self.lang2_senText_list]\n"
   ]
  },
  {
   "cell_type": "code",
   "execution_count": 8,
   "metadata": {
    "ExecuteTime": {
     "end_time": "2021-02-07T16:19:21.746231Z",
     "start_time": "2021-02-07T16:19:21.633644Z"
    },
    "collapsed": true
   },
   "outputs": [],
   "source": [
    "# lang = Lang('cn')\n",
    "# lang.word2index, lang.index2word"
   ]
  },
  {
   "cell_type": "markdown",
   "metadata": {},
   "source": [
    "### steps"
   ]
  },
  {
   "cell_type": "raw",
   "metadata": {
    "ExecuteTime": {
     "end_time": "2021-02-06T14:13:16.162390Z",
     "start_time": "2021-02-06T14:13:16.157969Z"
    },
    "collapsed": true
   },
   "source": [
    "myPreData = MyPreData()"
   ]
  },
  {
   "cell_type": "raw",
   "metadata": {
    "ExecuteTime": {
     "end_time": "2021-02-06T14:13:16.206134Z",
     "start_time": "2021-02-06T14:13:16.165338Z"
    },
    "collapsed": true
   },
   "source": [
    "txt = myPreData.read_txt(filename='training.txt')\n",
    "len(txt)\n",
    "txt[0]"
   ]
  },
  {
   "cell_type": "raw",
   "metadata": {
    "ExecuteTime": {
     "end_time": "2021-02-06T14:13:16.260532Z",
     "start_time": "2021-02-06T14:13:16.208786Z"
    },
    "collapsed": true
   },
   "source": [
    "lang1_senText_list, lang2_senText_list = myPreData.get_senText_list_pair(txt)\n"
   ]
  },
  {
   "cell_type": "raw",
   "metadata": {
    "ExecuteTime": {
     "end_time": "2021-02-06T14:13:16.288402Z",
     "start_time": "2021-02-06T14:13:16.262927Z"
    },
    "collapsed": true
   },
   "source": [
    "# lang1_senText_list\n",
    "# lang2_senText_list"
   ]
  },
  {
   "cell_type": "raw",
   "metadata": {
    "ExecuteTime": {
     "end_time": "2021-02-06T14:13:16.505970Z",
     "start_time": "2021-02-06T14:13:16.290586Z"
    },
    "collapsed": true
   },
   "source": [
    "lang1 = myPreData.get_lang(name='en', senText_list=lang1_senText_list)\n",
    "lang2 = myPreData.get_lang(name='cn', senText_list=lang2_senText_list)"
   ]
  },
  {
   "cell_type": "raw",
   "metadata": {
    "ExecuteTime": {
     "end_time": "2021-02-06T14:13:16.514526Z",
     "start_time": "2021-02-06T14:13:16.509055Z"
    },
    "collapsed": true
   },
   "source": [
    "lang1.n_words, lang2.n_words\n",
    "# lang1.index2word \n",
    "# lang2.index2word"
   ]
  },
  {
   "cell_type": "raw",
   "metadata": {
    "ExecuteTime": {
     "end_time": "2021-02-06T14:13:17.196067Z",
     "start_time": "2021-02-06T14:13:16.516856Z"
    },
    "collapsed": true
   },
   "source": [
    "myPreData.setup_preData(filename='training.txt')"
   ]
  },
  {
   "cell_type": "raw",
   "metadata": {
    "ExecuteTime": {
     "end_time": "2021-02-06T14:13:17.210653Z",
     "start_time": "2021-02-06T14:13:17.199084Z"
    },
    "collapsed": true
   },
   "source": [
    "senText = myPreData.lang1_senText_list[100]\n",
    "senWord = myPreData.senText_to_senWord(senText)\n",
    "senIndex = myPreData.senWord_to_senIndex(senWord, lang1)\n",
    "senTensor = myPreData.senIndex_to_senTensor(senIndex)\n",
    "senTensor_ = myPreData.senText_to_senTensor(senText, lang1)\n",
    "senWord_ = [lang1.index2word[index] for index in senIndex]\n",
    "\n",
    "senText, senWord, senIndex, senTensor, senTensor_, senWord_"
   ]
  },
  {
   "cell_type": "raw",
   "metadata": {
    "ExecuteTime": {
     "end_time": "2021-02-06T14:13:17.339594Z",
     "start_time": "2021-02-06T14:13:17.213300Z"
    },
    "collapsed": true
   },
   "source": [
    "max([len(x) for x in myPreData.lang1_senTensor_list])"
   ]
  },
  {
   "cell_type": "raw",
   "metadata": {
    "ExecuteTime": {
     "end_time": "2021-02-06T14:13:19.975541Z",
     "start_time": "2021-02-06T14:13:19.951186Z"
    },
    "collapsed": true
   },
   "source": [
    "max([len(x) for x in myPreData.lang2_senTensor_list])"
   ]
  },
  {
   "cell_type": "code",
   "execution_count": null,
   "metadata": {
    "ExecuteTime": {
     "end_time": "2021-02-06T10:35:30.346828Z",
     "start_time": "2021-02-06T10:35:29.858753Z"
    },
    "collapsed": true,
    "scrolled": true
   },
   "outputs": [],
   "source": []
  },
  {
   "cell_type": "markdown",
   "metadata": {},
   "source": [
    "## dataset"
   ]
  },
  {
   "cell_type": "code",
   "execution_count": 9,
   "metadata": {
    "ExecuteTime": {
     "end_time": "2021-02-07T16:19:21.930972Z",
     "start_time": "2021-02-07T16:19:21.922565Z"
    },
    "collapsed": true
   },
   "outputs": [],
   "source": [
    "class MyDataset(data.Dataset):\n",
    "    def __init__(self, filename='training.txt'):\n",
    "        self.setup_myPreData(filename)\n",
    "        \n",
    "    def __len__(self):\n",
    "        return len(self.myPreData.txt)\n",
    "        \n",
    "    def __getitem__(self, index):\n",
    "        lang1_senTensor = self.myPreData.lang1_senTensor_list[index]\n",
    "        lang2_senTensor = self.myPreData.lang2_senTensor_list[index]\n",
    "        x = lang1_senTensor.view(-1, 1)\n",
    "        y = lang2_senTensor.view(-1, 1)\n",
    "        return x, y\n",
    "    \n",
    "    def setup_myPreData(self, filename='training.txt'):\n",
    "        self.myPreData = MyPreData()\n",
    "        self.myPreData.setup_preData(filename)\n",
    "        \n",
    "        \n",
    "        "
   ]
  },
  {
   "cell_type": "raw",
   "metadata": {
    "ExecuteTime": {
     "end_time": "2021-02-06T13:01:18.218350Z",
     "start_time": "2021-02-06T13:01:17.438845Z"
    },
    "collapsed": true,
    "scrolled": true
   },
   "source": [
    "myDataset = MyDataset(filename='training.txt')"
   ]
  },
  {
   "cell_type": "raw",
   "metadata": {
    "ExecuteTime": {
     "end_time": "2021-02-06T13:01:19.365740Z",
     "start_time": "2021-02-06T13:01:19.358973Z"
    },
    "collapsed": true
   },
   "source": [
    "len(myDataset)"
   ]
  },
  {
   "cell_type": "raw",
   "metadata": {
    "ExecuteTime": {
     "end_time": "2021-02-06T13:01:32.324401Z",
     "start_time": "2021-02-06T13:01:32.318248Z"
    },
    "collapsed": true
   },
   "source": [
    "x, y = myDataset[3]\n",
    "x.shape, y.shape"
   ]
  },
  {
   "cell_type": "code",
   "execution_count": null,
   "metadata": {
    "collapsed": true
   },
   "outputs": [],
   "source": []
  },
  {
   "cell_type": "code",
   "execution_count": null,
   "metadata": {
    "collapsed": true
   },
   "outputs": [],
   "source": []
  },
  {
   "cell_type": "markdown",
   "metadata": {},
   "source": [
    "## dataloader\n",
    "\n",
    "- 長度不一樣不能用dataloader"
   ]
  },
  {
   "cell_type": "code",
   "execution_count": 10,
   "metadata": {
    "ExecuteTime": {
     "end_time": "2021-02-07T16:19:22.428496Z",
     "start_time": "2021-02-07T16:19:22.424824Z"
    },
    "collapsed": true
   },
   "outputs": [],
   "source": [
    "# batch_size = 1000\n",
    "# myLoader = data.DataLoader(myDataset, batch_size=batch_size, shuffle=True)"
   ]
  },
  {
   "cell_type": "code",
   "execution_count": 11,
   "metadata": {
    "ExecuteTime": {
     "end_time": "2021-02-07T16:19:22.450400Z",
     "start_time": "2021-02-07T16:19:22.431271Z"
    },
    "collapsed": true
   },
   "outputs": [],
   "source": [
    "# batch_number = len(myLoader)\n",
    "# batch_number"
   ]
  },
  {
   "cell_type": "code",
   "execution_count": 12,
   "metadata": {
    "ExecuteTime": {
     "end_time": "2021-02-07T16:19:22.472247Z",
     "start_time": "2021-02-07T16:19:22.453188Z"
    },
    "collapsed": true
   },
   "outputs": [],
   "source": [
    "# x, y = next(iter(myLoader))\n",
    "# print(x.shape, y.shape)\n",
    "\n"
   ]
  },
  {
   "cell_type": "code",
   "execution_count": null,
   "metadata": {
    "collapsed": true
   },
   "outputs": [],
   "source": []
  },
  {
   "cell_type": "markdown",
   "metadata": {},
   "source": [
    "# model"
   ]
  },
  {
   "cell_type": "markdown",
   "metadata": {},
   "source": [
    "## encoder"
   ]
  },
  {
   "cell_type": "code",
   "execution_count": 13,
   "metadata": {
    "ExecuteTime": {
     "end_time": "2021-02-07T16:19:22.500407Z",
     "start_time": "2021-02-07T16:19:22.474794Z"
    },
    "collapsed": true
   },
   "outputs": [],
   "source": [
    "class EncoderRNN(nn.Module):\n",
    "    def __init__(self, input_size=10, hidden_size=10):\n",
    "        super(EncoderRNN, self).__init__()\n",
    "        self.hidden_size = hidden_size\n",
    "\n",
    "        self.embedding = nn.Embedding(input_size, hidden_size)\n",
    "        self.gru = nn.GRU(hidden_size, hidden_size)\n",
    "\n",
    "    def forward(self, input, hidden):\n",
    "        # input = (1, 1), hidden = (1, 1, 256)\n",
    "        x = self.embedding(input) # x = (1, 256)\n",
    "        x = x.view(1, 1, -1) # x = (1, 1, 256)\n",
    "        output, hidden = self.gru(x, hidden) # output = (1, 1, 256), hidden = (1, 1, 256)\n",
    "        return output, hidden\n",
    "\n",
    "    def initHidden(self):\n",
    "        pre_hidden = torch.zeros(1, 1, self.hidden_size) # pre_hidden = (1, 1, 256\n",
    "        return pre_hidden"
   ]
  },
  {
   "cell_type": "markdown",
   "metadata": {},
   "source": [
    "## decoder"
   ]
  },
  {
   "cell_type": "code",
   "execution_count": 14,
   "metadata": {
    "ExecuteTime": {
     "end_time": "2021-02-07T16:19:22.646416Z",
     "start_time": "2021-02-07T16:19:22.503126Z"
    },
    "collapsed": true
   },
   "outputs": [],
   "source": [
    "class AttnDecoderRNN(nn.Module):\n",
    "    def __init__(self, hidden_size=10, output_size=10, dropout_p=0.1, max_length=10):\n",
    "        super(AttnDecoderRNN, self).__init__()\n",
    "        self.hidden_size = hidden_size\n",
    "        self.output_size = output_size\n",
    "        self.dropout_p = dropout_p\n",
    "        self.max_length = max_length\n",
    "\n",
    "        self.embedding = nn.Embedding(self.output_size, self.hidden_size)\n",
    "        self.attn = nn.Linear(self.hidden_size * 2, self.max_length)\n",
    "        self.attn_combine = nn.Linear(self.hidden_size * 2, self.hidden_size)\n",
    "        self.dropout = nn.Dropout(self.dropout_p)\n",
    "        self.gru = nn.GRU(self.hidden_size, self.hidden_size)\n",
    "        self.out = nn.Linear(self.hidden_size, self.output_size)\n",
    "\n",
    "    def forward(self, input, hidden, encoder_outputs):\n",
    "        # input = (1, 1)\n",
    "        # hidden = (1, 1, 256)\n",
    "        # encoder_outputs = (50, 256) \n",
    "        \n",
    "        hidden_ = hidden[0] # hidden_ = (1, 256)\n",
    "        encoder_outputs = encoder_outputs.unsqueeze(0) # encoder_outputs = (1, 50, 256)\n",
    "        \n",
    "        embedded = self.embedding(input) # embedded = (1, 256)\n",
    "        embedded = embedded.view(1, 1, -1) # embedded = (1, 1, 256)\n",
    "        embedded = self.dropout(embedded) # embedded = (1, 1, 256)\n",
    "        embedded = embedded[0] # embedded = (1, 256)\n",
    "                \n",
    "        embedded_hidden = torch.cat((embedded, hidden_), 1) # embedded_hidden = (1, 256*2)\n",
    "        embedded_hidden_attn = self.attn(embedded_hidden) # embedded_hidden_attn = (1, 50)\n",
    "        \n",
    "        attn_weights = F.softmax(embedded_hidden_attn, dim=1) # attn_weights = (1, 50)\n",
    "        attn_weights = attn_weights.unsqueeze(0) # attn_weights = (1, 1, 50)\n",
    "        \n",
    "        attn_applied = torch.bmm(attn_weights, encoder_outputs) # attn_applied = (1, 1, 256)\n",
    "        attn_applied = attn_applied[0] # attn_applied = (1, 256)\n",
    "        \n",
    "        output = torch.cat((embedded, attn_applied), 1) # output = (1, 256*2)\n",
    "        output = self.attn_combine(output) # output = (1, 256)\n",
    "        output = output.unsqueeze(0) # output = (1, 1, 256)\n",
    "        output = F.relu(output) # output = (1, 1, 256)\n",
    "        \n",
    "        output, hidden = self.gru(output, hidden) # output = (1, 1, 256), hidden = (1, 1, 256)\n",
    "        output = output[0] # output = (1, 256)\n",
    "        output = self.out(output) # output = (1, 4000)\n",
    "        output = F.log_softmax(output, dim=1) # output = (1, 4000)\n",
    "        return output, hidden, attn_weights\n",
    "\n",
    "    def initHidden(self):\n",
    "        pre_hidden = torch.zeros(1, 1, self.hidden_size) # pre_hidden = (1, 1, 256)\n",
    "        return pre_hidden"
   ]
  },
  {
   "cell_type": "code",
   "execution_count": null,
   "metadata": {
    "collapsed": true
   },
   "outputs": [],
   "source": []
  },
  {
   "cell_type": "code",
   "execution_count": null,
   "metadata": {
    "collapsed": true
   },
   "outputs": [],
   "source": []
  },
  {
   "cell_type": "markdown",
   "metadata": {},
   "source": [
    "# train and test"
   ]
  },
  {
   "cell_type": "markdown",
   "metadata": {
    "collapsed": true
   },
   "source": [
    "## TrainProcess"
   ]
  },
  {
   "cell_type": "code",
   "execution_count": 15,
   "metadata": {
    "ExecuteTime": {
     "end_time": "2021-02-07T16:19:22.761580Z",
     "start_time": "2021-02-07T16:19:22.649425Z"
    },
    "collapsed": true
   },
   "outputs": [],
   "source": [
    "class TrainProcess:\n",
    "    def __init__(self, \n",
    "                 device, option, utils, \n",
    "                 myDataset, encoder, decoder, \n",
    "                 optimizer=optim.SGD, loss_criterion=nn.NLLLoss()):\n",
    "        \n",
    "        self.device = device\n",
    "        self.option = option\n",
    "        self.utils = utils\n",
    "        \n",
    "        self.setup_progress()\n",
    "        self.setup_data(myDataset)\n",
    "        self.setup_model(encoder, decoder, optimizer, loss_criterion)\n",
    "        \n",
    "    def setup_data(self, myDataset):\n",
    "        self.SOS_token = 0\n",
    "        self.EOS_token = 1\n",
    "        decoder_input = [self.SOS_token]\n",
    "        decoder_input = torch.tensor(decoder_input).reshape(1, 1) # decoder_input = (1, 1)\n",
    "        self.default_decoder_input = decoder_input.to(self.device) \n",
    "        \n",
    "        self.myDataset = myDataset\n",
    "        \n",
    "    def get_data(self):\n",
    "        i = random.randint(0, len(self.myDataset)-1)\n",
    "        x, y = self.myDataset[i]\n",
    "        x, y = x.to(self.device), y.to(self.device)\n",
    "        return x, y \n",
    "    \n",
    "    def setup_model(self, encoder, decoder, optimizer, loss_criterion):\n",
    "        self.encoder = encoder.to(self.device)\n",
    "        self.decoder = decoder.to(self.device)\n",
    "        \n",
    "        self.encoder_optimizer = optimizer(self.encoder.parameters(), lr=self.option.learning_rate) \n",
    "        self.decoder_optimizer = optimizer(self.decoder.parameters(), lr=self.option.learning_rate)  \n",
    "        \n",
    "        self.loss_criterion = loss_criterion\n",
    "        \n",
    "    def setup_progress(self):\n",
    "        self.start = time.time()\n",
    "        self.plot_losses = []\n",
    "        self.print_loss_total = 0  # Reset every print_every\n",
    "        self.plot_loss_total = 0  # Reset every plot_every\n",
    "        \n",
    "    def setup_zero_grad(self):\n",
    "        self.encoder_optimizer.zero_grad()\n",
    "        self.decoder_optimizer.zero_grad()\n",
    "    \n",
    "    def train(self):\n",
    "        # i_batch從1開始，不然utils.timeSince那邊分母會等於0\n",
    "        for i_batch in range(1, self.option.batch_number+1):\n",
    "            batch_loss = self.train_one_batch()\n",
    "            self.update_progress(i_batch, batch_loss)\n",
    "        self.utils.showPlot(self.plot_losses)\n",
    "    \n",
    "    def train_one_batch(self):\n",
    "        self.setup_zero_grad()\n",
    "        input_tensor, target_tensor = self.get_data()\n",
    "        decoder_outputs = self.get_y_hat(input_tensor, target_tensor)\n",
    "        batch_loss = self.get_batch_loss(target_tensor, decoder_outputs) \n",
    "        self.update_model(batch_loss)\n",
    "        \n",
    "        target_length = target_tensor.shape[0]\n",
    "        batch_loss = batch_loss.item() / target_length \n",
    "        return batch_loss\n",
    "    \n",
    "    def train_one_epoch(self):\n",
    "        pass\n",
    "    \n",
    "    def get_batch_loss(self, target_tensor, decoder_outputs):\n",
    "        # target_tensor = (13, 1), decoder_outputs = (13, 1, 4000)\n",
    "        batch_loss = 0\n",
    "        for i in range(len(target_tensor)):\n",
    "            y_hat = decoder_outputs[i] # y_hat = decoder_output = (1, 4000)\n",
    "            y = target_tensor[i] # y = (1)\n",
    "            batch_loss += self.loss_criterion(y_hat, y)\n",
    "        return batch_loss\n",
    "    \n",
    "    def get_y_hat(self, input_tensor, target_tensor):\n",
    "        encoder_hidden, encoder_outputs = self.encode(input_tensor)\n",
    "        decoder_outputs = self.decode(target_tensor, encoder_hidden, encoder_outputs)\n",
    "        return decoder_outputs\n",
    "    \n",
    "    def encode(self, input_tensor):\n",
    "        encoder_hidden = self.encoder.initHidden().to(self.device)\n",
    "        input_length = input_tensor.shape[0]\n",
    "        encoder_outputs = torch.zeros(self.option.max_length, self.encoder.hidden_size)        \n",
    "        encoder_outputs = encoder_outputs.to(self.device) # encoder_outputs = (50, 256)\n",
    "        for ei in range(input_length):\n",
    "            encoder_output, encoder_hidden = self.encoder(input_tensor[ei], encoder_hidden)\n",
    "            encoder_outputs[ei] = encoder_output[0, 0] # shape = (256)\n",
    "        return encoder_hidden, encoder_outputs\n",
    "        \n",
    "    def decode(self, target_tensor, encoder_hidden, encoder_outputs):\n",
    "        target_length = target_tensor.shape[0]\n",
    "        is_teacher = True if random.random() < self.option.teacher_forcing_ratio else False\n",
    "\n",
    "        decoder_input = self.default_decoder_input\n",
    "        decoder_hidden = encoder_hidden # decoder_hidden = (1, 1, 256)\n",
    "        \n",
    "        # decoder_outputs = (13, 1, 4000) 這裡必需設跟target_tensor一樣長度，不然算batch_loss的時候長度對不起來\n",
    "        decoder_outputs = torch.zeros(target_length, 1, self.decoder.output_size)  \n",
    "        decoder_outputs = decoder_outputs.to(self.device)\n",
    "        \n",
    "        for i in range(target_length):\n",
    "            decoder_output, decoder_hidden, decoder_attention = self.decoder(decoder_input, decoder_hidden, encoder_outputs)\n",
    "            decoder_outputs[i] = decoder_output # (1, 4000)\n",
    "            \n",
    "            # Teacher forcing\n",
    "            if is_teacher:\n",
    "                decoder_input = target_tensor[i] # decoder_input = (1)\n",
    "            else:\n",
    "                topv, topi = decoder_output.topk(1) # topv = (1), topi = (1)\n",
    "                decoder_input = topi # decoder_input = (1)\n",
    "                \n",
    "                index = topi.squeeze().item() # (1) => () => int\n",
    "                if index == self.EOS_token: break\n",
    "                    \n",
    "            decoder_input = decoder_input.reshape(1, 1) # decoder_input = (1, 1)\n",
    "                    \n",
    "        return decoder_outputs\n",
    "    \n",
    "    def update_model(self, batch_loss):\n",
    "        batch_loss.backward()\n",
    "\n",
    "        self.encoder_optimizer.step()\n",
    "        self.decoder_optimizer.step()\n",
    "    \n",
    "    def update_progress(self, i_batch, batch_loss):\n",
    "        self.print_loss_total += batch_loss\n",
    "        self.plot_loss_total += batch_loss\n",
    "\n",
    "        if i_batch % self.option.print_every == 0:\n",
    "            print_loss_avg = self.print_loss_total / self.option.print_every\n",
    "            self.print_loss_total = 0\n",
    "            print('%s (%d %d%%) %.4f' % (self.utils.timeSince(self.start, i_batch / self.option.batch_number),\n",
    "                                         i_batch, i_batch / self.option.batch_number * 100, print_loss_avg))\n",
    "\n",
    "        if i_batch % self.option.plot_every == 0:\n",
    "            plot_loss_avg = self.plot_loss_total / self.option.plot_every\n",
    "            self.plot_losses.append(plot_loss_avg)\n",
    "            self.plot_loss_total = 0\n",
    "            \n",
    "    def save_model(self, \n",
    "                   encoder_path='./weights/encoder.pth',\n",
    "                   decoder_path='./weights/decoder.pth'):\n",
    "        \n",
    "        torch.save(self.encoder.state_dict(), encoder_path)\n",
    "        torch.save(self.decoder.state_dict(), decoder_path)\n",
    "\n",
    "            "
   ]
  },
  {
   "cell_type": "code",
   "execution_count": 16,
   "metadata": {
    "ExecuteTime": {
     "end_time": "2021-02-07T16:19:22.774095Z",
     "start_time": "2021-02-07T16:19:22.764184Z"
    }
   },
   "outputs": [],
   "source": [
    "# import torch\n",
    "# topv, topi = torch.tensor([0.2, 0.4, 0.3, 0.1]).topk(1)\n",
    "# topi_ = topi.item()\n",
    "\n",
    "# print(topv)\n",
    "# print(topi_)\n",
    "\n",
    "# print(topi.shape)\n",
    "# print(topi.squeeze().shape)"
   ]
  },
  {
   "cell_type": "code",
   "execution_count": null,
   "metadata": {
    "ExecuteTime": {
     "end_time": "2021-02-07T12:34:09.264332Z",
     "start_time": "2021-02-07T12:34:09.257712Z"
    }
   },
   "outputs": [],
   "source": []
  },
  {
   "cell_type": "markdown",
   "metadata": {
    "collapsed": true
   },
   "source": [
    "## TestProcess"
   ]
  },
  {
   "cell_type": "code",
   "execution_count": 17,
   "metadata": {
    "ExecuteTime": {
     "end_time": "2021-02-07T16:19:22.802553Z",
     "start_time": "2021-02-07T16:19:22.776742Z"
    },
    "collapsed": true
   },
   "outputs": [],
   "source": [
    "class TestProcess:\n",
    "    def __init__(self, device, option, myDataset, encoder, decoder):\n",
    "        self.device = device\n",
    "        self.option = option\n",
    "        \n",
    "        self.setup_data(myDataset)\n",
    "        self.setup_model(encoder, decoder)        \n",
    "    \n",
    "    def setup_data(self, myDataset):\n",
    "        self.SOS_token = 0\n",
    "        self.EOS_token = 1\n",
    "        \n",
    "        decoder_input = [self.SOS_token]\n",
    "        decoder_input = torch.tensor(decoder_input).reshape(1, 1) # decoder_input = (1, 1)\n",
    "        self.default_decoder_input = decoder_input.to(self.device) \n",
    "        \n",
    "        self.myDataset = myDataset\n",
    "        self.input_lang = myDataset.myPreData.lang1\n",
    "        self.output_lang = myDataset.myPreData.lang2\n",
    "        \n",
    "    def get_data(self, senText):\n",
    "        senTensor = self.myDataset.myPreData.senText_to_senTensor(senText, self.input_lang)\n",
    "        input_tensor = senTensor.to(self.device)\n",
    "        return input_tensor\n",
    "    \n",
    "    def get_random_data(self):\n",
    "        i_random = random.randint(0, len(self.myDataset)-1)\n",
    "        input_senText = self.myDataset.myPreData.lang1_senText_list[i_random]\n",
    "        target_senText = self.myDataset.myPreData.lang2_senText_list[i_random]\n",
    "        return input_senText, target_senText\n",
    "        \n",
    "    def setup_model(self, encoder, decoder):\n",
    "        self.encoder = encoder.to(self.device)\n",
    "        self.decoder = decoder.to(self.device)\n",
    "        \n",
    "    def load_model(self, \n",
    "                   encoder_path='./weights/encoder.pth',\n",
    "                   decoder_path='./weights/decoder.pth'):\n",
    "        \n",
    "        encoder_dict = torch.load(encoder_path)\n",
    "        decoder_dict = torch.load(decoder_path)\n",
    "\n",
    "        self.encoder.load_state_dict(encoder_dict)\n",
    "        self.decoder.load_state_dict(decoder_dict)\n",
    "        \n",
    "    def encode(self, input_tensor):\n",
    "        encoder_hidden = self.encoder.initHidden().to(self.device)\n",
    "        input_length = input_tensor.shape[0]\n",
    "        encoder_outputs = torch.zeros(self.option.max_length, self.encoder.hidden_size)        \n",
    "        encoder_outputs = encoder_outputs.to(self.device) # encoder_outputs = (50, 256)\n",
    "        for ei in range(input_length):\n",
    "            encoder_output, encoder_hidden = self.encoder(input_tensor[ei], encoder_hidden)\n",
    "            encoder_outputs[ei] = encoder_output[0, 0] # shape = (256)\n",
    "        return encoder_hidden, encoder_outputs\n",
    "    \n",
    "    def decode(self, encoder_hidden, encoder_outputs):\n",
    "        max_length = self.option.max_length\n",
    "\n",
    "        decoder_input = self.default_decoder_input # decoder_input = (1, 1)\n",
    "        decoder_hidden = encoder_hidden # decoder_hidden = (1, 1, 256)\n",
    "        \n",
    "        decoder_words = []\n",
    "        decoder_attentions = [] # [(1, 40)]\n",
    "        \n",
    "        for i in range(max_length):\n",
    "            decoder_output, decoder_hidden, decoder_attention = self.decoder(decoder_input, decoder_hidden, encoder_outputs)\n",
    "            topv, topi = decoder_output.topk(1) # topv = (1), topi = (1)\n",
    "            decoder_input = topi.unsqueeze(0) # decoder_input = (1, 1)            \n",
    "            \n",
    "            index = topi.squeeze().item() # tensor (1) => tensor () => int\n",
    "            word = self.output_lang.index2word[index]\n",
    "            decoder_words.append(word)\n",
    "            \n",
    "            decoder_attention = decoder_attention.to('cpu')\n",
    "            decoder_attention = decoder_attention.squeeze(1) # (1, 1, 40) => (1, 40)\n",
    "            decoder_attentions.append(decoder_attention)\n",
    "            \n",
    "            if index == self.EOS_token: break\n",
    "                \n",
    "        decoder_attentions = torch.cat(decoder_attentions, dim=0) # decoder_attentions = (13, 40)\n",
    "        return decoder_words, decoder_attentions\n",
    "    \n",
    "    def evaluate(self, senText):\n",
    "        with torch.no_grad():\n",
    "            input_tensor = self.get_data(senText)\n",
    "            encoder_hidden, encoder_outputs = self.encode(input_tensor)\n",
    "            decoder_words, decoder_attentions = self.decode(encoder_hidden, encoder_outputs)\n",
    "            return decoder_words, decoder_attentions\n",
    "\n",
    "    def evaluateRandomly(self, n=10):\n",
    "        for i in range(n):\n",
    "            input_senText, target_senText = self.get_random_data()\n",
    "            decoder_words, decoder_attentions = self.evaluate(input_senText)\n",
    "            output_senText = ' '.join(decoder_words)\n",
    "            print('>', input_senText)\n",
    "            print('=', target_senText)\n",
    "            print('<', output_senText)\n",
    "            print('')"
   ]
  },
  {
   "cell_type": "code",
   "execution_count": null,
   "metadata": {
    "ExecuteTime": {
     "end_time": "2021-02-07T14:22:05.796608Z",
     "start_time": "2021-02-07T14:22:05.784304Z"
    }
   },
   "outputs": [],
   "source": []
  },
  {
   "cell_type": "markdown",
   "metadata": {
    "collapsed": true
   },
   "source": [
    "## steps"
   ]
  },
  {
   "cell_type": "code",
   "execution_count": 18,
   "metadata": {
    "ExecuteTime": {
     "end_time": "2021-02-07T16:19:22.828522Z",
     "start_time": "2021-02-07T16:19:22.804752Z"
    },
    "scrolled": true
   },
   "outputs": [],
   "source": [
    "utils = Utils()\n",
    "option = Option(batch_number=100000, max_length=40, teacher_forcing_ratio=1) # 3min / 10000"
   ]
  },
  {
   "cell_type": "code",
   "execution_count": 19,
   "metadata": {
    "ExecuteTime": {
     "end_time": "2021-02-07T16:19:23.417621Z",
     "start_time": "2021-02-07T16:19:22.830726Z"
    },
    "collapsed": true
   },
   "outputs": [],
   "source": [
    "myDataset = MyDataset(filename='training.txt')\n"
   ]
  },
  {
   "cell_type": "code",
   "execution_count": 20,
   "metadata": {
    "ExecuteTime": {
     "end_time": "2021-02-07T16:19:23.523780Z",
     "start_time": "2021-02-07T16:19:23.419969Z"
    },
    "collapsed": true
   },
   "outputs": [],
   "source": [
    "encoder1 = EncoderRNN(\n",
    "    input_size=myDataset.myPreData.lang1.n_words, \n",
    "    hidden_size=option.hidden_size\n",
    ")\n",
    "\n",
    "decoder1 = AttnDecoderRNN(\n",
    "    hidden_size=option.hidden_size, \n",
    "    output_size=myDataset.myPreData.lang2.n_words, \n",
    "    dropout_p=option.dropout_p, \n",
    "    max_length=option.max_length\n",
    ")\n"
   ]
  },
  {
   "cell_type": "code",
   "execution_count": 21,
   "metadata": {
    "ExecuteTime": {
     "end_time": "2021-02-07T16:19:39.153698Z",
     "start_time": "2021-02-07T16:19:23.525752Z"
    },
    "scrolled": true
   },
   "outputs": [],
   "source": [
    "trainProcess = TrainProcess(\n",
    "    device, option, utils, \n",
    "    myDataset, encoder1, decoder1\n",
    ")\n",
    "\n"
   ]
  },
  {
   "cell_type": "code",
   "execution_count": 22,
   "metadata": {
    "ExecuteTime": {
     "end_time": "2021-02-07T16:57:21.608320Z",
     "start_time": "2021-02-07T16:19:42.085352Z"
    },
    "scrolled": true
   },
   "outputs": [
    {
     "name": "stdout",
     "output_type": "stream",
     "text": [
      "0m 41s (- 68m 1s) (1000 1%) 5.5257\n",
      "1m 4s (- 52m 56s) (2000 2%) 5.0442\n",
      "1m 26s (- 46m 28s) (3000 3%) 4.7917\n",
      "1m 48s (- 43m 26s) (4000 4%) 4.6481\n",
      "2m 10s (- 41m 14s) (5000 5%) 4.4613\n",
      "2m 31s (- 39m 40s) (6000 6%) 4.4054\n",
      "2m 54s (- 38m 37s) (7000 7%) 4.2929\n",
      "3m 16s (- 37m 39s) (8000 8%) 4.2391\n",
      "3m 39s (- 36m 57s) (9000 9%) 4.1786\n",
      "4m 2s (- 36m 24s) (10000 10%) 4.1205\n",
      "4m 28s (- 36m 12s) (11000 11%) 4.0418\n",
      "4m 50s (- 35m 32s) (12000 12%) 3.9639\n",
      "5m 12s (- 34m 50s) (13000 13%) 3.8892\n",
      "5m 33s (- 34m 10s) (14000 14%) 3.8234\n",
      "5m 55s (- 33m 36s) (15000 15%) 3.7688\n",
      "6m 17s (- 33m 2s) (16000 16%) 3.6130\n",
      "6m 40s (- 32m 36s) (17000 17%) 3.7057\n",
      "7m 2s (- 32m 5s) (18000 18%) 3.5145\n",
      "7m 25s (- 31m 39s) (19000 19%) 3.5551\n",
      "7m 46s (- 31m 4s) (20000 20%) 3.5985\n",
      "8m 9s (- 30m 40s) (21000 21%) 3.4221\n",
      "8m 32s (- 30m 17s) (22000 22%) 3.4182\n",
      "8m 55s (- 29m 53s) (23000 23%) 3.3446\n",
      "9m 17s (- 29m 25s) (24000 24%) 3.4176\n",
      "9m 38s (- 28m 55s) (25000 25%) 3.3421\n",
      "10m 0s (- 28m 30s) (26000 26%) 3.2794\n",
      "10m 23s (- 28m 6s) (27000 27%) 3.2238\n",
      "10m 46s (- 27m 42s) (28000 28%) 3.1915\n",
      "11m 8s (- 27m 17s) (29000 28%) 3.0727\n",
      "11m 30s (- 26m 50s) (30000 30%) 3.1103\n",
      "11m 52s (- 26m 26s) (31000 31%) 2.9844\n",
      "12m 13s (- 25m 58s) (32000 32%) 3.0749\n",
      "12m 35s (- 25m 33s) (33000 33%) 3.0329\n",
      "13m 0s (- 25m 14s) (34000 34%) 2.9851\n",
      "13m 24s (- 24m 53s) (35000 35%) 2.9812\n",
      "13m 47s (- 24m 30s) (36000 36%) 2.9657\n",
      "14m 10s (- 24m 7s) (37000 37%) 2.8715\n",
      "14m 33s (- 23m 44s) (38000 38%) 2.8120\n",
      "14m 54s (- 23m 19s) (39000 39%) 2.8193\n",
      "15m 17s (- 22m 56s) (40000 40%) 2.8522\n",
      "15m 42s (- 22m 36s) (41000 41%) 2.8140\n",
      "16m 5s (- 22m 13s) (42000 42%) 2.7983\n",
      "16m 27s (- 21m 48s) (43000 43%) 2.7124\n",
      "16m 48s (- 21m 23s) (44000 44%) 2.5939\n",
      "17m 10s (- 20m 59s) (45000 45%) 2.7139\n",
      "17m 32s (- 20m 35s) (46000 46%) 2.6843\n",
      "17m 55s (- 20m 12s) (47000 47%) 2.6351\n",
      "18m 17s (- 19m 49s) (48000 48%) 2.5535\n",
      "18m 41s (- 19m 26s) (49000 49%) 2.5715\n",
      "19m 3s (- 19m 3s) (50000 50%) 2.5370\n",
      "19m 28s (- 18m 42s) (51000 51%) 2.5307\n",
      "19m 53s (- 18m 21s) (52000 52%) 2.4884\n",
      "20m 14s (- 17m 57s) (53000 53%) 2.5220\n",
      "20m 36s (- 17m 33s) (54000 54%) 2.5184\n",
      "20m 59s (- 17m 10s) (55000 55%) 2.5097\n",
      "21m 23s (- 16m 48s) (56000 56%) 2.3921\n",
      "21m 47s (- 16m 26s) (57000 56%) 2.3608\n",
      "22m 12s (- 16m 5s) (58000 57%) 2.3650\n",
      "22m 34s (- 15m 41s) (59000 59%) 2.4196\n",
      "22m 56s (- 15m 17s) (60000 60%) 2.3465\n",
      "23m 19s (- 14m 54s) (61000 61%) 2.3527\n",
      "23m 43s (- 14m 32s) (62000 62%) 2.3773\n",
      "24m 5s (- 14m 9s) (63000 63%) 2.2892\n",
      "24m 28s (- 13m 46s) (64000 64%) 2.2868\n",
      "24m 50s (- 13m 22s) (65000 65%) 2.1728\n",
      "25m 12s (- 12m 59s) (66000 66%) 2.2633\n",
      "25m 37s (- 12m 37s) (67000 67%) 2.2740\n",
      "26m 1s (- 12m 14s) (68000 68%) 2.1886\n",
      "26m 23s (- 11m 51s) (69000 69%) 2.2032\n",
      "26m 45s (- 11m 27s) (70000 70%) 2.2037\n",
      "27m 7s (- 11m 4s) (71000 71%) 2.1378\n",
      "27m 29s (- 10m 41s) (72000 72%) 2.1730\n",
      "27m 50s (- 10m 17s) (73000 73%) 2.1985\n",
      "28m 11s (- 9m 54s) (74000 74%) 2.0939\n",
      "28m 34s (- 9m 31s) (75000 75%) 2.1616\n",
      "28m 58s (- 9m 9s) (76000 76%) 2.0550\n",
      "29m 20s (- 8m 45s) (77000 77%) 2.0638\n",
      "29m 42s (- 8m 22s) (78000 78%) 2.1348\n",
      "30m 5s (- 7m 59s) (79000 79%) 2.0773\n",
      "30m 26s (- 7m 36s) (80000 80%) 2.0623\n",
      "30m 48s (- 7m 13s) (81000 81%) 2.0665\n",
      "31m 11s (- 6m 50s) (82000 82%) 2.0463\n",
      "31m 33s (- 6m 27s) (83000 83%) 2.0792\n",
      "31m 54s (- 6m 4s) (84000 84%) 1.9666\n",
      "32m 17s (- 5m 41s) (85000 85%) 2.0940\n",
      "32m 40s (- 5m 19s) (86000 86%) 2.0740\n",
      "33m 3s (- 4m 56s) (87000 87%) 1.9817\n",
      "33m 25s (- 4m 33s) (88000 88%) 1.9261\n",
      "33m 47s (- 4m 10s) (89000 89%) 1.9615\n",
      "34m 8s (- 3m 47s) (90000 90%) 1.9620\n",
      "34m 30s (- 3m 24s) (91000 91%) 1.9403\n",
      "34m 53s (- 3m 2s) (92000 92%) 1.9077\n",
      "35m 16s (- 2m 39s) (93000 93%) 1.9252\n",
      "35m 41s (- 2m 16s) (94000 94%) 2.0025\n",
      "36m 3s (- 1m 53s) (95000 95%) 1.9658\n",
      "36m 26s (- 1m 31s) (96000 96%) 1.9697\n",
      "36m 48s (- 1m 8s) (97000 97%) 1.8868\n",
      "37m 12s (- 0m 45s) (98000 98%) 1.9176\n",
      "37m 35s (- 0m 22s) (99000 99%) 1.8188\n",
      "37m 57s (- 0m 0s) (100000 100%) 1.8626\n"
     ]
    },
    {
     "data": {
      "text/plain": [
       "<matplotlib.figure.Figure at 0x7f3ae2414eb8>"
      ]
     },
     "metadata": {},
     "output_type": "display_data"
    },
    {
     "data": {
      "image/png": "[encoded data removed]",
      "text/plain": [
       "<matplotlib.figure.Figure at 0x7f3ae2b1ecc0>"
      ]
     },
     "metadata": {},
     "output_type": "display_data"
    }
   ],
   "source": [
    "trainProcess.train()"
   ]
  },
  {
   "cell_type": "code",
   "execution_count": null,
   "metadata": {
    "ExecuteTime": {
     "end_time": "2021-02-07T15:53:26.704969Z",
     "start_time": "2021-02-07T15:53:26.702561Z"
    },
    "collapsed": true
   },
   "outputs": [],
   "source": [
    "# trainProcess.save_model(\n",
    "#     encoder_path='./weights/encoder.pth',\n",
    "#     decoder_path='./weights/decoder.pth'\n",
    "# )"
   ]
  },
  {
   "cell_type": "code",
   "execution_count": 23,
   "metadata": {
    "ExecuteTime": {
     "end_time": "2021-02-07T16:57:34.542022Z",
     "start_time": "2021-02-07T16:57:34.535449Z"
    }
   },
   "outputs": [],
   "source": [
    "testProcess = TestProcess(device, option, myDataset, encoder1, decoder1)\n"
   ]
  },
  {
   "cell_type": "code",
   "execution_count": null,
   "metadata": {
    "ExecuteTime": {
     "end_time": "2021-02-07T16:04:35.671565Z",
     "start_time": "2021-02-07T16:04:35.639794Z"
    }
   },
   "outputs": [],
   "source": [
    "# testProcess.load_model(\n",
    "#     encoder_path='./weights/encoder1-100000.pth',\n",
    "#     decoder_path='./weights/attn_decoder1-100000.pth'\n",
    "# )\n"
   ]
  },
  {
   "cell_type": "code",
   "execution_count": 62,
   "metadata": {
    "ExecuteTime": {
     "end_time": "2021-02-07T17:02:46.649219Z",
     "start_time": "2021-02-07T17:02:46.434916Z"
    },
    "scrolled": true
   },
   "outputs": [
    {
     "name": "stdout",
     "output_type": "stream",
     "text": [
      "> i knocked on the door , but nobody answered .\n",
      "= 我 敲門 ， 但是 沒有 人 迴應 。\n",
      "< 我 在 這場 中 ， 但 沒有 人 過 我 。 <EOS>\n",
      "\n",
      "> i 'm as old as he is .\n",
      "= 我 和 他 同年 。\n",
      "< 我 和 他 同年 。 <EOS>\n",
      "\n",
      "> would you like to dance with me ?\n",
      "= 你 願意 和 我 跳舞 嗎 ？\n",
      "< 你 想 我 跳舞 嗎 ？ <EOS>\n",
      "\n"
     ]
    }
   ],
   "source": [
    "testProcess.evaluateRandomly(n=3)\n"
   ]
  },
  {
   "cell_type": "code",
   "execution_count": 63,
   "metadata": {
    "ExecuteTime": {
     "end_time": "2021-02-07T17:02:56.150653Z",
     "start_time": "2021-02-07T17:02:55.534781Z"
    },
    "scrolled": true
   },
   "outputs": [
    {
     "name": "stdout",
     "output_type": "stream",
     "text": [
      "input = i 'm as old as he is .\n",
      "output = 我 和 他 同年 。 <EOS>\n"
     ]
    },
    {
     "data": {
      "image/png": "[encoded data removed]",
      "text/plain": [
       "<matplotlib.figure.Figure at 0x7f379033ec50>"
      ]
     },
     "metadata": {},
     "output_type": "display_data"
    }
   ],
   "source": [
    "input_senText = \"i 'm as old as he is .\"\n",
    "\n",
    "decoder_words, decoder_attentions = testProcess.evaluate(input_senText)        \n",
    "utils.evaluateAndShowAttention(input_senText, decoder_words, decoder_attentions)\n"
   ]
  },
  {
   "cell_type": "code",
   "execution_count": null,
   "metadata": {
    "collapsed": true
   },
   "outputs": [],
   "source": []
  },
  {
   "cell_type": "code",
   "execution_count": null,
   "metadata": {
    "ExecuteTime": {
     "end_time": "2021-02-06T08:52:39.042902Z",
     "start_time": "2021-02-06T08:52:38.986271Z"
    },
    "collapsed": true
   },
   "outputs": [],
   "source": []
  },
  {
   "cell_type": "code",
   "execution_count": null,
   "metadata": {
    "collapsed": true
   },
   "outputs": [],
   "source": []
  },
  {
   "cell_type": "code",
   "execution_count": null,
   "metadata": {
    "collapsed": true
   },
   "outputs": [],
   "source": []
  },
  {
   "cell_type": "code",
   "execution_count": null,
   "metadata": {
    "collapsed": true
   },
   "outputs": [],
   "source": []
  },
  {
   "cell_type": "code",
   "execution_count": null,
   "metadata": {
    "collapsed": true
   },
   "outputs": [],
   "source": []
  },
  {
   "cell_type": "code",
   "execution_count": null,
   "metadata": {
    "collapsed": true
   },
   "outputs": [],
   "source": []
  },
  {
   "cell_type": "code",
   "execution_count": null,
   "metadata": {
    "collapsed": true
   },
   "outputs": [],
   "source": []
  }
 ],
 "metadata": {
  "kernelspec": {
   "display_name": "Python 3",
   "language": "python",
   "name": "python3"
  },
  "language_info": {
   "codemirror_mode": {
    "name": "ipython",
    "version": 3
   },
   "file_extension": ".py",
   "mimetype": "text/x-python",
   "name": "python",
   "nbconvert_exporter": "python",
   "pygments_lexer": "ipython3",
   "version": "3.6.5"
  },
  "toc": {
   "base_numbering": 1,
   "nav_menu": {},
   "number_sections": true,
   "sideBar": true,
   "skip_h1_title": false,
   "title_cell": "Table of Contents",
   "title_sidebar": "Contents",
   "toc_cell": false,
   "toc_position": {
    "height": "calc(100% - 180px)",
    "left": "10px",
    "top": "150px",
    "width": "166px"
   },
   "toc_section_display": true,
   "toc_window_display": true
  }
 },
 "nbformat": 4,
 "nbformat_minor": 2
}
