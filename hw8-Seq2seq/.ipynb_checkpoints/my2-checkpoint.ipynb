{
 "cells": [
  {
   "cell_type": "markdown",
   "metadata": {},
   "source": [
    "# docs"
   ]
  },
  {
   "cell_type": "markdown",
   "metadata": {},
   "source": [
    "- pytorch example: https://pytorch.org/tutorials/intermediate/seq2seq_translation_tutorial.html\n",
    "    \n",
    "- pytorch colab: https://colab.research.google.com/github/pytorch/tutorials/blob/gh-pages/_downloads/a60617788061539b5449701ae76aee56/seq2seq_translation_tutorial.ipynb\n",
    "\n",
    "- ntu colab: https://colab.research.google.com/drive/11iwJbQv9iScRo6kGP7YfyHaaorlHhzMT"
   ]
  },
  {
   "cell_type": "markdown",
   "metadata": {},
   "source": [
    "# import"
   ]
  },
  {
   "cell_type": "code",
   "execution_count": 1,
   "metadata": {
    "ExecuteTime": {
     "end_time": "2021-02-06T10:09:54.549926Z",
     "start_time": "2021-02-06T10:09:53.627381Z"
    },
    "collapsed": true
   },
   "outputs": [],
   "source": [
    "from __future__ import unicode_literals, print_function, division\n",
    "from io import open\n",
    "import unicodedata\n",
    "import string\n",
    "import re\n",
    "import random\n",
    "import os\n",
    "\n",
    "import torch\n",
    "import torch.nn as nn\n",
    "from torch import optim\n",
    "import torch.nn.functional as F\n",
    "import torch.utils.data as data\n",
    "from torchvision import datasets, transforms\n",
    "\n",
    "import time\n",
    "import math\n",
    "\n",
    "import matplotlib.pyplot as plt\n",
    "plt.switch_backend('agg')\n",
    "import matplotlib.ticker as ticker\n",
    "import numpy as np\n",
    "\n",
    "\n",
    "os.environ[\"CUDA_VISIBLE_DEVICES\"]=\"0\"\n",
    "device = torch.device(\"cuda\" if torch.cuda.is_available() else \"cpu\")\n"
   ]
  },
  {
   "cell_type": "code",
   "execution_count": null,
   "metadata": {
    "ExecuteTime": {
     "end_time": "2021-02-06T03:02:14.761115Z",
     "start_time": "2021-02-06T03:02:14.755374Z"
    },
    "collapsed": true
   },
   "outputs": [],
   "source": [
    "device"
   ]
  },
  {
   "cell_type": "markdown",
   "metadata": {
    "ExecuteTime": {
     "end_time": "2021-01-23T16:47:50.958405Z",
     "start_time": "2021-01-23T16:47:50.953588Z"
    }
   },
   "source": [
    "# utils"
   ]
  },
  {
   "cell_type": "code",
   "execution_count": 2,
   "metadata": {
    "ExecuteTime": {
     "end_time": "2021-02-06T10:09:58.180060Z",
     "start_time": "2021-02-06T10:09:58.160287Z"
    },
    "collapsed": true
   },
   "outputs": [],
   "source": [
    "class Utils:\n",
    "    def __init__(self):\n",
    "        pass\n",
    "\n",
    "    def asMinutes(self, s):\n",
    "        m = math.floor(s / 60)\n",
    "        s -= m * 60\n",
    "        return '%dm %ds' % (m, s)\n",
    "\n",
    "\n",
    "    def timeSince(self, since, percent):\n",
    "        now = time.time()\n",
    "        s = now - since\n",
    "        es = s / (percent)\n",
    "        rs = es - s\n",
    "        return '%s (- %s)' % (self.asMinutes(s), self.asMinutes(rs))\n",
    "    \n",
    "    def showPlot(self, points):\n",
    "        plt.figure()\n",
    "        fig, ax = plt.subplots()\n",
    "        # this locator puts ticks at regular intervals\n",
    "        loc = ticker.MultipleLocator(base=0.2)\n",
    "        ax.yaxis.set_major_locator(loc)\n",
    "        plt.plot(points)\n",
    "        \n",
    "    def showAttention(self, input_sentence, output_words, attentions):\n",
    "        # Set up figure with colorbar\n",
    "        fig = plt.figure(figsize=(50, 10))\n",
    "        ax = fig.add_subplot(111)\n",
    "        cax = ax.matshow(attentions.numpy(), cmap='bone')\n",
    "        fig.colorbar(cax)\n",
    "\n",
    "        # Set up axes\n",
    "        ax.set_xticklabels([''] + input_sentence.split(' ') +\n",
    "                           ['<EOS>'], rotation=90)\n",
    "        ax.set_yticklabels([''] + output_words)\n",
    "\n",
    "        # Show label at every tick\n",
    "        ax.xaxis.set_major_locator(ticker.MultipleLocator(1))\n",
    "        ax.yaxis.set_major_locator(ticker.MultipleLocator(1))\n",
    "\n",
    "        plt.show()\n",
    "\n",
    "    def evaluateAndShowAttention(self, encoder1, attn_decoder1, senText, option, myDataset):\n",
    "        senText_list = [senText]\n",
    "        \n",
    "        senWord_list = myDataset.myPreData.get_senWord_list(senText_list)\n",
    "        senIndex_list = myDataset.myPreData.get_senIndex_list(senWord_list, myDataset.myPreData.lang1)\n",
    "        senIndex_list = [torch.LongTensor(senIndex)  for senIndex in senIndex_list]\n",
    "        \n",
    "        output_words, attentions = testProcess.evaluate(\n",
    "            encoder1, \n",
    "            attn_decoder1, \n",
    "            senIndex_list[0],\n",
    "            myDataset.myPreData.lang2, \n",
    "            option.max_length\n",
    "        )\n",
    "        \n",
    "        print('input =', senText)\n",
    "        print('output =', ' '.join(output_words))\n",
    "        self.showAttention(senText, output_words, attentions)"
   ]
  },
  {
   "cell_type": "code",
   "execution_count": null,
   "metadata": {
    "ExecuteTime": {
     "end_time": "2021-02-06T08:17:49.711044Z",
     "start_time": "2021-02-06T08:17:49.699303Z"
    },
    "collapsed": true
   },
   "outputs": [],
   "source": [
    "utils = Utils()"
   ]
  },
  {
   "cell_type": "markdown",
   "metadata": {},
   "source": [
    "# option"
   ]
  },
  {
   "cell_type": "code",
   "execution_count": 3,
   "metadata": {
    "ExecuteTime": {
     "end_time": "2021-02-06T10:10:01.184307Z",
     "start_time": "2021-02-06T10:10:01.176452Z"
    },
    "collapsed": true
   },
   "outputs": [],
   "source": [
    "class Option:\n",
    "    def __init__(self, \n",
    "                 dropout_p=0.1, \n",
    "                 max_length=50, \n",
    "                 hidden_size=256, \n",
    "                 teacher_forcing_ratio=0.5, \n",
    "                 n_iters=10000, \n",
    "                 print_every=1000, \n",
    "                 plot_every=100, \n",
    "                 learning_rate=0.01):\n",
    "        \n",
    "        self.dropout_p = dropout_p\n",
    "        self.max_length = max_length\n",
    "        self.hidden_size = hidden_size\n",
    "        self.teacher_forcing_ratio = teacher_forcing_ratio\n",
    "        self.n_iters = n_iters\n",
    "        self.print_every = print_every\n",
    "        self.plot_every = plot_every\n",
    "        self.learning_rate = learning_rate\n"
   ]
  },
  {
   "cell_type": "code",
   "execution_count": null,
   "metadata": {
    "ExecuteTime": {
     "end_time": "2021-02-06T04:32:09.715968Z",
     "start_time": "2021-02-06T04:32:09.695432Z"
    },
    "collapsed": true
   },
   "outputs": [],
   "source": [
    "option = Option()"
   ]
  },
  {
   "cell_type": "code",
   "execution_count": null,
   "metadata": {
    "collapsed": true
   },
   "outputs": [],
   "source": []
  },
  {
   "cell_type": "markdown",
   "metadata": {
    "collapsed": true
   },
   "source": [
    "# data"
   ]
  },
  {
   "cell_type": "markdown",
   "metadata": {},
   "source": [
    "## todo"
   ]
  },
  {
   "cell_type": "markdown",
   "metadata": {
    "collapsed": true
   },
   "source": [
    "- 生成跟範例一樣的data\n",
    "\n",
    "    - 用範例的方法生成dict\n",
    "\n",
    "    - 用dataset / dataloader"
   ]
  },
  {
   "cell_type": "code",
   "execution_count": null,
   "metadata": {
    "collapsed": true
   },
   "outputs": [],
   "source": [
    "邏輯用簡單，一個function做一件事(命名的那件事)"
   ]
  },
  {
   "cell_type": "markdown",
   "metadata": {},
   "source": [
    "## preprocess"
   ]
  },
  {
   "cell_type": "markdown",
   "metadata": {},
   "source": [
    "### MyPreData"
   ]
  },
  {
   "cell_type": "code",
   "execution_count": 48,
   "metadata": {
    "ExecuteTime": {
     "end_time": "2021-02-06T10:35:11.537765Z",
     "start_time": "2021-02-06T10:35:11.508150Z"
    },
    "collapsed": true
   },
   "outputs": [],
   "source": [
    "class Lang:\n",
    "    def __init__(self, name):\n",
    "        self.name = name\n",
    "        self.setup_dict()\n",
    "        \n",
    "    def setup_dict(self):\n",
    "        wordIndex_list = [[\"<SOS>\", 0], [\"<EOS>\", 1]]\n",
    "        self.word2count = {}\n",
    "        self.word2index = {wordIndex[0]:wordIndex[1] for wordIndex in wordIndex_list}\n",
    "        self.index2word = {wordIndex[1]:wordIndex[0] for wordIndex in wordIndex_list}\n",
    "        self.n_words = len(wordIndex_list)\n",
    "\n",
    "    def addsenText(self, senText):\n",
    "        for word in senText.split(' '):\n",
    "            self.addWord(word)\n",
    "\n",
    "    def addWord(self, word):\n",
    "        if word not in self.word2index:\n",
    "            index = self.n_words\n",
    "            self.word2index[word] = index\n",
    "            self.index2word[index] = word\n",
    "            self.word2count[word] = 1\n",
    "            self.n_words += 1\n",
    "        else:\n",
    "            self.word2count[word] += 1\n",
    "\n",
    "class MyPreData:\n",
    "    def __init__(self):\n",
    "        self.data_dir = '/media/disk3/feynman52/NTU-ML2020/hw8-Seq2seq/datasets/cmn-eng/'\n",
    "    \n",
    "    def read_txt(self, filename='training.txt'):\n",
    "        path = os.path.join(self.data_dir, filename)\n",
    "        with open(path) as f:\n",
    "            content = f.readlines()\n",
    "        return content\n",
    "    \n",
    "    def get_senText_list_pair(self, txt):\n",
    "        lang1_senText_list = []\n",
    "        lang2_senText_list = []\n",
    "        for senText_pair in txt:\n",
    "            lang1_senText, lang2_senText = senText_pair.split(' \\t')\n",
    "            lang1_senText = self.process_lang1_senText(lang1_senText)\n",
    "            lang2_senText = self.process_lang2_senText(lang2_senText)\n",
    "            lang1_senText_list.append(lang1_senText)\n",
    "            lang2_senText_list.append(lang2_senText)\n",
    "        senText_list_pair = lang1_senText_list, lang2_senText_list\n",
    "        return senText_list_pair\n",
    "    \n",
    "    def process_lang1_senText(self, lang1_senText):\n",
    "        lang1_senText = lang1_senText.replace('@@ ', '')\n",
    "        return lang1_senText\n",
    "    \n",
    "    def process_lang2_senText(self, lang2_senText):\n",
    "        lang2_senText = lang2_senText.strip()\n",
    "        return lang2_senText\n",
    "    \n",
    "    def get_lang(self, name='en', senText_list=[]):\n",
    "        lang = Lang(name)\n",
    "        for senText in senText_list:\n",
    "            lang.addsenText(senText)\n",
    "        return lang\n",
    "    \n",
    "    def senText_to_senWord(self, senText):\n",
    "        senWord = senText.split(' ')\n",
    "        return senWord\n",
    "    \n",
    "    def senWord_to_senIndex(self, senWord, lang):\n",
    "        senIndex = [lang.word2index[word] for word in senWord]\n",
    "        eos_token = lang.word2index['<EOS>']\n",
    "        senIndex.append(eos_token)\n",
    "        return senIndex\n",
    "        \n",
    "    def get_senWord_list(self, senText_list):\n",
    "        senWord_list = [self.get_senWord(senText) for senText in senText_list]\n",
    "        return senWord_list\n",
    "    \n",
    "    def setup_preData(self, filename='training.txt'):\n",
    "        self.txt = self.read_txt(filename)\n",
    "\n",
    "        self.lang1_senText_list, self.lang2_senText_list = self.get_senText_list_pair(self.txt)\n",
    "\n",
    "        self.lang1 = self.get_lang(name='en', senText_list=self.lang1_senText_list)\n",
    "        self.lang2 = self.get_lang(name='cn', senText_list=self.lang2_senText_list)\n",
    "\n",
    "        self.lang1_senWord_list = [self.senText_to_senWord(senText) for senText in self.lang1_senText_list]\n",
    "        self.lang2_senWord_list = [self.senText_to_senWord(senText) for senText in self.lang2_senText_list]\n",
    "\n",
    "        self.lang1_senIndex_list = [self.senWord_to_senIndex(senWord, self.lang1) for senWord in self.lang1_senWord_list]\n",
    "        self.lang2_senIndex_list = [self.senWord_to_senIndex(senWord, self.lang2) for senWord in self.lang2_senWord_list]\n",
    "        \n",
    "        \n"
   ]
  },
  {
   "cell_type": "code",
   "execution_count": null,
   "metadata": {
    "ExecuteTime": {
     "end_time": "2021-02-06T07:11:21.907251Z",
     "start_time": "2021-02-06T07:11:21.887545Z"
    },
    "collapsed": true
   },
   "outputs": [],
   "source": [
    "# lang = Lang('cn')\n",
    "# lang.word2index, lang.index2word"
   ]
  },
  {
   "cell_type": "markdown",
   "metadata": {},
   "source": [
    "### steps"
   ]
  },
  {
   "cell_type": "code",
   "execution_count": 49,
   "metadata": {
    "ExecuteTime": {
     "end_time": "2021-02-06T10:35:14.633176Z",
     "start_time": "2021-02-06T10:35:14.599335Z"
    },
    "collapsed": true
   },
   "outputs": [],
   "source": [
    "myPreData = MyPreData()"
   ]
  },
  {
   "cell_type": "code",
   "execution_count": 50,
   "metadata": {
    "ExecuteTime": {
     "end_time": "2021-02-06T10:35:17.773269Z",
     "start_time": "2021-02-06T10:35:17.738906Z"
    }
   },
   "outputs": [
    {
     "data": {
      "text/plain": [
       "\"it 's none of your concern . \\t這不關 你 的 事 。 \\n\""
      ]
     },
     "execution_count": 50,
     "metadata": {},
     "output_type": "execute_result"
    }
   ],
   "source": [
    "txt = myPreData.read_txt(filename='training.txt')\n",
    "len(txt)\n",
    "txt[0]"
   ]
  },
  {
   "cell_type": "code",
   "execution_count": 34,
   "metadata": {
    "ExecuteTime": {
     "end_time": "2021-02-06T10:23:33.805151Z",
     "start_time": "2021-02-06T10:23:33.750748Z"
    },
    "collapsed": true
   },
   "outputs": [],
   "source": [
    "lang1_senText_list, lang2_senText_list = myPreData.get_senText_list_pair(txt)\n"
   ]
  },
  {
   "cell_type": "code",
   "execution_count": 35,
   "metadata": {
    "ExecuteTime": {
     "end_time": "2021-02-06T10:23:33.834502Z",
     "start_time": "2021-02-06T10:23:33.810776Z"
    },
    "collapsed": true
   },
   "outputs": [],
   "source": [
    "# lang1_senText_list\n",
    "# lang2_senText_list"
   ]
  },
  {
   "cell_type": "code",
   "execution_count": 36,
   "metadata": {
    "ExecuteTime": {
     "end_time": "2021-02-06T10:23:34.067942Z",
     "start_time": "2021-02-06T10:23:33.836966Z"
    },
    "collapsed": true
   },
   "outputs": [],
   "source": [
    "lang1 = myPreData.get_lang(name='en', senText_list=lang1_senText_list)\n",
    "lang2 = myPreData.get_lang(name='cn', senText_list=lang2_senText_list)"
   ]
  },
  {
   "cell_type": "code",
   "execution_count": 37,
   "metadata": {
    "ExecuteTime": {
     "end_time": "2021-02-06T10:23:34.075452Z",
     "start_time": "2021-02-06T10:23:34.070079Z"
    }
   },
   "outputs": [
    {
     "data": {
      "text/plain": [
       "(5583, 9948)"
      ]
     },
     "execution_count": 37,
     "metadata": {},
     "output_type": "execute_result"
    }
   ],
   "source": [
    "lang1.n_words, lang2.n_words\n",
    "# lang1.index2word \n",
    "# lang2.index2word"
   ]
  },
  {
   "cell_type": "code",
   "execution_count": 38,
   "metadata": {
    "ExecuteTime": {
     "end_time": "2021-02-06T10:23:34.361171Z",
     "start_time": "2021-02-06T10:23:34.077926Z"
    },
    "collapsed": true
   },
   "outputs": [],
   "source": [
    "lang1_senWord_list = myPreData.get_senWord_list(lang1_senText_list)\n",
    "lang2_senWord_list = myPreData.get_senWord_list(lang2_senText_list)\n"
   ]
  },
  {
   "cell_type": "code",
   "execution_count": 39,
   "metadata": {
    "ExecuteTime": {
     "end_time": "2021-02-06T10:23:34.463905Z",
     "start_time": "2021-02-06T10:23:34.363914Z"
    },
    "collapsed": true,
    "scrolled": true
   },
   "outputs": [],
   "source": [
    "lang1_senIndex_list = myPreData.get_senIndex_list(lang1_senWord_list, lang1)\n",
    "lang2_senIndex_list = myPreData.get_senIndex_list(lang2_senWord_list, lang2)\n"
   ]
  },
  {
   "cell_type": "code",
   "execution_count": 40,
   "metadata": {
    "ExecuteTime": {
     "end_time": "2021-02-06T10:23:34.472814Z",
     "start_time": "2021-02-06T10:23:34.466443Z"
    }
   },
   "outputs": [
    {
     "name": "stdout",
     "output_type": "stream",
     "text": [
      "['i', \"'m\", 'going', 'to', 'check', 'out', 'at', 'eight', '.'] [26, 65, 66, 40, 67, 68, 69, 70, 8, 1]\n",
      "26 i\n"
     ]
    }
   ],
   "source": [
    "i = 13\n",
    "lang1_senWord = lang1_senWord_list[i]\n",
    "lang1_senIndex = lang1_senIndex_list[i]\n",
    "word = lang1_senWord[0]\n",
    "index = lang1_senIndex[0]\n",
    "print(lang1_senWord, lang1_senIndex)\n",
    "print(lang1.word2index[word], lang1.index2word[index])"
   ]
  },
  {
   "cell_type": "code",
   "execution_count": 51,
   "metadata": {
    "ExecuteTime": {
     "end_time": "2021-02-06T10:35:30.346828Z",
     "start_time": "2021-02-06T10:35:29.858753Z"
    },
    "collapsed": true,
    "scrolled": true
   },
   "outputs": [],
   "source": [
    "myPreData = MyPreData()\n",
    "myPreData.setup_preData(filename='training.txt')"
   ]
  },
  {
   "cell_type": "code",
   "execution_count": 54,
   "metadata": {
    "ExecuteTime": {
     "end_time": "2021-02-06T10:36:07.650817Z",
     "start_time": "2021-02-06T10:36:07.618740Z"
    }
   },
   "outputs": [
    {
     "data": {
      "text/plain": [
       "[\"it 's none of your concern .\",\n",
       " 'she has a habit of biting her nails .',\n",
       " 'he is a teacher .',\n",
       " 'japan relies on arab countries for oil .',\n",
       " \"i 'll dream about you .\",\n",
       " \"i borrowed tom 's phone this morning .\",\n",
       " \"she does n't know how to play golf .\",\n",
       " 'tears rolled down my cheeks .',\n",
       " \"that 's soft .\",\n",
       " \"do n't open this door , please .\",\n",
       " 'what exactly does tom do ?',\n",
       " \"there 's a book here .\",\n",
       " 'tom was the first to react .',\n",
       " \"i 'm going to check out at eight .\",\n",
       " 'is this your notebook ?',\n",
       " 'how could things get worse ?',\n",
       " 'i hope this is the right one .',\n",
       " 'i play tennis an hour a day .',\n",
       " 'we still have more time .',\n",
       " 'all my friends will be there .',\n",
       " 'i am looking forward to hearing from you soon .',\n",
       " 'i had a funny dream last night .',\n",
       " \"that 's a little hard to believe .\",\n",
       " \"i do n't need you or anybody else .\",\n",
       " 'she cooked the dinner herself .',\n",
       " 'my sister made me a beautiful doll .',\n",
       " 'may i have something hot to drink ?',\n",
       " 'would you mind lending me your pen ?',\n",
       " 'it is evident that he has made a mistake .',\n",
       " 'i just heard something .',\n",
       " \"i did n't get the point of his speech .\",\n",
       " 'his hobby is painting pictures of flowers .',\n",
       " \"your bag 's open .\",\n",
       " 'i always get nervous just before a match .',\n",
       " 'there are some strange animals in the zoo .',\n",
       " 'we gave him up for dead .',\n",
       " 'my friend asked me if i was feeling all right .',\n",
       " \"i 'm sure you 'll be back before long .\",\n",
       " 'keep reading .',\n",
       " 'we really appreciate their effort .',\n",
       " 'you have beautiful eyes .',\n",
       " 'please give me your permanent address .',\n",
       " \"money ca n't buy everything .\",\n",
       " 'i have already finished the job .',\n",
       " 'i envy her .',\n",
       " 'he patted me on the shoulder .',\n",
       " 'how about another cup of coffee ?',\n",
       " 'this is a picture of my family .',\n",
       " \"i 'm a citizen of the world .\",\n",
       " \"tomorrow is mother 's day .\",\n",
       " 'this book is worth reading again .',\n",
       " 'saudi arabia is very rich in oil .',\n",
       " 'do you have a better explanation ?',\n",
       " 'more money for education will spur economic growth .',\n",
       " 'i want to study abroad next year .',\n",
       " 'i belong to a tennis club .',\n",
       " 'tom and mary are in the same class .',\n",
       " 'you have changed so much that i can hardly recognize you .',\n",
       " 'i overslept .',\n",
       " \"he failed the exam , but he does n't care too much .\",\n",
       " \"there 's somebody in there .\",\n",
       " 'which is your book ?',\n",
       " 'graham greene is a favorite author of mine .',\n",
       " 'the deadline is approaching .',\n",
       " 'the plane was three hours late due to bad weather .',\n",
       " 'i took it for granted that you were on my side .',\n",
       " 'put the book on the top shelf .',\n",
       " 'you must answer these questions .',\n",
       " 'she glanced briefly at the newspaper .',\n",
       " \"i 'm having lunch with my sister right now .\",\n",
       " 'i know those women .',\n",
       " 'he may have missed the last train .',\n",
       " \"we 'll have to do that , too .\",\n",
       " 'you were late for work .',\n",
       " 'children like chocolate .',\n",
       " \"you do n't get up as early as your sister , do you ?\",\n",
       " 'tom gave us nothing .',\n",
       " \"i do n't know anything about his past .\",\n",
       " 'where does this street lead to ?',\n",
       " \"we 're just about finished here .\",\n",
       " \"it seems that i 've lost my keys .\",\n",
       " 'tom said mary is shy .',\n",
       " 'she was busy with household work .',\n",
       " 'you can call me anytime you like .',\n",
       " 'would you mind opening the window ?',\n",
       " \"tom ca n't come to work today because he does n't feel well .\",\n",
       " \"compared with her sister , she is n't very punctual .\",\n",
       " 'it is not a watch .',\n",
       " 'he leaves for china tomorrow .',\n",
       " \"i do n't want to spoil the ending for you .\",\n",
       " \"i 'm so excited .\",\n",
       " \"you should 've never interfered .\",\n",
       " 'who do you usually go to the movies with ?',\n",
       " 'she taught me how to swim .',\n",
       " 'she looks as if she were drunk .',\n",
       " 'she cooked us a wonderful meal .',\n",
       " 'i really want to see you .',\n",
       " 'many of the workers died of hunger .',\n",
       " \"do n't believe everything you hear .\",\n",
       " \"i 'll give you a little tip .\",\n",
       " 'do you think tom is too young ?',\n",
       " \"tom does n't want to lose mary .\",\n",
       " 'it was lucky for you that you found it .',\n",
       " 'do you ever study in the library ?',\n",
       " 'we should try to avoid imposing our own beliefs on others .',\n",
       " 'maybe i should go help tom .',\n",
       " 'i was late to school .',\n",
       " 'i thought i was doing it your way .',\n",
       " \"she 's tom 's younger sister .\",\n",
       " 'this is your dog .',\n",
       " 'my father got home late last night .',\n",
       " \"i 'm grateful for what tom did .\",\n",
       " 'he graduated from harvard university with honors .',\n",
       " 'my father is in the garden .',\n",
       " \"tom said he 'd wait .\",\n",
       " \"i did n't get your name .\",\n",
       " 'he likes tea .',\n",
       " 'lunch is on .',\n",
       " 'you should be more careful .',\n",
       " 'do you have a non-smoking section ?',\n",
       " 'she drew out the money from the bank .',\n",
       " 'we need some more coffee .',\n",
       " 'he will be at home tomorrow .',\n",
       " \"`` do you know when they will arrive ? '' `` at eleven-thirty this evening . ''\",\n",
       " 'she lived there about five years .',\n",
       " \"why did n't you turn up on saturday ?\",\n",
       " 'please sing .',\n",
       " \"i do n't know what you mean .\",\n",
       " 'i am in trouble .',\n",
       " \"tom probably would n't do something that stupid .\",\n",
       " 'she cut up the cloth to make bandages .',\n",
       " \"i 'm reading a book about animals .\",\n",
       " \"someone 's knocking at the door .\",\n",
       " \"i thought you 'd be full after eating that big steak .\",\n",
       " 'we need an ambulance .',\n",
       " 'he caught a cold .',\n",
       " 'he knows a lot about foreign affairs .',\n",
       " 'i know where she is .',\n",
       " 'my aunt gave me an album .',\n",
       " 'that company deals mainly in imported goods .',\n",
       " \"i 'll call you up tomorrow morning .\",\n",
       " \"are you sure you do n't want to sleep on it ?\",\n",
       " 'come in .',\n",
       " 'uk is the abbreviation for the united kingdom .',\n",
       " \"do n't let tom leave .\",\n",
       " 'she is two years older than you .',\n",
       " \"i 've already tried that .\",\n",
       " \"where there 's a will , there 's a way .\",\n",
       " 'this is my bicycle .',\n",
       " 'she made the same mistake again .',\n",
       " 'i changed trains at tokyo station .',\n",
       " \"i do n't see any reason why i have to apologize .\",\n",
       " 'we had no secrets .',\n",
       " 'you need a large vocabulary to read that book .',\n",
       " 'i have eight brothers and sisters .',\n",
       " 'she looked after the children .',\n",
       " \"i do n't like studying .\",\n",
       " 'i play the guitar after dinner .',\n",
       " 'i want to stay in a hotel near the airport .',\n",
       " 'he is lacking in common sense .',\n",
       " 'is this your pen ?',\n",
       " 'you remind me of your brother .',\n",
       " 'after supper , she cleared the table .',\n",
       " 'how many people can do that ?',\n",
       " 'the police accused him of theft .',\n",
       " \"you 're always late .\",\n",
       " \"we 've got to do something about this problem soon .\",\n",
       " 'the doctor examined my throat .',\n",
       " \"you do n't have to get up early .\",\n",
       " \"do n't forget smoking is bad for your health .\",\n",
       " 'we are good friends .',\n",
       " 'she likes oranges .',\n",
       " 'who wrote these two letters ?',\n",
       " \"there 's nobody here .\",\n",
       " 'were you busy ?',\n",
       " \"i 'm not afraid of anything .\",\n",
       " 'six divided by two equals three .',\n",
       " \"tom is n't doing what he 's supposed to be doing .\",\n",
       " \"i 'm on my way to the meeting right now .\",\n",
       " 'she got on the subway at ginza .',\n",
       " 'did you ever try ?',\n",
       " 'strawberries are in season now .',\n",
       " 'i took a day off last week .',\n",
       " 'i have to take my medicine every six hours .',\n",
       " 'give it to me , please .',\n",
       " 'this medicine will make you feel better .',\n",
       " \"let 's wait until it stops raining .\",\n",
       " 'this book is yours .',\n",
       " 'the living room furniture was modern in style .',\n",
       " \"they 'll let us know what happens .\",\n",
       " \"i found you , did n't i ?\",\n",
       " \"do n't put the cart before the horse .\",\n",
       " \"there 's nothing good on television .\",\n",
       " 'we woke up very early in order to see the sunrise .',\n",
       " 'how do you know ?',\n",
       " 'we are having a serious talk about your future .',\n",
       " \"this is n't a trivial matter .\",\n",
       " 'we have to find out where tom is .',\n",
       " 'my mother left me a message .',\n",
       " \"i do n't like eating meat .\",\n",
       " 'he lives in a world of fantasy .',\n",
       " 'she gets up late on sunday mornings .',\n",
       " 'catch him .',\n",
       " 'do you have any idea who would do this ?',\n",
       " \"it 's been a long war .\",\n",
       " \"you 'd better do as the doctor advised you .\",\n",
       " 'all you need to do is just sit here .',\n",
       " 'you must always keep your hands clean .',\n",
       " 'they live on the other side of the road .',\n",
       " \"i 've lost patience with tom .\",\n",
       " \"it 's all my fault .\",\n",
       " 'did you eat at home before you came here ?',\n",
       " \"he 's three years older than she is .\",\n",
       " 'what are you going to do today ?',\n",
       " \"i 'd like to make a call to tokyo , japan . the number is 3202-5625 .\",\n",
       " 'when the lights went out , tom lit a candle .',\n",
       " \"that 's life .\",\n",
       " 'when are you going to quit smoking ?',\n",
       " 'does she like oranges ?',\n",
       " \"the toilet does n't flush properly .\",\n",
       " \"good luck . you 'll need it .\",\n",
       " \"he 's in charge of the department .\",\n",
       " 'i am a citizen of sapporo .',\n",
       " 'life is beautiful .',\n",
       " \"i ca n't find my shoes .\",\n",
       " \"i 've lived here since i was a boy .\",\n",
       " 'does tom have to be there ?',\n",
       " 'would you mind explaining this ?',\n",
       " 'the bell has not rung yet .',\n",
       " 'car exhaust causes serious pollution in towns .',\n",
       " \"at least tell me where you 're going .\",\n",
       " 'he jumped onto the table .',\n",
       " \"he 's new in town .\",\n",
       " 'could you take a picture of us ?',\n",
       " \"it 's going to rain .\",\n",
       " 'children depend on their parents for food , clothing and shelter .',\n",
       " 'my father participated in a cooking contest and came in first .',\n",
       " 'i have nothing to do with that crime .',\n",
       " 'may i come and see you now ?',\n",
       " 'this is a very beautiful flower .',\n",
       " 'he is not interested in art at all .',\n",
       " 'all aboard !',\n",
       " 'he paid 1,000 yen for this book .',\n",
       " 'we saw many ships in the harbor .',\n",
       " 'she is sitting on the bench .',\n",
       " 'the book was published in 1689 .',\n",
       " 'please close the door .',\n",
       " 'you are suitable for the job .',\n",
       " \"i 'll be there right away .\",\n",
       " 'i know the truth .',\n",
       " 'keep quiet !',\n",
       " \"she 's neither rich nor famous .\",\n",
       " 'a great number of books are published every year .',\n",
       " 'tom is interested in mountaineering .',\n",
       " 'can you tell me how to get to the train station ?',\n",
       " \"tom said he 'd think about my suggestion .\",\n",
       " 'how old is your son ?',\n",
       " \"you 'd better go in person .\",\n",
       " \"why do n't you come visit us ?\",\n",
       " 'you can come in .',\n",
       " 'he loves her . she loves him , too .',\n",
       " 'it might be a wedding .',\n",
       " 'this may take a while .',\n",
       " 'he is the manager of the marketing department .',\n",
       " \"you 're too suspicious about everything .\",\n",
       " \"do you like mozart 's music ?\",\n",
       " 'do you believe me ?',\n",
       " 'whose car is this ?',\n",
       " 'my wife is afraid to drive my new car .',\n",
       " 'keep next sunday free .',\n",
       " 'tom is really gifted .',\n",
       " 'these oranges are very sour .',\n",
       " 'put the egg into boiling water .',\n",
       " 'keep your voice down .',\n",
       " \"i do n't understand any french .\",\n",
       " 'a drunk driver was responsible for the car accident .',\n",
       " \"i 'll be seeing you .\",\n",
       " 'the little boy is afraid of the dark .',\n",
       " 'we will stay here until sunday .',\n",
       " \"i 'm not interested .\",\n",
       " \"i 'll write to you soon .\",\n",
       " 'there is little water in the pond .',\n",
       " 'i lent tom my camera .',\n",
       " 'the fuel tank in the car is full .',\n",
       " 'the company cancelled the meeting .',\n",
       " 'here we are !',\n",
       " \"tom asked me to tell you he did n't plan on going to boston with you .\",\n",
       " \"i do n't know anything about their plan .\",\n",
       " 'i have to go to bed .',\n",
       " \"i do n't care if you trust me or not .\",\n",
       " \"that 's just your imagination .\",\n",
       " \"it 's unlikely that he did anything wrong .\",\n",
       " 'they bought a box of cookies .',\n",
       " \"tom 's laughing .\",\n",
       " \"tom does n't have time .\",\n",
       " \"i do n't need your help .\",\n",
       " 'what are you going to do tonight ?',\n",
       " 'last year , he spent three months at sea .',\n",
       " 'do you like rap ?',\n",
       " \"the day after tomorrow is tom 's birthday .\",\n",
       " 'this is the time he normally arrives .',\n",
       " 'he preferred working to doing nothing .',\n",
       " \"he ca n't help you .\",\n",
       " 'there are a lot of parks in london .',\n",
       " 'only a few people understood me .',\n",
       " 'what were you up to last night ?',\n",
       " 'my father began jogging last month .',\n",
       " 'do you want any of these books ?',\n",
       " 'listen .',\n",
       " 'show me another example .',\n",
       " \"do n't look down on others .\",\n",
       " 'do you want to get some lunch ?',\n",
       " \"i have n't seen her since then .\",\n",
       " 'who did you speak with ?',\n",
       " 'how old are you ?',\n",
       " \"i 'm crazy about you .\",\n",
       " 'tom hurt himself .',\n",
       " 'we picked flowers in the garden .',\n",
       " 'it is not easy to train dogs .',\n",
       " 'did i leave my umbrella here ?',\n",
       " 'have you found your ticket yet ?',\n",
       " 'i could answer all the questions .',\n",
       " 'lie on your right side .',\n",
       " \"tom 's name was on the list .\",\n",
       " 'you are just saying that .',\n",
       " 'i want to go with you .',\n",
       " 'can you give me some money ?',\n",
       " 'tom likes me the most .',\n",
       " 'some furniture is put together with glue .',\n",
       " \"do n't change your mind .\",\n",
       " 'have you heard from tom ?',\n",
       " \"do n't stare at others .\",\n",
       " 'did he propose to you ?',\n",
       " 'i look forward to seeing you again .',\n",
       " \"we 'll deal with it tomorrow .\",\n",
       " 'this lake is deepest at this point .',\n",
       " 'you should be good to your neighbors .',\n",
       " 'he got accustomed to the new way of living .',\n",
       " 'i want something cold to drink now .',\n",
       " \"that 's the computer on which he writes his articles .\",\n",
       " 'the poor man has no relatives .',\n",
       " \"you do n't need to hurry .\",\n",
       " 'tom watched in horror .',\n",
       " \"we did n't get an apology .\",\n",
       " 'this is not okay .',\n",
       " \"i 'll treat you to sushi .\",\n",
       " \"i think we 're in trouble .\",\n",
       " \"i 'll come and see you one of these days .\",\n",
       " 'have you still not finished paying for my bike ?',\n",
       " 'tom was the first to arrive and the last to leave .',\n",
       " 'she divorced her husband .',\n",
       " 'i got lost in the woods .',\n",
       " 'i know that he was busy .',\n",
       " 'do you like to drink wine ?',\n",
       " 'goodbye !',\n",
       " 'i bought it for about twelve dollars .',\n",
       " \"his scores are always better than mine , even though he does n't study very much .\",\n",
       " 'i wish tom would just go away .',\n",
       " \"i 've always wondered what it 'd be like to have siblings .\",\n",
       " \"i get two hour 's exercise every day .\",\n",
       " 'my sister married a doctor .',\n",
       " 'that makes no sense at all .',\n",
       " 'he failed to follow our advice .',\n",
       " 'she plays tennis in the morning .',\n",
       " 'smoking is prohibited on the train .',\n",
       " \"you do n't scare us .\",\n",
       " 'i believe in you .',\n",
       " 'i think you should do that before you go home today .',\n",
       " 'tom comes here three or four times a month .',\n",
       " 'with just a little more effort , he would have succeeded .',\n",
       " \"i 've always wanted to learn how to swim .\",\n",
       " \"i asked tom why he was n't here yesterday .\",\n",
       " \"i think i 'm coming down with a fever .\",\n",
       " 'mother bakes cookies on sundays .',\n",
       " \"do n't talk to others during the class .\",\n",
       " 'take off your socks .',\n",
       " 'there are many endangered species .',\n",
       " 'they are all innocent children .',\n",
       " 'the first item he bought was an alarm clock .',\n",
       " 'i felt comfortable .',\n",
       " \"that 's the point .\",\n",
       " 'it would be crazy to do that again .',\n",
       " 'are they all the same ?',\n",
       " 'please tell us what to do next .',\n",
       " \"without you , i 'm nothing .\",\n",
       " 'that discovery was quite accidental .',\n",
       " 'i have mislaid my baggage .',\n",
       " 'i was always good at english .',\n",
       " 'was tom surprised ?',\n",
       " \"i 'm not so brave .\",\n",
       " 'what color is your new car ?',\n",
       " 'have you seen this man ?',\n",
       " \"tom does n't know how bad it is .\",\n",
       " \"i ca n't stand the noise .\",\n",
       " 'every time i went to his place , he was studying .',\n",
       " 'once in a while , we should take a step back and think .',\n",
       " 'your shirt button is coming off .',\n",
       " 'you are not a coward .',\n",
       " 'the boy got in through the window .',\n",
       " 'how many pictures did you buy ?',\n",
       " \"let 's play tennis after school .\",\n",
       " \"the mother occasionally reread her son 's letter .\",\n",
       " 'he wishes to erase bad memories .',\n",
       " 'i just want to know what actually happened .',\n",
       " 'tom told me what to say .',\n",
       " 'tom took out his wallet and paid the bill .',\n",
       " 'she gave me several books .',\n",
       " 'this is true .',\n",
       " 'i can play soccer .',\n",
       " \"he 's not home .\",\n",
       " \"i ca n't believe that you were the smartest kid in your class .\",\n",
       " 'we want further information .',\n",
       " 'what are you doing tonight ?',\n",
       " 'i take my health seriously .',\n",
       " 'there is insufficient light to take pictures .',\n",
       " 'she bought a toy for her child .',\n",
       " 'when did you get to london ?',\n",
       " 'he asked if i liked chinese food .',\n",
       " 'this is exactly what i need .',\n",
       " 'she is just a child .',\n",
       " 'please fill this bottle with water .',\n",
       " 'they work really hard .',\n",
       " 'i think i lost my keys .',\n",
       " 'she had a basket full of apples .',\n",
       " 'are you mad ?',\n",
       " \"`` will he pass the examination ? '' `` i am afraid not . ''\",\n",
       " \"how 's work ?\",\n",
       " 'the whole audience erupted in laughter .',\n",
       " \"it 's time to get some work done .\",\n",
       " \"i did n't think this was your seat .\",\n",
       " 'she made a serious mistake .',\n",
       " \"tom is careful , is n't he ?\",\n",
       " 'this wine tastes great .',\n",
       " 'he is a famous composer .',\n",
       " 'tom seems to be a fairly successful businessman .',\n",
       " 'she looks a lot like her mother .',\n",
       " 'tom is quite sarcastic .',\n",
       " 'i have chapped lips .',\n",
       " 'in addition to english , he speaks german .',\n",
       " \"i ca n't do it .\",\n",
       " \"where is tom 's classroom ?\",\n",
       " 'i hope i make a good first impression .',\n",
       " \"you 're very shy .\",\n",
       " 'we were kids then .',\n",
       " 'hug tom .',\n",
       " \"tom could n't help but smile .\",\n",
       " \"what 'll the results be ?\",\n",
       " 'there is always something happening here .',\n",
       " 'my camera was stolen on the train .',\n",
       " \"i 'm just a plain office worker .\",\n",
       " \"this sentence does n't make sense .\",\n",
       " \"there 's no need to speak so loud .\",\n",
       " 'it is going to rain very soon .',\n",
       " 'his memory never ceases to astonish me .',\n",
       " \"i do n't want tom seeing this .\",\n",
       " 'as long as you are here , we might as well begin .',\n",
       " 'do you have an extra english dictionary by any chance ?',\n",
       " 'will you tell me how to get to shinjuku ?',\n",
       " 'i can cook .',\n",
       " 'you have to get this work finished by noon .',\n",
       " 'she laid the work on him .',\n",
       " 'my uncle gave me a camera .',\n",
       " 'i can read without glasses .',\n",
       " 'can i get you something to drink ?',\n",
       " 'do you have school on saturdays ?',\n",
       " \"i do n't know when she got married .\",\n",
       " 'do you want something to eat ?',\n",
       " 'mary likes milk very much .',\n",
       " \"he did n't come to the last meeting .\",\n",
       " 'we lock the door at night .',\n",
       " 'everyone is talking about tom .',\n",
       " \"why do you think tom does n't like it ?\",\n",
       " 'we have no electricity .',\n",
       " 'they broke into the jewelry shop .',\n",
       " 'should tom be worried ?',\n",
       " 'people have two legs .',\n",
       " \"i could n't find his house .\",\n",
       " 'who is that old man ?',\n",
       " 'there are more clouds today than yesterday .',\n",
       " \"that 's a good idea .\",\n",
       " \"i 'm thinking of going abroad next year .\",\n",
       " 'we have to turn in our reports by the end of this month .',\n",
       " 'he wanted to get his shirts washed .',\n",
       " 'i caught a cold two days ago .',\n",
       " \"i do n't think that he 's honest .\",\n",
       " \"i 'm clearly missing something here .\",\n",
       " 'there is no knowing what he will do next .',\n",
       " \"it 's awfully hot today .\",\n",
       " 'have there been any changes ?',\n",
       " 'which of the composers do you like best ?',\n",
       " 'life has been very hard .',\n",
       " \"why do n't you eat vegetables ?\",\n",
       " 'water is important for people .',\n",
       " 'where do you live now ?',\n",
       " 'i am very concerned about his health .',\n",
       " 'we played basketball in the gym .',\n",
       " 'i saw more than tom knows .',\n",
       " \"i 've known her for a long time .\",\n",
       " \"what 're your plans for the weekend ?\",\n",
       " \"i have n't seen him for years .\",\n",
       " 'my driving instructor says i should be more patient .',\n",
       " 'she went down to the fifth floor .',\n",
       " \"he was disappointed that things did n't turn out as he 'd hoped .\",\n",
       " 'it is the things that we do not possess which seem to us most desirable .',\n",
       " 'i had my brother repair my bicycle .',\n",
       " 'i wish i could help you .',\n",
       " 'could we have a table outside ?',\n",
       " 'can you lend me some money ?',\n",
       " \"i 've caught a bad cold .\",\n",
       " 'tom encouraged his son to study french .',\n",
       " 'pardon me , but that is my racket .',\n",
       " \"i did n't go to school yesterday .\",\n",
       " 'a dolphin is a mammal .',\n",
       " 'how about having dinner together ?',\n",
       " 'all i really want to do is talk to tom .',\n",
       " \"i 'd like three of these .\",\n",
       " \"it 's not a road , but a path .\",\n",
       " 'we managed to get some foreign stamps .',\n",
       " \"you 're one of my best friends .\",\n",
       " 'the building has 20 floors .',\n",
       " 'she would often go to the theater when she was in london .',\n",
       " 'father makes sure that all the lights are off before he goes to bed .',\n",
       " 'the police officers arrested the burglar .',\n",
       " 'all subscriptions must be paid before the end of this year .',\n",
       " 'swimming is good for your health .',\n",
       " 'my business has at last gotten on the right track .',\n",
       " 'he has been sick for a week .',\n",
       " 'he is the same age as me .',\n",
       " 'my father was no less affectionate and tender to me than my mother was .',\n",
       " 'would you leave the door open , please ?',\n",
       " \"tom did n't know what mary was talking about .\",\n",
       " 'that is rather unexpected .',\n",
       " 'tom is about to fall asleep .',\n",
       " 'if you need anything , let me know .',\n",
       " \"they 're digging a hole .\",\n",
       " 'i lost my money .',\n",
       " 'i tried not to wake you up .',\n",
       " 'he thinks he knows everything .',\n",
       " 'my grandfather is very healthy .',\n",
       " 'tom drank his orange juice .',\n",
       " 'he went to some place or other .',\n",
       " 'how long were you in jail ?',\n",
       " \"i still do n't understand what 's happening .\",\n",
       " 'i was shy .',\n",
       " \"tom knows we are n't happy .\",\n",
       " \"i 'm at home .\",\n",
       " 'i was born on october 10th , 1972 .',\n",
       " 'would you like another apple ?',\n",
       " \"i 'd rather go swimming .\",\n",
       " 'they are having a chat .',\n",
       " 'he said that you had better go .',\n",
       " 'the monkey fell from the tree .',\n",
       " 'i hate you .',\n",
       " 'my city is fifty kilometres from the capital .',\n",
       " 'all that i know is that he gave up the plan .',\n",
       " 'the birds were flying in a group .',\n",
       " 'mary has nice legs .',\n",
       " 'why are you alone ?',\n",
       " 'because of heavy snow , the plane from beijing arrived 20 minutes late .',\n",
       " 'this might not be a genuine diamond .',\n",
       " 'tom misses boston .',\n",
       " 'is there a timetable ?',\n",
       " 'it is by no means certain .',\n",
       " 'it is impossible to live without water .',\n",
       " 'i give up .',\n",
       " 'the telephone rang a few minutes later .',\n",
       " 'we have four french classes a week .',\n",
       " 'she translated it word for word .',\n",
       " 'nobody wants to touch this .',\n",
       " \"i should 've brought my camera .\",\n",
       " 'stir the soup .',\n",
       " 'he painted a picture of roses .',\n",
       " 'get them before they get us .',\n",
       " 'please speak slowly .',\n",
       " 'i dreamt about you .',\n",
       " 'i ordered those books from germany .',\n",
       " 'tom had no reason to be angry .',\n",
       " 'please keep an eye on my suitcase .',\n",
       " \"she 's eating an apple .\",\n",
       " 'are both tom and mary canadians ?',\n",
       " \"there 's only one window in my room .\",\n",
       " \"there 's nothing i can do about it .\",\n",
       " 'it was impossible to find an answer .',\n",
       " \"it 's the right thing to do .\",\n",
       " 'she spent all afternoon cooking .',\n",
       " 'come if you can .',\n",
       " 'shame on you !',\n",
       " 'would you like some more tea ?',\n",
       " 'we got to be friends .',\n",
       " \"i 'm glad to see you again .\",\n",
       " 'let me know the result as soon as you can .',\n",
       " 'that factory makes toys .',\n",
       " \"no one 's stopping you .\",\n",
       " 'i was impressed with her work .',\n",
       " 'tom wanted to say goodbye .',\n",
       " 'would you like to have a drink before dinner ?',\n",
       " 'my baby began crying , asking for milk .',\n",
       " \"sooner or later , we 'll know the truth .\",\n",
       " \"she 's tom 's sister .\",\n",
       " \"tom 's japanese is improving little by little .\",\n",
       " 'the family is watching a movie together .',\n",
       " 'she made cookies for the children .',\n",
       " 'have you taken your medicine yet ?',\n",
       " 'could you write it down , please ?',\n",
       " \"it 's absolutely impossible for me to go on like this .\",\n",
       " 'you should see a doctor .',\n",
       " 'these shoes are too big for me .',\n",
       " \"do n't tell anyone our plan .\",\n",
       " 'you ask me to do the impossible .',\n",
       " 'is bungee jumping frightening or fun ?',\n",
       " \"let 's go and see as many things as we can .\",\n",
       " 'this camera was made in germany .',\n",
       " 'i will take you for a swim .',\n",
       " 'did you go to school yesterday ?',\n",
       " 'he lives in a cozy little house .',\n",
       " 'my job is to wash dishes .',\n",
       " \"cats do n't eat bananas .\",\n",
       " \"i 'm not sure what 's going on .\",\n",
       " \"who 's that woman standing over there ?\",\n",
       " \"tom broke into mary 's hotel room .\",\n",
       " 'i helped him with his homework .',\n",
       " \"i 'm looking for some regular work .\",\n",
       " 'he told the students to be quiet .',\n",
       " \"i do n't want to eat .\",\n",
       " \"i ca n't see you .\",\n",
       " \"he 's my younger brother .\",\n",
       " 'i have nothing in common with her .',\n",
       " 'a beautiful woman was seated one row in front of me .',\n",
       " 'i need to go to work .',\n",
       " \"i 'm not guilty .\",\n",
       " 'we are in the era of atomic energy .',\n",
       " 'you could run .',\n",
       " 'where in austria did you grow up ?',\n",
       " \"you did n't need to bring your umbrella .\",\n",
       " \"i 'm new here .\",\n",
       " 'the butterfly flew away .',\n",
       " \"do n't you ever clean your room ?\",\n",
       " \"we do n't trust tom .\",\n",
       " 'i have no idea what to wear .',\n",
       " 'we should have taken the schedule into consideration .',\n",
       " 'shakespeare is too hard to read .',\n",
       " 'i ate the apple .',\n",
       " 'i studied english for four years with a native speaker .',\n",
       " 'my mother almost never complains .',\n",
       " 'what did you name your son ?',\n",
       " \"i 'm glad you could come to the party .\",\n",
       " 'i agree with you to some extent .',\n",
       " 'have you eaten lunch ?',\n",
       " \"you 're too drunk to drive .\",\n",
       " \"`` do you think he will come ? '' `` i hope not . ''\",\n",
       " \"you 'll soon get used to speaking in public .\",\n",
       " 'we found the front door locked .',\n",
       " \"the bike parked over there is my brother 's .\",\n",
       " 'the history class starts at nine .',\n",
       " \"this time it 's different .\",\n",
       " \"do n't worry about me .\",\n",
       " \"i 'm having some problems compiling this software .\",\n",
       " 'i have not yet finished my supper .',\n",
       " 'nothing is more valuable than friendship .',\n",
       " 'it is up to you to decide whether we will go there or not .',\n",
       " 'he is getting better day by day .',\n",
       " 'please pass me the butter .',\n",
       " 'i thought pizza was what you wanted to eat .',\n",
       " \"i 've done enough already .\",\n",
       " 'i agree with some of your opinions .',\n",
       " 'i wrote down the address for you .',\n",
       " 'i made a long journey last year .',\n",
       " 'tom knows you better than he knows anyone else .',\n",
       " \"i 'm going out for a while .\",\n",
       " 'is it right for a doctor to decide when someone should die ?',\n",
       " 'tom is a hick .',\n",
       " 'tom is very angry now .',\n",
       " \"do n't throw away this magazine . i have n't read it yet .\",\n",
       " 'his store is always crowded with customers .',\n",
       " 'i should tell tom what i have to do .',\n",
       " 'how many chinese characters can you write ?',\n",
       " 'what time does your plane leave ?',\n",
       " 'i left my briefcase on the bus .',\n",
       " 'never forget to put out the fire .',\n",
       " \"we 'll be ready in time .\",\n",
       " 'i like flowers .',\n",
       " 'the teacher made him stay after school .',\n",
       " \"i 'm amazed at your audacity .\",\n",
       " 'tom certainly is an eloquent speaker .',\n",
       " 'i belong to the drama club .',\n",
       " 'she was crying as she answered .',\n",
       " 'the well ran dry .',\n",
       " 'we have to have a plan .',\n",
       " 'does he know that you love him ?',\n",
       " 'tom seems to know how .',\n",
       " 'they are all innocent children .',\n",
       " 'she warmed herself by the fire .',\n",
       " \"that 's not a cat . that 's a dog .\",\n",
       " 'i saw them walking arm in arm .',\n",
       " 'please feed the dog every day .',\n",
       " 'mathematics is an easy subject for me .',\n",
       " \"i 'm considering studying in america next year .\",\n",
       " \"tom did n't tell me the truth .\",\n",
       " \"i 've decided to go a little further .\",\n",
       " 'since he is old , this task must be difficult for him .',\n",
       " 'i will pay you the money tomorrow .',\n",
       " 'how long would it take ?',\n",
       " \"i 'm good at tennis .\",\n",
       " 'tom shut his eyes .',\n",
       " 'the bridge is being repainted .',\n",
       " 'what would you like ?',\n",
       " 'he decided to marry her .',\n",
       " \"i 'm looking for my contact lens .\",\n",
       " 'i can take care of myself .',\n",
       " 'there is a castle in the background of the picture .',\n",
       " 'they kissed each other .',\n",
       " 'tom is always daydreaming .',\n",
       " \"i 'll be at home all day tomorrow .\",\n",
       " 'what are you two arguing about ?',\n",
       " 'i think i understood .',\n",
       " 'will you have time to have lunch with me ?',\n",
       " 'he heard the news on the radio .',\n",
       " \"i 'm crazy about you .\",\n",
       " 'tom walked out .',\n",
       " 'he continued working all day .',\n",
       " 'nothing is worse than war .',\n",
       " 'politics leaves him cold .',\n",
       " 'can i make a reservation for golf ?',\n",
       " 'i looked for him in the supermarket .',\n",
       " 'tom told me that i should do that .',\n",
       " 'tom asked mary some questions , but she refused to answer them .',\n",
       " 'please close the door .',\n",
       " \"i really did n't even notice .\",\n",
       " 'the meeting was called off .',\n",
       " \"i 'm really sorry to hear that .\",\n",
       " 'a true gentleman never betrays his friends .',\n",
       " 'i thought tom would be worried .',\n",
       " \"you 've made a mistake .\",\n",
       " 'i am used to hearing the train pass by my house .',\n",
       " 'i gave them clothing and some food .',\n",
       " 'he is good at riding a horse .',\n",
       " 'i would like to go with you .',\n",
       " 'she used to play tennis on sunday .',\n",
       " \"i do n't worry about the risk .\",\n",
       " 'he caught them stealing apples .',\n",
       " 'winds from the sea are moist .',\n",
       " 'she was very happy with my gift .',\n",
       " 'this desk is better than that one .',\n",
       " 'tom is very talented .',\n",
       " \"i 've lost my pen .\",\n",
       " 'how are we going to pay for that ?',\n",
       " 'i remember writing to her .',\n",
       " \"do n't you miss anything ?\",\n",
       " 'you know i would never do that kind of thing .',\n",
       " 'i do not agree with you at all .',\n",
       " 'it is hard for me to believe this .',\n",
       " 'have you ever seen such a beautiful sunset ?',\n",
       " 'i would like mine rare .',\n",
       " 'this has nothing to do with you .',\n",
       " 'she has a daughter who is a pianist .',\n",
       " 'this letter is wrongly addressed .',\n",
       " 'this dress is a good bargain .',\n",
       " 'i hear that you play the piano .',\n",
       " 'many friends saw him off .',\n",
       " 'where is the pain ?',\n",
       " 'he rescued the child from the fire .',\n",
       " 'is it large enough ?',\n",
       " 'she has a flower in her hand .',\n",
       " 'we can begin .',\n",
       " 'it makes no sense whatsoever .',\n",
       " 'all you have to do is to take care of yourself .',\n",
       " 'can you eat raw oysters ?',\n",
       " 'which book are you reading ?',\n",
       " \"you used to smoke , did n't you ?\",\n",
       " \"you should n't have done it .\",\n",
       " 'mary is studying in her room .',\n",
       " 'i caught him stealing the money .',\n",
       " 'for that reason , he lost his job .',\n",
       " 'a persian cat was sleeping under the table .',\n",
       " \"`` he used to love me , '' she answered sadly .\",\n",
       " 'could you possibly suggest a way to solve the problem ?',\n",
       " \"it 's amazing .\",\n",
       " \"i 'm sorry , but it 's just not possible .\",\n",
       " 'he knows how to make a radio .',\n",
       " \"tom needs mary 's help .\",\n",
       " \"i 'm very hungry .\",\n",
       " 'you should have done it earlier . it can not be helped now .',\n",
       " 'between you and me , i think our boss is stupid .',\n",
       " 'how high can you jump ?',\n",
       " 'tom sat beside mary .',\n",
       " 'why do you need change ?',\n",
       " 'i like dogs and my sister likes cats .',\n",
       " 'stop that !',\n",
       " 'i like the cold .',\n",
       " 'tom was fired .',\n",
       " 'i ate breakfast at eight .',\n",
       " 'he was laughed at in public .',\n",
       " 'i have a dim memory of my grandmother .',\n",
       " 'the answer misses the point .',\n",
       " \"tomorrow i 'm going to shanghai .\",\n",
       " 'wherever you go , i will follow .',\n",
       " 'she finally reached the hotel .',\n",
       " \"i know him , but i do n't know his name .\",\n",
       " 'i study for 3 hours every day .',\n",
       " 'they have been here since 1989 .',\n",
       " \"tom does n't want our help .\",\n",
       " \"i ca n't explain it now .\",\n",
       " \"he stayed at his aunt 's house .\",\n",
       " 'thank you ever so much .',\n",
       " \"tom did n't tell me much about it .\",\n",
       " \"it 's difficult to understand his theory .\",\n",
       " 'stay with us .',\n",
       " 'they go to church on sunday .',\n",
       " 'you can rely upon his being punctual .',\n",
       " 'i am getting off at the next station .',\n",
       " 'tom asked mary to help .',\n",
       " 'playing tennis is a lot of fun .',\n",
       " \"`` how do you feel ? '' he asked .\",\n",
       " 'kuala lumpur is worth visiting .',\n",
       " 'if i had taken that plane , i would be dead now .',\n",
       " 'wait for me .',\n",
       " 'the sky was clear when i left home .',\n",
       " \"where 's the nearest train station ?\",\n",
       " \"i did n't meet anyone there .\",\n",
       " 'he is to blame for the failure .',\n",
       " \"i 'd like to go .\",\n",
       " 'when did you learn to swim ?',\n",
       " 'russia is facing great financial difficulties .',\n",
       " 'that gentleman usually wears a hat .',\n",
       " 'follow him .',\n",
       " 'their trip was postponed because of the rain .',\n",
       " 'why were you late this morning ?',\n",
       " 'we had a good time playing cards .',\n",
       " 'i began playing golf years ago .',\n",
       " 'you ought not to make fun of them .',\n",
       " 'why did you come here this morning ?',\n",
       " \"i think you 're sitting in my seat .\",\n",
       " 'there is a television in the room .',\n",
       " 'she can speak three languages .',\n",
       " \"there 's always someone talking .\",\n",
       " 'tom passed away on october 20 , 2013 .',\n",
       " 'say it in english .',\n",
       " 'this is the dictionary i use every day .',\n",
       " 'she likes to go to the library .',\n",
       " 'back off .',\n",
       " 'she went out to buy some food .',\n",
       " \"you lied to me , did n't you ?\",\n",
       " 'there are many hotels downtown .',\n",
       " \"i 'm good at soccer .\",\n",
       " 'my dog goes everywhere with me .',\n",
       " 'he accepted her gift .',\n",
       " 'some people pursue only pleasure .',\n",
       " \"i do n't have any money on me .\",\n",
       " 'have you done all your homework ?',\n",
       " 'whose glass is this ?',\n",
       " 'i like eating fruit .',\n",
       " \"it 's later than you think .\",\n",
       " \"what do n't you want us to see ?\",\n",
       " \"i 'm really sorry about what happened last night .\",\n",
       " 'they are at lunch .',\n",
       " 'their goods are of the highest quality .',\n",
       " \"who 's to blame for the accident ?\",\n",
       " 'hunger is the best sauce .',\n",
       " 'i managed to catch the last train .',\n",
       " 'did you enjoy yourself at the party last night ?',\n",
       " \"it 's just a cold .\",\n",
       " 'judging from the look of the sky , it is likely to rain .',\n",
       " 'i want this camera .',\n",
       " \"this clock is n't working .\",\n",
       " 'the situation is worse than i thought .',\n",
       " 'we just moved in .',\n",
       " \"i 've run out of money .\",\n",
       " \"do n't begin without me .\",\n",
       " 'i am afraid of dogs .',\n",
       " \"the box was n't empty .\",\n",
       " \"today i 'm feeling melancholic .\",\n",
       " 'the buildings shook in the earthquake .',\n",
       " 'the girl is small for her age .',\n",
       " 'although old , he is still very much alive .',\n",
       " 'can you solve this puzzle ?',\n",
       " \"come on , let 's go .\",\n",
       " 'how did you get to know mary ?',\n",
       " 'i gave tom one of those .',\n",
       " 'are you tired ?',\n",
       " \"you should n't have done that .\",\n",
       " 'children love playing on the beach .',\n",
       " 'he has been sick since last sunday .',\n",
       " 'tom wanted to be a better teacher .',\n",
       " \"she did n't want to speak to anyone .\",\n",
       " 'they live across the river .',\n",
       " \"i do n't feel like eating anything today .\",\n",
       " 'my aunt brought me some flowers .',\n",
       " 'we can deliver it this evening .',\n",
       " \"if we knew what we were doing , it would n't be called research , would it ?\",\n",
       " 'i am too busy to go .',\n",
       " 'i love watching talk shows .',\n",
       " 'i think i can run as fast as tom .',\n",
       " 'do you study at a private school ?',\n",
       " \"she does n't have the ticket .\",\n",
       " \"i could n't leave tom .\",\n",
       " 'my daughter is in her late teens .',\n",
       " 'i wish we had won the game .',\n",
       " \"i do n't want to wait that long .\",\n",
       " 'do you have any siblings ?',\n",
       " 'i told tom i was ok .',\n",
       " \"i 'd better get back home .\",\n",
       " 'i finished writing the letter by noon .',\n",
       " 'please answer this question for me .',\n",
       " 'are you listening ?',\n",
       " 'tom wrote two books .',\n",
       " 'tom is waiting in the living room .',\n",
       " 'would you like to eat something ?',\n",
       " 'the victim died at a hospital in boston .',\n",
       " 'had i known about it , i would have told you .',\n",
       " 'my room is a pigsty .',\n",
       " 'you may use my new car .',\n",
       " 'tom seems to hardly ever get his homework done on time .',\n",
       " 'my dictionary is very useful .',\n",
       " 'i caught the man stealing the money .',\n",
       " 'do you need to buy anything ?',\n",
       " 'we had a good time playing chess .',\n",
       " \"my teeth are n't as white as i 'd like them to be .\",\n",
       " 'she felt herself being lifted up .',\n",
       " 'the hunter shot the fox dead .',\n",
       " 'be kind .',\n",
       " 'now i need you to leave .',\n",
       " 'i have seen the film before .',\n",
       " \"she 's a girl , but she 's brave .\",\n",
       " 'he must be over sixty .',\n",
       " 'he sat there with his legs crossed .',\n",
       " \"he does n't always come late .\",\n",
       " 'i am going to play tennis .',\n",
       " \"they did n't come here , did they ?\",\n",
       " 'flowers bloom .',\n",
       " \"i 've been here many times before .\",\n",
       " 'i will show you some pictures .',\n",
       " \"i 'm very glad to see you again .\",\n",
       " \"it 's all greek to me .\",\n",
       " 'my boss assigned the hard job to me .',\n",
       " 'nobody should be worried .',\n",
       " 'did you get your wish ?',\n",
       " 'is it ok for me to come in now ?',\n",
       " 'the people of london are very proud of this bridge .',\n",
       " 'he stopped reading the newspaper .',\n",
       " \"people usually do n't like what they do n't understand .\",\n",
       " 'tom likes it hot .',\n",
       " 'it was fun playing in the park .',\n",
       " 'i am counting on you .',\n",
       " \"the magician had the children 's attention .\",\n",
       " 'you have to make a reservation .',\n",
       " 'which is heavier , lead or gold ?',\n",
       " 'dentists take x-rays to examine your teeth .',\n",
       " 'she fell down the ladder .',\n",
       " 'i know how to solve the problem .',\n",
       " 'he convinced me of his innocence .',\n",
       " 'do you mind turning on the tv ?',\n",
       " 'my sister has made remarkable progress in english .',\n",
       " 'they waited for him for hours .',\n",
       " \"you 're so bad .\",\n",
       " \"i 'm short of cash at the moment .\",\n",
       " 'he earns his living by writing .',\n",
       " 'i agreed with her .',\n",
       " \"it was n't interesting at all .\",\n",
       " \"i 'm not as stupid as you think i am .\",\n",
       " 'war may break out at any moment .',\n",
       " 'these are pens .',\n",
       " 'what season do you like the best ?',\n",
       " 'the problem is that solar energy costs too much .',\n",
       " 'he failed to answer the letter .',\n",
       " 'it is rude to stare at strangers .',\n",
       " \"i 'll teach you how to drive a car .\",\n",
       " 'all the furniture was covered with dust .',\n",
       " 'my son is taller than i am .',\n",
       " 'did you play baseball yesterday ?',\n",
       " 'above all , be patient .',\n",
       " 'i had a chance to travel abroad .',\n",
       " 'is the room big enough for you ?',\n",
       " 'fear quickly turned into anger .',\n",
       " 'we graduate from high school at eighteen .',\n",
       " 'she asked us several questions .',\n",
       " 'stop putting off finding a job .',\n",
       " \"it is an hour 's drive from here to there .\",\n",
       " \"she is n't at home now .\",\n",
       " 'i was happy to see him .',\n",
       " \"i do n't like to swim in the pool .\",\n",
       " 'he froze with fear when he saw the snake .',\n",
       " 'tom found me a taxi .',\n",
       " 'a capital letter is used at the beginning of a sentence .',\n",
       " \"we ca n't talk here .\",\n",
       " 'the police will put you behind bars for twenty years .',\n",
       " 'the clock has stopped .',\n",
       " 'where do you want to go ?',\n",
       " 'the dog came running to me .',\n",
       " 'now , wait a second .',\n",
       " 'the picture looks better at a distance .',\n",
       " 'may we swim here ?',\n",
       " \"she does n't like to sing sad songs .\",\n",
       " 'texting while driving is dangerous .',\n",
       " 'are you busy at work ?',\n",
       " 'they were listening to the radio .',\n",
       " 'are you planning to help them ?',\n",
       " \"i 'm really sorry . i seem to have lost your umbrella .\",\n",
       " 'i study at school .',\n",
       " 'no one can keep me from going there .',\n",
       " 'he will be a good doctor .',\n",
       " ...]"
      ]
     },
     "execution_count": 54,
     "metadata": {},
     "output_type": "execute_result"
    }
   ],
   "source": [
    "myPreData.lang1_senText_list"
   ]
  },
  {
   "cell_type": "code",
   "execution_count": 47,
   "metadata": {
    "ExecuteTime": {
     "end_time": "2021-02-06T10:26:07.880313Z",
     "start_time": "2021-02-06T10:26:07.866125Z"
    }
   },
   "outputs": [
    {
     "data": {
      "text/plain": [
       "(26, 31)"
      ]
     },
     "execution_count": 47,
     "metadata": {},
     "output_type": "execute_result"
    }
   ],
   "source": [
    "max([len(senIndex) for senIndex in myPreData.lang2_senIndex_list]), max([len(senIndex) for senIndex in myPreData.lang1_senIndex_list])\n"
   ]
  },
  {
   "cell_type": "markdown",
   "metadata": {},
   "source": [
    "## dataset"
   ]
  },
  {
   "cell_type": "code",
   "execution_count": 5,
   "metadata": {
    "ExecuteTime": {
     "end_time": "2021-02-06T10:10:09.472219Z",
     "start_time": "2021-02-06T10:10:09.463421Z"
    },
    "collapsed": true
   },
   "outputs": [],
   "source": [
    "class MyDataset(data.Dataset):\n",
    "    def __init__(self, filename='training.txt'):\n",
    "        self.setup_myPreData(filename)\n",
    "        \n",
    "    def __len__(self):\n",
    "        return len(self.myPreData.txt)\n",
    "        \n",
    "    def __getitem__(self, index):\n",
    "        lang1_senIndex = self.myPreData.lang1_senIndex_list[index]\n",
    "        lang2_senIndex = self.myPreData.lang2_senIndex_list[index]\n",
    "        x = self.get_tensor(lang1_senIndex).view(-1, 1)\n",
    "        y = self.get_tensor(lang2_senIndex).view(-1, 1)\n",
    "        return x, y\n",
    "    \n",
    "    def get_tensor(self, arr):\n",
    "        arr = torch.LongTensor(arr) \n",
    "        return arr\n",
    "    \n",
    "    def setup_myPreData(self, filename='training.txt'):\n",
    "        self.myPreData = MyPreData()\n",
    "        self.myPreData.setup_preData(filename)\n",
    "        \n",
    "        \n",
    "        "
   ]
  },
  {
   "cell_type": "code",
   "execution_count": null,
   "metadata": {
    "ExecuteTime": {
     "end_time": "2021-02-06T03:57:00.141686Z",
     "start_time": "2021-02-06T03:56:59.646945Z"
    },
    "collapsed": true,
    "scrolled": true
   },
   "outputs": [],
   "source": [
    "myDataset = MyDataset(filename='training.txt')"
   ]
  },
  {
   "cell_type": "code",
   "execution_count": null,
   "metadata": {
    "ExecuteTime": {
     "end_time": "2021-02-06T03:57:00.148960Z",
     "start_time": "2021-02-06T03:57:00.144066Z"
    },
    "collapsed": true
   },
   "outputs": [],
   "source": [
    "len(myDataset)"
   ]
  },
  {
   "cell_type": "code",
   "execution_count": null,
   "metadata": {
    "ExecuteTime": {
     "end_time": "2021-02-06T04:00:59.370785Z",
     "start_time": "2021-02-06T04:00:59.364187Z"
    },
    "collapsed": true
   },
   "outputs": [],
   "source": [
    "x, y = myDataset[3]\n",
    "len(x)"
   ]
  },
  {
   "cell_type": "code",
   "execution_count": null,
   "metadata": {
    "collapsed": true
   },
   "outputs": [],
   "source": []
  },
  {
   "cell_type": "code",
   "execution_count": null,
   "metadata": {
    "collapsed": true
   },
   "outputs": [],
   "source": []
  },
  {
   "cell_type": "markdown",
   "metadata": {},
   "source": [
    "## dataloader\n",
    "\n",
    "- 長度不一樣不能用dataloader"
   ]
  },
  {
   "cell_type": "code",
   "execution_count": null,
   "metadata": {
    "ExecuteTime": {
     "end_time": "2021-02-06T03:57:24.332091Z",
     "start_time": "2021-02-06T03:57:24.327450Z"
    },
    "collapsed": true
   },
   "outputs": [],
   "source": [
    "# batch_size = 1000\n",
    "# myLoader = data.DataLoader(myDataset, batch_size=batch_size, shuffle=True)"
   ]
  },
  {
   "cell_type": "code",
   "execution_count": null,
   "metadata": {
    "ExecuteTime": {
     "end_time": "2021-02-06T04:01:21.518188Z",
     "start_time": "2021-02-06T04:01:21.513654Z"
    },
    "collapsed": true
   },
   "outputs": [],
   "source": [
    "# batch_number = len(myLoader)\n",
    "# batch_number"
   ]
  },
  {
   "cell_type": "code",
   "execution_count": null,
   "metadata": {
    "ExecuteTime": {
     "end_time": "2021-02-06T03:59:45.929892Z",
     "start_time": "2021-02-06T03:59:45.926992Z"
    },
    "collapsed": true
   },
   "outputs": [],
   "source": [
    "# x, y = next(iter(myLoader))\n",
    "# print(x.shape, y.shape)\n",
    "\n"
   ]
  },
  {
   "cell_type": "code",
   "execution_count": null,
   "metadata": {
    "collapsed": true
   },
   "outputs": [],
   "source": []
  },
  {
   "cell_type": "markdown",
   "metadata": {},
   "source": [
    "# model"
   ]
  },
  {
   "cell_type": "markdown",
   "metadata": {},
   "source": [
    "## encoder"
   ]
  },
  {
   "cell_type": "code",
   "execution_count": 6,
   "metadata": {
    "ExecuteTime": {
     "end_time": "2021-02-06T10:10:13.711821Z",
     "start_time": "2021-02-06T10:10:13.705843Z"
    },
    "collapsed": true
   },
   "outputs": [],
   "source": [
    "class EncoderRNN(nn.Module):\n",
    "    def __init__(self, input_size=10, hidden_size=10):\n",
    "        super(EncoderRNN, self).__init__()\n",
    "        self.hidden_size = hidden_size\n",
    "\n",
    "        self.embedding = nn.Embedding(input_size, hidden_size)\n",
    "        self.gru = nn.GRU(hidden_size, hidden_size)\n",
    "\n",
    "    def forward(self, input, hidden):\n",
    "        #print('input.shape', input.shape)\n",
    "        \n",
    "        x = self.embedding(input) # (1, hidden_size)\n",
    "        #print('self.embedding(input)' ,x.shape)\n",
    "        \n",
    "        x = x.view(1, 1, -1) # (1, 1, hidden_size)\n",
    "        #print('x.view(1, 1, -1)', x.shape)\n",
    "        \n",
    "        output, hidden = self.gru(x, hidden)\n",
    "        return output, hidden\n",
    "\n",
    "    def initHidden(self):\n",
    "        return torch.zeros(1, 1, self.hidden_size, device=device)"
   ]
  },
  {
   "cell_type": "markdown",
   "metadata": {},
   "source": [
    "## decoder"
   ]
  },
  {
   "cell_type": "code",
   "execution_count": 7,
   "metadata": {
    "ExecuteTime": {
     "end_time": "2021-02-06T10:10:15.590183Z",
     "start_time": "2021-02-06T10:10:15.577456Z"
    },
    "collapsed": true
   },
   "outputs": [],
   "source": [
    "class AttnDecoderRNN(nn.Module):\n",
    "    def __init__(self, hidden_size=10, output_size=10, dropout_p=0.1, max_length=10):\n",
    "        super(AttnDecoderRNN, self).__init__()\n",
    "        self.hidden_size = hidden_size\n",
    "        self.output_size = output_size\n",
    "        self.dropout_p = dropout_p\n",
    "        self.max_length = max_length\n",
    "\n",
    "        self.embedding = nn.Embedding(self.output_size, self.hidden_size)\n",
    "        self.attn = nn.Linear(self.hidden_size * 2, self.max_length)\n",
    "        self.attn_combine = nn.Linear(self.hidden_size * 2, self.hidden_size)\n",
    "        self.dropout = nn.Dropout(self.dropout_p)\n",
    "        self.gru = nn.GRU(self.hidden_size, self.hidden_size)\n",
    "        self.out = nn.Linear(self.hidden_size, self.output_size)\n",
    "\n",
    "    def forward(self, input, hidden, encoder_outputs):\n",
    "        embedded = self.embedding(input).view(1, 1, -1)\n",
    "        embedded = self.dropout(embedded)\n",
    "\n",
    "        attn_weights = F.softmax(\n",
    "            self.attn(torch.cat((embedded[0], hidden[0]), 1)), dim=1)\n",
    "        attn_applied = torch.bmm(attn_weights.unsqueeze(0),\n",
    "                                 encoder_outputs.unsqueeze(0))\n",
    "\n",
    "        output = torch.cat((embedded[0], attn_applied[0]), 1)\n",
    "        output = self.attn_combine(output).unsqueeze(0)\n",
    "\n",
    "        output = F.relu(output)\n",
    "        output, hidden = self.gru(output, hidden)\n",
    "\n",
    "        output = F.log_softmax(self.out(output[0]), dim=1)\n",
    "        return output, hidden, attn_weights\n",
    "\n",
    "    def initHidden(self):\n",
    "        return torch.zeros(1, 1, self.hidden_size, device=device)"
   ]
  },
  {
   "cell_type": "code",
   "execution_count": null,
   "metadata": {
    "collapsed": true
   },
   "outputs": [],
   "source": []
  },
  {
   "cell_type": "code",
   "execution_count": null,
   "metadata": {
    "collapsed": true
   },
   "outputs": [],
   "source": []
  },
  {
   "cell_type": "markdown",
   "metadata": {},
   "source": [
    "# process"
   ]
  },
  {
   "cell_type": "markdown",
   "metadata": {
    "collapsed": true
   },
   "source": [
    "## train"
   ]
  },
  {
   "cell_type": "code",
   "execution_count": 8,
   "metadata": {
    "ExecuteTime": {
     "end_time": "2021-02-06T10:10:17.960995Z",
     "start_time": "2021-02-06T10:10:17.931171Z"
    },
    "collapsed": true
   },
   "outputs": [],
   "source": [
    "class TrainProcess:\n",
    "    def __init__(self, device, option):\n",
    "        self.device = device\n",
    "        self.option = option\n",
    "    \n",
    "    def train(self, \n",
    "              input_tensor, \n",
    "              target_tensor, \n",
    "              encoder, \n",
    "              decoder, \n",
    "              encoder_optimizer, \n",
    "              decoder_optimizer, \n",
    "              criterion, \n",
    "              max_length):\n",
    "        \n",
    "        encoder_hidden = encoder.initHidden()\n",
    "\n",
    "        encoder_optimizer.zero_grad()\n",
    "        decoder_optimizer.zero_grad()\n",
    "\n",
    "        input_length = input_tensor.size(0)\n",
    "        target_length = target_tensor.size(0)\n",
    "\n",
    "        encoder_outputs = torch.zeros(max_length, encoder.hidden_size, device=self.device)\n",
    "\n",
    "        loss = 0\n",
    "\n",
    "        for ei in range(input_length):\n",
    "            encoder_output, encoder_hidden = encoder(\n",
    "                input_tensor[ei], encoder_hidden)\n",
    "            encoder_outputs[ei] = encoder_output[0, 0]\n",
    "\n",
    "        SOS_token = 0\n",
    "        decoder_input = torch.tensor([[SOS_token]], device=device)\n",
    "\n",
    "        decoder_hidden = encoder_hidden\n",
    "\n",
    "        use_teacher_forcing = True if random.random() < self.option.teacher_forcing_ratio else False\n",
    "\n",
    "        if use_teacher_forcing:\n",
    "            # Teacher forcing: Feed the target as the next input\n",
    "            for di in range(target_length):\n",
    "                decoder_output, decoder_hidden, decoder_attention = decoder(\n",
    "                    decoder_input, decoder_hidden, encoder_outputs)\n",
    "                loss += criterion(decoder_output, target_tensor[di])\n",
    "                decoder_input = target_tensor[di]  # Teacher forcing\n",
    "\n",
    "        else:\n",
    "            # Without teacher forcing: use its own predictions as the next input\n",
    "            EOS_token = 1 #!\n",
    "            for di in range(target_length):\n",
    "                decoder_output, decoder_hidden, decoder_attention = decoder(\n",
    "                    decoder_input, decoder_hidden, encoder_outputs)\n",
    "                topv, topi = decoder_output.topk(1)\n",
    "                decoder_input = topi.squeeze().detach()  # detach from history as input\n",
    "\n",
    "                loss += criterion(decoder_output, target_tensor[di])\n",
    "                \n",
    "                if decoder_input.item() == EOS_token:\n",
    "                    break\n",
    "\n",
    "        loss.backward()\n",
    "\n",
    "        encoder_optimizer.step()\n",
    "        decoder_optimizer.step()\n",
    "\n",
    "        return loss.item() / target_length \n",
    "    \n",
    "    def trainIters(self, \n",
    "                   myDataset, \n",
    "                   encoder, \n",
    "                   decoder, \n",
    "                   utils, \n",
    "                   n_iters=10000, \n",
    "                   print_every=1000, \n",
    "                   plot_every=100, \n",
    "                   learning_rate=0.01):\n",
    "        \n",
    "        start = time.time()\n",
    "        plot_losses = []\n",
    "        print_loss_total = 0  # Reset every print_every\n",
    "        plot_loss_total = 0  # Reset every plot_every\n",
    "\n",
    "        encoder_optimizer = optim.SGD(encoder.parameters(), lr=learning_rate)\n",
    "        decoder_optimizer = optim.SGD(decoder.parameters(), lr=learning_rate)\n",
    "        criterion = nn.NLLLoss()\n",
    "        \n",
    "        for iter in range(1, n_iters + 1):\n",
    "            i = random.randint(0, len(myDataset)-1)\n",
    "            training_pair = myDataset[i]\n",
    "            input_tensor = training_pair[0]\n",
    "            target_tensor = training_pair[1]\n",
    "            \n",
    "            input_tensor = input_tensor.to(device) #!\n",
    "            target_tensor = target_tensor.to(device)\n",
    "\n",
    "            loss = self.train(input_tensor, \n",
    "                              target_tensor, \n",
    "                              encoder, \n",
    "                              decoder, \n",
    "                              encoder_optimizer, \n",
    "                              decoder_optimizer, \n",
    "                              criterion, \n",
    "                              self.option.max_length)\n",
    "            \n",
    "            print_loss_total += loss\n",
    "            plot_loss_total += loss\n",
    "\n",
    "            if iter % print_every == 0:\n",
    "                print_loss_avg = print_loss_total / print_every\n",
    "                print_loss_total = 0\n",
    "                print('%s (%d %d%%) %.4f' % (utils.timeSince(start, iter / n_iters),\n",
    "                                             iter, iter / n_iters * 100, print_loss_avg))\n",
    "\n",
    "            if iter % plot_every == 0:\n",
    "                plot_loss_avg = plot_loss_total / plot_every\n",
    "                plot_losses.append(plot_loss_avg)\n",
    "                plot_loss_total = 0\n",
    "\n",
    "        utils.showPlot(plot_losses)"
   ]
  },
  {
   "cell_type": "code",
   "execution_count": null,
   "metadata": {
    "collapsed": true
   },
   "outputs": [],
   "source": []
  },
  {
   "cell_type": "markdown",
   "metadata": {
    "collapsed": true
   },
   "source": [
    "## test"
   ]
  },
  {
   "cell_type": "code",
   "execution_count": 9,
   "metadata": {
    "ExecuteTime": {
     "end_time": "2021-02-06T10:10:22.027638Z",
     "start_time": "2021-02-06T10:10:22.007672Z"
    },
    "collapsed": true
   },
   "outputs": [],
   "source": [
    "class TestProcess:\n",
    "    def __init__(self, device, option):\n",
    "        self.device = device\n",
    "        self.option = option\n",
    "        \n",
    "    def evaluate(self, encoder, decoder, input_tensor, output_lang, max_length):\n",
    "        with torch.no_grad():\n",
    "            input_tensor = input_tensor.to(device) #!\n",
    "            input_length = input_tensor.size()[0]\n",
    "            encoder_hidden = encoder.initHidden()\n",
    "\n",
    "            encoder_outputs = torch.zeros(max_length, encoder.hidden_size, device=self.device)\n",
    "\n",
    "            for ei in range(input_length):\n",
    "                encoder_output, encoder_hidden = encoder(input_tensor[ei],\n",
    "                                                         encoder_hidden)\n",
    "                encoder_outputs[ei] += encoder_output[0, 0]\n",
    "\n",
    "            SOS_token = 0\n",
    "            decoder_input = torch.tensor([[SOS_token]], device=device)  # SOS\n",
    "\n",
    "            decoder_hidden = encoder_hidden\n",
    "\n",
    "            decoded_words = []\n",
    "            decoder_attentions = torch.zeros(max_length, max_length)\n",
    "\n",
    "            EOS_token = 1\n",
    "            for di in range(max_length):\n",
    "                decoder_output, decoder_hidden, decoder_attention = decoder(\n",
    "                    decoder_input, decoder_hidden, encoder_outputs)\n",
    "                decoder_attentions[di] = decoder_attention.data\n",
    "                topv, topi = decoder_output.data.topk(1)\n",
    "                if topi.item() == EOS_token:\n",
    "                    decoded_words.append('<EOS>')\n",
    "                    break\n",
    "                else:\n",
    "                    decoded_words.append(output_lang.index2word[topi.item()])\n",
    "\n",
    "                decoder_input = topi.squeeze().detach()\n",
    "\n",
    "            return decoded_words, decoder_attentions[:di + 1]\n",
    "        \n",
    "    def evaluateRandomly(self, myDataset, encoder, decoder, n=10):\n",
    "        for i in range(n):\n",
    "            j = random.randint(0, len(myDataset)-1)\n",
    "            input_tensor, output_tensor = myDataset[j]\n",
    "            lang1 = myDataset.myPreData.lang1\n",
    "            lang2 = myDataset.myPreData.lang2\n",
    "            \n",
    "            x = [lang1.index2word[int(index)] for index in input_tensor]\n",
    "            y = [lang2.index2word[int(index)] for index in output_tensor]\n",
    "            print('>', ' '.join(x))\n",
    "            print('=', ' '.join(y))\n",
    "            output_words, attentions = self.evaluate(encoder, decoder, input_tensor, lang2, self.option.max_length)\n",
    "            output_sentence = ' '.join(output_words)\n",
    "            print('<', output_sentence)\n",
    "            print('')"
   ]
  },
  {
   "cell_type": "code",
   "execution_count": null,
   "metadata": {
    "collapsed": true
   },
   "outputs": [],
   "source": []
  },
  {
   "cell_type": "markdown",
   "metadata": {
    "collapsed": true
   },
   "source": [
    "## run"
   ]
  },
  {
   "cell_type": "code",
   "execution_count": 10,
   "metadata": {
    "ExecuteTime": {
     "end_time": "2021-02-06T10:10:24.816949Z",
     "start_time": "2021-02-06T10:10:24.345952Z"
    },
    "collapsed": true
   },
   "outputs": [],
   "source": [
    "utils = Utils()\n",
    "myDataset = MyDataset(filename='training.txt')\n",
    "option = Option(n_iters=100000)"
   ]
  },
  {
   "cell_type": "code",
   "execution_count": null,
   "metadata": {
    "ExecuteTime": {
     "end_time": "2021-02-06T07:22:37.577261Z",
     "start_time": "2021-02-06T07:22:37.575128Z"
    },
    "collapsed": true
   },
   "outputs": [],
   "source": [
    "# x, y = myDataset[0]\n",
    "# x.shape, y.shape"
   ]
  },
  {
   "cell_type": "code",
   "execution_count": 11,
   "metadata": {
    "ExecuteTime": {
     "end_time": "2021-02-06T10:10:43.001569Z",
     "start_time": "2021-02-06T10:10:26.786666Z"
    },
    "collapsed": true
   },
   "outputs": [],
   "source": [
    "encoder1 = EncoderRNN(\n",
    "    input_size=myDataset.myPreData.lang1.n_words, \n",
    "    hidden_size=option.hidden_size\n",
    ")\n",
    "attn_decoder1 = AttnDecoderRNN(\n",
    "    hidden_size=option.hidden_size, \n",
    "    output_size=myDataset.myPreData.lang2.n_words, \n",
    "    dropout_p=option.dropout_p, \n",
    "    max_length=option.max_length\n",
    ")\n",
    "\n",
    "encoder1 = encoder1.to(device)\n",
    "attn_decoder1 = attn_decoder1.to(device)\n"
   ]
  },
  {
   "cell_type": "code",
   "execution_count": 12,
   "metadata": {
    "ExecuteTime": {
     "end_time": "2021-02-06T10:10:43.009123Z",
     "start_time": "2021-02-06T10:10:43.004745Z"
    },
    "collapsed": true
   },
   "outputs": [],
   "source": [
    "trainProcess = TrainProcess(device, option)"
   ]
  },
  {
   "cell_type": "code",
   "execution_count": 13,
   "metadata": {
    "ExecuteTime": {
     "end_time": "2021-02-06T10:10:43.388739Z",
     "start_time": "2021-02-06T10:10:43.011707Z"
    }
   },
   "outputs": [
    {
     "data": {
      "text/plain": [
       "18000"
      ]
     },
     "execution_count": 13,
     "metadata": {},
     "output_type": "execute_result"
    }
   ],
   "source": [
    "pairs = [myDataset[i] for i in range(len(myDataset))]\n",
    "len(pairs)"
   ]
  },
  {
   "cell_type": "code",
   "execution_count": null,
   "metadata": {
    "ExecuteTime": {
     "end_time": "2021-02-06T07:56:10.422325Z",
     "start_time": "2021-02-06T07:22:38.861475Z"
    },
    "scrolled": true
   },
   "outputs": [],
   "source": [
    "# trainProcess.trainIters(\n",
    "#     pairs, \n",
    "#     encoder1, \n",
    "#     attn_decoder1, \n",
    "#     utils,\n",
    "#     n_iters=option.n_iters, \n",
    "#     print_every=option.print_every, \n",
    "#     plot_every=option.plot_every,\n",
    "#     learning_rate=option.learning_rate\n",
    "# )\n",
    "\n"
   ]
  },
  {
   "cell_type": "code",
   "execution_count": null,
   "metadata": {
    "collapsed": true
   },
   "outputs": [],
   "source": [
    "# torch.save(encoder1.state_dict(), encoder1_path)\n",
    "# torch.save(attn_decoder1.state_dict(), )"
   ]
  },
  {
   "cell_type": "code",
   "execution_count": 15,
   "metadata": {
    "ExecuteTime": {
     "end_time": "2021-02-06T10:12:53.041761Z",
     "start_time": "2021-02-06T10:12:52.926055Z"
    }
   },
   "outputs": [],
   "source": [
    "encoder1_path = './weights/encoder1-100000.pth'\n",
    "encoder1.load_state_dict(torch.load(encoder1_path))\n",
    "\n",
    "attn_decoder1_path = './weights/attn_decoder1-100000.pth'\n",
    "attn_decoder1.load_state_dict(torch.load(attn_decoder1_path))"
   ]
  },
  {
   "cell_type": "code",
   "execution_count": null,
   "metadata": {
    "ExecuteTime": {
     "end_time": "2021-02-06T06:07:17.192365Z",
     "start_time": "2021-02-06T06:07:17.188440Z"
    },
    "collapsed": true
   },
   "outputs": [],
   "source": [
    "# random.choice([[1,10],[3,30],[5,50]])"
   ]
  },
  {
   "cell_type": "code",
   "execution_count": 16,
   "metadata": {
    "ExecuteTime": {
     "end_time": "2021-02-06T10:12:57.309228Z",
     "start_time": "2021-02-06T10:12:57.306219Z"
    },
    "collapsed": true
   },
   "outputs": [],
   "source": [
    "testProcess = TestProcess(device, option)"
   ]
  },
  {
   "cell_type": "code",
   "execution_count": 19,
   "metadata": {
    "ExecuteTime": {
     "end_time": "2021-02-06T10:13:18.968056Z",
     "start_time": "2021-02-06T10:13:18.826925Z"
    },
    "scrolled": true
   },
   "outputs": [
    {
     "name": "stdout",
     "output_type": "stream",
     "text": [
      "> everything is normal . <EOS>\n",
      "= 一切 正常 。 <EOS>\n",
      "< 一切 都 很 好 。 <EOS>\n",
      "\n",
      "> they are sure to fall in love . <EOS>\n",
      "= 他們 肯定 會 相戀 的 。 <EOS>\n",
      "< 他們 相信 相信 。 <EOS>\n",
      "\n",
      "> do you know how to open this box ? <EOS>\n",
      "= 你 知道 如何 打開 這個 箱子 嗎 ？ <EOS>\n",
      "< 你 想 如何 這個 這個 箱子 嗎 ？ ？ <EOS>\n",
      "\n",
      "> are you mad ? <EOS>\n",
      "= 您 生氣 了 嗎 ？ <EOS>\n",
      "< 你 在 哪兒 嗎 ？ <EOS>\n",
      "\n",
      "> tom is careful , is n't he ? <EOS>\n",
      "= 湯姆 很 仔細 ， 不是 麼 ？ <EOS>\n",
      "< 湯姆 ， ， 不是 麼 ？ <EOS>\n",
      "\n",
      "> everything is bad . <EOS>\n",
      "= 一切 都 很 糟糕 。 <EOS>\n",
      "< 一切 都 是 。 <EOS>\n",
      "\n",
      "> he is a reporter for time magazine . <EOS>\n",
      "= 他 是 時代 雜誌 的 記者 。 <EOS>\n",
      "< 他 為 一家 一次 。 。 。 <EOS>\n",
      "\n",
      "> what 's the meaning of this phrase ? <EOS>\n",
      "= 這個 片語 是 什麼 意思 ？ <EOS>\n",
      "< 這個 片語 的 意思 ？ <EOS>\n",
      "\n",
      "> tom is going out this afternoon with mary . <EOS>\n",
      "= 今天 下午 湯姆 和 瑪麗 會 一起 出去 。 <EOS>\n",
      "< 湯姆 今天 和 瑪麗 在 一起 。 <EOS>\n",
      "\n",
      "> how dare you say that ! <EOS>\n",
      "= 你 怎麼 敢 那麼 說 。 <EOS>\n",
      "< 你 敢 敢 那麼 的 <EOS>\n",
      "\n"
     ]
    }
   ],
   "source": [
    "testProcess.evaluateRandomly(myDataset, encoder1, attn_decoder1, n=10)\n"
   ]
  },
  {
   "cell_type": "code",
   "execution_count": 30,
   "metadata": {
    "ExecuteTime": {
     "end_time": "2021-02-06T10:15:57.811067Z",
     "start_time": "2021-02-06T10:15:57.806559Z"
    },
    "collapsed": true
   },
   "outputs": [],
   "source": [
    "senText_list = [\n",
    "    'what are you doing there ?',\n",
    "    'stick a stamp on the envelope .',\n",
    "    'are you planning to help them ?',\n",
    "    'the skies are clear .',\n",
    "    'i want to eat apple pie .', \n",
    "    'the radio is a bit loud .',\n",
    "    'i like to play basketball .'\n",
    "]"
   ]
  },
  {
   "cell_type": "code",
   "execution_count": null,
   "metadata": {
    "ExecuteTime": {
     "end_time": "2021-02-06T08:10:50.464449Z",
     "start_time": "2021-02-06T08:10:50.454402Z"
    }
   },
   "outputs": [],
   "source": [
    "senWord_list = myDataset.myPreData.get_senWord_list(senText_list)\n",
    "senIndex_list = myDataset.myPreData.get_senIndex_list(senWord_list, myDataset.myPreData.lang1)\n",
    "senIndex_list = [torch.LongTensor(senIndex)  for senIndex in senIndex_list]\n",
    "senIndex_list"
   ]
  },
  {
   "cell_type": "code",
   "execution_count": null,
   "metadata": {
    "ExecuteTime": {
     "end_time": "2021-02-06T08:10:53.762920Z",
     "start_time": "2021-02-06T08:10:53.755970Z"
    }
   },
   "outputs": [],
   "source": [
    "senIndex_list[0]"
   ]
  },
  {
   "cell_type": "code",
   "execution_count": null,
   "metadata": {
    "ExecuteTime": {
     "end_time": "2021-02-06T08:10:57.005626Z",
     "start_time": "2021-02-06T08:10:56.788553Z"
    }
   },
   "outputs": [],
   "source": [
    "output_words, attentions = testProcess.evaluate(\n",
    "    encoder1, \n",
    "    attn_decoder1, \n",
    "    senIndex_list[0],\n",
    "    myDataset.myPreData.lang2, \n",
    "    option.max_length\n",
    ")\n",
    "\n",
    "plt.matshow(attentions.numpy())"
   ]
  },
  {
   "cell_type": "code",
   "execution_count": null,
   "metadata": {
    "collapsed": true
   },
   "outputs": [],
   "source": []
  },
  {
   "cell_type": "code",
   "execution_count": 31,
   "metadata": {
    "ExecuteTime": {
     "end_time": "2021-02-06T10:16:00.884222Z",
     "start_time": "2021-02-06T10:16:00.005991Z"
    },
    "scrolled": true
   },
   "outputs": [
    {
     "name": "stdout",
     "output_type": "stream",
     "text": [
      "input = i like to play basketball .\n",
      "output = 我 喜歡 在 打 。 。 <EOS>\n"
     ]
    },
    {
     "data": {
      "image/png": "[encoded data removed]",
      "text/plain": [
       "<matplotlib.figure.Figure at 0x7fba6ba65da0>"
      ]
     },
     "metadata": {},
     "output_type": "display_data"
    }
   ],
   "source": [
    "senText = senText_list[-1]\n",
    "utils.evaluateAndShowAttention(encoder1, attn_decoder1, senText, option, myDataset)"
   ]
  },
  {
   "cell_type": "code",
   "execution_count": null,
   "metadata": {
    "collapsed": true
   },
   "outputs": [],
   "source": []
  },
  {
   "cell_type": "code",
   "execution_count": null,
   "metadata": {
    "ExecuteTime": {
     "end_time": "2021-02-06T08:52:39.042902Z",
     "start_time": "2021-02-06T08:52:38.986271Z"
    },
    "collapsed": true
   },
   "outputs": [],
   "source": []
  },
  {
   "cell_type": "code",
   "execution_count": null,
   "metadata": {
    "collapsed": true
   },
   "outputs": [],
   "source": []
  },
  {
   "cell_type": "code",
   "execution_count": null,
   "metadata": {
    "collapsed": true
   },
   "outputs": [],
   "source": []
  },
  {
   "cell_type": "code",
   "execution_count": null,
   "metadata": {
    "collapsed": true
   },
   "outputs": [],
   "source": []
  },
  {
   "cell_type": "code",
   "execution_count": null,
   "metadata": {
    "collapsed": true
   },
   "outputs": [],
   "source": []
  },
  {
   "cell_type": "code",
   "execution_count": null,
   "metadata": {
    "collapsed": true
   },
   "outputs": [],
   "source": []
  },
  {
   "cell_type": "code",
   "execution_count": null,
   "metadata": {
    "collapsed": true
   },
   "outputs": [],
   "source": []
  },
  {
   "cell_type": "code",
   "execution_count": null,
   "metadata": {
    "collapsed": true
   },
   "outputs": [],
   "source": []
  }
 ],
 "metadata": {
  "kernelspec": {
   "display_name": "Python 3",
   "language": "python",
   "name": "python3"
  },
  "language_info": {
   "codemirror_mode": {
    "name": "ipython",
    "version": 3
   },
   "file_extension": ".py",
   "mimetype": "text/x-python",
   "name": "python",
   "nbconvert_exporter": "python",
   "pygments_lexer": "ipython3",
   "version": "3.6.5"
  },
  "toc": {
   "base_numbering": 1,
   "nav_menu": {},
   "number_sections": true,
   "sideBar": true,
   "skip_h1_title": false,
   "title_cell": "Table of Contents",
   "title_sidebar": "Contents",
   "toc_cell": false,
   "toc_position": {
    "height": "calc(100% - 180px)",
    "left": "10px",
    "top": "150px",
    "width": "166px"
   },
   "toc_section_display": true,
   "toc_window_display": true
  }
 },
 "nbformat": 4,
 "nbformat_minor": 2
}
