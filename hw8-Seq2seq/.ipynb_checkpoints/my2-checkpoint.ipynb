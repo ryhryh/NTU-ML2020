{
 "cells": [
  {
   "cell_type": "markdown",
   "metadata": {},
   "source": [
    "# docs"
   ]
  },
  {
   "cell_type": "markdown",
   "metadata": {},
   "source": [
    "- pytorch example: https://pytorch.org/tutorials/intermediate/seq2seq_translation_tutorial.html\n",
    "    \n",
    "- pytorch colab: https://colab.research.google.com/github/pytorch/tutorials/blob/gh-pages/_downloads/a60617788061539b5449701ae76aee56/seq2seq_translation_tutorial.ipynb\n",
    "\n",
    "- ntu colab: https://colab.research.google.com/drive/11iwJbQv9iScRo6kGP7YfyHaaorlHhzMT"
   ]
  },
  {
   "cell_type": "markdown",
   "metadata": {},
   "source": [
    "# import"
   ]
  },
  {
   "cell_type": "code",
   "execution_count": 1,
   "metadata": {
    "ExecuteTime": {
     "end_time": "2021-02-07T02:46:37.204856Z",
     "start_time": "2021-02-07T02:46:35.696320Z"
    },
    "collapsed": true
   },
   "outputs": [],
   "source": [
    "from __future__ import unicode_literals, print_function, division\n",
    "from io import open\n",
    "import unicodedata\n",
    "import string\n",
    "import re\n",
    "import random\n",
    "import os\n",
    "\n",
    "import torch\n",
    "import torch.nn as nn\n",
    "from torch import optim\n",
    "import torch.nn.functional as F\n",
    "import torch.utils.data as data\n",
    "from torchvision import datasets, transforms\n",
    "\n",
    "import time\n",
    "import math\n",
    "\n",
    "import matplotlib.pyplot as plt\n",
    "plt.switch_backend('agg')\n",
    "import matplotlib.ticker as ticker\n",
    "import numpy as np\n",
    "\n",
    "\n",
    "os.environ[\"CUDA_VISIBLE_DEVICES\"]=\"0\"\n",
    "device = torch.device(\"cuda\" if torch.cuda.is_available() else \"cpu\")\n"
   ]
  },
  {
   "cell_type": "code",
   "execution_count": null,
   "metadata": {
    "ExecuteTime": {
     "end_time": "2021-02-06T03:02:14.761115Z",
     "start_time": "2021-02-06T03:02:14.755374Z"
    },
    "collapsed": true
   },
   "outputs": [],
   "source": [
    "device"
   ]
  },
  {
   "cell_type": "markdown",
   "metadata": {
    "ExecuteTime": {
     "end_time": "2021-01-23T16:47:50.958405Z",
     "start_time": "2021-01-23T16:47:50.953588Z"
    }
   },
   "source": [
    "# utils"
   ]
  },
  {
   "cell_type": "code",
   "execution_count": 2,
   "metadata": {
    "ExecuteTime": {
     "end_time": "2021-02-07T02:46:38.571379Z",
     "start_time": "2021-02-07T02:46:38.554151Z"
    },
    "collapsed": true
   },
   "outputs": [],
   "source": [
    "class Utils:\n",
    "    def __init__(self):\n",
    "        pass\n",
    "\n",
    "    def asMinutes(self, s):\n",
    "        m = math.floor(s / 60)\n",
    "        s -= m * 60\n",
    "        return '%dm %ds' % (m, s)\n",
    "\n",
    "\n",
    "    def timeSince(self, since, percent):\n",
    "        now = time.time()\n",
    "        s = now - since\n",
    "        es = s / (percent)\n",
    "        rs = es - s\n",
    "        return '%s (- %s)' % (self.asMinutes(s), self.asMinutes(rs))\n",
    "    \n",
    "    def showPlot(self, points):\n",
    "        plt.figure()\n",
    "        fig, ax = plt.subplots()\n",
    "        # this locator puts ticks at regular intervals\n",
    "        loc = ticker.MultipleLocator(base=0.2)\n",
    "        ax.yaxis.set_major_locator(loc)\n",
    "        plt.plot(points)\n",
    "        \n",
    "    def showAttention(self, input_sentence, output_words, attentions):\n",
    "        # Set up figure with colorbar\n",
    "        fig = plt.figure(figsize=(50, 10))\n",
    "        ax = fig.add_subplot(111)\n",
    "        cax = ax.matshow(attentions.numpy(), cmap='bone')\n",
    "        fig.colorbar(cax)\n",
    "\n",
    "        # Set up axes\n",
    "        ax.set_xticklabels([''] + input_sentence.split(' ') +\n",
    "                           ['<EOS>'], rotation=90)\n",
    "        ax.set_yticklabels([''] + output_words)\n",
    "\n",
    "        # Show label at every tick\n",
    "        ax.xaxis.set_major_locator(ticker.MultipleLocator(1))\n",
    "        ax.yaxis.set_major_locator(ticker.MultipleLocator(1))\n",
    "\n",
    "        plt.show()\n",
    "\n",
    "    def evaluateAndShowAttention(self, myDataset, encoder, decoder, input_senText, option):\n",
    "        output_words, attentions = testProcess.evaluate(myDataset, encoder, decoder, input_senText)\n",
    "        output_senText = ' '.join(output_words)\n",
    "        print('input =', input_senText)\n",
    "        print('output =', output_senText)\n",
    "        self.showAttention(input_senText, output_words, attentions)"
   ]
  },
  {
   "cell_type": "code",
   "execution_count": null,
   "metadata": {
    "ExecuteTime": {
     "end_time": "2021-02-06T08:17:49.711044Z",
     "start_time": "2021-02-06T08:17:49.699303Z"
    },
    "collapsed": true
   },
   "outputs": [],
   "source": [
    "utils = Utils()"
   ]
  },
  {
   "cell_type": "markdown",
   "metadata": {},
   "source": [
    "# option"
   ]
  },
  {
   "cell_type": "code",
   "execution_count": 3,
   "metadata": {
    "ExecuteTime": {
     "end_time": "2021-02-07T02:46:41.473236Z",
     "start_time": "2021-02-07T02:46:41.465919Z"
    },
    "collapsed": true
   },
   "outputs": [],
   "source": [
    "class Option:\n",
    "    def __init__(self, \n",
    "                 dropout_p=0.1, \n",
    "                 max_length=50, \n",
    "                 hidden_size=256, \n",
    "                 teacher_forcing_ratio=0.5, \n",
    "                 n_iters=10000, \n",
    "                 print_every=1000, \n",
    "                 plot_every=100, \n",
    "                 learning_rate=0.01):\n",
    "        \n",
    "        self.dropout_p = dropout_p\n",
    "        self.max_length = max_length\n",
    "        self.hidden_size = hidden_size\n",
    "        self.teacher_forcing_ratio = teacher_forcing_ratio\n",
    "        self.n_iters = n_iters\n",
    "        self.print_every = print_every\n",
    "        self.plot_every = plot_every\n",
    "        self.learning_rate = learning_rate\n"
   ]
  },
  {
   "cell_type": "code",
   "execution_count": null,
   "metadata": {
    "ExecuteTime": {
     "end_time": "2021-02-06T04:32:09.715968Z",
     "start_time": "2021-02-06T04:32:09.695432Z"
    },
    "collapsed": true
   },
   "outputs": [],
   "source": [
    "option = Option()"
   ]
  },
  {
   "cell_type": "code",
   "execution_count": null,
   "metadata": {
    "collapsed": true
   },
   "outputs": [],
   "source": []
  },
  {
   "cell_type": "markdown",
   "metadata": {
    "collapsed": true
   },
   "source": [
    "# data"
   ]
  },
  {
   "cell_type": "markdown",
   "metadata": {},
   "source": [
    "## todo"
   ]
  },
  {
   "cell_type": "markdown",
   "metadata": {
    "collapsed": true
   },
   "source": [
    "- 生成跟範例一樣的data\n",
    "\n",
    "    - 用範例的方法生成dict\n",
    "\n",
    "    - 用dataset / dataloader"
   ]
  },
  {
   "cell_type": "code",
   "execution_count": null,
   "metadata": {
    "collapsed": true
   },
   "outputs": [],
   "source": [
    "邏輯用簡單，一個function做一件事(命名的那件事)"
   ]
  },
  {
   "cell_type": "markdown",
   "metadata": {},
   "source": [
    "## preprocess"
   ]
  },
  {
   "cell_type": "markdown",
   "metadata": {},
   "source": [
    "### MyPreData\n",
    "\n",
    "- 增加batch_size: 使用dataloader，做padding，讓長度變一樣\n",
    "- 假如要加padding: \n",
    "    - gru不改，padding在句子前面\n",
    "    - 改gru，可能要用雙向的 "
   ]
  },
  {
   "cell_type": "code",
   "execution_count": 4,
   "metadata": {
    "ExecuteTime": {
     "end_time": "2021-02-07T02:46:44.185106Z",
     "start_time": "2021-02-07T02:46:44.156601Z"
    },
    "collapsed": true
   },
   "outputs": [],
   "source": [
    "class Lang:\n",
    "    def __init__(self, name):\n",
    "        self.name = name\n",
    "        self.setup_dict()\n",
    "        \n",
    "    def setup_dict(self):\n",
    "        wordIndex_list = [[\"<SOS>\", 0], [\"<EOS>\", 1]]\n",
    "        self.word2count = {}\n",
    "        self.word2index = {wordIndex[0]:wordIndex[1] for wordIndex in wordIndex_list}\n",
    "        self.index2word = {wordIndex[1]:wordIndex[0] for wordIndex in wordIndex_list}\n",
    "        self.n_words = len(wordIndex_list)\n",
    "\n",
    "    def addsenText(self, senText):\n",
    "        for word in senText.split(' '):\n",
    "            self.addWord(word)\n",
    "\n",
    "    def addWord(self, word):\n",
    "        if word not in self.word2index:\n",
    "            index = self.n_words\n",
    "            self.word2index[word] = index\n",
    "            self.index2word[index] = word\n",
    "            self.word2count[word] = 1\n",
    "            self.n_words += 1\n",
    "        else:\n",
    "            self.word2count[word] += 1\n",
    "\n",
    "class MyPreData:\n",
    "    def __init__(self):\n",
    "        self.data_dir = '/media/disk3/feynman52/NTU-ML2020/hw8-Seq2seq/datasets/cmn-eng/'\n",
    "    \n",
    "    def read_txt(self, filename='training.txt'):\n",
    "        path = os.path.join(self.data_dir, filename)\n",
    "        with open(path) as f:\n",
    "            content = f.readlines()\n",
    "        return content\n",
    "    \n",
    "    def get_senText_list_pair(self, txt):\n",
    "        lang1_senText_list = []\n",
    "        lang2_senText_list = []\n",
    "        for senText_pair in txt:\n",
    "            lang1_senText, lang2_senText = senText_pair.split(' \\t')\n",
    "            lang1_senText = self.process_lang1_senText(lang1_senText)\n",
    "            lang2_senText = self.process_lang2_senText(lang2_senText)\n",
    "            lang1_senText_list.append(lang1_senText)\n",
    "            lang2_senText_list.append(lang2_senText)\n",
    "        senText_list_pair = lang1_senText_list, lang2_senText_list\n",
    "        return senText_list_pair\n",
    "    \n",
    "    def process_lang1_senText(self, lang1_senText):\n",
    "        lang1_senText = lang1_senText.replace('@@ ', '')\n",
    "        return lang1_senText\n",
    "    \n",
    "    def process_lang2_senText(self, lang2_senText):\n",
    "        lang2_senText = lang2_senText.strip()\n",
    "        return lang2_senText\n",
    "    \n",
    "    def get_lang(self, name='en', senText_list=[]):\n",
    "        lang = Lang(name)\n",
    "        for senText in senText_list:\n",
    "            lang.addsenText(senText)\n",
    "        return lang\n",
    "    \n",
    "    def senText_to_senWord(self, senText):\n",
    "        senWord = senText.split(' ')\n",
    "        return senWord\n",
    "    \n",
    "    def senWord_to_senIndex(self, senWord, lang):\n",
    "        senIndex = [lang.word2index[word] for word in senWord]\n",
    "        eos_token = lang.word2index['<EOS>']\n",
    "        senIndex.append(eos_token)\n",
    "        return senIndex\n",
    "    \n",
    "    def senIndex_to_senTensor(self, senIndex):\n",
    "        senTensor = torch.LongTensor(senIndex) \n",
    "        return senTensor\n",
    "    \n",
    "    def senText_to_senTensor(self, senText, lang):\n",
    "        senWord = self.senText_to_senWord(senText)\n",
    "        senIndex = self.senWord_to_senIndex(senWord, lang)\n",
    "        senTensor = self.senIndex_to_senTensor(senIndex)\n",
    "        return senTensor\n",
    "    \n",
    "    def setup_preData(self, filename='training.txt'):\n",
    "        self.txt = self.read_txt(filename)\n",
    "\n",
    "        self.lang1_senText_list, self.lang2_senText_list = self.get_senText_list_pair(self.txt)\n",
    "        \n",
    "        self.lang1 = self.get_lang(name='en', senText_list=self.lang1_senText_list)\n",
    "        self.lang2 = self.get_lang(name='cn', senText_list=self.lang2_senText_list)\n",
    "\n",
    "        self.lang1_senTensor_list = [self.senText_to_senTensor(senText, self.lang1) for senText in self.lang1_senText_list]\n",
    "        self.lang2_senTensor_list = [self.senText_to_senTensor(senText, self.lang2) for senText in self.lang2_senText_list]\n",
    "        \n",
    "        \n"
   ]
  },
  {
   "cell_type": "code",
   "execution_count": null,
   "metadata": {
    "ExecuteTime": {
     "end_time": "2021-02-06T12:52:04.860245Z",
     "start_time": "2021-02-06T12:52:04.833444Z"
    },
    "collapsed": true
   },
   "outputs": [],
   "source": [
    "# lang = Lang('cn')\n",
    "# lang.word2index, lang.index2word"
   ]
  },
  {
   "cell_type": "markdown",
   "metadata": {},
   "source": [
    "### steps"
   ]
  },
  {
   "cell_type": "code",
   "execution_count": null,
   "metadata": {
    "ExecuteTime": {
     "end_time": "2021-02-06T14:13:16.162390Z",
     "start_time": "2021-02-06T14:13:16.157969Z"
    },
    "collapsed": true
   },
   "outputs": [],
   "source": [
    "myPreData = MyPreData()"
   ]
  },
  {
   "cell_type": "code",
   "execution_count": null,
   "metadata": {
    "ExecuteTime": {
     "end_time": "2021-02-06T14:13:16.206134Z",
     "start_time": "2021-02-06T14:13:16.165338Z"
    }
   },
   "outputs": [],
   "source": [
    "txt = myPreData.read_txt(filename='training.txt')\n",
    "len(txt)\n",
    "txt[0]"
   ]
  },
  {
   "cell_type": "code",
   "execution_count": null,
   "metadata": {
    "ExecuteTime": {
     "end_time": "2021-02-06T14:13:16.260532Z",
     "start_time": "2021-02-06T14:13:16.208786Z"
    },
    "collapsed": true
   },
   "outputs": [],
   "source": [
    "lang1_senText_list, lang2_senText_list = myPreData.get_senText_list_pair(txt)\n"
   ]
  },
  {
   "cell_type": "code",
   "execution_count": null,
   "metadata": {
    "ExecuteTime": {
     "end_time": "2021-02-06T14:13:16.288402Z",
     "start_time": "2021-02-06T14:13:16.262927Z"
    },
    "collapsed": true
   },
   "outputs": [],
   "source": [
    "# lang1_senText_list\n",
    "# lang2_senText_list"
   ]
  },
  {
   "cell_type": "code",
   "execution_count": null,
   "metadata": {
    "ExecuteTime": {
     "end_time": "2021-02-06T14:13:16.505970Z",
     "start_time": "2021-02-06T14:13:16.290586Z"
    },
    "collapsed": true
   },
   "outputs": [],
   "source": [
    "lang1 = myPreData.get_lang(name='en', senText_list=lang1_senText_list)\n",
    "lang2 = myPreData.get_lang(name='cn', senText_list=lang2_senText_list)"
   ]
  },
  {
   "cell_type": "code",
   "execution_count": null,
   "metadata": {
    "ExecuteTime": {
     "end_time": "2021-02-06T14:13:16.514526Z",
     "start_time": "2021-02-06T14:13:16.509055Z"
    }
   },
   "outputs": [],
   "source": [
    "lang1.n_words, lang2.n_words\n",
    "# lang1.index2word \n",
    "# lang2.index2word"
   ]
  },
  {
   "cell_type": "code",
   "execution_count": null,
   "metadata": {
    "ExecuteTime": {
     "end_time": "2021-02-06T14:13:17.196067Z",
     "start_time": "2021-02-06T14:13:16.516856Z"
    },
    "collapsed": true
   },
   "outputs": [],
   "source": [
    "myPreData.setup_preData(filename='training.txt')"
   ]
  },
  {
   "cell_type": "code",
   "execution_count": null,
   "metadata": {
    "ExecuteTime": {
     "end_time": "2021-02-06T14:13:17.210653Z",
     "start_time": "2021-02-06T14:13:17.199084Z"
    }
   },
   "outputs": [],
   "source": [
    "senText = myPreData.lang1_senText_list[100]\n",
    "senWord = myPreData.senText_to_senWord(senText)\n",
    "senIndex = myPreData.senWord_to_senIndex(senWord, lang1)\n",
    "senTensor = myPreData.senIndex_to_senTensor(senIndex)\n",
    "senTensor_ = myPreData.senText_to_senTensor(senText, lang1)\n",
    "senWord_ = [lang1.index2word[index] for index in senIndex]\n",
    "\n",
    "senText, senWord, senIndex, senTensor, senTensor_, senWord_"
   ]
  },
  {
   "cell_type": "code",
   "execution_count": null,
   "metadata": {
    "ExecuteTime": {
     "end_time": "2021-02-06T14:13:17.339594Z",
     "start_time": "2021-02-06T14:13:17.213300Z"
    }
   },
   "outputs": [],
   "source": [
    "max([len(x) for x in myPreData.lang1_senTensor_list])"
   ]
  },
  {
   "cell_type": "code",
   "execution_count": null,
   "metadata": {
    "ExecuteTime": {
     "end_time": "2021-02-06T14:13:19.975541Z",
     "start_time": "2021-02-06T14:13:19.951186Z"
    }
   },
   "outputs": [],
   "source": [
    "max([len(x) for x in myPreData.lang2_senTensor_list])"
   ]
  },
  {
   "cell_type": "code",
   "execution_count": null,
   "metadata": {
    "ExecuteTime": {
     "end_time": "2021-02-06T10:35:30.346828Z",
     "start_time": "2021-02-06T10:35:29.858753Z"
    },
    "collapsed": true,
    "scrolled": true
   },
   "outputs": [],
   "source": []
  },
  {
   "cell_type": "markdown",
   "metadata": {},
   "source": [
    "## dataset"
   ]
  },
  {
   "cell_type": "code",
   "execution_count": 5,
   "metadata": {
    "ExecuteTime": {
     "end_time": "2021-02-07T02:46:52.154567Z",
     "start_time": "2021-02-07T02:46:52.145249Z"
    },
    "collapsed": true
   },
   "outputs": [],
   "source": [
    "class MyDataset(data.Dataset):\n",
    "    def __init__(self, filename='training.txt'):\n",
    "        self.setup_myPreData(filename)\n",
    "        \n",
    "    def __len__(self):\n",
    "        return len(self.myPreData.txt)\n",
    "        \n",
    "    def __getitem__(self, index):\n",
    "        lang1_senTensor = self.myPreData.lang1_senTensor_list[index]\n",
    "        lang2_senTensor = self.myPreData.lang2_senTensor_list[index]\n",
    "        x = lang1_senTensor.view(-1, 1)\n",
    "        y = lang2_senTensor.view(-1, 1)\n",
    "        return x, y\n",
    "    \n",
    "    def setup_myPreData(self, filename='training.txt'):\n",
    "        self.myPreData = MyPreData()\n",
    "        self.myPreData.setup_preData(filename)\n",
    "        \n",
    "        \n",
    "        "
   ]
  },
  {
   "cell_type": "code",
   "execution_count": null,
   "metadata": {
    "ExecuteTime": {
     "end_time": "2021-02-06T13:01:18.218350Z",
     "start_time": "2021-02-06T13:01:17.438845Z"
    },
    "collapsed": true,
    "scrolled": true
   },
   "outputs": [],
   "source": [
    "myDataset = MyDataset(filename='training.txt')"
   ]
  },
  {
   "cell_type": "code",
   "execution_count": null,
   "metadata": {
    "ExecuteTime": {
     "end_time": "2021-02-06T13:01:19.365740Z",
     "start_time": "2021-02-06T13:01:19.358973Z"
    },
    "collapsed": true
   },
   "outputs": [],
   "source": [
    "len(myDataset)"
   ]
  },
  {
   "cell_type": "code",
   "execution_count": null,
   "metadata": {
    "ExecuteTime": {
     "end_time": "2021-02-06T13:01:32.324401Z",
     "start_time": "2021-02-06T13:01:32.318248Z"
    },
    "collapsed": true
   },
   "outputs": [],
   "source": [
    "x, y = myDataset[3]\n",
    "x.shape, y.shape"
   ]
  },
  {
   "cell_type": "code",
   "execution_count": null,
   "metadata": {
    "collapsed": true
   },
   "outputs": [],
   "source": []
  },
  {
   "cell_type": "code",
   "execution_count": null,
   "metadata": {
    "collapsed": true
   },
   "outputs": [],
   "source": []
  },
  {
   "cell_type": "markdown",
   "metadata": {},
   "source": [
    "## dataloader\n",
    "\n",
    "- 長度不一樣不能用dataloader"
   ]
  },
  {
   "cell_type": "code",
   "execution_count": null,
   "metadata": {
    "ExecuteTime": {
     "end_time": "2021-02-06T03:57:24.332091Z",
     "start_time": "2021-02-06T03:57:24.327450Z"
    },
    "collapsed": true
   },
   "outputs": [],
   "source": [
    "# batch_size = 1000\n",
    "# myLoader = data.DataLoader(myDataset, batch_size=batch_size, shuffle=True)"
   ]
  },
  {
   "cell_type": "code",
   "execution_count": null,
   "metadata": {
    "ExecuteTime": {
     "end_time": "2021-02-06T04:01:21.518188Z",
     "start_time": "2021-02-06T04:01:21.513654Z"
    },
    "collapsed": true
   },
   "outputs": [],
   "source": [
    "# batch_number = len(myLoader)\n",
    "# batch_number"
   ]
  },
  {
   "cell_type": "code",
   "execution_count": null,
   "metadata": {
    "ExecuteTime": {
     "end_time": "2021-02-06T03:59:45.929892Z",
     "start_time": "2021-02-06T03:59:45.926992Z"
    },
    "collapsed": true
   },
   "outputs": [],
   "source": [
    "# x, y = next(iter(myLoader))\n",
    "# print(x.shape, y.shape)\n",
    "\n"
   ]
  },
  {
   "cell_type": "code",
   "execution_count": null,
   "metadata": {
    "collapsed": true
   },
   "outputs": [],
   "source": []
  },
  {
   "cell_type": "markdown",
   "metadata": {},
   "source": [
    "# model"
   ]
  },
  {
   "cell_type": "markdown",
   "metadata": {},
   "source": [
    "## encoder"
   ]
  },
  {
   "cell_type": "code",
   "execution_count": 6,
   "metadata": {
    "ExecuteTime": {
     "end_time": "2021-02-07T02:47:10.845176Z",
     "start_time": "2021-02-07T02:47:10.835493Z"
    },
    "collapsed": true
   },
   "outputs": [],
   "source": [
    "class EncoderRNN(nn.Module):\n",
    "    def __init__(self, input_size=10, hidden_size=10):\n",
    "        super(EncoderRNN, self).__init__()\n",
    "        self.hidden_size = hidden_size\n",
    "\n",
    "        self.embedding = nn.Embedding(input_size, hidden_size)\n",
    "        self.gru = nn.GRU(hidden_size, hidden_size)\n",
    "\n",
    "    def forward(self, input, hidden):\n",
    "        #print('input.shape', input.shape)\n",
    "        \n",
    "        x = self.embedding(input) # (1, hidden_size)\n",
    "        #print('self.embedding(input)' ,x.shape)\n",
    "        \n",
    "        x = x.view(1, 1, -1) # (1, 1, hidden_size)\n",
    "        #print('x.view(1, 1, -1)', x.shape)\n",
    "        \n",
    "        output, hidden = self.gru(x, hidden)\n",
    "        return output, hidden\n",
    "\n",
    "    def initHidden(self):\n",
    "        return torch.zeros(1, 1, self.hidden_size, device=device)"
   ]
  },
  {
   "cell_type": "markdown",
   "metadata": {},
   "source": [
    "## decoder"
   ]
  },
  {
   "cell_type": "code",
   "execution_count": 7,
   "metadata": {
    "ExecuteTime": {
     "end_time": "2021-02-07T02:47:10.869602Z",
     "start_time": "2021-02-07T02:47:10.848158Z"
    },
    "collapsed": true
   },
   "outputs": [],
   "source": [
    "class AttnDecoderRNN(nn.Module):\n",
    "    def __init__(self, hidden_size=10, output_size=10, dropout_p=0.1, max_length=10):\n",
    "        super(AttnDecoderRNN, self).__init__()\n",
    "        self.hidden_size = hidden_size\n",
    "        self.output_size = output_size\n",
    "        self.dropout_p = dropout_p\n",
    "        self.max_length = max_length\n",
    "\n",
    "        self.embedding = nn.Embedding(self.output_size, self.hidden_size)\n",
    "        self.attn = nn.Linear(self.hidden_size * 2, self.max_length)\n",
    "        self.attn_combine = nn.Linear(self.hidden_size * 2, self.hidden_size)\n",
    "        self.dropout = nn.Dropout(self.dropout_p)\n",
    "        self.gru = nn.GRU(self.hidden_size, self.hidden_size)\n",
    "        self.out = nn.Linear(self.hidden_size, self.output_size)\n",
    "\n",
    "    def forward(self, input, hidden, encoder_outputs):\n",
    "        embedded = self.embedding(input).view(1, 1, -1)\n",
    "        embedded = self.dropout(embedded)\n",
    "\n",
    "        attn_weights = F.softmax(\n",
    "            self.attn(torch.cat((embedded[0], hidden[0]), 1)), dim=1)\n",
    "        attn_applied = torch.bmm(attn_weights.unsqueeze(0),\n",
    "                                 encoder_outputs.unsqueeze(0))\n",
    "\n",
    "        output = torch.cat((embedded[0], attn_applied[0]), 1)\n",
    "        output = self.attn_combine(output).unsqueeze(0)\n",
    "\n",
    "        output = F.relu(output)\n",
    "        output, hidden = self.gru(output, hidden)\n",
    "\n",
    "        output = F.log_softmax(self.out(output[0]), dim=1)\n",
    "        return output, hidden, attn_weights\n",
    "\n",
    "    def initHidden(self):\n",
    "        return torch.zeros(1, 1, self.hidden_size, device=device)"
   ]
  },
  {
   "cell_type": "code",
   "execution_count": null,
   "metadata": {
    "collapsed": true
   },
   "outputs": [],
   "source": []
  },
  {
   "cell_type": "code",
   "execution_count": null,
   "metadata": {
    "collapsed": true
   },
   "outputs": [],
   "source": []
  },
  {
   "cell_type": "markdown",
   "metadata": {},
   "source": [
    "# process"
   ]
  },
  {
   "cell_type": "markdown",
   "metadata": {
    "collapsed": true
   },
   "source": [
    "## train"
   ]
  },
  {
   "cell_type": "code",
   "execution_count": 8,
   "metadata": {
    "ExecuteTime": {
     "end_time": "2021-02-07T02:47:10.902446Z",
     "start_time": "2021-02-07T02:47:10.872429Z"
    },
    "collapsed": true
   },
   "outputs": [],
   "source": [
    "class TrainProcess:\n",
    "    def __init__(self, device, option):\n",
    "        self.device = device\n",
    "        self.option = option\n",
    "    \n",
    "    def train(self, input_tensor, target_tensor, encoder, decoder, encoder_optimizer, decoder_optimizer, criterion):\n",
    "        \n",
    "        encoder_hidden = encoder.initHidden()\n",
    "\n",
    "        encoder_optimizer.zero_grad()\n",
    "        decoder_optimizer.zero_grad()\n",
    "\n",
    "        input_length = input_tensor.size(0)\n",
    "        target_length = target_tensor.size(0)\n",
    "\n",
    "        encoder_outputs = torch.zeros(self.option.max_length, encoder.hidden_size, device=self.device)\n",
    "\n",
    "        loss = 0\n",
    "\n",
    "        for ei in range(input_length):\n",
    "            encoder_output, encoder_hidden = encoder(input_tensor[ei], encoder_hidden)\n",
    "            encoder_outputs[ei] = encoder_output[0, 0]\n",
    "\n",
    "        SOS_token = 0\n",
    "        decoder_input = torch.tensor([[SOS_token]], device=self.device)\n",
    "\n",
    "        decoder_hidden = encoder_hidden\n",
    "\n",
    "        use_teacher_forcing = True if random.random() < self.option.teacher_forcing_ratio else False\n",
    "\n",
    "        if use_teacher_forcing:\n",
    "            # Teacher forcing: Feed the target as the next input\n",
    "            for di in range(target_length):\n",
    "                decoder_output, decoder_hidden, decoder_attention = decoder(\n",
    "                    decoder_input, decoder_hidden, encoder_outputs)\n",
    "                loss += criterion(decoder_output, target_tensor[di])\n",
    "                decoder_input = target_tensor[di]  # Teacher forcing\n",
    "\n",
    "        else:\n",
    "            # Without teacher forcing: use its own predictions as the next input\n",
    "            EOS_token = 1 #!\n",
    "            for di in range(target_length):\n",
    "                decoder_output, decoder_hidden, decoder_attention = decoder(\n",
    "                    decoder_input, decoder_hidden, encoder_outputs)\n",
    "                topv, topi = decoder_output.topk(1)\n",
    "                decoder_input = topi.squeeze().detach()  # detach from history as input\n",
    "\n",
    "                loss += criterion(decoder_output, target_tensor[di])\n",
    "                \n",
    "                if decoder_input.item() == EOS_token:\n",
    "                    break\n",
    "\n",
    "        loss.backward()\n",
    "\n",
    "        encoder_optimizer.step()\n",
    "        decoder_optimizer.step()\n",
    "\n",
    "        return loss.item() / target_length \n",
    "    \n",
    "    def trainIters(self, myDataset, encoder, decoder, utils, option):\n",
    "        start = time.time()\n",
    "        plot_losses = []\n",
    "        print_loss_total = 0  # Reset every print_every\n",
    "        plot_loss_total = 0  # Reset every plot_every\n",
    "\n",
    "        encoder_optimizer = optim.SGD(encoder.parameters(), lr=self.option.learning_rate)\n",
    "        decoder_optimizer = optim.SGD(decoder.parameters(), lr=self.option.learning_rate)\n",
    "        criterion = nn.NLLLoss()\n",
    "        \n",
    "        for iter in range(1, self.option.n_iters + 1):\n",
    "            i = random.randint(0, len(myDataset)-1)\n",
    "            training_pair = myDataset[i]\n",
    "            input_tensor = training_pair[0]\n",
    "            target_tensor = training_pair[1]\n",
    "            \n",
    "            input_tensor = input_tensor.to(device) #!\n",
    "            target_tensor = target_tensor.to(device)\n",
    "\n",
    "            loss = self.train(\n",
    "                input_tensor, \n",
    "                target_tensor, \n",
    "                encoder, \n",
    "                decoder, \n",
    "                encoder_optimizer, \n",
    "                decoder_optimizer, \n",
    "                criterion\n",
    "            )\n",
    "                        \n",
    "            print_loss_total += loss\n",
    "            plot_loss_total += loss\n",
    "\n",
    "            if iter % self.option.print_every == 0:\n",
    "                print_loss_avg = print_loss_total / self.option.print_every\n",
    "                print_loss_total = 0\n",
    "                print('%s (%d %d%%) %.4f' % (utils.timeSince(start, iter / self.option.n_iters),\n",
    "                                             iter, iter / self.option.n_iters * 100, print_loss_avg))\n",
    "\n",
    "            if iter % self.option.plot_every == 0:\n",
    "                plot_loss_avg = plot_loss_total / self.option.plot_every\n",
    "                plot_losses.append(plot_loss_avg)\n",
    "                plot_loss_total = 0\n",
    "\n",
    "        utils.showPlot(plot_losses)"
   ]
  },
  {
   "cell_type": "code",
   "execution_count": null,
   "metadata": {
    "collapsed": true
   },
   "outputs": [],
   "source": []
  },
  {
   "cell_type": "markdown",
   "metadata": {
    "collapsed": true
   },
   "source": [
    "## test"
   ]
  },
  {
   "cell_type": "code",
   "execution_count": 9,
   "metadata": {
    "ExecuteTime": {
     "end_time": "2021-02-07T02:47:10.935344Z",
     "start_time": "2021-02-07T02:47:10.905153Z"
    },
    "collapsed": true
   },
   "outputs": [],
   "source": [
    "class TestProcess:\n",
    "    def __init__(self, device, option):\n",
    "        self.device = device\n",
    "        self.option = option\n",
    "        \n",
    "    def evaluate(self, myDataset, encoder, decoder, senText):\n",
    "        with torch.no_grad():\n",
    "            input_lang = myDataset.myPreData.lang1\n",
    "            output_lang = myDataset.myPreData.lang2\n",
    "            \n",
    "            senTensor = myDataset.myPreData.senText_to_senTensor(senText, input_lang)\n",
    "            input_tensor = senTensor.to(device) #!\n",
    "            input_length = input_tensor.size()[0]\n",
    "            encoder_hidden = encoder.initHidden()\n",
    "\n",
    "            encoder_outputs = torch.zeros(self.option.max_length, encoder.hidden_size, device=self.device)\n",
    "\n",
    "            for ei in range(input_length):\n",
    "                encoder_output, encoder_hidden = encoder(input_tensor[ei], encoder_hidden)\n",
    "                encoder_outputs[ei] += encoder_output[0, 0]\n",
    "\n",
    "            SOS_token = 0\n",
    "            decoder_input = torch.tensor([[SOS_token]], device=device)  # SOS\n",
    "\n",
    "            decoder_hidden = encoder_hidden\n",
    "\n",
    "            decoded_words = []\n",
    "            decoder_attentions = torch.zeros(self.option.max_length, self.option.max_length)\n",
    "\n",
    "            EOS_token = 1\n",
    "            for di in range(self.option.max_length):\n",
    "                decoder_output, decoder_hidden, decoder_attention = decoder(\n",
    "                    decoder_input, decoder_hidden, encoder_outputs)\n",
    "                decoder_attentions[di] = decoder_attention.data\n",
    "                topv, topi = decoder_output.data.topk(1)\n",
    "                if topi.item() == EOS_token:\n",
    "                    decoded_words.append('<EOS>')\n",
    "                    break\n",
    "                else:\n",
    "                    decoded_words.append(output_lang.index2word[topi.item()])\n",
    "\n",
    "                decoder_input = topi.squeeze().detach()\n",
    "\n",
    "            return decoded_words, decoder_attentions[:di + 1]\n",
    "        \n",
    "    def evaluateRandomly(self, myDataset, encoder, decoder, n=10):\n",
    "        for i in range(n):\n",
    "            i_random = random.randint(0, len(myDataset)-1)\n",
    "            input_senText = myDataset.myPreData.lang1_senText_list[i_random]\n",
    "            target_senText = myDataset.myPreData.lang2_senText_list[i_random]\n",
    "            output_words, attentions = self.evaluate(myDataset, encoder, decoder, input_senText)\n",
    "            output_senText = ' '.join(output_words)\n",
    "            \n",
    "            print('>', input_senText)\n",
    "            print('=', target_senText)\n",
    "            print('<', output_senText)\n",
    "            print('')"
   ]
  },
  {
   "cell_type": "code",
   "execution_count": 11,
   "metadata": {
    "ExecuteTime": {
     "end_time": "2021-02-07T02:47:19.560466Z",
     "start_time": "2021-02-07T02:47:19.557728Z"
    }
   },
   "outputs": [],
   "source": [
    "# myDataset.myPreData.lang2_senText_list[3]"
   ]
  },
  {
   "cell_type": "markdown",
   "metadata": {
    "collapsed": true
   },
   "source": [
    "## run"
   ]
  },
  {
   "cell_type": "code",
   "execution_count": 12,
   "metadata": {
    "ExecuteTime": {
     "end_time": "2021-02-07T02:47:22.150166Z",
     "start_time": "2021-02-07T02:47:21.584933Z"
    },
    "collapsed": true
   },
   "outputs": [],
   "source": [
    "utils = Utils()\n",
    "myDataset = MyDataset(filename='training.txt')\n",
    "option = Option(n_iters=200000, max_length=40) # 3min / 10000"
   ]
  },
  {
   "cell_type": "code",
   "execution_count": null,
   "metadata": {
    "ExecuteTime": {
     "end_time": "2021-02-06T14:15:11.177636Z",
     "start_time": "2021-02-06T14:15:11.174553Z"
    },
    "collapsed": true
   },
   "outputs": [],
   "source": [
    "# x, y = myDataset[0]\n",
    "# x.shape, y.shape"
   ]
  },
  {
   "cell_type": "code",
   "execution_count": 13,
   "metadata": {
    "ExecuteTime": {
     "end_time": "2021-02-07T02:47:40.142993Z",
     "start_time": "2021-02-07T02:47:24.334996Z"
    },
    "collapsed": true
   },
   "outputs": [],
   "source": [
    "encoder1 = EncoderRNN(\n",
    "    input_size=myDataset.myPreData.lang1.n_words, \n",
    "    hidden_size=option.hidden_size\n",
    ")\n",
    "attn_decoder1 = AttnDecoderRNN(\n",
    "    hidden_size=option.hidden_size, \n",
    "    output_size=myDataset.myPreData.lang2.n_words, \n",
    "    dropout_p=option.dropout_p, \n",
    "    max_length=option.max_length\n",
    ")\n",
    "\n",
    "encoder1 = encoder1.to(device)\n",
    "attn_decoder1 = attn_decoder1.to(device)\n"
   ]
  },
  {
   "cell_type": "code",
   "execution_count": 14,
   "metadata": {
    "ExecuteTime": {
     "end_time": "2021-02-07T02:47:40.148955Z",
     "start_time": "2021-02-07T02:47:40.145216Z"
    },
    "collapsed": true
   },
   "outputs": [],
   "source": [
    "trainProcess = TrainProcess(device, option)"
   ]
  },
  {
   "cell_type": "code",
   "execution_count": null,
   "metadata": {
    "ExecuteTime": {
     "end_time": "2021-02-07T02:46:25.838663Z",
     "start_time": "2021-02-07T02:46:25.834704Z"
    },
    "scrolled": true
   },
   "outputs": [],
   "source": [
    "# trainProcess.trainIters(myDataset, encoder1, attn_decoder1, utils, option)\n"
   ]
  },
  {
   "cell_type": "code",
   "execution_count": 15,
   "metadata": {
    "ExecuteTime": {
     "end_time": "2021-02-07T02:47:40.166508Z",
     "start_time": "2021-02-07T02:47:40.151686Z"
    },
    "collapsed": true
   },
   "outputs": [],
   "source": [
    "encoder1_path = './weights/encoder1-100000.pth'\n",
    "attn_decoder1_path = './weights/attn_decoder1-100000.pth'\n"
   ]
  },
  {
   "cell_type": "code",
   "execution_count": null,
   "metadata": {
    "ExecuteTime": {
     "end_time": "2021-02-06T15:34:09.091383Z",
     "start_time": "2021-02-06T15:34:09.020647Z"
    },
    "collapsed": true
   },
   "outputs": [],
   "source": [
    "\n",
    "# torch.save(encoder1.state_dict(), encoder1_path)\n",
    "# torch.save(attn_decoder1.state_dict(), attn_decoder1_path)\n"
   ]
  },
  {
   "cell_type": "code",
   "execution_count": 16,
   "metadata": {
    "ExecuteTime": {
     "end_time": "2021-02-07T02:47:48.070879Z",
     "start_time": "2021-02-07T02:47:47.194987Z"
    },
    "collapsed": true
   },
   "outputs": [],
   "source": [
    "\n",
    "encoder1.load_state_dict(torch.load(encoder1_path))\n",
    "attn_decoder1.load_state_dict(torch.load(attn_decoder1_path))"
   ]
  },
  {
   "cell_type": "code",
   "execution_count": 17,
   "metadata": {
    "ExecuteTime": {
     "end_time": "2021-02-07T02:47:51.270086Z",
     "start_time": "2021-02-07T02:47:51.265948Z"
    },
    "collapsed": true
   },
   "outputs": [],
   "source": [
    "testProcess = TestProcess(device, option)"
   ]
  },
  {
   "cell_type": "code",
   "execution_count": 39,
   "metadata": {
    "ExecuteTime": {
     "end_time": "2021-02-07T02:53:24.321028Z",
     "start_time": "2021-02-07T02:53:24.185872Z"
    },
    "scrolled": false
   },
   "outputs": [
    {
     "name": "stdout",
     "output_type": "stream",
     "text": [
      "> she always smiles at me .\n",
      "= 她 總 是 對 我 微笑 。\n",
      "< 她 與 我 我 。 <EOS>\n",
      "\n",
      "> you should come home before six .\n",
      "= 你 應該 六點 前 回家 。\n",
      "< 你 應該 六點 在 回家 前 回家 。 <EOS>\n",
      "\n",
      "> i asked him to mend my shoes .\n",
      "= 我 請 他 修理 我 的 鞋子 。\n",
      "< 我 請 修理 我 的 鞋子 的 。 <EOS>\n",
      "\n",
      "> she asked him to open the window .\n",
      "= 她 要求 他 打開 窗戶 。\n",
      "< 她 要求 他 打開 窗戶 。 <EOS>\n",
      "\n",
      "> tom has forgotten how to do that .\n",
      "= 湯姆 忘 了 怎麼 做 。\n",
      "< 湯姆 有 有 有 。 <EOS>\n",
      "\n",
      "> i spoke with him about the matter .\n",
      "= 我 跟 他 談過 這個 問題 。\n",
      "< 我 對 他 的 問題 很 問題 。 <EOS>\n",
      "\n",
      "> i like you .\n",
      "= 我 喜歡 你 。\n",
      "< 我 喜歡 你 。 <EOS>\n",
      "\n",
      "> i no longer love tom .\n",
      "= 我 不再 愛湯姆 了 。\n",
      "< 我 不再 愛湯姆 湯姆 。 <EOS>\n",
      "\n",
      "> she has traveled all over the globe .\n",
      "= 她 周遊 世界各地 。\n",
      "< 她 周遊 了 所有 所有 的 。 <EOS>\n",
      "\n",
      "> no way !\n",
      "= 不 可能 ！\n",
      "< 沒有 ！ <EOS>\n",
      "\n"
     ]
    }
   ],
   "source": [
    "testProcess.evaluateRandomly(myDataset, encoder1, attn_decoder1, n=10)\n"
   ]
  },
  {
   "cell_type": "code",
   "execution_count": 40,
   "metadata": {
    "ExecuteTime": {
     "end_time": "2021-02-07T02:58:20.560203Z",
     "start_time": "2021-02-07T02:58:19.325223Z"
    }
   },
   "outputs": [
    {
     "name": "stdout",
     "output_type": "stream",
     "text": [
      "input = she asked him to open the window .\n",
      "output = 她 要求 他 打開 窗戶 <EOS>\n"
     ]
    },
    {
     "data": {
      "image/png": "[encoded data removed]",
      "text/plain": [
       "<matplotlib.figure.Figure at 0x7f8545fad198>"
      ]
     },
     "metadata": {},
     "output_type": "display_data"
    }
   ],
   "source": [
    "senText_list = [\n",
    "    'thanks for your quick answer .', \n",
    "    'you are very early this morning .',\n",
    "    'she gave me a smile of recognition .',\n",
    "    'he plays tennis very well .',\n",
    "    'my hometown is very pretty .',\n",
    "    'he grew up in germany .',\n",
    "    \"i could n't agree with his opinion .\",\n",
    "    \"i 'd like to pay in cash .\",\n",
    "    'children like chocolate .',\n",
    "    \"i ca n't ask tom right now .\",\n",
    "    \"i 'm the tallest in our class .\",\n",
    "    \"she asked him to open the window .\"\n",
    "]\n",
    "\n",
    "senText = senText_list[-1]\n",
    "senText\n",
    "\n",
    "# output_words, attentions = testProcess.evaluate(myDataset, encoder1, attn_decoder1, senText)\n",
    "# plt.matshow(attentions.numpy())\n",
    "\n",
    "utils.evaluateAndShowAttention(myDataset, encoder1, attn_decoder1, senText, option)\n",
    "\n",
    "#? output 每次不太一樣"
   ]
  },
  {
   "cell_type": "code",
   "execution_count": null,
   "metadata": {
    "collapsed": true
   },
   "outputs": [],
   "source": []
  },
  {
   "cell_type": "code",
   "execution_count": null,
   "metadata": {
    "ExecuteTime": {
     "end_time": "2021-02-06T08:52:39.042902Z",
     "start_time": "2021-02-06T08:52:38.986271Z"
    },
    "collapsed": true
   },
   "outputs": [],
   "source": []
  },
  {
   "cell_type": "code",
   "execution_count": null,
   "metadata": {
    "collapsed": true
   },
   "outputs": [],
   "source": []
  },
  {
   "cell_type": "code",
   "execution_count": null,
   "metadata": {
    "collapsed": true
   },
   "outputs": [],
   "source": [
    "book bo\"@@ \"ok"
   ]
  },
  {
   "cell_type": "code",
   "execution_count": null,
   "metadata": {
    "collapsed": true
   },
   "outputs": [],
   "source": []
  },
  {
   "cell_type": "code",
   "execution_count": null,
   "metadata": {
    "collapsed": true
   },
   "outputs": [],
   "source": []
  },
  {
   "cell_type": "code",
   "execution_count": null,
   "metadata": {
    "collapsed": true
   },
   "outputs": [],
   "source": []
  },
  {
   "cell_type": "code",
   "execution_count": null,
   "metadata": {
    "collapsed": true
   },
   "outputs": [],
   "source": []
  },
  {
   "cell_type": "code",
   "execution_count": null,
   "metadata": {
    "collapsed": true
   },
   "outputs": [],
   "source": []
  }
 ],
 "metadata": {
  "kernelspec": {
   "display_name": "Python 3",
   "language": "python",
   "name": "python3"
  },
  "language_info": {
   "codemirror_mode": {
    "name": "ipython",
    "version": 3
   },
   "file_extension": ".py",
   "mimetype": "text/x-python",
   "name": "python",
   "nbconvert_exporter": "python",
   "pygments_lexer": "ipython3",
   "version": "3.6.5"
  },
  "toc": {
   "base_numbering": 1,
   "nav_menu": {},
   "number_sections": true,
   "sideBar": true,
   "skip_h1_title": false,
   "title_cell": "Table of Contents",
   "title_sidebar": "Contents",
   "toc_cell": false,
   "toc_position": {
    "height": "calc(100% - 180px)",
    "left": "10px",
    "top": "150px",
    "width": "166px"
   },
   "toc_section_display": true,
   "toc_window_display": true
  }
 },
 "nbformat": 4,
 "nbformat_minor": 2
}
