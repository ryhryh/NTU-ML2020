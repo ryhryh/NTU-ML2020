{
 "cells": [
  {
   "cell_type": "markdown",
   "metadata": {},
   "source": [
    "# import "
   ]
  },
  {
   "cell_type": "code",
   "execution_count": 19,
   "metadata": {
    "ExecuteTime": {
     "end_time": "2020-08-23T12:32:29.909719Z",
     "start_time": "2020-08-23T12:32:29.886218Z"
    }
   },
   "outputs": [],
   "source": [
    "import os\n",
    "import numpy as np\n",
    "import cv2\n",
    "import torch\n",
    "import torch.nn as nn\n",
    "import torchvision.transforms as transforms\n",
    "import pandas as pd\n",
    "from torch.utils.data import DataLoader, Dataset\n",
    "import time\n",
    "from glob import glob\n",
    "import re\n",
    "from matplotlib import pyplot as plt\n",
    "%matplotlib inline\n",
    "\n",
    "os.environ[\"CUDA_VISIBLE_DEVICES\"]='2' \n",
    "\n",
    "from torchsummary import summary\n",
    "import torchvision.models as models\n",
    "import torch.nn.functional as F"
   ]
  },
  {
   "cell_type": "code",
   "execution_count": null,
   "metadata": {},
   "outputs": [],
   "source": []
  },
  {
   "cell_type": "markdown",
   "metadata": {},
   "source": [
    "# data"
   ]
  },
  {
   "cell_type": "code",
   "execution_count": 3,
   "metadata": {
    "ExecuteTime": {
     "end_time": "2020-08-23T12:26:28.968066Z",
     "start_time": "2020-08-23T12:26:28.956838Z"
    }
   },
   "outputs": [],
   "source": [
    "def get_paths_and_labels(img_type='training', isLbael=True):\n",
    "    base_dir = '/workdir/home/feynman52/NTU-ML2020/hw3-Food-Classification-by-CNN/datasets'\n",
    "    paths = sorted(glob(os.path.join(base_dir, img_type, '*')))[:]\n",
    "    \n",
    "    if isLbael==True: \n",
    "        Y = [int(re.search('/(.{1,2})_', path).group(1)) for path in paths]\n",
    "        return paths, Y\n",
    "    else:\n",
    "        return paths"
   ]
  },
  {
   "cell_type": "code",
   "execution_count": 4,
   "metadata": {
    "ExecuteTime": {
     "end_time": "2020-08-23T12:26:29.117936Z",
     "start_time": "2020-08-23T12:26:29.020767Z"
    }
   },
   "outputs": [
    {
     "data": {
      "text/plain": [
       "(9866, 9866, 3430, 3430, 3347)"
      ]
     },
     "execution_count": 4,
     "metadata": {},
     "output_type": "execute_result"
    }
   ],
   "source": [
    "x_train_paths, y_train = get_paths_and_labels(img_type='training', isLbael=True)\n",
    "x_valid_paths, y_valid = get_paths_and_labels(img_type='validation', isLbael=True)\n",
    "x_test_paths = get_paths_and_labels(img_type='testing', isLbael=False)\n",
    "\n",
    "len(x_train_paths), len(y_train), len(x_valid_paths), len(y_valid), len(x_test_paths)\n"
   ]
  },
  {
   "cell_type": "code",
   "execution_count": 5,
   "metadata": {
    "ExecuteTime": {
     "end_time": "2020-08-23T12:26:29.188998Z",
     "start_time": "2020-08-23T12:26:29.179961Z"
    }
   },
   "outputs": [],
   "source": [
    "train_transform = transforms.Compose([\n",
    "    transforms.ToPILImage(),\n",
    "    transforms.RandomHorizontalFlip(), \n",
    "    transforms.RandomRotation(15), \n",
    "    transforms.ToTensor(), \n",
    "])\n",
    "\n",
    "test_transform = transforms.Compose([\n",
    "    transforms.ToPILImage(),                                    \n",
    "    transforms.ToTensor(),\n",
    "])"
   ]
  },
  {
   "cell_type": "code",
   "execution_count": 6,
   "metadata": {
    "ExecuteTime": {
     "end_time": "2020-08-23T12:26:29.378445Z",
     "start_time": "2020-08-23T12:26:29.361456Z"
    }
   },
   "outputs": [],
   "source": [
    "class ImgDataset(Dataset):\n",
    "    def __init__(self, img_paths, labels=None, transform=None):\n",
    "        self.img_paths = img_paths\n",
    "        \n",
    "        self.labels = labels\n",
    "        if self.labels != None:\n",
    "            self.labels = torch.LongTensor(labels) ###\n",
    "            \n",
    "        self.transform = transform\n",
    "        \n",
    "    def __len__(self):\n",
    "        return len(self.img_paths)\n",
    "    \n",
    "    def __getitem__(self, index):\n",
    "        img_path = self.img_paths[index]\n",
    "        img = cv2.imread(img_path)\n",
    "        img = cv2.resize(img, (128, 128))\n",
    "        \n",
    "        if self.transform!=None: img = self.transform(img)\n",
    "            \n",
    "        if self.labels==None: \n",
    "            return img\n",
    "        else:\n",
    "            label = self.labels[index]\n",
    "            return img, label\n",
    "            "
   ]
  },
  {
   "cell_type": "code",
   "execution_count": 7,
   "metadata": {
    "ExecuteTime": {
     "end_time": "2020-08-23T12:26:29.427583Z",
     "start_time": "2020-08-23T12:26:29.381748Z"
    }
   },
   "outputs": [],
   "source": [
    "train_set = ImgDataset(x_train_paths, y_train, train_transform)\n",
    "valid_set = ImgDataset(x_valid_paths, y_valid, test_transform)"
   ]
  },
  {
   "cell_type": "code",
   "execution_count": 8,
   "metadata": {
    "ExecuteTime": {
     "end_time": "2020-08-23T12:26:29.571681Z",
     "start_time": "2020-08-23T12:26:29.541764Z"
    }
   },
   "outputs": [
    {
     "data": {
      "text/plain": [
       "(torch.Size([3, 128, 128]), tensor(9))"
      ]
     },
     "execution_count": 8,
     "metadata": {},
     "output_type": "execute_result"
    }
   ],
   "source": [
    "x, y = train_set[-1]\n",
    "x.shape, y"
   ]
  },
  {
   "cell_type": "code",
   "execution_count": 9,
   "metadata": {
    "ExecuteTime": {
     "end_time": "2020-08-23T12:26:29.739173Z",
     "start_time": "2020-08-23T12:26:29.731356Z"
    }
   },
   "outputs": [],
   "source": [
    "batch_size = 50\n",
    "train_loader = DataLoader(train_set, batch_size=batch_size, shuffle=True) # shuffle select index\n",
    "valid_loader = DataLoader(valid_set, batch_size=batch_size, shuffle=False)\n"
   ]
  },
  {
   "cell_type": "code",
   "execution_count": 10,
   "metadata": {
    "ExecuteTime": {
     "end_time": "2020-08-23T12:26:30.067021Z",
     "start_time": "2020-08-23T12:26:29.743849Z"
    }
   },
   "outputs": [
    {
     "data": {
      "text/plain": [
       "(torch.Size([50, 3, 128, 128]), torch.Size([50]))"
      ]
     },
     "execution_count": 10,
     "metadata": {},
     "output_type": "execute_result"
    }
   ],
   "source": [
    "g = iter(train_loader)\n",
    "x_batch, y_batch = next(g)\n",
    "x_batch.shape, y_batch.shape\n",
    "x_batch.size(), y_batch.size()"
   ]
  },
  {
   "cell_type": "code",
   "execution_count": 11,
   "metadata": {
    "ExecuteTime": {
     "end_time": "2020-08-23T12:26:30.074786Z",
     "start_time": "2020-08-23T12:26:30.070467Z"
    }
   },
   "outputs": [
    {
     "data": {
      "text/plain": [
       "(198, 69)"
      ]
     },
     "execution_count": 11,
     "metadata": {},
     "output_type": "execute_result"
    }
   ],
   "source": [
    "len(train_loader), len(valid_loader)"
   ]
  },
  {
   "cell_type": "code",
   "execution_count": null,
   "metadata": {},
   "outputs": [],
   "source": []
  },
  {
   "cell_type": "markdown",
   "metadata": {},
   "source": [
    "# model"
   ]
  },
  {
   "cell_type": "markdown",
   "metadata": {},
   "source": [
    "## teacher model"
   ]
  },
  {
   "cell_type": "code",
   "execution_count": 12,
   "metadata": {
    "ExecuteTime": {
     "end_time": "2020-08-23T12:27:15.606756Z",
     "start_time": "2020-08-23T12:27:11.332313Z"
    }
   },
   "outputs": [],
   "source": [
    "teacher_net = models.resnet18(pretrained=False, num_classes=11).cuda()"
   ]
  },
  {
   "cell_type": "code",
   "execution_count": 13,
   "metadata": {
    "ExecuteTime": {
     "end_time": "2020-08-23T12:27:27.073365Z",
     "start_time": "2020-08-23T12:27:26.980194Z"
    }
   },
   "outputs": [
    {
     "data": {
      "text/plain": [
       "<All keys matched successfully>"
      ]
     },
     "execution_count": 13,
     "metadata": {},
     "output_type": "execute_result"
    }
   ],
   "source": [
    "teacher_net.load_state_dict(torch.load(f'./teacher_resnet18.bin'))"
   ]
  },
  {
   "cell_type": "code",
   "execution_count": 14,
   "metadata": {
    "ExecuteTime": {
     "end_time": "2020-08-23T12:27:55.993733Z",
     "start_time": "2020-08-23T12:27:55.857773Z"
    },
    "scrolled": true
   },
   "outputs": [
    {
     "name": "stdout",
     "output_type": "stream",
     "text": [
      "----------------------------------------------------------------\n",
      "        Layer (type)               Output Shape         Param #\n",
      "================================================================\n",
      "            Conv2d-1           [-1, 64, 64, 64]           9,408\n",
      "       BatchNorm2d-2           [-1, 64, 64, 64]             128\n",
      "              ReLU-3           [-1, 64, 64, 64]               0\n",
      "         MaxPool2d-4           [-1, 64, 32, 32]               0\n",
      "            Conv2d-5           [-1, 64, 32, 32]          36,864\n",
      "       BatchNorm2d-6           [-1, 64, 32, 32]             128\n",
      "              ReLU-7           [-1, 64, 32, 32]               0\n",
      "            Conv2d-8           [-1, 64, 32, 32]          36,864\n",
      "       BatchNorm2d-9           [-1, 64, 32, 32]             128\n",
      "             ReLU-10           [-1, 64, 32, 32]               0\n",
      "       BasicBlock-11           [-1, 64, 32, 32]               0\n",
      "           Conv2d-12           [-1, 64, 32, 32]          36,864\n",
      "      BatchNorm2d-13           [-1, 64, 32, 32]             128\n",
      "             ReLU-14           [-1, 64, 32, 32]               0\n",
      "           Conv2d-15           [-1, 64, 32, 32]          36,864\n",
      "      BatchNorm2d-16           [-1, 64, 32, 32]             128\n",
      "             ReLU-17           [-1, 64, 32, 32]               0\n",
      "       BasicBlock-18           [-1, 64, 32, 32]               0\n",
      "           Conv2d-19          [-1, 128, 16, 16]          73,728\n",
      "      BatchNorm2d-20          [-1, 128, 16, 16]             256\n",
      "             ReLU-21          [-1, 128, 16, 16]               0\n",
      "           Conv2d-22          [-1, 128, 16, 16]         147,456\n",
      "      BatchNorm2d-23          [-1, 128, 16, 16]             256\n",
      "           Conv2d-24          [-1, 128, 16, 16]           8,192\n",
      "      BatchNorm2d-25          [-1, 128, 16, 16]             256\n",
      "             ReLU-26          [-1, 128, 16, 16]               0\n",
      "       BasicBlock-27          [-1, 128, 16, 16]               0\n",
      "           Conv2d-28          [-1, 128, 16, 16]         147,456\n",
      "      BatchNorm2d-29          [-1, 128, 16, 16]             256\n",
      "             ReLU-30          [-1, 128, 16, 16]               0\n",
      "           Conv2d-31          [-1, 128, 16, 16]         147,456\n",
      "      BatchNorm2d-32          [-1, 128, 16, 16]             256\n",
      "             ReLU-33          [-1, 128, 16, 16]               0\n",
      "       BasicBlock-34          [-1, 128, 16, 16]               0\n",
      "           Conv2d-35            [-1, 256, 8, 8]         294,912\n",
      "      BatchNorm2d-36            [-1, 256, 8, 8]             512\n",
      "             ReLU-37            [-1, 256, 8, 8]               0\n",
      "           Conv2d-38            [-1, 256, 8, 8]         589,824\n",
      "      BatchNorm2d-39            [-1, 256, 8, 8]             512\n",
      "           Conv2d-40            [-1, 256, 8, 8]          32,768\n",
      "      BatchNorm2d-41            [-1, 256, 8, 8]             512\n",
      "             ReLU-42            [-1, 256, 8, 8]               0\n",
      "       BasicBlock-43            [-1, 256, 8, 8]               0\n",
      "           Conv2d-44            [-1, 256, 8, 8]         589,824\n",
      "      BatchNorm2d-45            [-1, 256, 8, 8]             512\n",
      "             ReLU-46            [-1, 256, 8, 8]               0\n",
      "           Conv2d-47            [-1, 256, 8, 8]         589,824\n",
      "      BatchNorm2d-48            [-1, 256, 8, 8]             512\n",
      "             ReLU-49            [-1, 256, 8, 8]               0\n",
      "       BasicBlock-50            [-1, 256, 8, 8]               0\n",
      "           Conv2d-51            [-1, 512, 4, 4]       1,179,648\n",
      "      BatchNorm2d-52            [-1, 512, 4, 4]           1,024\n",
      "             ReLU-53            [-1, 512, 4, 4]               0\n",
      "           Conv2d-54            [-1, 512, 4, 4]       2,359,296\n",
      "      BatchNorm2d-55            [-1, 512, 4, 4]           1,024\n",
      "           Conv2d-56            [-1, 512, 4, 4]         131,072\n",
      "      BatchNorm2d-57            [-1, 512, 4, 4]           1,024\n",
      "             ReLU-58            [-1, 512, 4, 4]               0\n",
      "       BasicBlock-59            [-1, 512, 4, 4]               0\n",
      "           Conv2d-60            [-1, 512, 4, 4]       2,359,296\n",
      "      BatchNorm2d-61            [-1, 512, 4, 4]           1,024\n",
      "             ReLU-62            [-1, 512, 4, 4]               0\n",
      "           Conv2d-63            [-1, 512, 4, 4]       2,359,296\n",
      "      BatchNorm2d-64            [-1, 512, 4, 4]           1,024\n",
      "             ReLU-65            [-1, 512, 4, 4]               0\n",
      "       BasicBlock-66            [-1, 512, 4, 4]               0\n",
      "AdaptiveAvgPool2d-67            [-1, 512, 1, 1]               0\n",
      "           Linear-68                   [-1, 11]           5,643\n",
      "================================================================\n",
      "Total params: 11,182,155\n",
      "Trainable params: 11,182,155\n",
      "Non-trainable params: 0\n",
      "----------------------------------------------------------------\n",
      "Input size (MB): 0.19\n",
      "Forward/backward pass size (MB): 20.50\n",
      "Params size (MB): 42.66\n",
      "Estimated Total Size (MB): 63.35\n",
      "----------------------------------------------------------------\n"
     ]
    }
   ],
   "source": [
    "summary(teacher_net, input_size=(3, 128, 128))\n"
   ]
  },
  {
   "cell_type": "markdown",
   "metadata": {},
   "source": [
    "## student model"
   ]
  },
  {
   "cell_type": "code",
   "execution_count": 15,
   "metadata": {
    "ExecuteTime": {
     "end_time": "2020-08-23T12:28:10.652107Z",
     "start_time": "2020-08-23T12:28:10.625267Z"
    }
   },
   "outputs": [],
   "source": [
    "class ClassifierPrune(nn.Module):\n",
    "    def __init__(self):\n",
    "        super(ClassifierPrune, self).__init__()\n",
    "        \n",
    "        self.Conv2d_prune = nn.Sequential(\n",
    "        )\n",
    "        \n",
    "        self.cnn = nn.Sequential(\n",
    "            #nn.Conv2d(3, 64, 3, 1, 1),  # [64, 128, 128]\n",
    "            self.make_prune_cnn(3, 64, 3, 1, 1),\n",
    "            nn.BatchNorm2d(num_features=64),\n",
    "            nn.ReLU(),\n",
    "            nn.MaxPool2d(2, 2, 0),      # [64, 64, 64]\n",
    "\n",
    "            #nn.Conv2d(64, 128, 3, 1, 1), # [128, 64, 64]\n",
    "            self.make_prune_cnn(64, 128, 3, 1, 1),\n",
    "            nn.BatchNorm2d(128),\n",
    "            nn.ReLU(),\n",
    "            nn.MaxPool2d(2, 2, 0),      # [128, 32, 32]\n",
    "\n",
    "            #nn.Conv2d(128, 256, 3, 1, 1), # [256, 32, 32]\n",
    "            self.make_prune_cnn(128, 256, 3, 1, 1),\n",
    "            nn.BatchNorm2d(256),\n",
    "            nn.ReLU(),\n",
    "            nn.MaxPool2d(2, 2, 0),      # [256, 16, 16]\n",
    "\n",
    "            #nn.Conv2d(256, 512, 3, 1, 1), # [512, 16, 16]\n",
    "            self.make_prune_cnn(256, 512, 3, 1, 1),\n",
    "            nn.BatchNorm2d(512),\n",
    "            nn.ReLU(),\n",
    "            nn.MaxPool2d(2, 2, 0),       # [512, 8, 8]\n",
    "            \n",
    "            #nn.Conv2d(512, 512, 3, 1, 1), # [512, 8, 8]\n",
    "            self.make_prune_cnn(512, 512, 3, 1, 1),\n",
    "            nn.BatchNorm2d(512),\n",
    "            nn.ReLU(),\n",
    "            nn.MaxPool2d(2, 2, 0),       # [512, 4, 4]\n",
    "        )\n",
    "        \n",
    "        self.fc = nn.Sequential(\n",
    "            nn.Linear(512*4*4, 1024),\n",
    "            nn.ReLU(),\n",
    "            nn.Linear(1024, 512),\n",
    "            nn.ReLU(),\n",
    "            nn.Linear(512, 11)\n",
    "        )\n",
    "\n",
    "    def make_prune_cnn(self, in_chs, out_chs, kernel_size, stride, padding):\n",
    "        prune_cnn = nn.Sequential(\n",
    "            nn.Conv2d(in_chs, in_chs, kernel_size, stride, padding, groups=in_chs),\n",
    "            nn.Conv2d(in_chs, out_chs, 1)\n",
    "        )\n",
    "        return prune_cnn\n",
    "        \n",
    "    def forward(self, in_):\n",
    "        x = self.cnn(in_)\n",
    "        x = x.reshape(x.shape[0], -1) \n",
    "        out_ = self.fc(x)\n",
    "        return out_"
   ]
  },
  {
   "cell_type": "code",
   "execution_count": 17,
   "metadata": {
    "ExecuteTime": {
     "end_time": "2020-08-23T12:28:38.048122Z",
     "start_time": "2020-08-23T12:28:37.930548Z"
    },
    "scrolled": true
   },
   "outputs": [
    {
     "name": "stdout",
     "output_type": "stream",
     "text": [
      "----------------------------------------------------------------\n",
      "        Layer (type)               Output Shape         Param #\n",
      "================================================================\n",
      "            Conv2d-1          [-1, 3, 128, 128]              30\n",
      "            Conv2d-2         [-1, 64, 128, 128]             256\n",
      "       BatchNorm2d-3         [-1, 64, 128, 128]             128\n",
      "              ReLU-4         [-1, 64, 128, 128]               0\n",
      "         MaxPool2d-5           [-1, 64, 64, 64]               0\n",
      "            Conv2d-6           [-1, 64, 64, 64]             640\n",
      "            Conv2d-7          [-1, 128, 64, 64]           8,320\n",
      "       BatchNorm2d-8          [-1, 128, 64, 64]             256\n",
      "              ReLU-9          [-1, 128, 64, 64]               0\n",
      "        MaxPool2d-10          [-1, 128, 32, 32]               0\n",
      "           Conv2d-11          [-1, 128, 32, 32]           1,280\n",
      "           Conv2d-12          [-1, 256, 32, 32]          33,024\n",
      "      BatchNorm2d-13          [-1, 256, 32, 32]             512\n",
      "             ReLU-14          [-1, 256, 32, 32]               0\n",
      "        MaxPool2d-15          [-1, 256, 16, 16]               0\n",
      "           Conv2d-16          [-1, 256, 16, 16]           2,560\n",
      "           Conv2d-17          [-1, 512, 16, 16]         131,584\n",
      "      BatchNorm2d-18          [-1, 512, 16, 16]           1,024\n",
      "             ReLU-19          [-1, 512, 16, 16]               0\n",
      "        MaxPool2d-20            [-1, 512, 8, 8]               0\n",
      "           Conv2d-21            [-1, 512, 8, 8]           5,120\n",
      "           Conv2d-22            [-1, 512, 8, 8]         262,656\n",
      "      BatchNorm2d-23            [-1, 512, 8, 8]           1,024\n",
      "             ReLU-24            [-1, 512, 8, 8]               0\n",
      "        MaxPool2d-25            [-1, 512, 4, 4]               0\n",
      "           Linear-26                 [-1, 1024]       8,389,632\n",
      "             ReLU-27                 [-1, 1024]               0\n",
      "           Linear-28                  [-1, 512]         524,800\n",
      "             ReLU-29                  [-1, 512]               0\n",
      "           Linear-30                   [-1, 11]           5,643\n",
      "================================================================\n",
      "Total params: 9,368,489\n",
      "Trainable params: 9,368,489\n",
      "Non-trainable params: 0\n",
      "----------------------------------------------------------------\n",
      "Input size (MB): 0.19\n",
      "Forward/backward pass size (MB): 53.71\n",
      "Params size (MB): 35.74\n",
      "Estimated Total Size (MB): 89.64\n",
      "----------------------------------------------------------------\n"
     ]
    }
   ],
   "source": [
    "student_net = ClassifierPrune().cuda()\n",
    "summary(student_net, input_size=(3, 128, 128))\n"
   ]
  },
  {
   "cell_type": "markdown",
   "metadata": {},
   "source": [
    "# train"
   ]
  },
  {
   "cell_type": "markdown",
   "metadata": {},
   "source": [
    "## original model"
   ]
  },
  {
   "cell_type": "code",
   "execution_count": 20,
   "metadata": {
    "ExecuteTime": {
     "end_time": "2020-08-23T12:42:30.403360Z",
     "start_time": "2020-08-23T12:42:30.392121Z"
    }
   },
   "outputs": [],
   "source": [
    "def loss_fn_kd(student_outputs, labels, teacher_outputs, T=20, alpha=0.5):\n",
    "\n",
    "    hard_loss = F.cross_entropy(student_outputs, labels) * (1. - alpha)\n",
    "\n",
    "    soft_loss = (alpha * T * T) * nn.KLDivLoss(reduction='batchmean')(\n",
    "        F.log_softmax(student_outputs/T, dim=1),\n",
    "        F.softmax(teacher_outputs/T, dim=1))\n",
    "    return hard_loss + soft_loss"
   ]
  },
  {
   "cell_type": "code",
   "execution_count": null,
   "metadata": {
    "ExecuteTime": {
     "start_time": "2020-08-23T12:48:16.200Z"
    }
   },
   "outputs": [
    {
     "name": "stdout",
     "output_type": "stream",
     "text": [
      "train\n"
     ]
    }
   ],
   "source": [
    "print('train')\n",
    "alpha=0.5\n",
    "epochs = 10\n",
    "optimizer = torch.optim.AdamW(student_net.parameters(), lr=1e-3)\n",
    "\n",
    "for epoch in range(epochs):\n",
    "    # initialize time\n",
    "    epoch_start_time = time.time()\n",
    "    # initialize metric\n",
    "    train_acc = 0.\n",
    "    valid_acc = 0.\n",
    "    train_loss = 0.\n",
    "    valid_loss = 0.\n",
    "    \n",
    "    # -----------------------\n",
    "    #  train \n",
    "    # -----------------------\n",
    "    student_net.train() ###\n",
    "    for (i, data) in enumerate(train_loader):\n",
    "        x, y = data[0].cuda(), data[1].cuda()\n",
    "        \n",
    "        optimizer.zero_grad()\n",
    "        \n",
    "        # student\n",
    "        y_hat_student = student_net(x)\n",
    "        \n",
    "        # teacher\n",
    "        with torch.no_grad():\n",
    "            y_hat_teacher = teacher_net(x)\n",
    "        \n",
    "        # loss\n",
    "        batch_loss = loss_fn_kd(y_hat_student, y, y_hat_teacher, 20, alpha)\n",
    "        batch_loss.backward()\n",
    "        optimizer.step()\n",
    "        \n",
    "        # metric, acc, loss\n",
    "        label_hat = np.argmax(y_hat_student.cpu().data.numpy(), axis=1)\n",
    "        label = y.cpu().data.numpy()\n",
    "        match = (label_hat==label)\n",
    "        train_acc += sum(match)\n",
    "        train_loss += batch_loss.item()\n",
    "        \n",
    "\n",
    "    \n",
    "    # -----------------------\n",
    "    #  valid \n",
    "    # -----------------------\n",
    "    student_net.eval() ###\n",
    "    with torch.no_grad(): ###\n",
    "        for (i, data) in enumerate(valid_loader):\n",
    "            x, y = data[0].cuda(), data[1].cuda()\n",
    "\n",
    "            # student\n",
    "            y_hat_student = student_net(x)\n",
    "            \n",
    "            # teacher\n",
    "            with torch.no_grad():\n",
    "                y_hat_teacher = teacher_net(x)\n",
    "\n",
    "            # loss\n",
    "            batch_loss = loss_fn_kd(y_hat_student, y, y_hat_teacher, 20, alpha)\n",
    "\n",
    "            # metric\n",
    "            label_hat = np.argmax(y_hat_student.cpu().data.numpy(), axis=1)\n",
    "            label = y.cpu().data.numpy()\n",
    "            match = (label_hat==label)\n",
    "            valid_acc += sum(match)\n",
    "\n",
    "            valid_loss += batch_loss.item()\n",
    "    \n",
    "    \n",
    "    # -----------------------\n",
    "    #  progress \n",
    "    # -----------------------\n",
    "    epoch += 1\n",
    "    t = time.time() - epoch_start_time\n",
    "    train_loss /= len(train_set)\n",
    "    valid_loss /= len(valid_set)\n",
    "    train_acc /= len(train_set)\n",
    "    valid_acc /= len(valid_set)\n",
    "\n",
    "    print('epoch = %d, time = %d, train_loss = %.3f, train_acc = %.2f, valid_loss = %.3f, valid_acc = %.2f'%(\n",
    "        epoch, t, train_loss, train_acc, valid_loss, valid_acc))\n"
   ]
  },
  {
   "cell_type": "code",
   "execution_count": null,
   "metadata": {},
   "outputs": [],
   "source": []
  },
  {
   "cell_type": "code",
   "execution_count": null,
   "metadata": {},
   "outputs": [],
   "source": []
  },
  {
   "cell_type": "code",
   "execution_count": null,
   "metadata": {},
   "outputs": [],
   "source": []
  },
  {
   "cell_type": "code",
   "execution_count": null,
   "metadata": {},
   "outputs": [],
   "source": []
  },
  {
   "cell_type": "code",
   "execution_count": null,
   "metadata": {},
   "outputs": [],
   "source": []
  },
  {
   "cell_type": "code",
   "execution_count": null,
   "metadata": {},
   "outputs": [],
   "source": []
  },
  {
   "cell_type": "code",
   "execution_count": null,
   "metadata": {},
   "outputs": [],
   "source": []
  },
  {
   "cell_type": "code",
   "execution_count": null,
   "metadata": {},
   "outputs": [],
   "source": []
  },
  {
   "cell_type": "code",
   "execution_count": null,
   "metadata": {},
   "outputs": [],
   "source": []
  }
 ],
 "metadata": {
  "kernelspec": {
   "display_name": "Python 3",
   "language": "python",
   "name": "python3"
  },
  "language_info": {
   "codemirror_mode": {
    "name": "ipython",
    "version": 3
   },
   "file_extension": ".py",
   "mimetype": "text/x-python",
   "name": "python",
   "nbconvert_exporter": "python",
   "pygments_lexer": "ipython3",
   "version": "3.6.5"
  },
  "toc": {
   "base_numbering": 1,
   "nav_menu": {},
   "number_sections": true,
   "sideBar": true,
   "skip_h1_title": false,
   "title_cell": "Table of Contents",
   "title_sidebar": "Contents",
   "toc_cell": false,
   "toc_position": {},
   "toc_section_display": true,
   "toc_window_display": true
  }
 },
 "nbformat": 4,
 "nbformat_minor": 4
}
