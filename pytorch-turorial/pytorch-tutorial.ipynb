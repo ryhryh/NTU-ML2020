{
 "cells": [
  {
   "cell_type": "markdown",
   "metadata": {},
   "source": [
    "https://colab.research.google.com/drive/1Xed5YSpLsLfkn66OhhyNzr05VE89enng#scrollTo=Hh0YZh1QMTh7"
   ]
  },
  {
   "cell_type": "code",
   "execution_count": 1,
   "metadata": {
    "ExecuteTime": {
     "end_time": "2020-05-18T07:38:15.421823Z",
     "start_time": "2020-05-18T07:38:14.743596Z"
    }
   },
   "outputs": [],
   "source": [
    "import torch\n",
    "import torch.nn as nn\n",
    "import torch.nn.functional as F\n",
    "\n",
    "from mpl_toolkits.mplot3d import Axes3D\n",
    "import matplotlib.pyplot as plt\n",
    "\n",
    "import numpy as np\n",
    "\n",
    "import os\n",
    "os.environ[\"CUDA_VISIBLE_DEVICES\"] = \"1\"\n",
    "\n",
    "torch.manual_seed(446)\n",
    "np.random.seed(446)"
   ]
  },
  {
   "cell_type": "markdown",
   "metadata": {},
   "source": [
    "# basic"
   ]
  },
  {
   "cell_type": "code",
   "execution_count": 3,
   "metadata": {
    "ExecuteTime": {
     "end_time": "2020-05-18T07:38:15.636940Z",
     "start_time": "2020-05-18T07:38:15.429520Z"
    }
   },
   "outputs": [
    {
     "data": {
      "text/plain": [
       "([1, 2, 3], array([1, 2, 3]), tensor([1, 2, 3]))"
      ]
     },
     "execution_count": 3,
     "metadata": {},
     "output_type": "execute_result"
    }
   ],
   "source": [
    "a = [1,2,3]\n",
    "a_np = np.array(a)\n",
    "a_torch = torch.tensor(a)\n",
    "a, a_np, a_torch"
   ]
  },
  {
   "cell_type": "code",
   "execution_count": 4,
   "metadata": {
    "ExecuteTime": {
     "end_time": "2020-05-18T07:38:15.817299Z",
     "start_time": "2020-05-18T07:38:15.640724Z"
    }
   },
   "outputs": [
    {
     "data": {
      "text/plain": [
       "tensor([1, 2, 3])"
      ]
     },
     "execution_count": 4,
     "metadata": {},
     "output_type": "execute_result"
    }
   ],
   "source": [
    "torch.from_numpy(a_np)"
   ]
  },
  {
   "cell_type": "code",
   "execution_count": 5,
   "metadata": {
    "ExecuteTime": {
     "end_time": "2020-05-18T07:38:16.014616Z",
     "start_time": "2020-05-18T07:38:15.820924Z"
    }
   },
   "outputs": [
    {
     "data": {
      "text/plain": [
       "array([1, 2, 3])"
      ]
     },
     "execution_count": 5,
     "metadata": {},
     "output_type": "execute_result"
    }
   ],
   "source": [
    "a_torch.numpy()"
   ]
  },
  {
   "cell_type": "code",
   "execution_count": 6,
   "metadata": {
    "ExecuteTime": {
     "end_time": "2020-05-18T07:38:16.182003Z",
     "start_time": "2020-05-18T07:38:16.018459Z"
    }
   },
   "outputs": [
    {
     "data": {
      "text/plain": [
       "tensor([4., 6.])"
      ]
     },
     "execution_count": 6,
     "metadata": {},
     "output_type": "execute_result"
    }
   ],
   "source": [
    "a = torch.tensor([1.0, 2.0])\n",
    "b = torch.tensor([3.0, 4.0])\n",
    "a + b"
   ]
  },
  {
   "cell_type": "code",
   "execution_count": 7,
   "metadata": {
    "ExecuteTime": {
     "end_time": "2020-05-18T07:38:16.383643Z",
     "start_time": "2020-05-18T07:38:16.185694Z"
    }
   },
   "outputs": [
    {
     "data": {
      "text/plain": [
       "tensor(5.)"
      ]
     },
     "execution_count": 7,
     "metadata": {},
     "output_type": "execute_result"
    }
   ],
   "source": [
    "torch.norm(b)"
   ]
  },
  {
   "cell_type": "code",
   "execution_count": 8,
   "metadata": {
    "ExecuteTime": {
     "end_time": "2020-05-18T07:38:16.580551Z",
     "start_time": "2020-05-18T07:38:16.387490Z"
    }
   },
   "outputs": [
    {
     "data": {
      "text/plain": [
       "(tensor([3., 4.]), tensor([1.5000, 3.5000, 5.5000]))"
      ]
     },
     "execution_count": 8,
     "metadata": {},
     "output_type": "execute_result"
    }
   ],
   "source": [
    "a = torch.tensor(\n",
    "    [[1.0, 2.0],\n",
    "     [3.0, 4.0],\n",
    "     [5.0, 6.0],]\n",
    ")\n",
    "\n",
    "torch.mean(a, dim=0), torch.mean(a, dim=1)"
   ]
  },
  {
   "cell_type": "code",
   "execution_count": 9,
   "metadata": {
    "ExecuteTime": {
     "end_time": "2020-05-18T07:38:16.750288Z",
     "start_time": "2020-05-18T07:38:16.586005Z"
    }
   },
   "outputs": [
    {
     "data": {
      "text/plain": [
       "(tensor([0, 1, 2, 3, 4, 5, 6, 7]),\n",
       " tensor([[0, 1],\n",
       "         [2, 3],\n",
       "         [4, 5],\n",
       "         [6, 7]]),\n",
       " torch.Size([4, 2]))"
      ]
     },
     "execution_count": 9,
     "metadata": {},
     "output_type": "execute_result"
    }
   ],
   "source": [
    "a = torch.arange(8)\n",
    "a_ = a.view(4, 2)\n",
    "a, a_, a_.size()"
   ]
  },
  {
   "cell_type": "code",
   "execution_count": 10,
   "metadata": {
    "ExecuteTime": {
     "end_time": "2020-05-18T07:38:16.938616Z",
     "start_time": "2020-05-18T07:38:16.754260Z"
    }
   },
   "outputs": [
    {
     "data": {
      "text/plain": [
       "(torch.Size([3, 2]), torch.Size([2]), torch.Size([3, 2]))"
      ]
     },
     "execution_count": 10,
     "metadata": {},
     "output_type": "execute_result"
    }
   ],
   "source": [
    "x=torch.tensor([[1,2],\n",
    "                [3,4],\n",
    "                [5,6]])\n",
    "\n",
    "y=torch.tensor([7,8])\n",
    "\n",
    "z=x+y\n",
    "\n",
    "x.size(), y.size(), z.size()"
   ]
  },
  {
   "cell_type": "code",
   "execution_count": 11,
   "metadata": {
    "ExecuteTime": {
     "end_time": "2020-05-18T07:38:17.113571Z",
     "start_time": "2020-05-18T07:38:16.942428Z"
    }
   },
   "outputs": [
    {
     "data": {
      "text/plain": [
       "(tensor(3., grad_fn=<AddBackward0>),\n",
       " tensor(2., grad_fn=<AddBackward0>),\n",
       " tensor(6., grad_fn=<MulBackward0>))"
      ]
     },
     "execution_count": 11,
     "metadata": {},
     "output_type": "execute_result"
    }
   ],
   "source": [
    "# e = (a+b) * (b+1)\n",
    "a = torch.tensor(2., requires_grad=True)\n",
    "b = torch.tensor(1., requires_grad=True)\n",
    "\n",
    "c = a + b\n",
    "d = b + 1\n",
    "\n",
    "e = c * d\n",
    "\n",
    "c, d, e"
   ]
  },
  {
   "cell_type": "code",
   "execution_count": 12,
   "metadata": {
    "ExecuteTime": {
     "end_time": "2020-05-18T07:38:17.317815Z",
     "start_time": "2020-05-18T07:38:17.116949Z"
    }
   },
   "outputs": [
    {
     "data": {
      "text/plain": [
       "(device(type='cpu'), device(type='cuda'))"
      ]
     },
     "execution_count": 12,
     "metadata": {},
     "output_type": "execute_result"
    }
   ],
   "source": [
    "cpu = torch.device('cpu')\n",
    "gpu = torch.device('cuda') # not gpu\n",
    "\n",
    "cpu, gpu"
   ]
  },
  {
   "cell_type": "code",
   "execution_count": 13,
   "metadata": {
    "ExecuteTime": {
     "end_time": "2020-05-18T07:38:17.504121Z",
     "start_time": "2020-05-18T07:38:17.321375Z"
    }
   },
   "outputs": [
    {
     "data": {
      "text/plain": [
       "tensor([1., 2., 3.])"
      ]
     },
     "execution_count": 13,
     "metadata": {},
     "output_type": "execute_result"
    }
   ],
   "source": [
    "x = torch.tensor([1., 2., 3.])\n",
    "x_ = x.to(cpu)\n",
    "x_"
   ]
  },
  {
   "cell_type": "code",
   "execution_count": 14,
   "metadata": {
    "ExecuteTime": {
     "end_time": "2020-05-18T07:38:21.754731Z",
     "start_time": "2020-05-18T07:38:17.507787Z"
    }
   },
   "outputs": [
    {
     "data": {
      "text/plain": [
       "tensor([1., 2., 3.], device='cuda:0')"
      ]
     },
     "execution_count": 14,
     "metadata": {},
     "output_type": "execute_result"
    }
   ],
   "source": [
    "x = torch.tensor([1., 2., 3.])\n",
    "x_ = x.to(gpu)\n",
    "x_"
   ]
  },
  {
   "cell_type": "code",
   "execution_count": 24,
   "metadata": {
    "ExecuteTime": {
     "end_time": "2020-05-18T07:49:16.900234Z",
     "start_time": "2020-05-18T07:49:16.884690Z"
    }
   },
   "outputs": [
    {
     "data": {
      "text/plain": [
       "(tensor([3.], grad_fn=<MulBackward0>), tensor([3.]))"
      ]
     },
     "execution_count": 24,
     "metadata": {},
     "output_type": "execute_result"
    }
   ],
   "source": [
    "def f(x):\n",
    "    return (x-2)**3\n",
    "\n",
    "def grad_f(x):\n",
    "    return 3*(x-2)**2\n",
    "\n",
    "x = torch.tensor([1.0], requires_grad=True)\n",
    "\n",
    "y = f(x)\n",
    "y.backward()\n",
    "\n",
    "grad_f(x), x.grad"
   ]
  },
  {
   "cell_type": "code",
   "execution_count": 32,
   "metadata": {
    "ExecuteTime": {
     "end_time": "2020-05-18T07:58:03.889668Z",
     "start_time": "2020-05-18T07:58:03.866480Z"
    }
   },
   "outputs": [
    {
     "data": {
      "text/plain": [
       "(tensor([2.0000, 5.2832]), tensor([2.0000, 5.2832]))"
      ]
     },
     "execution_count": 32,
     "metadata": {},
     "output_type": "execute_result"
    }
   ],
   "source": [
    "def g(w):\n",
    "    w0 = w[0]\n",
    "    w1 = w[1]\n",
    "    z = 2*w0*w1 + w1*torch.cos(w0)\n",
    "    return z\n",
    "\n",
    "def grad_g(w):\n",
    "    w0 = w[0]\n",
    "    w1 = w[1]\n",
    "    grad_0_g = 2*w1 - w1*torch.sin(w0)\n",
    "    grad_1_g = 2*w0 + torch.cos(w0)\n",
    "    arr = [grad_0_g, grad_1_g]\n",
    "    return torch.tensor(arr)\n",
    "\n",
    "w = torch.tensor([np.pi, 1], requires_grad=True)\n",
    "\n",
    "z = g(w)\n",
    "z.backward()\n",
    "\n",
    "w.grad, grad_g(w)"
   ]
  },
  {
   "cell_type": "code",
   "execution_count": 75,
   "metadata": {
    "ExecuteTime": {
     "end_time": "2020-05-19T05:08:07.547601Z",
     "start_time": "2020-05-19T05:08:07.523263Z"
    }
   },
   "outputs": [
    {
     "name": "stdout",
     "output_type": "stream",
     "text": [
      "epoch = 0, x.grad = 6.00000, grad_f(x) = 6.00000, x = 5.00000, f(x) = 9.00000,\n",
      "epoch = 1, x.grad = 3.00000, grad_f(x) = 3.00000, x = 3.50000, f(x) = 2.25000,\n",
      "epoch = 2, x.grad = 1.50000, grad_f(x) = 1.50000, x = 2.75000, f(x) = 0.56250,\n",
      "epoch = 3, x.grad = 0.75000, grad_f(x) = 0.75000, x = 2.37500, f(x) = 0.14062,\n",
      "epoch = 4, x.grad = 0.37500, grad_f(x) = 0.37500, x = 2.18750, f(x) = 0.03516,\n"
     ]
    }
   ],
   "source": [
    "def f(x):\n",
    "    return (x-2)**2\n",
    "\n",
    "def grad_f(x):\n",
    "    return 2*(x-2)\n",
    "\n",
    "x = torch.tensor([5.0], requires_grad=True)\n",
    "step_size = 0.25\n",
    "\n",
    "for i in range(5):\n",
    "    y = f(x)\n",
    "    y.backward()\n",
    "    \n",
    "    print(\n",
    "        'epoch = %d,'%(i),\n",
    "        'x.grad = %.5f,'%(x.grad.item()),\n",
    "        'grad_f(x) = %.5f,'%(grad_f(x).item()),\n",
    "        'x = %.5f,'%(x.item()),\n",
    "        'f(x) = %.5f,'%(f(x).item()),\n",
    "    )\n",
    "    \n",
    "    x.data = x.data - step_size*x.grad\n",
    "    \n",
    "    \n",
    "    x.grad.detach_()\n",
    "    x.grad.zero_()\n",
    "    "
   ]
  },
  {
   "cell_type": "markdown",
   "metadata": {},
   "source": [
    "# linear regression"
   ]
  },
  {
   "cell_type": "markdown",
   "metadata": {},
   "source": [
    "## handcrafted"
   ]
  },
  {
   "cell_type": "code",
   "execution_count": 128,
   "metadata": {
    "ExecuteTime": {
     "end_time": "2020-05-19T05:26:54.179730Z",
     "start_time": "2020-05-19T05:26:54.139304Z"
    }
   },
   "outputs": [
    {
     "name": "stdout",
     "output_type": "stream",
     "text": [
      "###########################################################################\n",
      "epoch = 0, loss = 9.653, w = tensor([1., 0.]),\n",
      "epoch = 1, loss = 5.519, w = tensor([0.5712, 0.5367]),\n",
      "epoch = 2, loss = 3.174, w = tensor([0.2315, 0.9265]),\n",
      "epoch = 3, loss = 1.834, w = tensor([-0.0366,  1.2104]),\n",
      "epoch = 4, loss = 1.065, w = tensor([-0.2477,  1.4176]),\n",
      "epoch = 5, loss = 0.620, w = tensor([-0.4135,  1.5693]),\n",
      "epoch = 6, loss = 0.362, w = tensor([-0.5433,  1.6806]),\n",
      "epoch = 7, loss = 0.212, w = tensor([-0.6448,  1.7626]),\n",
      "epoch = 8, loss = 0.125, w = tensor([-0.7241,  1.8230]),\n",
      "epoch = 9, loss = 0.073, w = tensor([-0.7858,  1.8678]),\n",
      "epoch = 10, loss = 0.043, w = tensor([-0.8339,  1.9009]),\n",
      "epoch = 11, loss = 0.026, w = tensor([-0.8713,  1.9256]),\n",
      "epoch = 12, loss = 0.015, w = tensor([-0.9003,  1.9440]),\n",
      "epoch = 13, loss = 0.009, w = tensor([-0.9228,  1.9577]),\n",
      "epoch = 14, loss = 0.005, w = tensor([-0.9402,  1.9680]),\n",
      "epoch = 15, loss = 0.003, w = tensor([-0.9538,  1.9757]),\n",
      "epoch = 16, loss = 0.002, w = tensor([-0.9642,  1.9815]),\n",
      "epoch = 17, loss = 0.001, w = tensor([-0.9724,  1.9858]),\n",
      "epoch = 18, loss = 0.001, w = tensor([-0.9786,  1.9891]),\n",
      "epoch = 19, loss = 0.001, w = tensor([-0.9835,  1.9916]),\n",
      "###########################################################################\n",
      "w \t= tensor([-0.9872,  1.9935]),\n",
      "true_w \t= tensor([-1.,  2.]),\n"
     ]
    }
   ],
   "source": [
    "def model(X, w):\n",
    "    return X @ w\n",
    "\n",
    "# the residual sum of squares loss function\n",
    "def rss(y, y_hat):\n",
    "    return torch.norm(y - y_hat)**2 / n # [delta_1, delta_2] => sqrt(delta_1**2 + delta_2**2) => (delta_1**2 + delta_2**2)\n",
    "\n",
    "# analytical expression for the gradient\n",
    "def grad_rss(X, y, w):\n",
    "    return -2*X.t() @ (y - X @ w) / n\n",
    "\n",
    "dim = 2\n",
    "n = 50\n",
    "X = torch.randn(n, dim)\n",
    "true_w = torch.tensor([[-1.0], [2.0]]) # shape=2x1\n",
    "y = X @ true_w + torch.randn(n,1) * 0.01\n",
    "\n",
    "# print(X)\n",
    "# print(true_w)\n",
    "# print(y)\n",
    "\n",
    "print('###########################################################################')\n",
    "step_size = 0.1\n",
    "w = torch.tensor([[1.], [0.]], requires_grad=True)\n",
    "# w = torch.tensor([1., 0.], requires_grad=True).view(2,1)\n",
    "\n",
    "for i in range(20):\n",
    "    y_hat = model(X, w)\n",
    "    loss = rss(y, y_hat)\n",
    "    loss.backward()\n",
    "    \n",
    "    print(\n",
    "        'epoch = %d,'%(i),\n",
    "        'loss = %.3f,'%(loss.data),\n",
    "        'w = %s,'%(w.data.view(-1)),\n",
    "    )\n",
    "    \n",
    "    w.data = w.data - step_size * w.grad\n",
    "    \n",
    "    w.grad.detach()\n",
    "    w.grad.zero_()\n",
    "\n",
    "print('###########################################################################')\n",
    "print('w \\t= %s,'%(w.data.view(-1)))\n",
    "print('true_w \\t= %s,'%(true_w.data.view(-1)))\n"
   ]
  },
  {
   "cell_type": "markdown",
   "metadata": {},
   "source": [
    "# torch.nn.module"
   ]
  },
  {
   "cell_type": "markdown",
   "metadata": {},
   "source": [
    "## linear"
   ]
  },
  {
   "cell_type": "code",
   "execution_count": 130,
   "metadata": {
    "ExecuteTime": {
     "end_time": "2020-05-20T07:51:13.616346Z",
     "start_time": "2020-05-20T07:51:13.403825Z"
    }
   },
   "outputs": [
    {
     "name": "stdout",
     "output_type": "stream",
     "text": [
      "example_tensor torch.Size([2, 3])\n",
      "transormed torch.Size([2, 4])\n",
      "W: Parameter containing:\n",
      "tensor([[-0.5612, -0.5148,  0.1429],\n",
      "        [ 0.2812,  0.4589, -0.5025],\n",
      "        [ 0.3971, -0.5074,  0.4502],\n",
      "        [ 0.1254, -0.3997,  0.0699]], requires_grad=True)\n",
      "b: Parameter containing:\n",
      "tensor([-0.3972,  0.4036, -0.0977, -0.1359], requires_grad=True)\n"
     ]
    }
   ],
   "source": [
    "d_in = 3\n",
    "d_out = 4\n",
    "linear_module = nn.Linear(d_in, d_out)\n",
    "\n",
    "example_tensor = torch.tensor([[1.,2,3], [4,5,6]])\n",
    "# applys a linear transformation to the data\n",
    "transformed = linear_module(example_tensor)\n",
    "\n",
    "print('example_tensor', example_tensor.shape)\n",
    "print('transormed', transformed.shape)\n",
    "print('W:', linear_module.weight)\n",
    "print('b:', linear_module.bias)\n",
    "\n",
    "# x=2x4, w=4x4, y=2x4"
   ]
  },
  {
   "cell_type": "markdown",
   "metadata": {},
   "source": [
    "## activation"
   ]
  },
  {
   "cell_type": "code",
   "execution_count": 131,
   "metadata": {
    "ExecuteTime": {
     "end_time": "2020-05-20T07:56:09.808248Z",
     "start_time": "2020-05-20T07:56:09.763125Z"
    }
   },
   "outputs": [
    {
     "name": "stdout",
     "output_type": "stream",
     "text": [
      "example_tensor tensor([-1.,  1.,  0.])\n",
      "activated tensor([0., 1., 0.])\n"
     ]
    }
   ],
   "source": [
    "activation_fn = nn.ReLU() # we instantiate an instance of the ReLU module\n",
    "example_tensor = torch.tensor([-1.0, 1.0, 0.0])\n",
    "activated = activation_fn(example_tensor)\n",
    "print('example_tensor', example_tensor)\n",
    "print('activated', activated)"
   ]
  },
  {
   "cell_type": "markdown",
   "metadata": {},
   "source": [
    "## Sequential"
   ]
  },
  {
   "cell_type": "code",
   "execution_count": 138,
   "metadata": {
    "ExecuteTime": {
     "end_time": "2020-05-20T07:58:53.736723Z",
     "start_time": "2020-05-20T07:58:53.712505Z"
    }
   },
   "outputs": [
    {
     "name": "stdout",
     "output_type": "stream",
     "text": [
      "transformed torch.Size([2, 1])\n",
      "Parameter containing:\n",
      "tensor([[ 0.3052,  0.1772, -0.3648],\n",
      "        [ 0.1687, -0.2518, -0.0412],\n",
      "        [ 0.3544,  0.5448, -0.4616],\n",
      "        [ 0.1381,  0.5461,  0.3695]], requires_grad=True)\n",
      "Parameter containing:\n",
      "tensor([0.1463, 0.3112, 0.4342, 0.1179], requires_grad=True)\n",
      "Parameter containing:\n",
      "tensor([[-0.0915,  0.1464,  0.2085,  0.2905]], requires_grad=True)\n",
      "Parameter containing:\n",
      "tensor([0.3628], requires_grad=True)\n"
     ]
    }
   ],
   "source": [
    "d_in = 3\n",
    "d_hidden = 4\n",
    "d_out = 1\n",
    "\n",
    "model = torch.nn.Sequential(\n",
    "    nn.Linear(d_in, d_hidden),\n",
    "    nn.Tanh(),\n",
    "    nn.Linear(d_hidden, d_out),\n",
    "    nn.Sigmoid()\n",
    ")\n",
    "\n",
    "example_tensor = torch.tensor([[1.,2,3],[4,5,6]])\n",
    "transformed = model(example_tensor)\n",
    "print('transformed', transformed.shape)\n",
    "\n",
    "# x=2x3, x=2x4, x=2x1\n",
    "\n",
    "params = model.parameters()\n",
    "\n",
    "for param in params:\n",
    "    print(param)\n",
    "    \n",
    "# x1=2x3, a1=2x4, \"w1=4x4\", y1=2x4, \n",
    "# x2=2x4, a2=2x5, \"w2=5x1\", y2=2x1"
   ]
  },
  {
   "cell_type": "markdown",
   "metadata": {},
   "source": [
    "## loss"
   ]
  },
  {
   "cell_type": "code",
   "execution_count": 139,
   "metadata": {
    "ExecuteTime": {
     "end_time": "2020-05-20T08:26:27.467429Z",
     "start_time": "2020-05-20T08:26:27.398694Z"
    }
   },
   "outputs": [
    {
     "name": "stdout",
     "output_type": "stream",
     "text": [
      "tensor(0.6667)\n"
     ]
    }
   ],
   "source": [
    "mse_loss_fn = nn.MSELoss()\n",
    "\n",
    "input = torch.tensor([[0., 0, 0]])\n",
    "target = torch.tensor([[1., 0, -1]])\n",
    "\n",
    "loss = mse_loss_fn(input, target)\n",
    "\n",
    "print(loss)"
   ]
  },
  {
   "cell_type": "markdown",
   "metadata": {},
   "source": [
    "## optim"
   ]
  },
  {
   "cell_type": "code",
   "execution_count": 150,
   "metadata": {
    "ExecuteTime": {
     "end_time": "2020-05-20T08:37:43.799665Z",
     "start_time": "2020-05-20T08:37:43.788260Z"
    }
   },
   "outputs": [],
   "source": [
    "# create a simple model\n",
    "model = nn.Linear(1, 1)\n",
    "\n",
    "# create a simple dataset\n",
    "X_simple = torch.tensor([[1.]])\n",
    "y_simple = torch.tensor([[2.]])\n",
    "\n",
    "# x=1x1, a=1x2, w=2x1, y=1x1"
   ]
  },
  {
   "cell_type": "code",
   "execution_count": 151,
   "metadata": {
    "ExecuteTime": {
     "end_time": "2020-05-20T08:37:43.891169Z",
     "start_time": "2020-05-20T08:37:43.804651Z"
    }
   },
   "outputs": [
    {
     "name": "stdout",
     "output_type": "stream",
     "text": [
      "Parameter containing:\n",
      "tensor([[-0.2909]], requires_grad=True)\n",
      "Parameter containing:\n",
      "tensor([0.5024], requires_grad=True)\n",
      "##################################################\n",
      "W: Parameter containing:\n",
      "tensor([[-0.2909]], requires_grad=True)\n",
      "b: Parameter containing:\n",
      "tensor([0.5024], requires_grad=True)\n"
     ]
    }
   ],
   "source": [
    "for param in model.parameters():\n",
    "    print(param)\n",
    "\n",
    "print('#'*50)\n",
    "print('W:', model.weight)\n",
    "print('b:', model.bias)"
   ]
  },
  {
   "cell_type": "code",
   "execution_count": 152,
   "metadata": {
    "ExecuteTime": {
     "end_time": "2020-05-20T08:37:43.930751Z",
     "start_time": "2020-05-20T08:37:43.896024Z"
    }
   },
   "outputs": [
    {
     "name": "stdout",
     "output_type": "stream",
     "text": [
      "model params before: Parameter containing:\n",
      "tensor([[-0.2909]], requires_grad=True)\n"
     ]
    }
   ],
   "source": [
    "y_hat = model(X_simple)\n",
    "print('model params before:', model.weight)"
   ]
  },
  {
   "cell_type": "code",
   "execution_count": 153,
   "metadata": {
    "ExecuteTime": {
     "end_time": "2020-05-20T08:37:43.968839Z",
     "start_time": "2020-05-20T08:37:43.936359Z"
    }
   },
   "outputs": [],
   "source": [
    "# calculate loss\n",
    "mse_loss_fn = nn.MSELoss()\n",
    "loss = mse_loss_fn(y_hat, y_simple)"
   ]
  },
  {
   "cell_type": "code",
   "execution_count": 154,
   "metadata": {
    "ExecuteTime": {
     "end_time": "2020-05-20T08:37:44.011200Z",
     "start_time": "2020-05-20T08:37:43.972788Z"
    }
   },
   "outputs": [],
   "source": [
    "# calculate gradient\n",
    "optim = torch.optim.SGD(model.parameters(), lr=1e-2)\n",
    "optim.zero_grad()\n",
    "loss.backward()"
   ]
  },
  {
   "cell_type": "code",
   "execution_count": 155,
   "metadata": {
    "ExecuteTime": {
     "end_time": "2020-05-20T08:37:44.053538Z",
     "start_time": "2020-05-20T08:37:44.035937Z"
    }
   },
   "outputs": [
    {
     "name": "stdout",
     "output_type": "stream",
     "text": [
      "model params after: Parameter containing:\n",
      "tensor([[-0.2551]], requires_grad=True)\n"
     ]
    }
   ],
   "source": [
    "# update weight\n",
    "optim.step()\n",
    "print('model params after:', model.weight)"
   ]
  },
  {
   "cell_type": "markdown",
   "metadata": {},
   "source": [
    "## Linear regression using GD"
   ]
  },
  {
   "cell_type": "code",
   "execution_count": 250,
   "metadata": {
    "ExecuteTime": {
     "end_time": "2020-05-20T09:26:44.329110Z",
     "start_time": "2020-05-20T09:26:44.315328Z"
    }
   },
   "outputs": [],
   "source": [
    "def tensor2numpy(tensor):\n",
    "    return tensor.view(-1).detach().numpy()"
   ]
  },
  {
   "cell_type": "code",
   "execution_count": 252,
   "metadata": {
    "ExecuteTime": {
     "end_time": "2020-05-20T09:27:01.250022Z",
     "start_time": "2020-05-20T09:27:01.244847Z"
    }
   },
   "outputs": [],
   "source": [
    "dim = 2\n",
    "n = 50\n",
    "X = torch.randn(n, dim)\n",
    "true_w = torch.tensor([[-1.0], [2.0]]) # shape=2x1\n",
    "y = X @ true_w + torch.randn(n,1) * 0.01\n"
   ]
  },
  {
   "cell_type": "code",
   "execution_count": 253,
   "metadata": {
    "ExecuteTime": {
     "end_time": "2020-05-20T09:27:03.062386Z",
     "start_time": "2020-05-20T09:27:03.012277Z"
    }
   },
   "outputs": [
    {
     "name": "stdout",
     "output_type": "stream",
     "text": [
      "iter \t loss \t w\n",
      "0 \t 7.134 \t [-0.31248423  0.05111356]\n",
      "1 \t 4.464 \t [-0.4458925   0.46189028]\n",
      "2 \t 2.794 \t [-0.5532019  0.7862201]\n",
      "3 \t 1.749 \t [-0.6395578  1.0422826]\n",
      "4 \t 1.095 \t [-0.7090838  1.2444366]\n",
      "5 \t 0.686 \t [-0.76508594  1.4040226 ]\n",
      "6 \t 0.429 \t [-0.81021595  1.529997  ]\n",
      "7 \t 0.269 \t [-0.84660167  1.6294329 ]\n",
      "8 \t 0.169 \t [-0.87595123  1.7079161 ]\n",
      "9 \t 0.106 \t [-0.8996365  1.7698576]\n",
      "10 \t 0.066 \t [-0.9187597  1.8187405]\n",
      "11 \t 0.042 \t [-0.9342069  1.8573148]\n",
      "12 \t 0.026 \t [-0.9466907  1.8877523]\n",
      "13 \t 0.016 \t [-0.95678437  1.9117674 ]\n",
      "14 \t 0.010 \t [-0.96494937  1.9307137 ]\n",
      "15 \t 0.007 \t [-0.9715574  1.9456596]\n",
      "16 \t 0.004 \t [-0.97690785  1.9574488 ]\n",
      "17 \t 0.003 \t [-0.9812421  1.9667472]\n",
      "18 \t 0.002 \t [-0.9847548  1.9740801]\n",
      "19 \t 0.001 \t [-0.98760295  1.9798625 ]\n",
      "###########################################################################\n",
      "[-0.98760295  1.9798625 ]\n",
      "[-1.  2.]\n"
     ]
    }
   ],
   "source": [
    "step_size = 0.1\n",
    "\n",
    "linear_module = nn.Linear(dim, 1, bias=False)\n",
    "\n",
    "loss_func = nn.MSELoss()\n",
    "\n",
    "optim = torch.optim.SGD(linear_module.parameters(), lr=step_size)\n",
    "\n",
    "print('iter \\t loss \\t w')\n",
    "for i in range(20):\n",
    "    y_hat = linear_module(X)\n",
    "    loss = loss_func(y_hat, y)\n",
    "    optim.zero_grad()\n",
    "    loss.backward()\n",
    "    optim.step()\n",
    "    \n",
    "    loss_val = tensor2numpy(loss)\n",
    "    w_val = tensor2numpy(linear_module.weight)\n",
    "    print('%s \\t %.3f \\t %s'%(i, loss_val, w_val))\n",
    "    \n",
    "print('###########################################################################')\n",
    "print(tensor2numpy(linear_module.weight))\n",
    "print(tensor2numpy(true_w))\n"
   ]
  },
  {
   "cell_type": "markdown",
   "metadata": {},
   "source": [
    "## Linear regression using SGD"
   ]
  },
  {
   "cell_type": "code",
   "execution_count": 254,
   "metadata": {
    "ExecuteTime": {
     "end_time": "2020-05-20T09:27:05.805560Z",
     "start_time": "2020-05-20T09:27:05.794231Z"
    }
   },
   "outputs": [],
   "source": [
    "dim = 2\n",
    "n = 50\n",
    "X = torch.randn(n, dim)\n",
    "true_w = torch.tensor([[-1.0], [2.0]]) # shape=2x1\n",
    "Y = X @ true_w + torch.randn(n,1) * 0.01"
   ]
  },
  {
   "cell_type": "code",
   "execution_count": 255,
   "metadata": {
    "ExecuteTime": {
     "end_time": "2020-05-20T09:27:08.314181Z",
     "start_time": "2020-05-20T09:27:08.195629Z"
    }
   },
   "outputs": [
    {
     "name": "stdout",
     "output_type": "stream",
     "text": [
      "iter \t loss \t w\n",
      "0 \t 0.152 \t [-0.27243847  0.4990974 ]\n",
      "20 \t 2.119 \t [-0.54599005  0.82355416]\n",
      "40 \t 0.000 \t [-0.63375735  1.0806273 ]\n",
      "60 \t 0.046 \t [-0.80655026  1.3685516 ]\n",
      "80 \t 0.001 \t [-0.9280984  1.5851455]\n",
      "100 \t 0.262 \t [-0.9697795  1.716782 ]\n",
      "120 \t 0.152 \t [-0.9924532  1.8235798]\n",
      "140 \t 0.001 \t [-1.0149206  1.9018736]\n",
      "160 \t 0.015 \t [-1.023167   1.9381512]\n",
      "180 \t 0.000 \t [-1.024637   1.9518958]\n",
      "###########################################################################\n",
      "[-1.0135742  1.9684026]\n",
      "[-1.  2.]\n"
     ]
    }
   ],
   "source": [
    "step_size = 0.01\n",
    "\n",
    "linear_module = nn.Linear(dim, 1)\n",
    "loss_func = nn.MSELoss()\n",
    "optim = torch.optim.SGD(linear_module.parameters(), lr=step_size)\n",
    "\n",
    "print('iter \\t loss \\t w')\n",
    "for i in range(200):\n",
    "    rand_idx = np.random.choice(n) # take a random point from the dataset\n",
    "    x = X[rand_idx] \n",
    "    y = Y[rand_idx]\n",
    "    \n",
    "    y_hat = linear_module(x)\n",
    "    loss = loss_func(y_hat, y) # only compute the loss on the single point\n",
    "    optim.zero_grad()\n",
    "    loss.backward()\n",
    "    optim.step()\n",
    "    \n",
    "    if i % 20 == 0:\n",
    "        loss_val = tensor2numpy(loss)\n",
    "        w_val = tensor2numpy(linear_module.weight)\n",
    "        print('%s \\t %.3f \\t %s'%(i, loss_val, w_val))\n",
    "\n",
    "print('###########################################################################')\n",
    "print(tensor2numpy(linear_module.weight))\n",
    "print(tensor2numpy(true_w))"
   ]
  },
  {
   "cell_type": "markdown",
   "metadata": {},
   "source": [
    "# NN"
   ]
  },
  {
   "cell_type": "code",
   "execution_count": 256,
   "metadata": {
    "ExecuteTime": {
     "end_time": "2020-05-20T09:33:50.092632Z",
     "start_time": "2020-05-20T09:33:49.120983Z"
    }
   },
   "outputs": [
    {
     "data": {
      "image/png": "[encoded data removed]",
      "text/plain": [
       "<Figure size 432x288 with 1 Axes>"
      ]
     },
     "metadata": {
      "needs_background": "light"
     },
     "output_type": "display_data"
    }
   ],
   "source": [
    "%matplotlib inline\n",
    "\n",
    "d = 1\n",
    "n = 200\n",
    "X = torch.rand(n,d)\n",
    "y = 4 * torch.sin(np.pi * X) * torch.cos(6*np.pi*X**2)\n",
    "\n",
    "plt.scatter(X.numpy(), y.numpy())\n",
    "plt.title('plot of $f(x)$')\n",
    "plt.xlabel('$x$')\n",
    "plt.ylabel('$y$')\n",
    "\n",
    "plt.show()"
   ]
  },
  {
   "cell_type": "code",
   "execution_count": 257,
   "metadata": {
    "ExecuteTime": {
     "end_time": "2020-05-20T09:33:53.576032Z",
     "start_time": "2020-05-20T09:33:53.567516Z"
    }
   },
   "outputs": [
    {
     "data": {
      "text/plain": [
       "torch.Size([200, 1])"
      ]
     },
     "execution_count": 257,
     "metadata": {},
     "output_type": "execute_result"
    }
   ],
   "source": [
    "X.shape"
   ]
  },
  {
   "cell_type": "markdown",
   "metadata": {},
   "source": [
    "## GD"
   ]
  },
  {
   "cell_type": "code",
   "execution_count": 259,
   "metadata": {
    "ExecuteTime": {
     "end_time": "2020-05-20T09:38:21.311138Z",
     "start_time": "2020-05-20T09:38:10.568957Z"
    }
   },
   "outputs": [
    {
     "name": "stdout",
     "output_type": "stream",
     "text": [
      "iter \t loss\n",
      "0 \t 3.783\n",
      "600 \t 3.674\n",
      "1200 \t 2.058\n",
      "1800 \t 1.424\n",
      "2400 \t 0.760\n",
      "3000 \t 0.545\n",
      "3600 \t 0.411\n",
      "4200 \t 0.330\n",
      "4800 \t 0.251\n",
      "5400 \t 0.200\n"
     ]
    }
   ],
   "source": [
    "# feel free to play with these parameters\n",
    "\n",
    "step_size = 0.05\n",
    "n_epochs = 6000\n",
    "n_hidden_1 = 32\n",
    "n_hidden_2 = 32\n",
    "d_out = 1\n",
    "\n",
    "neural_network = nn.Sequential(\n",
    "    nn.Linear(d, n_hidden_1), \n",
    "    nn.Tanh(), # -1~1\n",
    "    nn.Linear(n_hidden_1, n_hidden_2),\n",
    "    nn.Tanh(),\n",
    "    nn.Linear(n_hidden_2, d_out)\n",
    ")\n",
    "\n",
    "loss_func = nn.MSELoss()\n",
    "\n",
    "optim = torch.optim.SGD(neural_network.parameters(), lr=step_size)\n",
    "print('iter \\t loss')\n",
    "for i in range(n_epochs):\n",
    "    y_hat = neural_network(X)\n",
    "    loss = loss_func(y_hat, y)\n",
    "    optim.zero_grad()\n",
    "    loss.backward()\n",
    "    optim.step()\n",
    "    \n",
    "    if i % (n_epochs // 10) == 0:\n",
    "        loss_val = tensor2numpy(loss)\n",
    "        print('%s \\t %.3f'%(i, loss_val))\n",
    "\n"
   ]
  },
  {
   "cell_type": "code",
   "execution_count": 275,
   "metadata": {
    "ExecuteTime": {
     "end_time": "2020-05-20T09:45:34.065165Z",
     "start_time": "2020-05-20T09:45:33.843141Z"
    }
   },
   "outputs": [
    {
     "data": {
      "image/png": "[encoded data removed]",
      "text/plain": [
       "<Figure size 432x288 with 1 Axes>"
      ]
     },
     "metadata": {
      "needs_background": "light"
     },
     "output_type": "display_data"
    }
   ],
   "source": [
    "# shape=>size, reshape=>view\n",
    "X_grid = torch.from_numpy(np.linspace(0,1,51)).float().reshape(-1, d)\n",
    "y_hat = neural_network(X_grid)\n",
    "plt.scatter(X.numpy(), y.numpy())\n",
    "plt.plot(tensor2numpy(X_grid), tensor2numpy(y_hat), 'r')\n",
    "plt.title('plot of $f(x)$ and $\\hat{f}(x)$')\n",
    "plt.xlabel('$x$')\n",
    "plt.ylabel('$y$')\n",
    "plt.show()"
   ]
  },
  {
   "cell_type": "code",
   "execution_count": 283,
   "metadata": {
    "ExecuteTime": {
     "end_time": "2020-05-20T09:48:58.252764Z",
     "start_time": "2020-05-20T09:48:58.240356Z"
    }
   },
   "outputs": [
    {
     "name": "stdout",
     "output_type": "stream",
     "text": [
      "tensor([0.0000, 0.5000, 1.0000])\n",
      "tensor([0.0000, 0.5000, 1.0000], dtype=torch.float64)\n"
     ]
    }
   ],
   "source": [
    "print(torch.from_numpy(np.linspace(0,1,3)).float())\n",
    "print(torch.from_numpy(np.linspace(0,1,3)))"
   ]
  },
  {
   "cell_type": "markdown",
   "metadata": {},
   "source": [
    "## momentum"
   ]
  },
  {
   "cell_type": "code",
   "execution_count": 295,
   "metadata": {
    "ExecuteTime": {
     "end_time": "2020-05-20T09:55:29.788650Z",
     "start_time": "2020-05-20T09:55:18.836425Z"
    }
   },
   "outputs": [
    {
     "name": "stdout",
     "output_type": "stream",
     "text": [
      "iter \t loss\n",
      "0 \t 3.866\n",
      "600 \t 0.126\n",
      "1200 \t 0.004\n",
      "1800 \t 0.001\n",
      "2400 \t 0.001\n",
      "3000 \t 0.001\n",
      "3600 \t 0.001\n",
      "4200 \t 0.001\n",
      "4800 \t 0.001\n",
      "5400 \t 0.001\n"
     ]
    }
   ],
   "source": [
    "# feel free to play with these parameters\n",
    "\n",
    "step_size = 0.05\n",
    "momentum = 0.9\n",
    "n_epochs = 6000\n",
    "n_hidden_1 = 32\n",
    "n_hidden_2 = 32\n",
    "d_out = 1\n",
    "\n",
    "neural_network = nn.Sequential(\n",
    "                            nn.Linear(d, n_hidden_1), \n",
    "                            nn.Tanh(),\n",
    "                            nn.Linear(n_hidden_1, n_hidden_2),\n",
    "                            nn.Tanh(),\n",
    "                            nn.Linear(n_hidden_2, d_out)\n",
    "                            )\n",
    "\n",
    "loss_func = nn.MSELoss()\n",
    "\n",
    "params = neural_network.parameters()\n",
    "optim = torch.optim.SGD(params=params, lr=step_size, momentum=momentum)\n",
    "print('iter \\t loss')\n",
    "for i in range(n_epochs):\n",
    "    y_hat = neural_network(X)\n",
    "    loss = loss_func(y_hat, y)\n",
    "    optim.zero_grad()\n",
    "    loss.backward()\n",
    "    optim.step()\n",
    "    \n",
    "    if i % (n_epochs // 10) == 0:\n",
    "        loss_val = tensor2numpy(loss)\n",
    "        print('%s \\t %.3f'%(i, loss_val))\n",
    "\n"
   ]
  },
  {
   "cell_type": "code",
   "execution_count": 286,
   "metadata": {
    "ExecuteTime": {
     "end_time": "2020-05-20T09:53:30.716741Z",
     "start_time": "2020-05-20T09:53:30.400205Z"
    }
   },
   "outputs": [
    {
     "data": {
      "image/png": "[encoded data removed]",
      "text/plain": [
       "<Figure size 432x288 with 1 Axes>"
      ]
     },
     "metadata": {
      "needs_background": "light"
     },
     "output_type": "display_data"
    }
   ],
   "source": [
    "# shape=>size, reshape=>view\n",
    "X_grid = torch.from_numpy(np.linspace(0,1,51)).float().reshape(-1, d)\n",
    "y_hat = neural_network(X_grid)\n",
    "plt.scatter(X.numpy(), y.numpy())\n",
    "plt.plot(tensor2numpy(X_grid), tensor2numpy(y_hat), 'r')\n",
    "plt.title('plot of $f(x)$ and $\\hat{f}(x)$')\n",
    "plt.xlabel('$x$')\n",
    "plt.ylabel('$y$')\n",
    "plt.show()"
   ]
  },
  {
   "cell_type": "code",
   "execution_count": 297,
   "metadata": {
    "ExecuteTime": {
     "end_time": "2020-05-20T09:56:07.564434Z",
     "start_time": "2020-05-20T09:56:07.552497Z"
    }
   },
   "outputs": [
    {
     "data": {
      "text/plain": [
       "mappingproxy({'params': <Parameter \"params\">,\n",
       "              'lr': <Parameter \"lr=<required parameter>\">,\n",
       "              'momentum': <Parameter \"momentum=0\">,\n",
       "              'dampening': <Parameter \"dampening=0\">,\n",
       "              'weight_decay': <Parameter \"weight_decay=0\">,\n",
       "              'nesterov': <Parameter \"nesterov=False\">})"
      ]
     },
     "execution_count": 297,
     "metadata": {},
     "output_type": "execute_result"
    }
   ],
   "source": [
    "import inspect\n",
    "f=torch.optim.SGD\n",
    "inspect.signature(f).parameters"
   ]
  },
  {
   "cell_type": "markdown",
   "metadata": {},
   "source": [
    "# corss entropy"
   ]
  },
  {
   "cell_type": "code",
   "execution_count": 314,
   "metadata": {
    "ExecuteTime": {
     "end_time": "2020-05-20T10:28:37.842003Z",
     "start_time": "2020-05-20T10:28:37.826899Z"
    }
   },
   "outputs": [
    {
     "name": "stdout",
     "output_type": "stream",
     "text": [
      "tensor(0.0025)\n"
     ]
    }
   ],
   "source": [
    "loss = nn.CrossEntropyLoss()\n",
    "\n",
    "# input = torch.tensor([[-1., 1],[-1, 1],[1, -1]]) # raw scores correspond to the correct class\n",
    "input = torch.tensor([[-3., 3],[-3, 3],[3, -3]]) # raw scores correspond to the correct class with higher confidence\n",
    "# input = torch.tensor([[1., -1],[1, -1],[-1, 1]]) # raw scores correspond to the incorrect class\n",
    "# input = torch.tensor([[3., -3],[3, -3],[-3, 3]]) # raw scores correspond to the incorrect class with incorrectly placed confidence\n",
    "\n",
    "target = torch.tensor([1, 1, 0])\n",
    "output = loss(input, target)\n",
    "print(output)\n",
    "\n",
    "# input=(3,2), \n",
    "# 3=minibatch size, 2=number of classes\n",
    "\n",
    "# target=(3,)\n",
    "# "
   ]
  },
  {
   "cell_type": "code",
   "execution_count": 301,
   "metadata": {
    "ExecuteTime": {
     "end_time": "2020-05-20T10:18:58.965984Z",
     "start_time": "2020-05-20T10:18:58.958641Z"
    }
   },
   "outputs": [
    {
     "data": {
      "text/plain": [
       "mappingproxy({'input': <Parameter \"*input\">, 'kwargs': <Parameter \"**kwargs\">})"
      ]
     },
     "execution_count": 301,
     "metadata": {},
     "output_type": "execute_result"
    }
   ],
   "source": [
    "f=loss\n",
    "inspect.signature(f).parameters"
   ]
  },
  {
   "cell_type": "code",
   "execution_count": 317,
   "metadata": {
    "ExecuteTime": {
     "end_time": "2020-05-20T10:29:38.403918Z",
     "start_time": "2020-05-20T10:29:38.383294Z"
    }
   },
   "outputs": [
    {
     "name": "stdout",
     "output_type": "stream",
     "text": [
      "[[0.00247262 0.99752738]\n",
      " [0.00247262 0.99752738]\n",
      " [0.99752738 0.00247262]]\n",
      "##################################################\n",
      "[[-0.          0.00247569]\n",
      " [-0.          0.00247569]\n",
      " [ 0.00247569 -0.        ]]\n",
      "##################################################\n",
      "[0.00247569 0.00247569 0.00247569]\n",
      "##################################################\n",
      "0.0024756851377305544\n"
     ]
    }
   ],
   "source": [
    "from scipy.special import softmax\n",
    "q=softmax([[-3., 3],\n",
    "           [-3, 3],\n",
    "           [3, -3]], axis=1)\n",
    "print(q)\n",
    "print('#'*50)\n",
    "\n",
    "\n",
    "# [1,1,0]\n",
    "p=np.array([[0,1],\n",
    "            [0,1],\n",
    "            [1,0]])\n",
    "\n",
    "\n",
    "L=-p*np.log(q)\n",
    "print(L)\n",
    "print('#'*50)\n",
    "\n",
    "L=np.sum(L,axis=1)\n",
    "print(L)\n",
    "print('#'*50)\n",
    "\n",
    "L=np.mean(L,axis=0)\n",
    "print(L)"
   ]
  },
  {
   "cell_type": "markdown",
   "metadata": {},
   "source": [
    "# convoluton"
   ]
  },
  {
   "cell_type": "code",
   "execution_count": 320,
   "metadata": {
    "ExecuteTime": {
     "end_time": "2020-05-20T10:50:56.845338Z",
     "start_time": "2020-05-20T10:50:56.795856Z"
    }
   },
   "outputs": [],
   "source": [
    "# an entire mnist digit\n",
    "image = np.array([0., 0., 0., 0., 0.,0., 0., 0., 0., 0.,0., 0., 0., 0., 0.,0., 0., 0., 0., 0.,0., 0., 0., 0., 0.,0., 0., 0., 0., 0.,0., 0., 0., 0., 0.,0., 0., 0., 0., 0.,0., 0., 0., 0., 0.,0., 0., 0., 0., 0.,0., 0., 0., 0., 0.,0., 0., 0., 0., 0.,0., 0., 0., 0., 0.,0., 0., 0., 0., 0.,0., 0., 0., 0., 0.,0., 0., 0., 0., 0.,0., 0., 0., 0., 0.,0., 0., 0., 0., 0.,0., 0., 0., 0., 0.,0., 0., 0., 0., 0.,0., 0., 0., 0., 0.,0., 0., 0., 0., 0.,0., 0., 0., 0., 0.,0., 0., 0., 0., 0.,0., 0., 0., 0., 0.,0., 0., 0., 0., 0.,0., 0., 0., 0., 0.,0., 0., 0., 0., 0.,0., 0., 0., 0., 0.,0., 0., 0., 0., 0.,0., 0., 0., 0., 0.,0., 0., 0., 0., 0.,0., 0., 0., 0., 0.,0., 0., 0., 0., 0.,0., 0., 0., 0., 0.,0., 0., 0., 0., 0.,0., 0., 0., 0., 0.,0., 0., 0., 0., 0.,0., 0., 0., 0., 0.,0., 0., 0., 0., 0.,0., 0., 0., 0., 0.,0., 0., 0.3803922 , 0.37647063, 0.3019608 ,0.46274513, 0.2392157 , 0., 0., 0.,0., 0., 0., 0., 0.,0., 0., 0., 0., 0.,0., 0., 0.3529412 , 0.5411765 , 0.9215687 ,0.9215687 , 0.9215687 , 0.9215687 , 0.9215687 , 0.9215687 ,0.9843138 , 0.9843138 , 0.9725491 , 0.9960785 , 0.9607844 ,0.9215687 , 0.74509805, 0.08235294, 0., 0.,0., 0., 0., 0., 0.,0., 0., 0., 0., 0.54901963,0.9843138 , 0.9960785 , 0.9960785 , 0.9960785 , 0.9960785 ,0.9960785 , 0.9960785 , 0.9960785 , 0.9960785 , 0.9960785 ,0.9960785 , 0.9960785 , 0.9960785 , 0.9960785 , 0.9960785 ,0.7411765 , 0.09019608, 0., 0., 0.,0., 0., 0., 0., 0.,0., 0., 0.8862746 , 0.9960785 , 0.81568635,0.7803922 , 0.7803922 , 0.7803922 , 0.7803922 , 0.54509807,0.2392157 , 0.2392157 , 0.2392157 , 0.2392157 , 0.2392157 ,0.5019608 , 0.8705883 , 0.9960785 , 0.9960785 , 0.7411765 ,0.08235294, 0., 0., 0., 0.,0., 0., 0., 0., 0.,0.14901961, 0.32156864, 0.0509804 , 0., 0.,0., 0., 0., 0., 0.,0., 0., 0., 0., 0.13333334,0.8352942 , 0.9960785 , 0.9960785 , 0.45098042, 0.,0., 0., 0., 0., 0.,0., 0., 0., 0., 0.,0., 0., 0., 0., 0.,0., 0., 0., 0., 0.,0., 0., 0., 0.32941177, 0.9960785 ,0.9960785 , 0.9176471 , 0., 0., 0.,0., 0., 0., 0., 0.,0., 0., 0., 0., 0.,0., 0., 0., 0., 0.,0., 0., 0., 0., 0.,0., 0.32941177, 0.9960785 , 0.9960785 , 0.9176471 ,0., 0., 0., 0., 0.,0., 0., 0., 0., 0.,0., 0., 0., 0., 0.,0., 0., 0., 0., 0.,0., 0., 0., 0.4156863 , 0.6156863 ,0.9960785 , 0.9960785 , 0.95294124, 0.20000002, 0.,0., 0., 0., 0., 0.,0., 0., 0., 0., 0.,0., 0., 0., 0., 0.,0., 0.09803922, 0.45882356, 0.8941177 , 0.8941177 ,0.8941177 , 0.9921569 , 0.9960785 , 0.9960785 , 0.9960785 ,0.9960785 , 0.94117653, 0., 0., 0.,0., 0., 0., 0., 0.,0., 0., 0., 0., 0.,0., 0., 0.26666668, 0.4666667 , 0.86274517,0.9960785 , 0.9960785 , 0.9960785 , 0.9960785 , 0.9960785 ,0.9960785 , 0.9960785 , 0.9960785 , 0.9960785 , 0.5568628 ,0., 0., 0., 0., 0.,0., 0., 0., 0., 0.,0., 0., 0., 0.14509805, 0.73333335,0.9921569 , 0.9960785 , 0.9960785 , 0.9960785 , 0.8745099 ,0.8078432 , 0.8078432 , 0.29411766, 0.26666668, 0.8431373 ,0.9960785 , 0.9960785 , 0.45882356, 0., 0.,0., 0., 0., 0., 0.,0., 0., 0., 0., 0.,0.4431373 , 0.8588236 , 0.9960785 , 0.9490197 , 0.89019614,0.45098042, 0.34901962, 0.12156864, 0., 0.,0., 0., 0.7843138 , 0.9960785 , 0.9450981 ,0.16078432, 0., 0., 0., 0.,0., 0., 0., 0., 0.,0., 0., 0., 0.6627451 , 0.9960785 ,0.6901961 , 0.24313727, 0., 0., 0.,0., 0., 0., 0., 0.18823531,0.9058824 , 0.9960785 , 0.9176471 , 0., 0.,0., 0., 0., 0., 0.,0., 0., 0., 0., 0.,0., 0.07058824, 0.48627454, 0., 0.,0., 0., 0., 0., 0.,0., 0., 0.32941177, 0.9960785 , 0.9960785 ,0.6509804 , 0., 0., 0., 0.,0., 0., 0., 0., 0.,0., 0., 0., 0., 0.,0., 0., 0., 0., 0.,0., 0., 0., 0., 0.,0.54509807, 0.9960785 , 0.9333334 , 0.22352943, 0.,0., 0., 0., 0., 0.,0., 0., 0., 0., 0.,0., 0., 0., 0., 0.,0., 0., 0., 0., 0.,0., 0., 0.8235295 , 0.9803922 , 0.9960785 ,0.65882355, 0., 0., 0., 0.,0., 0., 0., 0., 0.,0., 0., 0., 0., 0.,0., 0., 0., 0., 0.,0., 0., 0., 0., 0.,0.9490197 , 0.9960785 , 0.93725497, 0.22352943, 0.,0., 0., 0., 0., 0.,0., 0., 0., 0., 0.,0., 0., 0., 0., 0.,0., 0., 0., 0., 0.,0., 0., 0.34901962, 0.9843138 , 0.9450981 ,0.3372549 , 0., 0., 0., 0.,0., 0., 0., 0., 0.,0., 0., 0., 0., 0.,0., 0., 0., 0., 0.,0., 0., 0., 0., 0.01960784,0.8078432 , 0.96470594, 0.6156863 , 0., 0.,0., 0., 0., 0., 0.,0., 0., 0., 0., 0.,0., 0., 0., 0., 0.,0., 0., 0., 0., 0.,0., 0., 0.01568628, 0.45882356, 0.27058825,0., 0., 0., 0., 0.,0., 0., 0., 0., 0.,0., 0., 0., 0., 0.,0., 0., 0., 0., 0.,0., 0., 0., 0., 0.,0., 0., 0., 0., 0.,0., 0., 0., 0., 0.,0., 0., 0., 0.], dtype=np.float32)\n",
    "image_torch = torch.from_numpy(image).view(1, 1, 28, 28)\n",
    "# image_torch\n"
   ]
  },
  {
   "cell_type": "code",
   "execution_count": 325,
   "metadata": {
    "ExecuteTime": {
     "end_time": "2020-05-20T10:53:31.707743Z",
     "start_time": "2020-05-20T10:53:31.698176Z"
    }
   },
   "outputs": [
    {
     "data": {
      "text/plain": [
       "mappingproxy({'in_channels': <Parameter \"in_channels\">,\n",
       "              'out_channels': <Parameter \"out_channels\">,\n",
       "              'kernel_size': <Parameter \"kernel_size\">,\n",
       "              'stride': <Parameter \"stride=1\">,\n",
       "              'padding': <Parameter \"padding=0\">,\n",
       "              'dilation': <Parameter \"dilation=1\">,\n",
       "              'groups': <Parameter \"groups=1\">,\n",
       "              'bias': <Parameter \"bias=True\">,\n",
       "              'padding_mode': <Parameter \"padding_mode='zeros'\">})"
      ]
     },
     "execution_count": 325,
     "metadata": {},
     "output_type": "execute_result"
    }
   ],
   "source": [
    "f=nn.Conv2d\n",
    "inspect.signature(f).parameters"
   ]
  },
  {
   "cell_type": "code",
   "execution_count": 326,
   "metadata": {
    "ExecuteTime": {
     "end_time": "2020-05-20T10:54:11.920465Z",
     "start_time": "2020-05-20T10:54:11.904622Z"
    }
   },
   "outputs": [
    {
     "data": {
      "text/plain": [
       "torch.Size([1, 1, 3, 3])"
      ]
     },
     "execution_count": 326,
     "metadata": {},
     "output_type": "execute_result"
    }
   ],
   "source": [
    "# a gaussian blur kernel\n",
    "kernel_weight = torch.tensor([[1., 2, 1],[2, 4, 2],[1, 2, 1]]) / 16.0\n",
    "\n",
    "conv = nn.Conv2d(1, 1, 3)\n",
    "# manually set the conv weight\n",
    "conv.weight.data[:] = kernel_weight\n",
    "\n",
    "conv.weight.data.size()"
   ]
  },
  {
   "cell_type": "code",
   "execution_count": 327,
   "metadata": {
    "ExecuteTime": {
     "end_time": "2020-05-20T10:54:14.012613Z",
     "start_time": "2020-05-20T10:54:13.710077Z"
    }
   },
   "outputs": [
    {
     "data": {
      "image/png": "[encoded data removed]",
      "text/plain": [
       "<Figure size 432x288 with 1 Axes>"
      ]
     },
     "metadata": {
      "needs_background": "light"
     },
     "output_type": "display_data"
    },
    {
     "data": {
      "image/png": "[encoded data removed]",
      "text/plain": [
       "<Figure size 432x288 with 1 Axes>"
      ]
     },
     "metadata": {
      "needs_background": "light"
     },
     "output_type": "display_data"
    }
   ],
   "source": [
    "convolved = conv(image_torch)\n",
    "\n",
    "plt.title('original image')\n",
    "plt.imshow(image_torch.view(28,28).detach().numpy())\n",
    "plt.show()\n",
    "\n",
    "plt.title('blurred image')\n",
    "plt.imshow(convolved.view(26,26).detach().numpy())\n",
    "plt.show()"
   ]
  },
  {
   "cell_type": "code",
   "execution_count": 329,
   "metadata": {
    "ExecuteTime": {
     "end_time": "2020-05-20T10:56:55.259440Z",
     "start_time": "2020-05-20T10:56:55.234282Z"
    }
   },
   "outputs": [
    {
     "name": "stdout",
     "output_type": "stream",
     "text": [
      "im shape torch.Size([4, 3, 32, 32])\n",
      "convolved im shape torch.Size([4, 16, 30, 30])\n"
     ]
    }
   ],
   "source": [
    "im_channels = 3 # if we are working with RGB images, there are 3 input channels, with black and white, 1\n",
    "out_channels = 16 # this is a hyperparameter we can tune\n",
    "kernel_size = 3 # this is another hyperparameter we can tune\n",
    "batch_size = 4\n",
    "image_width = 32\n",
    "image_height = 32\n",
    "\n",
    "x = torch.randn(batch_size, im_channels, image_width, image_height)\n",
    "\n",
    "model = nn.Conv2d(im_channels, out_channels, kernel_size)\n",
    "y = model(x) # it is a module so we can call it\n",
    "\n",
    "print('im shape', x.shape)\n",
    "print('convolved im shape', y.shape)\n"
   ]
  },
  {
   "cell_type": "markdown",
   "metadata": {},
   "source": [
    "# data loader"
   ]
  },
  {
   "cell_type": "code",
   "execution_count": 345,
   "metadata": {
    "ExecuteTime": {
     "end_time": "2020-05-20T11:05:04.174491Z",
     "start_time": "2020-05-20T11:05:04.160866Z"
    }
   },
   "outputs": [],
   "source": [
    "from torch.utils.data import Dataset, DataLoader\n",
    "\n",
    "class FakeDataset(Dataset):\n",
    "\n",
    "    def __init__(self, X, Y):\n",
    "        self.X = X\n",
    "        self.Y = Y\n",
    "\n",
    "    def __len__(self):\n",
    "        return len(self.X)\n",
    "\n",
    "    def __getitem__(self, idx):\n",
    "        x = self.X[idx]\n",
    "        y = self.Y[idx]\n",
    "        return x, y "
   ]
  },
  {
   "cell_type": "code",
   "execution_count": 346,
   "metadata": {
    "ExecuteTime": {
     "end_time": "2020-05-20T11:05:05.356080Z",
     "start_time": "2020-05-20T11:05:05.344432Z"
    }
   },
   "outputs": [
    {
     "name": "stdout",
     "output_type": "stream",
     "text": [
      "(100, 10) (100,)\n"
     ]
    }
   ],
   "source": [
    "X = np.random.rand(100, 10)\n",
    "Y = np.random.rand(100)\n",
    "print(X.shape, Y.shape)\n",
    "\n",
    "dataset = FakeDataset(X, Y)\n",
    "dataloader = DataLoader(dataset, batch_size=4, shuffle=True, num_workers=4)"
   ]
  },
  {
   "cell_type": "code",
   "execution_count": 347,
   "metadata": {
    "ExecuteTime": {
     "end_time": "2020-05-20T11:05:07.408026Z",
     "start_time": "2020-05-20T11:05:07.025103Z"
    }
   },
   "outputs": [
    {
     "name": "stdout",
     "output_type": "stream",
     "text": [
      "0 2 torch.Size([4, 10]) torch.Size([4])\n",
      "1 2 torch.Size([4, 10]) torch.Size([4])\n",
      "2 2 torch.Size([4, 10]) torch.Size([4])\n",
      "3 2 torch.Size([4, 10]) torch.Size([4])\n",
      "4 2 torch.Size([4, 10]) torch.Size([4])\n",
      "5 2 torch.Size([4, 10]) torch.Size([4])\n",
      "6 2 torch.Size([4, 10]) torch.Size([4])\n",
      "7 2 torch.Size([4, 10]) torch.Size([4])\n",
      "8 2 torch.Size([4, 10]) torch.Size([4])\n",
      "9 2 torch.Size([4, 10]) torch.Size([4])\n",
      "10 2 torch.Size([4, 10]) torch.Size([4])\n",
      "11 2 torch.Size([4, 10]) torch.Size([4])\n",
      "12 2 torch.Size([4, 10]) torch.Size([4])\n",
      "13 2 torch.Size([4, 10]) torch.Size([4])\n",
      "14 2 torch.Size([4, 10]) torch.Size([4])\n",
      "15 2 torch.Size([4, 10]) torch.Size([4])\n",
      "16 2 torch.Size([4, 10]) torch.Size([4])\n",
      "17 2 torch.Size([4, 10]) torch.Size([4])\n",
      "18 2 torch.Size([4, 10]) torch.Size([4])\n",
      "19 2 torch.Size([4, 10]) torch.Size([4])\n",
      "20 2 torch.Size([4, 10]) torch.Size([4])\n",
      "21 2 torch.Size([4, 10]) torch.Size([4])\n",
      "22 2 torch.Size([4, 10]) torch.Size([4])\n",
      "23 2 torch.Size([4, 10]) torch.Size([4])\n",
      "24 2 torch.Size([4, 10]) torch.Size([4])\n"
     ]
    }
   ],
   "source": [
    "for i_batch, data_batch in enumerate(dataloader):\n",
    "    x_batch = data_batch[0]\n",
    "    y_batch = data_batch[1]\n",
    "    print(i_batch, len(data_batch), x_batch.shape, y_batch.shape)"
   ]
  },
  {
   "cell_type": "code",
   "execution_count": null,
   "metadata": {},
   "outputs": [],
   "source": []
  },
  {
   "cell_type": "code",
   "execution_count": null,
   "metadata": {},
   "outputs": [],
   "source": []
  },
  {
   "cell_type": "code",
   "execution_count": null,
   "metadata": {},
   "outputs": [],
   "source": []
  },
  {
   "cell_type": "code",
   "execution_count": null,
   "metadata": {},
   "outputs": [],
   "source": []
  },
  {
   "cell_type": "code",
   "execution_count": null,
   "metadata": {},
   "outputs": [],
   "source": []
  }
 ],
 "metadata": {
  "kernelspec": {
   "display_name": "Python 3",
   "language": "python",
   "name": "python3"
  },
  "language_info": {
   "codemirror_mode": {
    "name": "ipython",
    "version": 3
   },
   "file_extension": ".py",
   "mimetype": "text/x-python",
   "name": "python",
   "nbconvert_exporter": "python",
   "pygments_lexer": "ipython3",
   "version": "3.6.5"
  },
  "toc": {
   "base_numbering": 1,
   "nav_menu": {},
   "number_sections": true,
   "sideBar": true,
   "skip_h1_title": false,
   "title_cell": "Table of Contents",
   "title_sidebar": "Contents",
   "toc_cell": false,
   "toc_position": {},
   "toc_section_display": true,
   "toc_window_display": false
  }
 },
 "nbformat": 4,
 "nbformat_minor": 4
}
