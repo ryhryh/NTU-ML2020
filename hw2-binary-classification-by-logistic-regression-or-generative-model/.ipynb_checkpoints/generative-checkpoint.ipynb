{
 "cells": [
  {
   "cell_type": "markdown",
   "metadata": {},
   "source": [
    "https://photos.app.goo.gl/XoVToPFsXXBkeuPb7\n",
    "\n",
    "https://photos.app.goo.gl/csX8RTEdwDfroRfg7"
   ]
  },
  {
   "cell_type": "code",
   "execution_count": 1,
   "metadata": {
    "ExecuteTime": {
     "end_time": "2020-05-17T17:34:38.539454Z",
     "start_time": "2020-05-17T17:34:37.532772Z"
    },
    "collapsed": true
   },
   "outputs": [],
   "source": [
    "import pandas as pd\n",
    "import numpy as np\n",
    "import os\n",
    "import seaborn as sns"
   ]
  },
  {
   "cell_type": "markdown",
   "metadata": {},
   "source": [
    "# preprocessing"
   ]
  },
  {
   "cell_type": "markdown",
   "metadata": {},
   "source": [
    "## get npy"
   ]
  },
  {
   "cell_type": "markdown",
   "metadata": {
    "heading_collapsed": true
   },
   "source": [
    "### assignment data"
   ]
  },
  {
   "cell_type": "code",
   "execution_count": 2,
   "metadata": {
    "ExecuteTime": {
     "end_time": "2020-05-17T17:34:38.544419Z",
     "start_time": "2020-05-17T17:34:38.541656Z"
    },
    "hidden": true
   },
   "outputs": [],
   "source": [
    "# path=os.path.join('datasets','X_train')\n",
    "# with open(path) as f:\n",
    "#     next(f)\n",
    "#     x_train = np.array([line.strip('\\n').split(',')[1:] for line in f], dtype = float)\n",
    "\n",
    "# path=os.path.join('datasets','Y_train')\n",
    "# with open(path) as f:\n",
    "#     next(f)\n",
    "#     y_train = np.array([line.strip('\\n').split(',')[1] for line in f], dtype = float)\n",
    "\n",
    "# path=os.path.join('datasets','X_test')\n",
    "# with open(path) as f:\n",
    "#     next(f)\n",
    "#     x_test = np.array([line.strip('\\n').split(',')[1:] for line in f], dtype = float)\n"
   ]
  },
  {
   "cell_type": "code",
   "execution_count": null,
   "metadata": {
    "collapsed": true,
    "hidden": true
   },
   "outputs": [],
   "source": []
  },
  {
   "cell_type": "markdown",
   "metadata": {},
   "source": [
    "### process by myself"
   ]
  },
  {
   "cell_type": "markdown",
   "metadata": {},
   "source": [
    "#### read data"
   ]
  },
  {
   "cell_type": "code",
   "execution_count": 3,
   "metadata": {
    "ExecuteTime": {
     "end_time": "2020-05-17T17:34:39.230497Z",
     "start_time": "2020-05-17T17:34:38.546522Z"
    }
   },
   "outputs": [
    {
     "name": "stdout",
     "output_type": "stream",
     "text": [
      "(54256, 42)\n"
     ]
    },
    {
     "data": {
      "text/html": [
       "<div>\n",
       "<style scoped>\n",
       "    .dataframe tbody tr th:only-of-type {\n",
       "        vertical-align: middle;\n",
       "    }\n",
       "\n",
       "    .dataframe tbody tr th {\n",
       "        vertical-align: top;\n",
       "    }\n",
       "\n",
       "    .dataframe thead th {\n",
       "        text-align: right;\n",
       "    }\n",
       "</style>\n",
       "<table border=\"1\" class=\"dataframe\">\n",
       "  <thead>\n",
       "    <tr style=\"text-align: right;\">\n",
       "      <th></th>\n",
       "      <th>id</th>\n",
       "      <th>age</th>\n",
       "      <th>class of worker</th>\n",
       "      <th>detailed industry recode</th>\n",
       "      <th>detailed occupation recode</th>\n",
       "      <th>education</th>\n",
       "      <th>wage per hour</th>\n",
       "      <th>enroll in edu inst last wk</th>\n",
       "      <th>marital stat</th>\n",
       "      <th>major industry code</th>\n",
       "      <th>...</th>\n",
       "      <th>country of birth father</th>\n",
       "      <th>country of birth mother</th>\n",
       "      <th>country of birth self</th>\n",
       "      <th>citizenship</th>\n",
       "      <th>own business or self employed</th>\n",
       "      <th>fill inc questionnaire for veteran's admin</th>\n",
       "      <th>veterans benefits</th>\n",
       "      <th>weeks worked in year</th>\n",
       "      <th>year</th>\n",
       "      <th>y</th>\n",
       "    </tr>\n",
       "  </thead>\n",
       "  <tbody>\n",
       "    <tr>\n",
       "      <th>0</th>\n",
       "      <td>0</td>\n",
       "      <td>33</td>\n",
       "      <td>Private</td>\n",
       "      <td>34</td>\n",
       "      <td>26</td>\n",
       "      <td>Masters degree(MA MS MEng MEd MSW MBA)</td>\n",
       "      <td>0</td>\n",
       "      <td>Not in universe</td>\n",
       "      <td>Married-civilian spouse present</td>\n",
       "      <td>Finance insurance and real estate</td>\n",
       "      <td>...</td>\n",
       "      <td>China</td>\n",
       "      <td>China</td>\n",
       "      <td>Taiwan</td>\n",
       "      <td>Foreign born- Not a citizen of U S</td>\n",
       "      <td>2</td>\n",
       "      <td>Not in universe</td>\n",
       "      <td>2</td>\n",
       "      <td>52</td>\n",
       "      <td>95</td>\n",
       "      <td>50000+.</td>\n",
       "    </tr>\n",
       "    <tr>\n",
       "      <th>1</th>\n",
       "      <td>1</td>\n",
       "      <td>63</td>\n",
       "      <td>Private</td>\n",
       "      <td>7</td>\n",
       "      <td>22</td>\n",
       "      <td>Some college but no degree</td>\n",
       "      <td>0</td>\n",
       "      <td>Not in universe</td>\n",
       "      <td>Never married</td>\n",
       "      <td>Manufacturing-durable goods</td>\n",
       "      <td>...</td>\n",
       "      <td>?</td>\n",
       "      <td>?</td>\n",
       "      <td>United-States</td>\n",
       "      <td>Native- Born in the United States</td>\n",
       "      <td>0</td>\n",
       "      <td>Not in universe</td>\n",
       "      <td>2</td>\n",
       "      <td>52</td>\n",
       "      <td>95</td>\n",
       "      <td>- 50000.</td>\n",
       "    </tr>\n",
       "    <tr>\n",
       "      <th>2</th>\n",
       "      <td>2</td>\n",
       "      <td>71</td>\n",
       "      <td>Not in universe</td>\n",
       "      <td>0</td>\n",
       "      <td>0</td>\n",
       "      <td>7th and 8th grade</td>\n",
       "      <td>0</td>\n",
       "      <td>Not in universe</td>\n",
       "      <td>Married-civilian spouse present</td>\n",
       "      <td>Not in universe or children</td>\n",
       "      <td>...</td>\n",
       "      <td>Germany</td>\n",
       "      <td>United-States</td>\n",
       "      <td>United-States</td>\n",
       "      <td>Native- Born in the United States</td>\n",
       "      <td>0</td>\n",
       "      <td>Not in universe</td>\n",
       "      <td>2</td>\n",
       "      <td>0</td>\n",
       "      <td>95</td>\n",
       "      <td>- 50000.</td>\n",
       "    </tr>\n",
       "    <tr>\n",
       "      <th>3</th>\n",
       "      <td>3</td>\n",
       "      <td>43</td>\n",
       "      <td>Local government</td>\n",
       "      <td>43</td>\n",
       "      <td>10</td>\n",
       "      <td>Bachelors degree(BA AB BS)</td>\n",
       "      <td>0</td>\n",
       "      <td>Not in universe</td>\n",
       "      <td>Married-civilian spouse present</td>\n",
       "      <td>Education</td>\n",
       "      <td>...</td>\n",
       "      <td>United-States</td>\n",
       "      <td>United-States</td>\n",
       "      <td>United-States</td>\n",
       "      <td>Native- Born in the United States</td>\n",
       "      <td>0</td>\n",
       "      <td>Not in universe</td>\n",
       "      <td>2</td>\n",
       "      <td>52</td>\n",
       "      <td>95</td>\n",
       "      <td>- 50000.</td>\n",
       "    </tr>\n",
       "    <tr>\n",
       "      <th>4</th>\n",
       "      <td>4</td>\n",
       "      <td>57</td>\n",
       "      <td>Local government</td>\n",
       "      <td>40</td>\n",
       "      <td>32</td>\n",
       "      <td>Some college but no degree</td>\n",
       "      <td>0</td>\n",
       "      <td>Not in universe</td>\n",
       "      <td>Widowed</td>\n",
       "      <td>Entertainment</td>\n",
       "      <td>...</td>\n",
       "      <td>United-States</td>\n",
       "      <td>United-States</td>\n",
       "      <td>United-States</td>\n",
       "      <td>Native- Born in the United States</td>\n",
       "      <td>0</td>\n",
       "      <td>Not in universe</td>\n",
       "      <td>2</td>\n",
       "      <td>52</td>\n",
       "      <td>95</td>\n",
       "      <td>- 50000.</td>\n",
       "    </tr>\n",
       "  </tbody>\n",
       "</table>\n",
       "<p>5 rows × 42 columns</p>\n",
       "</div>"
      ],
      "text/plain": [
       "   id  age    class of worker  detailed industry recode  \\\n",
       "0   0   33            Private                        34   \n",
       "1   1   63            Private                         7   \n",
       "2   2   71    Not in universe                         0   \n",
       "3   3   43   Local government                        43   \n",
       "4   4   57   Local government                        40   \n",
       "\n",
       "   detailed occupation recode                                education  \\\n",
       "0                          26   Masters degree(MA MS MEng MEd MSW MBA)   \n",
       "1                          22               Some college but no degree   \n",
       "2                           0                        7th and 8th grade   \n",
       "3                          10               Bachelors degree(BA AB BS)   \n",
       "4                          32               Some college but no degree   \n",
       "\n",
       "   wage per hour enroll in edu inst last wk                      marital stat  \\\n",
       "0              0            Not in universe   Married-civilian spouse present   \n",
       "1              0            Not in universe                     Never married   \n",
       "2              0            Not in universe   Married-civilian spouse present   \n",
       "3              0            Not in universe   Married-civilian spouse present   \n",
       "4              0            Not in universe                           Widowed   \n",
       "\n",
       "                  major industry code    ...     country of birth father  \\\n",
       "0   Finance insurance and real estate    ...                       China   \n",
       "1         Manufacturing-durable goods    ...                           ?   \n",
       "2         Not in universe or children    ...                     Germany   \n",
       "3                           Education    ...               United-States   \n",
       "4                       Entertainment    ...               United-States   \n",
       "\n",
       "  country of birth mother country of birth self  \\\n",
       "0                   China                Taiwan   \n",
       "1                       ?         United-States   \n",
       "2           United-States         United-States   \n",
       "3           United-States         United-States   \n",
       "4           United-States         United-States   \n",
       "\n",
       "                            citizenship own business or self employed  \\\n",
       "0   Foreign born- Not a citizen of U S                              2   \n",
       "1     Native- Born in the United States                             0   \n",
       "2     Native- Born in the United States                             0   \n",
       "3     Native- Born in the United States                             0   \n",
       "4     Native- Born in the United States                             0   \n",
       "\n",
       "  fill inc questionnaire for veteran's admin veterans benefits  \\\n",
       "0                            Not in universe                 2   \n",
       "1                            Not in universe                 2   \n",
       "2                            Not in universe                 2   \n",
       "3                            Not in universe                 2   \n",
       "4                            Not in universe                 2   \n",
       "\n",
       "   weeks worked in year  year          y  \n",
       "0                    52    95    50000+.  \n",
       "1                    52    95   - 50000.  \n",
       "2                     0    95   - 50000.  \n",
       "3                    52    95   - 50000.  \n",
       "4                    52    95   - 50000.  \n",
       "\n",
       "[5 rows x 42 columns]"
      ]
     },
     "execution_count": 3,
     "metadata": {},
     "output_type": "execute_result"
    }
   ],
   "source": [
    "path=os.path.join('datasets','train.csv')\n",
    "df_train=pd.read_csv(path)\n",
    "\n",
    "print(df_train.shape)\n",
    "df_train.head()"
   ]
  },
  {
   "cell_type": "code",
   "execution_count": 4,
   "metadata": {
    "ExecuteTime": {
     "end_time": "2020-05-17T17:34:39.568479Z",
     "start_time": "2020-05-17T17:34:39.232661Z"
    }
   },
   "outputs": [
    {
     "name": "stdout",
     "output_type": "stream",
     "text": [
      "(27622, 41)\n"
     ]
    },
    {
     "data": {
      "text/html": [
       "<div>\n",
       "<style scoped>\n",
       "    .dataframe tbody tr th:only-of-type {\n",
       "        vertical-align: middle;\n",
       "    }\n",
       "\n",
       "    .dataframe tbody tr th {\n",
       "        vertical-align: top;\n",
       "    }\n",
       "\n",
       "    .dataframe thead th {\n",
       "        text-align: right;\n",
       "    }\n",
       "</style>\n",
       "<table border=\"1\" class=\"dataframe\">\n",
       "  <thead>\n",
       "    <tr style=\"text-align: right;\">\n",
       "      <th></th>\n",
       "      <th>id</th>\n",
       "      <th>age</th>\n",
       "      <th>class of worker</th>\n",
       "      <th>detailed industry recode</th>\n",
       "      <th>detailed occupation recode</th>\n",
       "      <th>education</th>\n",
       "      <th>wage per hour</th>\n",
       "      <th>enroll in edu inst last wk</th>\n",
       "      <th>marital stat</th>\n",
       "      <th>major industry code</th>\n",
       "      <th>...</th>\n",
       "      <th>family members under 18</th>\n",
       "      <th>country of birth father</th>\n",
       "      <th>country of birth mother</th>\n",
       "      <th>country of birth self</th>\n",
       "      <th>citizenship</th>\n",
       "      <th>own business or self employed</th>\n",
       "      <th>fill inc questionnaire for veteran's admin</th>\n",
       "      <th>veterans benefits</th>\n",
       "      <th>weeks worked in year</th>\n",
       "      <th>year</th>\n",
       "    </tr>\n",
       "  </thead>\n",
       "  <tbody>\n",
       "    <tr>\n",
       "      <th>0</th>\n",
       "      <td>0</td>\n",
       "      <td>37</td>\n",
       "      <td>Private</td>\n",
       "      <td>42</td>\n",
       "      <td>30</td>\n",
       "      <td>Associates degree-occup /vocational</td>\n",
       "      <td>0</td>\n",
       "      <td>Not in universe</td>\n",
       "      <td>Married-civilian spouse present</td>\n",
       "      <td>Medical except hospital</td>\n",
       "      <td>...</td>\n",
       "      <td>Not in universe</td>\n",
       "      <td>United-States</td>\n",
       "      <td>United-States</td>\n",
       "      <td>United-States</td>\n",
       "      <td>Native- Born in the United States</td>\n",
       "      <td>0</td>\n",
       "      <td>Not in universe</td>\n",
       "      <td>2</td>\n",
       "      <td>52</td>\n",
       "      <td>95</td>\n",
       "    </tr>\n",
       "    <tr>\n",
       "      <th>1</th>\n",
       "      <td>1</td>\n",
       "      <td>48</td>\n",
       "      <td>Private</td>\n",
       "      <td>31</td>\n",
       "      <td>35</td>\n",
       "      <td>High school graduate</td>\n",
       "      <td>0</td>\n",
       "      <td>Not in universe</td>\n",
       "      <td>Married-civilian spouse present</td>\n",
       "      <td>Utilities and sanitary services</td>\n",
       "      <td>...</td>\n",
       "      <td>Not in universe</td>\n",
       "      <td>United-States</td>\n",
       "      <td>United-States</td>\n",
       "      <td>United-States</td>\n",
       "      <td>Native- Born in the United States</td>\n",
       "      <td>0</td>\n",
       "      <td>Not in universe</td>\n",
       "      <td>2</td>\n",
       "      <td>52</td>\n",
       "      <td>95</td>\n",
       "    </tr>\n",
       "    <tr>\n",
       "      <th>2</th>\n",
       "      <td>2</td>\n",
       "      <td>68</td>\n",
       "      <td>Not in universe</td>\n",
       "      <td>0</td>\n",
       "      <td>0</td>\n",
       "      <td>High school graduate</td>\n",
       "      <td>0</td>\n",
       "      <td>Not in universe</td>\n",
       "      <td>Married-spouse absent</td>\n",
       "      <td>Not in universe or children</td>\n",
       "      <td>...</td>\n",
       "      <td>Not in universe</td>\n",
       "      <td>United-States</td>\n",
       "      <td>United-States</td>\n",
       "      <td>United-States</td>\n",
       "      <td>Native- Born in the United States</td>\n",
       "      <td>0</td>\n",
       "      <td>Not in universe</td>\n",
       "      <td>2</td>\n",
       "      <td>0</td>\n",
       "      <td>94</td>\n",
       "    </tr>\n",
       "    <tr>\n",
       "      <th>3</th>\n",
       "      <td>3</td>\n",
       "      <td>74</td>\n",
       "      <td>Private</td>\n",
       "      <td>12</td>\n",
       "      <td>36</td>\n",
       "      <td>11th grade</td>\n",
       "      <td>700</td>\n",
       "      <td>Not in universe</td>\n",
       "      <td>Married-civilian spouse present</td>\n",
       "      <td>Manufacturing-durable goods</td>\n",
       "      <td>...</td>\n",
       "      <td>Not in universe</td>\n",
       "      <td>Poland</td>\n",
       "      <td>Poland</td>\n",
       "      <td>United-States</td>\n",
       "      <td>Native- Born in the United States</td>\n",
       "      <td>0</td>\n",
       "      <td>Not in universe</td>\n",
       "      <td>2</td>\n",
       "      <td>52</td>\n",
       "      <td>95</td>\n",
       "    </tr>\n",
       "    <tr>\n",
       "      <th>4</th>\n",
       "      <td>4</td>\n",
       "      <td>18</td>\n",
       "      <td>Federal government</td>\n",
       "      <td>50</td>\n",
       "      <td>14</td>\n",
       "      <td>Some college but no degree</td>\n",
       "      <td>0</td>\n",
       "      <td>Not in universe</td>\n",
       "      <td>Never married</td>\n",
       "      <td>Public administration</td>\n",
       "      <td>...</td>\n",
       "      <td>Not in universe</td>\n",
       "      <td>United-States</td>\n",
       "      <td>United-States</td>\n",
       "      <td>United-States</td>\n",
       "      <td>Native- Born in the United States</td>\n",
       "      <td>0</td>\n",
       "      <td>Not in universe</td>\n",
       "      <td>2</td>\n",
       "      <td>0</td>\n",
       "      <td>95</td>\n",
       "    </tr>\n",
       "  </tbody>\n",
       "</table>\n",
       "<p>5 rows × 41 columns</p>\n",
       "</div>"
      ],
      "text/plain": [
       "   id  age      class of worker  detailed industry recode  \\\n",
       "0   0   37              Private                        42   \n",
       "1   1   48              Private                        31   \n",
       "2   2   68      Not in universe                         0   \n",
       "3   3   74              Private                        12   \n",
       "4   4   18   Federal government                        50   \n",
       "\n",
       "   detailed occupation recode                             education  \\\n",
       "0                          30   Associates degree-occup /vocational   \n",
       "1                          35                  High school graduate   \n",
       "2                           0                  High school graduate   \n",
       "3                          36                            11th grade   \n",
       "4                          14            Some college but no degree   \n",
       "\n",
       "   wage per hour enroll in edu inst last wk                      marital stat  \\\n",
       "0              0            Not in universe   Married-civilian spouse present   \n",
       "1              0            Not in universe   Married-civilian spouse present   \n",
       "2              0            Not in universe             Married-spouse absent   \n",
       "3            700            Not in universe   Married-civilian spouse present   \n",
       "4              0            Not in universe                     Never married   \n",
       "\n",
       "                major industry code  ...  family members under 18  \\\n",
       "0           Medical except hospital  ...          Not in universe   \n",
       "1   Utilities and sanitary services  ...          Not in universe   \n",
       "2       Not in universe or children  ...          Not in universe   \n",
       "3       Manufacturing-durable goods  ...          Not in universe   \n",
       "4             Public administration  ...          Not in universe   \n",
       "\n",
       "  country of birth father country of birth mother country of birth self  \\\n",
       "0           United-States           United-States         United-States   \n",
       "1           United-States           United-States         United-States   \n",
       "2           United-States           United-States         United-States   \n",
       "3                  Poland                  Poland         United-States   \n",
       "4           United-States           United-States         United-States   \n",
       "\n",
       "                          citizenship own business or self employed  \\\n",
       "0   Native- Born in the United States                             0   \n",
       "1   Native- Born in the United States                             0   \n",
       "2   Native- Born in the United States                             0   \n",
       "3   Native- Born in the United States                             0   \n",
       "4   Native- Born in the United States                             0   \n",
       "\n",
       "  fill inc questionnaire for veteran's admin  veterans benefits  \\\n",
       "0                            Not in universe                  2   \n",
       "1                            Not in universe                  2   \n",
       "2                            Not in universe                  2   \n",
       "3                            Not in universe                  2   \n",
       "4                            Not in universe                  2   \n",
       "\n",
       "   weeks worked in year  year  \n",
       "0                    52    95  \n",
       "1                    52    95  \n",
       "2                     0    94  \n",
       "3                    52    95  \n",
       "4                     0    95  \n",
       "\n",
       "[5 rows x 41 columns]"
      ]
     },
     "execution_count": 4,
     "metadata": {},
     "output_type": "execute_result"
    }
   ],
   "source": [
    "path=os.path.join('datasets','test_no_label.csv')\n",
    "df_test=pd.read_csv(path)\n",
    "\n",
    "print(df_test.shape)\n",
    "df_test.head()"
   ]
  },
  {
   "cell_type": "code",
   "execution_count": 5,
   "metadata": {
    "ExecuteTime": {
     "end_time": "2020-05-17T17:34:39.817178Z",
     "start_time": "2020-05-17T17:34:39.570603Z"
    }
   },
   "outputs": [
    {
     "data": {
      "text/html": [
       "<div>\n",
       "<style scoped>\n",
       "    .dataframe tbody tr th:only-of-type {\n",
       "        vertical-align: middle;\n",
       "    }\n",
       "\n",
       "    .dataframe tbody tr th {\n",
       "        vertical-align: top;\n",
       "    }\n",
       "\n",
       "    .dataframe thead th {\n",
       "        text-align: right;\n",
       "    }\n",
       "</style>\n",
       "<table border=\"1\" class=\"dataframe\">\n",
       "  <thead>\n",
       "    <tr style=\"text-align: right;\">\n",
       "      <th></th>\n",
       "      <th>feature</th>\n",
       "      <th>data_type</th>\n",
       "      <th>unique_num</th>\n",
       "      <th>nan_ratio</th>\n",
       "    </tr>\n",
       "  </thead>\n",
       "  <tbody>\n",
       "    <tr>\n",
       "      <th>0</th>\n",
       "      <td>id</td>\n",
       "      <td>int64</td>\n",
       "      <td>54256</td>\n",
       "      <td>0.0</td>\n",
       "    </tr>\n",
       "    <tr>\n",
       "      <th>1</th>\n",
       "      <td>age</td>\n",
       "      <td>int64</td>\n",
       "      <td>91</td>\n",
       "      <td>0.0</td>\n",
       "    </tr>\n",
       "    <tr>\n",
       "      <th>2</th>\n",
       "      <td>class of worker</td>\n",
       "      <td>object</td>\n",
       "      <td>9</td>\n",
       "      <td>0.0</td>\n",
       "    </tr>\n",
       "    <tr>\n",
       "      <th>3</th>\n",
       "      <td>detailed industry recode</td>\n",
       "      <td>int64</td>\n",
       "      <td>52</td>\n",
       "      <td>0.0</td>\n",
       "    </tr>\n",
       "    <tr>\n",
       "      <th>4</th>\n",
       "      <td>detailed occupation recode</td>\n",
       "      <td>int64</td>\n",
       "      <td>47</td>\n",
       "      <td>0.0</td>\n",
       "    </tr>\n",
       "  </tbody>\n",
       "</table>\n",
       "</div>"
      ],
      "text/plain": [
       "                      feature data_type  unique_num  nan_ratio\n",
       "0                          id     int64       54256        0.0\n",
       "1                         age     int64          91        0.0\n",
       "2             class of worker    object           9        0.0\n",
       "3    detailed industry recode     int64          52        0.0\n",
       "4  detailed occupation recode     int64          47        0.0"
      ]
     },
     "execution_count": 5,
     "metadata": {},
     "output_type": "execute_result"
    }
   ],
   "source": [
    "def get_feature_info(df):\n",
    "    info=pd.DataFrame()\n",
    "    info['feature']=df.columns\n",
    "    info['data_type']=info.feature.apply(lambda x: str(df[x].dtype))\n",
    "    info['unique_num']=info.feature.apply(lambda x: len(df[x].unique()))\n",
    "    info['nan_ratio']=info.feature.apply(lambda x: (df[x].isna().sum())/len(df) )\n",
    "    return info\n",
    "\n",
    "# df_train.columns\n",
    "train_info=get_feature_info(df_train)\n",
    "train_info.head()"
   ]
  },
  {
   "cell_type": "code",
   "execution_count": null,
   "metadata": {
    "ExecuteTime": {
     "end_time": "2020-05-17T08:09:05.307863Z",
     "start_time": "2020-05-17T08:09:01.265755Z"
    },
    "collapsed": true
   },
   "outputs": [],
   "source": []
  },
  {
   "cell_type": "code",
   "execution_count": null,
   "metadata": {
    "collapsed": true
   },
   "outputs": [],
   "source": []
  },
  {
   "cell_type": "markdown",
   "metadata": {},
   "source": [
    "#### split train to (x,y)"
   ]
  },
  {
   "cell_type": "code",
   "execution_count": 6,
   "metadata": {
    "ExecuteTime": {
     "end_time": "2020-05-17T17:34:39.845190Z",
     "start_time": "2020-05-17T17:34:39.819332Z"
    }
   },
   "outputs": [
    {
     "data": {
      "text/plain": [
       "((54256, 41), (54256, 1), (27622, 41))"
      ]
     },
     "execution_count": 6,
     "metadata": {},
     "output_type": "execute_result"
    }
   ],
   "source": [
    "df_x_train=df_train.drop(columns='y')\n",
    "df_y_train=df_train[['y']]\n",
    "df_x_test=df_test\n",
    "\n",
    "df_x_train.shape, df_y_train.shape, df_x_test.shape"
   ]
  },
  {
   "cell_type": "code",
   "execution_count": 7,
   "metadata": {
    "ExecuteTime": {
     "end_time": "2020-05-17T17:34:39.916577Z",
     "start_time": "2020-05-17T17:34:39.847339Z"
    }
   },
   "outputs": [
    {
     "data": {
      "text/plain": [
       "(81878, 41)"
      ]
     },
     "execution_count": 7,
     "metadata": {},
     "output_type": "execute_result"
    }
   ],
   "source": [
    "df_x_all=pd.concat([df_x_train,df_x_test],axis=0)\n",
    "df_x_all.shape"
   ]
  },
  {
   "cell_type": "markdown",
   "metadata": {},
   "source": [
    "#### category to number"
   ]
  },
  {
   "cell_type": "code",
   "execution_count": 8,
   "metadata": {
    "ExecuteTime": {
     "end_time": "2020-05-17T17:34:40.216369Z",
     "start_time": "2020-05-17T17:34:39.918597Z"
    }
   },
   "outputs": [
    {
     "data": {
      "text/html": [
       "<div>\n",
       "<style scoped>\n",
       "    .dataframe tbody tr th:only-of-type {\n",
       "        vertical-align: middle;\n",
       "    }\n",
       "\n",
       "    .dataframe tbody tr th {\n",
       "        vertical-align: top;\n",
       "    }\n",
       "\n",
       "    .dataframe thead th {\n",
       "        text-align: right;\n",
       "    }\n",
       "</style>\n",
       "<table border=\"1\" class=\"dataframe\">\n",
       "  <thead>\n",
       "    <tr style=\"text-align: right;\">\n",
       "      <th></th>\n",
       "      <th>id</th>\n",
       "      <th>age</th>\n",
       "      <th>detailed industry recode</th>\n",
       "      <th>detailed occupation recode</th>\n",
       "      <th>wage per hour</th>\n",
       "      <th>capital gains</th>\n",
       "      <th>capital losses</th>\n",
       "      <th>dividends from stocks</th>\n",
       "      <th>num persons worked for employer</th>\n",
       "      <th>own business or self employed</th>\n",
       "      <th>...</th>\n",
       "      <th>country of birth self_ Vietnam</th>\n",
       "      <th>country of birth self_ Yugoslavia</th>\n",
       "      <th>citizenship_ Foreign born- Not a citizen of U S</th>\n",
       "      <th>citizenship_ Foreign born- U S citizen by naturalization</th>\n",
       "      <th>citizenship_ Native- Born abroad of American Parent(s)</th>\n",
       "      <th>citizenship_ Native- Born in Puerto Rico or U S Outlying</th>\n",
       "      <th>citizenship_ Native- Born in the United States</th>\n",
       "      <th>fill inc questionnaire for veteran's admin_ No</th>\n",
       "      <th>fill inc questionnaire for veteran's admin_ Not in universe</th>\n",
       "      <th>fill inc questionnaire for veteran's admin_ Yes</th>\n",
       "    </tr>\n",
       "  </thead>\n",
       "  <tbody>\n",
       "    <tr>\n",
       "      <th>0</th>\n",
       "      <td>0</td>\n",
       "      <td>33</td>\n",
       "      <td>34</td>\n",
       "      <td>26</td>\n",
       "      <td>0</td>\n",
       "      <td>0</td>\n",
       "      <td>0</td>\n",
       "      <td>0</td>\n",
       "      <td>6</td>\n",
       "      <td>2</td>\n",
       "      <td>...</td>\n",
       "      <td>0</td>\n",
       "      <td>0</td>\n",
       "      <td>1</td>\n",
       "      <td>0</td>\n",
       "      <td>0</td>\n",
       "      <td>0</td>\n",
       "      <td>0</td>\n",
       "      <td>0</td>\n",
       "      <td>1</td>\n",
       "      <td>0</td>\n",
       "    </tr>\n",
       "    <tr>\n",
       "      <th>1</th>\n",
       "      <td>1</td>\n",
       "      <td>63</td>\n",
       "      <td>7</td>\n",
       "      <td>22</td>\n",
       "      <td>0</td>\n",
       "      <td>0</td>\n",
       "      <td>0</td>\n",
       "      <td>0</td>\n",
       "      <td>4</td>\n",
       "      <td>0</td>\n",
       "      <td>...</td>\n",
       "      <td>0</td>\n",
       "      <td>0</td>\n",
       "      <td>0</td>\n",
       "      <td>0</td>\n",
       "      <td>0</td>\n",
       "      <td>0</td>\n",
       "      <td>1</td>\n",
       "      <td>0</td>\n",
       "      <td>1</td>\n",
       "      <td>0</td>\n",
       "    </tr>\n",
       "    <tr>\n",
       "      <th>2</th>\n",
       "      <td>2</td>\n",
       "      <td>71</td>\n",
       "      <td>0</td>\n",
       "      <td>0</td>\n",
       "      <td>0</td>\n",
       "      <td>0</td>\n",
       "      <td>0</td>\n",
       "      <td>0</td>\n",
       "      <td>0</td>\n",
       "      <td>0</td>\n",
       "      <td>...</td>\n",
       "      <td>0</td>\n",
       "      <td>0</td>\n",
       "      <td>0</td>\n",
       "      <td>0</td>\n",
       "      <td>0</td>\n",
       "      <td>0</td>\n",
       "      <td>1</td>\n",
       "      <td>0</td>\n",
       "      <td>1</td>\n",
       "      <td>0</td>\n",
       "    </tr>\n",
       "    <tr>\n",
       "      <th>3</th>\n",
       "      <td>3</td>\n",
       "      <td>43</td>\n",
       "      <td>43</td>\n",
       "      <td>10</td>\n",
       "      <td>0</td>\n",
       "      <td>0</td>\n",
       "      <td>0</td>\n",
       "      <td>0</td>\n",
       "      <td>6</td>\n",
       "      <td>0</td>\n",
       "      <td>...</td>\n",
       "      <td>0</td>\n",
       "      <td>0</td>\n",
       "      <td>0</td>\n",
       "      <td>0</td>\n",
       "      <td>0</td>\n",
       "      <td>0</td>\n",
       "      <td>1</td>\n",
       "      <td>0</td>\n",
       "      <td>1</td>\n",
       "      <td>0</td>\n",
       "    </tr>\n",
       "    <tr>\n",
       "      <th>4</th>\n",
       "      <td>4</td>\n",
       "      <td>57</td>\n",
       "      <td>40</td>\n",
       "      <td>32</td>\n",
       "      <td>0</td>\n",
       "      <td>0</td>\n",
       "      <td>0</td>\n",
       "      <td>0</td>\n",
       "      <td>6</td>\n",
       "      <td>0</td>\n",
       "      <td>...</td>\n",
       "      <td>0</td>\n",
       "      <td>0</td>\n",
       "      <td>0</td>\n",
       "      <td>0</td>\n",
       "      <td>0</td>\n",
       "      <td>0</td>\n",
       "      <td>1</td>\n",
       "      <td>0</td>\n",
       "      <td>1</td>\n",
       "      <td>0</td>\n",
       "    </tr>\n",
       "  </tbody>\n",
       "</table>\n",
       "<p>5 rows × 407 columns</p>\n",
       "</div>"
      ],
      "text/plain": [
       "   id  age  detailed industry recode  detailed occupation recode  \\\n",
       "0   0   33                        34                          26   \n",
       "1   1   63                         7                          22   \n",
       "2   2   71                         0                           0   \n",
       "3   3   43                        43                          10   \n",
       "4   4   57                        40                          32   \n",
       "\n",
       "   wage per hour  capital gains  capital losses  dividends from stocks  \\\n",
       "0              0              0               0                      0   \n",
       "1              0              0               0                      0   \n",
       "2              0              0               0                      0   \n",
       "3              0              0               0                      0   \n",
       "4              0              0               0                      0   \n",
       "\n",
       "   num persons worked for employer  own business or self employed  \\\n",
       "0                                6                              2   \n",
       "1                                4                              0   \n",
       "2                                0                              0   \n",
       "3                                6                              0   \n",
       "4                                6                              0   \n",
       "\n",
       "                        ...                         \\\n",
       "0                       ...                          \n",
       "1                       ...                          \n",
       "2                       ...                          \n",
       "3                       ...                          \n",
       "4                       ...                          \n",
       "\n",
       "   country of birth self_ Vietnam  country of birth self_ Yugoslavia  \\\n",
       "0                               0                                  0   \n",
       "1                               0                                  0   \n",
       "2                               0                                  0   \n",
       "3                               0                                  0   \n",
       "4                               0                                  0   \n",
       "\n",
       "   citizenship_ Foreign born- Not a citizen of U S   \\\n",
       "0                                                 1   \n",
       "1                                                 0   \n",
       "2                                                 0   \n",
       "3                                                 0   \n",
       "4                                                 0   \n",
       "\n",
       "   citizenship_ Foreign born- U S citizen by naturalization  \\\n",
       "0                                                  0          \n",
       "1                                                  0          \n",
       "2                                                  0          \n",
       "3                                                  0          \n",
       "4                                                  0          \n",
       "\n",
       "   citizenship_ Native- Born abroad of American Parent(s)  \\\n",
       "0                                                  0        \n",
       "1                                                  0        \n",
       "2                                                  0        \n",
       "3                                                  0        \n",
       "4                                                  0        \n",
       "\n",
       "   citizenship_ Native- Born in Puerto Rico or U S Outlying  \\\n",
       "0                                                  0          \n",
       "1                                                  0          \n",
       "2                                                  0          \n",
       "3                                                  0          \n",
       "4                                                  0          \n",
       "\n",
       "   citizenship_ Native- Born in the United States  \\\n",
       "0                                               0   \n",
       "1                                               1   \n",
       "2                                               1   \n",
       "3                                               1   \n",
       "4                                               1   \n",
       "\n",
       "   fill inc questionnaire for veteran's admin_ No  \\\n",
       "0                                               0   \n",
       "1                                               0   \n",
       "2                                               0   \n",
       "3                                               0   \n",
       "4                                               0   \n",
       "\n",
       "   fill inc questionnaire for veteran's admin_ Not in universe  \\\n",
       "0                                                  1             \n",
       "1                                                  1             \n",
       "2                                                  1             \n",
       "3                                                  1             \n",
       "4                                                  1             \n",
       "\n",
       "   fill inc questionnaire for veteran's admin_ Yes  \n",
       "0                                                0  \n",
       "1                                                0  \n",
       "2                                                0  \n",
       "3                                                0  \n",
       "4                                                0  \n",
       "\n",
       "[5 rows x 407 columns]"
      ]
     },
     "execution_count": 8,
     "metadata": {},
     "output_type": "execute_result"
    }
   ],
   "source": [
    "df_x_all_no_category=pd.get_dummies(df_x_all)\n",
    "df_x_all_no_category.head()\n"
   ]
  },
  {
   "cell_type": "code",
   "execution_count": 9,
   "metadata": {
    "ExecuteTime": {
     "end_time": "2020-05-17T17:34:40.220341Z",
     "start_time": "2020-05-17T17:34:40.218126Z"
    },
    "collapsed": true
   },
   "outputs": [],
   "source": [
    "# df_train_test_no_category.columns.tolist()"
   ]
  },
  {
   "cell_type": "code",
   "execution_count": 10,
   "metadata": {
    "ExecuteTime": {
     "end_time": "2020-05-17T17:34:40.241429Z",
     "start_time": "2020-05-17T17:34:40.221759Z"
    }
   },
   "outputs": [
    {
     "data": {
      "text/html": [
       "<div>\n",
       "<style scoped>\n",
       "    .dataframe tbody tr th:only-of-type {\n",
       "        vertical-align: middle;\n",
       "    }\n",
       "\n",
       "    .dataframe tbody tr th {\n",
       "        vertical-align: top;\n",
       "    }\n",
       "\n",
       "    .dataframe thead th {\n",
       "        text-align: right;\n",
       "    }\n",
       "</style>\n",
       "<table border=\"1\" class=\"dataframe\">\n",
       "  <thead>\n",
       "    <tr style=\"text-align: right;\">\n",
       "      <th></th>\n",
       "      <th>y</th>\n",
       "      <th>y_label</th>\n",
       "    </tr>\n",
       "  </thead>\n",
       "  <tbody>\n",
       "    <tr>\n",
       "      <th>0</th>\n",
       "      <td>50000+.</td>\n",
       "      <td>0</td>\n",
       "    </tr>\n",
       "    <tr>\n",
       "      <th>1</th>\n",
       "      <td>- 50000.</td>\n",
       "      <td>1</td>\n",
       "    </tr>\n",
       "    <tr>\n",
       "      <th>2</th>\n",
       "      <td>- 50000.</td>\n",
       "      <td>1</td>\n",
       "    </tr>\n",
       "    <tr>\n",
       "      <th>3</th>\n",
       "      <td>- 50000.</td>\n",
       "      <td>1</td>\n",
       "    </tr>\n",
       "    <tr>\n",
       "      <th>4</th>\n",
       "      <td>- 50000.</td>\n",
       "      <td>1</td>\n",
       "    </tr>\n",
       "  </tbody>\n",
       "</table>\n",
       "</div>"
      ],
      "text/plain": [
       "           y  y_label\n",
       "0    50000+.        0\n",
       "1   - 50000.        1\n",
       "2   - 50000.        1\n",
       "3   - 50000.        1\n",
       "4   - 50000.        1"
      ]
     },
     "execution_count": 10,
     "metadata": {},
     "output_type": "execute_result"
    }
   ],
   "source": [
    "df_y_train=df_y_train.copy()\n",
    "df_y_train['y_label']=pd.factorize(df_y_train['y'])[0]\n",
    "df_y_train.head(5)"
   ]
  },
  {
   "cell_type": "markdown",
   "metadata": {},
   "source": [
    "#### drop id"
   ]
  },
  {
   "cell_type": "code",
   "execution_count": 11,
   "metadata": {
    "ExecuteTime": {
     "end_time": "2020-05-17T17:34:40.292687Z",
     "start_time": "2020-05-17T17:34:40.243144Z"
    }
   },
   "outputs": [
    {
     "data": {
      "text/plain": [
       "(81878, 406)"
      ]
     },
     "execution_count": 11,
     "metadata": {},
     "output_type": "execute_result"
    }
   ],
   "source": [
    "df_x_all_drop=df_x_all_no_category.drop(columns='id')\n",
    "df_x_all_drop.shape"
   ]
  },
  {
   "cell_type": "code",
   "execution_count": 12,
   "metadata": {
    "ExecuteTime": {
     "end_time": "2020-05-17T17:34:40.314253Z",
     "start_time": "2020-05-17T17:34:40.294430Z"
    }
   },
   "outputs": [
    {
     "name": "stdout",
     "output_type": "stream",
     "text": [
      "<class 'pandas.core.frame.DataFrame'>\n",
      "Int64Index: 81878 entries, 0 to 27621\n",
      "Columns: 406 entries, age to fill inc questionnaire for veteran's admin_ Yes\n",
      "dtypes: int64(12), uint8(394)\n",
      "memory usage: 38.9 MB\n"
     ]
    }
   ],
   "source": [
    "df_x_all_drop.info()"
   ]
  },
  {
   "cell_type": "markdown",
   "metadata": {
    "collapsed": true
   },
   "source": [
    "#### get npy"
   ]
  },
  {
   "cell_type": "code",
   "execution_count": 13,
   "metadata": {
    "ExecuteTime": {
     "end_time": "2020-05-17T17:34:40.531657Z",
     "start_time": "2020-05-17T17:34:40.316020Z"
    }
   },
   "outputs": [
    {
     "name": "stdout",
     "output_type": "stream",
     "text": [
      "(54256, 406) (54256,) (27622, 406)\n"
     ]
    }
   ],
   "source": [
    "# float == float64, float64 !=  float32\n",
    "# https://stackoverflow.com/questions/44900912/numpys-float32-and-float-comparisons/44918864\n",
    "dtype='float64'\n",
    "x_train=df_x_all_drop[:len(df_x_train)].values.astype(dtype) \n",
    "y_train=df_y_train.y_label.values.astype(dtype)\n",
    "x_test=df_x_all_drop[len(df_x_train):].values.astype(dtype)\n",
    "\n",
    "print(x_train.shape,y_train.shape,x_test.shape)"
   ]
  },
  {
   "cell_type": "code",
   "execution_count": null,
   "metadata": {
    "collapsed": true
   },
   "outputs": [],
   "source": []
  },
  {
   "cell_type": "markdown",
   "metadata": {},
   "source": [
    "## normalize"
   ]
  },
  {
   "cell_type": "code",
   "execution_count": 14,
   "metadata": {
    "ExecuteTime": {
     "end_time": "2020-05-17T17:34:40.776994Z",
     "start_time": "2020-05-17T17:34:40.533880Z"
    }
   },
   "outputs": [],
   "source": [
    "def normalize(arr, arr_mean, arr_std):\n",
    "    eps = 1e-8 #np.finfo(float).eps\n",
    "    for i_feature in range(arr.shape[1]): \n",
    "        mean = arr_mean[i_feature]\n",
    "        std = arr_std[i_feature] + eps # prevent divide by 0\n",
    "    \n",
    "        val = arr[:, i_feature]\n",
    "        arr[:, i_feature] = (val - mean) / std\n",
    "\n",
    "x_train_mean = np.mean(x_train, axis = 0) \n",
    "x_train_std = np.std(x_train, axis = 0) \n",
    "\n",
    "normalize(x_train, x_train_mean, x_train_std)\n",
    "normalize(x_test, x_train_mean, x_train_std)\n"
   ]
  },
  {
   "cell_type": "code",
   "execution_count": 15,
   "metadata": {
    "ExecuteTime": {
     "end_time": "2020-05-17T17:34:40.781230Z",
     "start_time": "2020-05-17T17:34:40.779213Z"
    },
    "scrolled": true
   },
   "outputs": [],
   "source": [
    "# np.mean(x_train, axis = 0)\n",
    "# np.std(x_train, axis = 0) \n",
    "\n",
    "# np.mean(x_test, axis = 0)\n",
    "# np.std(x_test, axis = 0) "
   ]
  },
  {
   "cell_type": "code",
   "execution_count": null,
   "metadata": {
    "ExecuteTime": {
     "end_time": "2020-05-15T05:23:26.779838Z",
     "start_time": "2020-05-15T05:23:26.689538Z"
    },
    "collapsed": true,
    "scrolled": true
   },
   "outputs": [],
   "source": []
  },
  {
   "cell_type": "markdown",
   "metadata": {},
   "source": [
    "## train valid split"
   ]
  },
  {
   "cell_type": "code",
   "execution_count": 16,
   "metadata": {
    "ExecuteTime": {
     "end_time": "2020-05-17T17:34:40.871589Z",
     "start_time": "2020-05-17T17:34:40.782959Z"
    },
    "collapsed": true
   },
   "outputs": [],
   "source": [
    "import random\n",
    "\n",
    "def train_valid_split(x_train, y_train, split_ratio):\n",
    "    indexs = np.arange(len(x_train))\n",
    "    random.seed(5)\n",
    "    random.shuffle(indexs)\n",
    "\n",
    "    train_num = int(len(x_train) * (1-split_ratio))\n",
    "    train_indexes = indexs[:train_num]\n",
    "    valid_indexes = indexs[train_num:]\n",
    "\n",
    "    x_train_split, y_train_split = x_train[train_indexes], y_train[train_indexes]\n",
    "    x_valid_split, y_valid_split = x_train[valid_indexes], y_train[valid_indexes]\n",
    "    return x_train_split, x_valid_split, y_train_split, y_valid_split\n"
   ]
  },
  {
   "cell_type": "code",
   "execution_count": 17,
   "metadata": {
    "ExecuteTime": {
     "end_time": "2020-05-17T17:34:41.329847Z",
     "start_time": "2020-05-17T17:34:40.874045Z"
    }
   },
   "outputs": [
    {
     "name": "stdout",
     "output_type": "stream",
     "text": [
      "(43404, 406) (43404, 1)\n",
      "(10852, 406) (10852, 1)\n"
     ]
    }
   ],
   "source": [
    "split_ratio = 0.2\n",
    "x = x_train\n",
    "y = y_train.reshape(-1, 1)\n",
    "\n",
    "X_train, X_valid, Y_train, Y_valid = train_valid_split(x, y, split_ratio)\n",
    "print(X_train.shape, Y_train.shape)\n",
    "print(X_valid.shape, Y_valid.shape)\n",
    "\n"
   ]
  },
  {
   "cell_type": "markdown",
   "metadata": {},
   "source": [
    "# model"
   ]
  },
  {
   "cell_type": "markdown",
   "metadata": {},
   "source": [
    "## split two group"
   ]
  },
  {
   "cell_type": "code",
   "execution_count": 18,
   "metadata": {
    "ExecuteTime": {
     "end_time": "2020-05-17T17:34:41.391801Z",
     "start_time": "2020-05-17T17:34:41.332624Z"
    }
   },
   "outputs": [
    {
     "data": {
      "text/plain": [
       "((34509, 406), (8895, 406))"
      ]
     },
     "execution_count": 18,
     "metadata": {},
     "output_type": "execute_result"
    }
   ],
   "source": [
    "indexs_group1 = (Y_train==1).reshape(-1) ### y=1, group1 !!!!!!!\n",
    "indexs_group2 = (Y_train==0).reshape(-1) ### y=0, group2\n",
    "\n",
    "X_train_group1 = X_train[indexs_group1]\n",
    "X_train_group2 = X_train[indexs_group2]\n",
    "\n",
    "X_train_group1.shape, X_train_group2.shape"
   ]
  },
  {
   "cell_type": "markdown",
   "metadata": {},
   "source": [
    "## calculate mu1, mu2, sigma1, sigma2"
   ]
  },
  {
   "cell_type": "code",
   "execution_count": 19,
   "metadata": {
    "ExecuteTime": {
     "end_time": "2020-05-17T17:34:41.411071Z",
     "start_time": "2020-05-17T17:34:41.393583Z"
    }
   },
   "outputs": [
    {
     "data": {
      "text/plain": [
       "((406,), (406,))"
      ]
     },
     "execution_count": 19,
     "metadata": {},
     "output_type": "execute_result"
    }
   ],
   "source": [
    "mu1 = np.mean(X_train_group1, axis=0)\n",
    "mu2 = np.mean(X_train_group2, axis=0)\n",
    "\n",
    "mu1.shape, mu2.shape"
   ]
  },
  {
   "cell_type": "code",
   "execution_count": 20,
   "metadata": {
    "ExecuteTime": {
     "end_time": "2020-05-17T17:34:41.484689Z",
     "start_time": "2020-05-17T17:34:41.413220Z"
    }
   },
   "outputs": [
    {
     "data": {
      "text/plain": [
       "((34509, 406), (8895, 406))"
      ]
     },
     "execution_count": 20,
     "metadata": {},
     "output_type": "execute_result"
    }
   ],
   "source": [
    "X_train_group1_norm = X_train_group1 - mu1\n",
    "X_train_group2_norm = X_train_group2 - mu2\n",
    "\n",
    "X_train_group1_norm.shape, X_train_group2_norm.shape"
   ]
  },
  {
   "cell_type": "code",
   "execution_count": 21,
   "metadata": {
    "ExecuteTime": {
     "end_time": "2020-05-17T17:34:41.678708Z",
     "start_time": "2020-05-17T17:34:41.487679Z"
    }
   },
   "outputs": [
    {
     "data": {
      "text/plain": [
       "((406, 406), (406, 406), (406, 406))"
      ]
     },
     "execution_count": 21,
     "metadata": {},
     "output_type": "execute_result"
    }
   ],
   "source": [
    "feature_num = X_train.shape[1]\n",
    "\n",
    "N1 = X_train_group1_norm.shape[0]\n",
    "N2 = X_train_group2_norm.shape[0]\n",
    "\n",
    "cov1 = (X_train_group1_norm.T @ X_train_group1_norm) / N1\n",
    "cov2 = (X_train_group2_norm.T @ X_train_group2_norm) / N2\n",
    "cov = (N1/(N1+N2))*cov1 + (N2/(N1+N2))*cov2\n",
    "\n",
    "cov1.shape, cov2.shape, cov.shape"
   ]
  },
  {
   "cell_type": "code",
   "execution_count": null,
   "metadata": {
    "collapsed": true
   },
   "outputs": [],
   "source": []
  },
  {
   "cell_type": "markdown",
   "metadata": {},
   "source": [
    "## calculate W, B"
   ]
  },
  {
   "cell_type": "code",
   "execution_count": 22,
   "metadata": {
    "ExecuteTime": {
     "end_time": "2020-05-17T17:34:41.797082Z",
     "start_time": "2020-05-17T17:34:41.680689Z"
    },
    "scrolled": true
   },
   "outputs": [
    {
     "data": {
      "text/plain": [
       "((406, 406), (406, 406))"
      ]
     },
     "execution_count": 22,
     "metadata": {},
     "output_type": "execute_result"
    }
   ],
   "source": [
    "#gamma = np.linalg.inv(cov, full_matrices=False)\n",
    "u, s, v = np.linalg.svd(cov, full_matrices=False)\n",
    "gamma = np.matmul(v.T * 1 / s, u.T) # gamma = inverse covarience matrix\n",
    "\n",
    "cov.shape, gamma.shape"
   ]
  },
  {
   "cell_type": "code",
   "execution_count": 23,
   "metadata": {
    "ExecuteTime": {
     "end_time": "2020-05-17T17:34:41.809036Z",
     "start_time": "2020-05-17T17:34:41.799992Z"
    }
   },
   "outputs": [
    {
     "data": {
      "text/plain": [
       "(406,)"
      ]
     },
     "execution_count": 23,
     "metadata": {},
     "output_type": "execute_result"
    }
   ],
   "source": [
    "W = (mu1.T - mu2.T) @ gamma \n",
    "W.shape"
   ]
  },
  {
   "cell_type": "code",
   "execution_count": 24,
   "metadata": {
    "ExecuteTime": {
     "end_time": "2020-05-17T17:34:41.835377Z",
     "start_time": "2020-05-17T17:34:41.811892Z"
    }
   },
   "outputs": [
    {
     "data": {
      "text/plain": [
       "2.7344272801145753"
      ]
     },
     "execution_count": 24,
     "metadata": {},
     "output_type": "execute_result"
    }
   ],
   "source": [
    "b = -0.5 * (mu1.T @ gamma @ mu1 - mu2.T @ gamma @ mu2) + np.log(N1/N2)\n",
    "b"
   ]
  },
  {
   "cell_type": "code",
   "execution_count": 25,
   "metadata": {
    "ExecuteTime": {
     "end_time": "2020-05-17T17:34:41.848683Z",
     "start_time": "2020-05-17T17:34:41.842016Z"
    },
    "collapsed": true
   },
   "outputs": [],
   "source": [
    "# a=np.array([1,2])\n",
    "# b=np.array([3,4])\n",
    "# a@b"
   ]
  },
  {
   "cell_type": "markdown",
   "metadata": {},
   "source": [
    "## valid"
   ]
  },
  {
   "cell_type": "code",
   "execution_count": 26,
   "metadata": {
    "ExecuteTime": {
     "end_time": "2020-05-17T17:34:41.904437Z",
     "start_time": "2020-05-17T17:34:41.851414Z"
    },
    "collapsed": true
   },
   "outputs": [],
   "source": [
    "def sigmoid(z):\n",
    "    eps = np.finfo(float).eps\n",
    "    res = 1 / (1.0 + np.exp(-z)) # 'float32' cannot store the data, result in 'overflow'\n",
    "    return np.clip(res, eps, 1-eps)\n",
    "\n",
    "def acc(Y, Y_hat):\n",
    "    Y=Y.reshape(-1) ### wtf\n",
    "    Y_hat=Y_hat.reshape(-1) ###\n",
    "    \n",
    "    Y_hat=np.round(Y_hat)\n",
    "    match=Y==Y_hat\n",
    "    acc=np.mean(match)    \n",
    "    return acc\n"
   ]
  },
  {
   "cell_type": "code",
   "execution_count": 27,
   "metadata": {
    "ExecuteTime": {
     "end_time": "2020-05-17T17:34:42.051493Z",
     "start_time": "2020-05-17T17:34:41.907332Z"
    }
   },
   "outputs": [
    {
     "data": {
      "text/plain": [
       "0.8716708137498848"
      ]
     },
     "execution_count": 27,
     "metadata": {},
     "output_type": "execute_result"
    }
   ],
   "source": [
    "# if 'float32' => overflow encountered in exp !!!\n",
    "# https://stackoverflow.com/questions/4359959/overflow-in-exp-in-scipy-numpy-in-python\n",
    "\n",
    "Z_train_hat = X_train @ W + b\n",
    "\n",
    "Y_train_hat = sigmoid(Z_train_hat) # p(group1|x), group1 => y=0\n",
    "Y_train_hat = np.round(Y_train_hat)\n",
    "\n",
    "acc(Y_train, Y_train_hat)"
   ]
  },
  {
   "cell_type": "code",
   "execution_count": 28,
   "metadata": {
    "ExecuteTime": {
     "end_time": "2020-05-17T17:34:42.129095Z",
     "start_time": "2020-05-17T17:34:42.059316Z"
    }
   },
   "outputs": [
    {
     "data": {
      "text/plain": [
       "0.8658311831920383"
      ]
     },
     "execution_count": 28,
     "metadata": {},
     "output_type": "execute_result"
    }
   ],
   "source": [
    "Z_valid_hat = X_valid @ W + b\n",
    "\n",
    "Y_valid_hat = sigmoid(Z_valid_hat) # p(group1|x), group1 => y=0\n",
    "Y_valid_hat = np.round(Y_valid_hat)\n",
    "\n",
    "acc(Y_valid, Y_valid_hat)"
   ]
  },
  {
   "cell_type": "code",
   "execution_count": null,
   "metadata": {
    "collapsed": true
   },
   "outputs": [],
   "source": []
  }
 ],
 "metadata": {
  "kernelspec": {
   "display_name": "Python 3",
   "language": "python",
   "name": "python3"
  },
  "language_info": {
   "codemirror_mode": {
    "name": "ipython",
    "version": 3
   },
   "file_extension": ".py",
   "mimetype": "text/x-python",
   "name": "python",
   "nbconvert_exporter": "python",
   "pygments_lexer": "ipython3",
   "version": "3.6.5"
  },
  "toc": {
   "base_numbering": 1,
   "nav_menu": {},
   "number_sections": true,
   "sideBar": true,
   "skip_h1_title": false,
   "title_cell": "Table of Contents",
   "title_sidebar": "Contents",
   "toc_cell": false,
   "toc_position": {
    "height": "calc(100% - 180px)",
    "left": "10px",
    "top": "150px",
    "width": "165px"
   },
   "toc_section_display": true,
   "toc_window_display": true
  }
 },
 "nbformat": 4,
 "nbformat_minor": 2
}
