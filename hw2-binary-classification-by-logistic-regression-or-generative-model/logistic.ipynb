{
 "cells": [
  {
   "cell_type": "markdown",
   "metadata": {},
   "source": [
    "https://photos.app.goo.gl/XoVToPFsXXBkeuPb7\n",
    "\n",
    "https://photos.app.goo.gl/csX8RTEdwDfroRfg7"
   ]
  },
  {
   "cell_type": "code",
   "execution_count": 1,
   "metadata": {
    "ExecuteTime": {
     "end_time": "2020-05-17T17:35:56.809564Z",
     "start_time": "2020-05-17T17:35:55.978150Z"
    },
    "collapsed": true
   },
   "outputs": [],
   "source": [
    "import pandas as pd\n",
    "import numpy as np\n",
    "import os\n",
    "import seaborn as sns"
   ]
  },
  {
   "cell_type": "markdown",
   "metadata": {},
   "source": [
    "# preprocessing"
   ]
  },
  {
   "cell_type": "markdown",
   "metadata": {},
   "source": [
    "## get npy"
   ]
  },
  {
   "cell_type": "markdown",
   "metadata": {
    "heading_collapsed": true
   },
   "source": [
    "### assignment data"
   ]
  },
  {
   "cell_type": "code",
   "execution_count": 2,
   "metadata": {
    "ExecuteTime": {
     "end_time": "2020-05-17T17:35:56.814982Z",
     "start_time": "2020-05-17T17:35:56.811838Z"
    },
    "collapsed": true,
    "hidden": true
   },
   "outputs": [],
   "source": [
    "# path=os.path.join('datasets','X_train')\n",
    "# with open(path) as f:\n",
    "#     next(f)\n",
    "#     x_train = np.array([line.strip('\\n').split(',')[1:] for line in f], dtype = float)\n",
    "\n",
    "# path=os.path.join('datasets','Y_train')\n",
    "# with open(path) as f:\n",
    "#     next(f)\n",
    "#     y_train = np.array([line.strip('\\n').split(',')[1:] for line in f], dtype = float)\n",
    "\n",
    "# path=os.path.join('datasets','X_test')\n",
    "# with open(path) as f:\n",
    "#     next(f)\n",
    "#     x_test = np.array([line.strip('\\n').split(',')[1:] for line in f], dtype = float)\n",
    "\n",
    "# print(x_train.shape, y_train.shape, x_test.shape)"
   ]
  },
  {
   "cell_type": "code",
   "execution_count": null,
   "metadata": {
    "ExecuteTime": {
     "end_time": "2020-05-17T13:46:52.192315Z",
     "start_time": "2020-05-17T13:46:52.185471Z"
    },
    "hidden": true
   },
   "outputs": [],
   "source": []
  },
  {
   "cell_type": "code",
   "execution_count": null,
   "metadata": {
    "collapsed": true,
    "hidden": true
   },
   "outputs": [],
   "source": []
  },
  {
   "cell_type": "markdown",
   "metadata": {},
   "source": [
    "### process by myself"
   ]
  },
  {
   "cell_type": "markdown",
   "metadata": {},
   "source": [
    "#### read data"
   ]
  },
  {
   "cell_type": "code",
   "execution_count": 3,
   "metadata": {
    "ExecuteTime": {
     "end_time": "2020-05-17T17:35:57.468185Z",
     "start_time": "2020-05-17T17:35:56.817985Z"
    },
    "scrolled": true
   },
   "outputs": [
    {
     "name": "stdout",
     "output_type": "stream",
     "text": [
      "(54256, 42)\n"
     ]
    },
    {
     "data": {
      "text/html": [
       "<div>\n",
       "<style scoped>\n",
       "    .dataframe tbody tr th:only-of-type {\n",
       "        vertical-align: middle;\n",
       "    }\n",
       "\n",
       "    .dataframe tbody tr th {\n",
       "        vertical-align: top;\n",
       "    }\n",
       "\n",
       "    .dataframe thead th {\n",
       "        text-align: right;\n",
       "    }\n",
       "</style>\n",
       "<table border=\"1\" class=\"dataframe\">\n",
       "  <thead>\n",
       "    <tr style=\"text-align: right;\">\n",
       "      <th></th>\n",
       "      <th>id</th>\n",
       "      <th>age</th>\n",
       "      <th>class of worker</th>\n",
       "      <th>detailed industry recode</th>\n",
       "      <th>detailed occupation recode</th>\n",
       "      <th>education</th>\n",
       "      <th>wage per hour</th>\n",
       "      <th>enroll in edu inst last wk</th>\n",
       "      <th>marital stat</th>\n",
       "      <th>major industry code</th>\n",
       "      <th>...</th>\n",
       "      <th>country of birth father</th>\n",
       "      <th>country of birth mother</th>\n",
       "      <th>country of birth self</th>\n",
       "      <th>citizenship</th>\n",
       "      <th>own business or self employed</th>\n",
       "      <th>fill inc questionnaire for veteran's admin</th>\n",
       "      <th>veterans benefits</th>\n",
       "      <th>weeks worked in year</th>\n",
       "      <th>year</th>\n",
       "      <th>y</th>\n",
       "    </tr>\n",
       "  </thead>\n",
       "  <tbody>\n",
       "    <tr>\n",
       "      <th>0</th>\n",
       "      <td>0</td>\n",
       "      <td>33</td>\n",
       "      <td>Private</td>\n",
       "      <td>34</td>\n",
       "      <td>26</td>\n",
       "      <td>Masters degree(MA MS MEng MEd MSW MBA)</td>\n",
       "      <td>0</td>\n",
       "      <td>Not in universe</td>\n",
       "      <td>Married-civilian spouse present</td>\n",
       "      <td>Finance insurance and real estate</td>\n",
       "      <td>...</td>\n",
       "      <td>China</td>\n",
       "      <td>China</td>\n",
       "      <td>Taiwan</td>\n",
       "      <td>Foreign born- Not a citizen of U S</td>\n",
       "      <td>2</td>\n",
       "      <td>Not in universe</td>\n",
       "      <td>2</td>\n",
       "      <td>52</td>\n",
       "      <td>95</td>\n",
       "      <td>50000+.</td>\n",
       "    </tr>\n",
       "    <tr>\n",
       "      <th>1</th>\n",
       "      <td>1</td>\n",
       "      <td>63</td>\n",
       "      <td>Private</td>\n",
       "      <td>7</td>\n",
       "      <td>22</td>\n",
       "      <td>Some college but no degree</td>\n",
       "      <td>0</td>\n",
       "      <td>Not in universe</td>\n",
       "      <td>Never married</td>\n",
       "      <td>Manufacturing-durable goods</td>\n",
       "      <td>...</td>\n",
       "      <td>?</td>\n",
       "      <td>?</td>\n",
       "      <td>United-States</td>\n",
       "      <td>Native- Born in the United States</td>\n",
       "      <td>0</td>\n",
       "      <td>Not in universe</td>\n",
       "      <td>2</td>\n",
       "      <td>52</td>\n",
       "      <td>95</td>\n",
       "      <td>- 50000.</td>\n",
       "    </tr>\n",
       "    <tr>\n",
       "      <th>2</th>\n",
       "      <td>2</td>\n",
       "      <td>71</td>\n",
       "      <td>Not in universe</td>\n",
       "      <td>0</td>\n",
       "      <td>0</td>\n",
       "      <td>7th and 8th grade</td>\n",
       "      <td>0</td>\n",
       "      <td>Not in universe</td>\n",
       "      <td>Married-civilian spouse present</td>\n",
       "      <td>Not in universe or children</td>\n",
       "      <td>...</td>\n",
       "      <td>Germany</td>\n",
       "      <td>United-States</td>\n",
       "      <td>United-States</td>\n",
       "      <td>Native- Born in the United States</td>\n",
       "      <td>0</td>\n",
       "      <td>Not in universe</td>\n",
       "      <td>2</td>\n",
       "      <td>0</td>\n",
       "      <td>95</td>\n",
       "      <td>- 50000.</td>\n",
       "    </tr>\n",
       "    <tr>\n",
       "      <th>3</th>\n",
       "      <td>3</td>\n",
       "      <td>43</td>\n",
       "      <td>Local government</td>\n",
       "      <td>43</td>\n",
       "      <td>10</td>\n",
       "      <td>Bachelors degree(BA AB BS)</td>\n",
       "      <td>0</td>\n",
       "      <td>Not in universe</td>\n",
       "      <td>Married-civilian spouse present</td>\n",
       "      <td>Education</td>\n",
       "      <td>...</td>\n",
       "      <td>United-States</td>\n",
       "      <td>United-States</td>\n",
       "      <td>United-States</td>\n",
       "      <td>Native- Born in the United States</td>\n",
       "      <td>0</td>\n",
       "      <td>Not in universe</td>\n",
       "      <td>2</td>\n",
       "      <td>52</td>\n",
       "      <td>95</td>\n",
       "      <td>- 50000.</td>\n",
       "    </tr>\n",
       "    <tr>\n",
       "      <th>4</th>\n",
       "      <td>4</td>\n",
       "      <td>57</td>\n",
       "      <td>Local government</td>\n",
       "      <td>40</td>\n",
       "      <td>32</td>\n",
       "      <td>Some college but no degree</td>\n",
       "      <td>0</td>\n",
       "      <td>Not in universe</td>\n",
       "      <td>Widowed</td>\n",
       "      <td>Entertainment</td>\n",
       "      <td>...</td>\n",
       "      <td>United-States</td>\n",
       "      <td>United-States</td>\n",
       "      <td>United-States</td>\n",
       "      <td>Native- Born in the United States</td>\n",
       "      <td>0</td>\n",
       "      <td>Not in universe</td>\n",
       "      <td>2</td>\n",
       "      <td>52</td>\n",
       "      <td>95</td>\n",
       "      <td>- 50000.</td>\n",
       "    </tr>\n",
       "  </tbody>\n",
       "</table>\n",
       "<p>5 rows × 42 columns</p>\n",
       "</div>"
      ],
      "text/plain": [
       "   id  age    class of worker  detailed industry recode  \\\n",
       "0   0   33            Private                        34   \n",
       "1   1   63            Private                         7   \n",
       "2   2   71    Not in universe                         0   \n",
       "3   3   43   Local government                        43   \n",
       "4   4   57   Local government                        40   \n",
       "\n",
       "   detailed occupation recode                                education  \\\n",
       "0                          26   Masters degree(MA MS MEng MEd MSW MBA)   \n",
       "1                          22               Some college but no degree   \n",
       "2                           0                        7th and 8th grade   \n",
       "3                          10               Bachelors degree(BA AB BS)   \n",
       "4                          32               Some college but no degree   \n",
       "\n",
       "   wage per hour enroll in edu inst last wk                      marital stat  \\\n",
       "0              0            Not in universe   Married-civilian spouse present   \n",
       "1              0            Not in universe                     Never married   \n",
       "2              0            Not in universe   Married-civilian spouse present   \n",
       "3              0            Not in universe   Married-civilian spouse present   \n",
       "4              0            Not in universe                           Widowed   \n",
       "\n",
       "                  major industry code    ...     country of birth father  \\\n",
       "0   Finance insurance and real estate    ...                       China   \n",
       "1         Manufacturing-durable goods    ...                           ?   \n",
       "2         Not in universe or children    ...                     Germany   \n",
       "3                           Education    ...               United-States   \n",
       "4                       Entertainment    ...               United-States   \n",
       "\n",
       "  country of birth mother country of birth self  \\\n",
       "0                   China                Taiwan   \n",
       "1                       ?         United-States   \n",
       "2           United-States         United-States   \n",
       "3           United-States         United-States   \n",
       "4           United-States         United-States   \n",
       "\n",
       "                            citizenship own business or self employed  \\\n",
       "0   Foreign born- Not a citizen of U S                              2   \n",
       "1     Native- Born in the United States                             0   \n",
       "2     Native- Born in the United States                             0   \n",
       "3     Native- Born in the United States                             0   \n",
       "4     Native- Born in the United States                             0   \n",
       "\n",
       "  fill inc questionnaire for veteran's admin veterans benefits  \\\n",
       "0                            Not in universe                 2   \n",
       "1                            Not in universe                 2   \n",
       "2                            Not in universe                 2   \n",
       "3                            Not in universe                 2   \n",
       "4                            Not in universe                 2   \n",
       "\n",
       "   weeks worked in year  year          y  \n",
       "0                    52    95    50000+.  \n",
       "1                    52    95   - 50000.  \n",
       "2                     0    95   - 50000.  \n",
       "3                    52    95   - 50000.  \n",
       "4                    52    95   - 50000.  \n",
       "\n",
       "[5 rows x 42 columns]"
      ]
     },
     "execution_count": 3,
     "metadata": {},
     "output_type": "execute_result"
    }
   ],
   "source": [
    "path=os.path.join('datasets','train.csv')\n",
    "df_train=pd.read_csv(path)\n",
    "\n",
    "print(df_train.shape)\n",
    "df_train.head()"
   ]
  },
  {
   "cell_type": "code",
   "execution_count": 4,
   "metadata": {
    "ExecuteTime": {
     "end_time": "2020-05-17T17:35:57.805830Z",
     "start_time": "2020-05-17T17:35:57.470196Z"
    },
    "scrolled": true
   },
   "outputs": [
    {
     "name": "stdout",
     "output_type": "stream",
     "text": [
      "(27622, 41)\n"
     ]
    },
    {
     "data": {
      "text/html": [
       "<div>\n",
       "<style scoped>\n",
       "    .dataframe tbody tr th:only-of-type {\n",
       "        vertical-align: middle;\n",
       "    }\n",
       "\n",
       "    .dataframe tbody tr th {\n",
       "        vertical-align: top;\n",
       "    }\n",
       "\n",
       "    .dataframe thead th {\n",
       "        text-align: right;\n",
       "    }\n",
       "</style>\n",
       "<table border=\"1\" class=\"dataframe\">\n",
       "  <thead>\n",
       "    <tr style=\"text-align: right;\">\n",
       "      <th></th>\n",
       "      <th>id</th>\n",
       "      <th>age</th>\n",
       "      <th>class of worker</th>\n",
       "      <th>detailed industry recode</th>\n",
       "      <th>detailed occupation recode</th>\n",
       "      <th>education</th>\n",
       "      <th>wage per hour</th>\n",
       "      <th>enroll in edu inst last wk</th>\n",
       "      <th>marital stat</th>\n",
       "      <th>major industry code</th>\n",
       "      <th>...</th>\n",
       "      <th>family members under 18</th>\n",
       "      <th>country of birth father</th>\n",
       "      <th>country of birth mother</th>\n",
       "      <th>country of birth self</th>\n",
       "      <th>citizenship</th>\n",
       "      <th>own business or self employed</th>\n",
       "      <th>fill inc questionnaire for veteran's admin</th>\n",
       "      <th>veterans benefits</th>\n",
       "      <th>weeks worked in year</th>\n",
       "      <th>year</th>\n",
       "    </tr>\n",
       "  </thead>\n",
       "  <tbody>\n",
       "    <tr>\n",
       "      <th>0</th>\n",
       "      <td>0</td>\n",
       "      <td>37</td>\n",
       "      <td>Private</td>\n",
       "      <td>42</td>\n",
       "      <td>30</td>\n",
       "      <td>Associates degree-occup /vocational</td>\n",
       "      <td>0</td>\n",
       "      <td>Not in universe</td>\n",
       "      <td>Married-civilian spouse present</td>\n",
       "      <td>Medical except hospital</td>\n",
       "      <td>...</td>\n",
       "      <td>Not in universe</td>\n",
       "      <td>United-States</td>\n",
       "      <td>United-States</td>\n",
       "      <td>United-States</td>\n",
       "      <td>Native- Born in the United States</td>\n",
       "      <td>0</td>\n",
       "      <td>Not in universe</td>\n",
       "      <td>2</td>\n",
       "      <td>52</td>\n",
       "      <td>95</td>\n",
       "    </tr>\n",
       "    <tr>\n",
       "      <th>1</th>\n",
       "      <td>1</td>\n",
       "      <td>48</td>\n",
       "      <td>Private</td>\n",
       "      <td>31</td>\n",
       "      <td>35</td>\n",
       "      <td>High school graduate</td>\n",
       "      <td>0</td>\n",
       "      <td>Not in universe</td>\n",
       "      <td>Married-civilian spouse present</td>\n",
       "      <td>Utilities and sanitary services</td>\n",
       "      <td>...</td>\n",
       "      <td>Not in universe</td>\n",
       "      <td>United-States</td>\n",
       "      <td>United-States</td>\n",
       "      <td>United-States</td>\n",
       "      <td>Native- Born in the United States</td>\n",
       "      <td>0</td>\n",
       "      <td>Not in universe</td>\n",
       "      <td>2</td>\n",
       "      <td>52</td>\n",
       "      <td>95</td>\n",
       "    </tr>\n",
       "    <tr>\n",
       "      <th>2</th>\n",
       "      <td>2</td>\n",
       "      <td>68</td>\n",
       "      <td>Not in universe</td>\n",
       "      <td>0</td>\n",
       "      <td>0</td>\n",
       "      <td>High school graduate</td>\n",
       "      <td>0</td>\n",
       "      <td>Not in universe</td>\n",
       "      <td>Married-spouse absent</td>\n",
       "      <td>Not in universe or children</td>\n",
       "      <td>...</td>\n",
       "      <td>Not in universe</td>\n",
       "      <td>United-States</td>\n",
       "      <td>United-States</td>\n",
       "      <td>United-States</td>\n",
       "      <td>Native- Born in the United States</td>\n",
       "      <td>0</td>\n",
       "      <td>Not in universe</td>\n",
       "      <td>2</td>\n",
       "      <td>0</td>\n",
       "      <td>94</td>\n",
       "    </tr>\n",
       "    <tr>\n",
       "      <th>3</th>\n",
       "      <td>3</td>\n",
       "      <td>74</td>\n",
       "      <td>Private</td>\n",
       "      <td>12</td>\n",
       "      <td>36</td>\n",
       "      <td>11th grade</td>\n",
       "      <td>700</td>\n",
       "      <td>Not in universe</td>\n",
       "      <td>Married-civilian spouse present</td>\n",
       "      <td>Manufacturing-durable goods</td>\n",
       "      <td>...</td>\n",
       "      <td>Not in universe</td>\n",
       "      <td>Poland</td>\n",
       "      <td>Poland</td>\n",
       "      <td>United-States</td>\n",
       "      <td>Native- Born in the United States</td>\n",
       "      <td>0</td>\n",
       "      <td>Not in universe</td>\n",
       "      <td>2</td>\n",
       "      <td>52</td>\n",
       "      <td>95</td>\n",
       "    </tr>\n",
       "    <tr>\n",
       "      <th>4</th>\n",
       "      <td>4</td>\n",
       "      <td>18</td>\n",
       "      <td>Federal government</td>\n",
       "      <td>50</td>\n",
       "      <td>14</td>\n",
       "      <td>Some college but no degree</td>\n",
       "      <td>0</td>\n",
       "      <td>Not in universe</td>\n",
       "      <td>Never married</td>\n",
       "      <td>Public administration</td>\n",
       "      <td>...</td>\n",
       "      <td>Not in universe</td>\n",
       "      <td>United-States</td>\n",
       "      <td>United-States</td>\n",
       "      <td>United-States</td>\n",
       "      <td>Native- Born in the United States</td>\n",
       "      <td>0</td>\n",
       "      <td>Not in universe</td>\n",
       "      <td>2</td>\n",
       "      <td>0</td>\n",
       "      <td>95</td>\n",
       "    </tr>\n",
       "  </tbody>\n",
       "</table>\n",
       "<p>5 rows × 41 columns</p>\n",
       "</div>"
      ],
      "text/plain": [
       "   id  age      class of worker  detailed industry recode  \\\n",
       "0   0   37              Private                        42   \n",
       "1   1   48              Private                        31   \n",
       "2   2   68      Not in universe                         0   \n",
       "3   3   74              Private                        12   \n",
       "4   4   18   Federal government                        50   \n",
       "\n",
       "   detailed occupation recode                             education  \\\n",
       "0                          30   Associates degree-occup /vocational   \n",
       "1                          35                  High school graduate   \n",
       "2                           0                  High school graduate   \n",
       "3                          36                            11th grade   \n",
       "4                          14            Some college but no degree   \n",
       "\n",
       "   wage per hour enroll in edu inst last wk                      marital stat  \\\n",
       "0              0            Not in universe   Married-civilian spouse present   \n",
       "1              0            Not in universe   Married-civilian spouse present   \n",
       "2              0            Not in universe             Married-spouse absent   \n",
       "3            700            Not in universe   Married-civilian spouse present   \n",
       "4              0            Not in universe                     Never married   \n",
       "\n",
       "                major industry code  ...  family members under 18  \\\n",
       "0           Medical except hospital  ...          Not in universe   \n",
       "1   Utilities and sanitary services  ...          Not in universe   \n",
       "2       Not in universe or children  ...          Not in universe   \n",
       "3       Manufacturing-durable goods  ...          Not in universe   \n",
       "4             Public administration  ...          Not in universe   \n",
       "\n",
       "  country of birth father country of birth mother country of birth self  \\\n",
       "0           United-States           United-States         United-States   \n",
       "1           United-States           United-States         United-States   \n",
       "2           United-States           United-States         United-States   \n",
       "3                  Poland                  Poland         United-States   \n",
       "4           United-States           United-States         United-States   \n",
       "\n",
       "                          citizenship own business or self employed  \\\n",
       "0   Native- Born in the United States                             0   \n",
       "1   Native- Born in the United States                             0   \n",
       "2   Native- Born in the United States                             0   \n",
       "3   Native- Born in the United States                             0   \n",
       "4   Native- Born in the United States                             0   \n",
       "\n",
       "  fill inc questionnaire for veteran's admin  veterans benefits  \\\n",
       "0                            Not in universe                  2   \n",
       "1                            Not in universe                  2   \n",
       "2                            Not in universe                  2   \n",
       "3                            Not in universe                  2   \n",
       "4                            Not in universe                  2   \n",
       "\n",
       "   weeks worked in year  year  \n",
       "0                    52    95  \n",
       "1                    52    95  \n",
       "2                     0    94  \n",
       "3                    52    95  \n",
       "4                     0    95  \n",
       "\n",
       "[5 rows x 41 columns]"
      ]
     },
     "execution_count": 4,
     "metadata": {},
     "output_type": "execute_result"
    }
   ],
   "source": [
    "path=os.path.join('datasets','test_no_label.csv')\n",
    "df_test=pd.read_csv(path)\n",
    "\n",
    "print(df_test.shape)\n",
    "df_test.head()"
   ]
  },
  {
   "cell_type": "code",
   "execution_count": 5,
   "metadata": {
    "ExecuteTime": {
     "end_time": "2020-05-17T17:35:58.080203Z",
     "start_time": "2020-05-17T17:35:57.808104Z"
    },
    "scrolled": true
   },
   "outputs": [
    {
     "data": {
      "text/html": [
       "<div>\n",
       "<style scoped>\n",
       "    .dataframe tbody tr th:only-of-type {\n",
       "        vertical-align: middle;\n",
       "    }\n",
       "\n",
       "    .dataframe tbody tr th {\n",
       "        vertical-align: top;\n",
       "    }\n",
       "\n",
       "    .dataframe thead th {\n",
       "        text-align: right;\n",
       "    }\n",
       "</style>\n",
       "<table border=\"1\" class=\"dataframe\">\n",
       "  <thead>\n",
       "    <tr style=\"text-align: right;\">\n",
       "      <th></th>\n",
       "      <th>feature</th>\n",
       "      <th>data_type</th>\n",
       "      <th>unique_num</th>\n",
       "      <th>nan_ratio</th>\n",
       "    </tr>\n",
       "  </thead>\n",
       "  <tbody>\n",
       "    <tr>\n",
       "      <th>0</th>\n",
       "      <td>id</td>\n",
       "      <td>int64</td>\n",
       "      <td>54256</td>\n",
       "      <td>0.0</td>\n",
       "    </tr>\n",
       "    <tr>\n",
       "      <th>1</th>\n",
       "      <td>age</td>\n",
       "      <td>int64</td>\n",
       "      <td>91</td>\n",
       "      <td>0.0</td>\n",
       "    </tr>\n",
       "    <tr>\n",
       "      <th>2</th>\n",
       "      <td>class of worker</td>\n",
       "      <td>object</td>\n",
       "      <td>9</td>\n",
       "      <td>0.0</td>\n",
       "    </tr>\n",
       "    <tr>\n",
       "      <th>3</th>\n",
       "      <td>detailed industry recode</td>\n",
       "      <td>int64</td>\n",
       "      <td>52</td>\n",
       "      <td>0.0</td>\n",
       "    </tr>\n",
       "    <tr>\n",
       "      <th>4</th>\n",
       "      <td>detailed occupation recode</td>\n",
       "      <td>int64</td>\n",
       "      <td>47</td>\n",
       "      <td>0.0</td>\n",
       "    </tr>\n",
       "  </tbody>\n",
       "</table>\n",
       "</div>"
      ],
      "text/plain": [
       "                      feature data_type  unique_num  nan_ratio\n",
       "0                          id     int64       54256        0.0\n",
       "1                         age     int64          91        0.0\n",
       "2             class of worker    object           9        0.0\n",
       "3    detailed industry recode     int64          52        0.0\n",
       "4  detailed occupation recode     int64          47        0.0"
      ]
     },
     "execution_count": 5,
     "metadata": {},
     "output_type": "execute_result"
    }
   ],
   "source": [
    "def get_feature_info(df):\n",
    "    info=pd.DataFrame()\n",
    "    info['feature']=df.columns\n",
    "    info['data_type']=info.feature.apply(lambda x: str(df[x].dtype))\n",
    "    info['unique_num']=info.feature.apply(lambda x: len(df[x].unique()))\n",
    "    info['nan_ratio']=info.feature.apply(lambda x: (df[x].isna().sum())/len(df) )\n",
    "    return info\n",
    "\n",
    "# df_train.columns\n",
    "train_info=get_feature_info(df_train)\n",
    "train_info.head()"
   ]
  },
  {
   "cell_type": "code",
   "execution_count": null,
   "metadata": {
    "ExecuteTime": {
     "end_time": "2020-05-17T08:09:05.307863Z",
     "start_time": "2020-05-17T08:09:01.265755Z"
    }
   },
   "outputs": [],
   "source": []
  },
  {
   "cell_type": "code",
   "execution_count": null,
   "metadata": {
    "collapsed": true
   },
   "outputs": [],
   "source": []
  },
  {
   "cell_type": "markdown",
   "metadata": {},
   "source": [
    "#### split train to (x,y)"
   ]
  },
  {
   "cell_type": "code",
   "execution_count": 6,
   "metadata": {
    "ExecuteTime": {
     "end_time": "2020-05-17T17:35:58.104828Z",
     "start_time": "2020-05-17T17:35:58.082378Z"
    }
   },
   "outputs": [
    {
     "data": {
      "text/plain": [
       "((54256, 41), (54256, 1), (27622, 41))"
      ]
     },
     "execution_count": 6,
     "metadata": {},
     "output_type": "execute_result"
    }
   ],
   "source": [
    "df_x_train=df_train.drop(columns='y')\n",
    "df_y_train=df_train[['y']]\n",
    "df_x_test=df_test\n",
    "\n",
    "df_x_train.shape, df_y_train.shape, df_x_test.shape"
   ]
  },
  {
   "cell_type": "code",
   "execution_count": 7,
   "metadata": {
    "ExecuteTime": {
     "end_time": "2020-05-17T17:35:58.197313Z",
     "start_time": "2020-05-17T17:35:58.107621Z"
    },
    "scrolled": true
   },
   "outputs": [
    {
     "data": {
      "text/plain": [
       "(81878, 41)"
      ]
     },
     "execution_count": 7,
     "metadata": {},
     "output_type": "execute_result"
    }
   ],
   "source": [
    "df_x_all=pd.concat([df_x_train,df_x_test],axis=0)\n",
    "df_x_all.shape"
   ]
  },
  {
   "cell_type": "markdown",
   "metadata": {},
   "source": [
    "#### category to number"
   ]
  },
  {
   "cell_type": "code",
   "execution_count": 8,
   "metadata": {
    "ExecuteTime": {
     "end_time": "2020-05-17T17:35:58.630335Z",
     "start_time": "2020-05-17T17:35:58.199535Z"
    },
    "scrolled": true
   },
   "outputs": [
    {
     "data": {
      "text/html": [
       "<div>\n",
       "<style scoped>\n",
       "    .dataframe tbody tr th:only-of-type {\n",
       "        vertical-align: middle;\n",
       "    }\n",
       "\n",
       "    .dataframe tbody tr th {\n",
       "        vertical-align: top;\n",
       "    }\n",
       "\n",
       "    .dataframe thead th {\n",
       "        text-align: right;\n",
       "    }\n",
       "</style>\n",
       "<table border=\"1\" class=\"dataframe\">\n",
       "  <thead>\n",
       "    <tr style=\"text-align: right;\">\n",
       "      <th></th>\n",
       "      <th>id</th>\n",
       "      <th>age</th>\n",
       "      <th>detailed industry recode</th>\n",
       "      <th>detailed occupation recode</th>\n",
       "      <th>wage per hour</th>\n",
       "      <th>capital gains</th>\n",
       "      <th>capital losses</th>\n",
       "      <th>dividends from stocks</th>\n",
       "      <th>num persons worked for employer</th>\n",
       "      <th>own business or self employed</th>\n",
       "      <th>...</th>\n",
       "      <th>country of birth self_ Vietnam</th>\n",
       "      <th>country of birth self_ Yugoslavia</th>\n",
       "      <th>citizenship_ Foreign born- Not a citizen of U S</th>\n",
       "      <th>citizenship_ Foreign born- U S citizen by naturalization</th>\n",
       "      <th>citizenship_ Native- Born abroad of American Parent(s)</th>\n",
       "      <th>citizenship_ Native- Born in Puerto Rico or U S Outlying</th>\n",
       "      <th>citizenship_ Native- Born in the United States</th>\n",
       "      <th>fill inc questionnaire for veteran's admin_ No</th>\n",
       "      <th>fill inc questionnaire for veteran's admin_ Not in universe</th>\n",
       "      <th>fill inc questionnaire for veteran's admin_ Yes</th>\n",
       "    </tr>\n",
       "  </thead>\n",
       "  <tbody>\n",
       "    <tr>\n",
       "      <th>0</th>\n",
       "      <td>0</td>\n",
       "      <td>33</td>\n",
       "      <td>34</td>\n",
       "      <td>26</td>\n",
       "      <td>0</td>\n",
       "      <td>0</td>\n",
       "      <td>0</td>\n",
       "      <td>0</td>\n",
       "      <td>6</td>\n",
       "      <td>2</td>\n",
       "      <td>...</td>\n",
       "      <td>0</td>\n",
       "      <td>0</td>\n",
       "      <td>1</td>\n",
       "      <td>0</td>\n",
       "      <td>0</td>\n",
       "      <td>0</td>\n",
       "      <td>0</td>\n",
       "      <td>0</td>\n",
       "      <td>1</td>\n",
       "      <td>0</td>\n",
       "    </tr>\n",
       "    <tr>\n",
       "      <th>1</th>\n",
       "      <td>1</td>\n",
       "      <td>63</td>\n",
       "      <td>7</td>\n",
       "      <td>22</td>\n",
       "      <td>0</td>\n",
       "      <td>0</td>\n",
       "      <td>0</td>\n",
       "      <td>0</td>\n",
       "      <td>4</td>\n",
       "      <td>0</td>\n",
       "      <td>...</td>\n",
       "      <td>0</td>\n",
       "      <td>0</td>\n",
       "      <td>0</td>\n",
       "      <td>0</td>\n",
       "      <td>0</td>\n",
       "      <td>0</td>\n",
       "      <td>1</td>\n",
       "      <td>0</td>\n",
       "      <td>1</td>\n",
       "      <td>0</td>\n",
       "    </tr>\n",
       "    <tr>\n",
       "      <th>2</th>\n",
       "      <td>2</td>\n",
       "      <td>71</td>\n",
       "      <td>0</td>\n",
       "      <td>0</td>\n",
       "      <td>0</td>\n",
       "      <td>0</td>\n",
       "      <td>0</td>\n",
       "      <td>0</td>\n",
       "      <td>0</td>\n",
       "      <td>0</td>\n",
       "      <td>...</td>\n",
       "      <td>0</td>\n",
       "      <td>0</td>\n",
       "      <td>0</td>\n",
       "      <td>0</td>\n",
       "      <td>0</td>\n",
       "      <td>0</td>\n",
       "      <td>1</td>\n",
       "      <td>0</td>\n",
       "      <td>1</td>\n",
       "      <td>0</td>\n",
       "    </tr>\n",
       "    <tr>\n",
       "      <th>3</th>\n",
       "      <td>3</td>\n",
       "      <td>43</td>\n",
       "      <td>43</td>\n",
       "      <td>10</td>\n",
       "      <td>0</td>\n",
       "      <td>0</td>\n",
       "      <td>0</td>\n",
       "      <td>0</td>\n",
       "      <td>6</td>\n",
       "      <td>0</td>\n",
       "      <td>...</td>\n",
       "      <td>0</td>\n",
       "      <td>0</td>\n",
       "      <td>0</td>\n",
       "      <td>0</td>\n",
       "      <td>0</td>\n",
       "      <td>0</td>\n",
       "      <td>1</td>\n",
       "      <td>0</td>\n",
       "      <td>1</td>\n",
       "      <td>0</td>\n",
       "    </tr>\n",
       "    <tr>\n",
       "      <th>4</th>\n",
       "      <td>4</td>\n",
       "      <td>57</td>\n",
       "      <td>40</td>\n",
       "      <td>32</td>\n",
       "      <td>0</td>\n",
       "      <td>0</td>\n",
       "      <td>0</td>\n",
       "      <td>0</td>\n",
       "      <td>6</td>\n",
       "      <td>0</td>\n",
       "      <td>...</td>\n",
       "      <td>0</td>\n",
       "      <td>0</td>\n",
       "      <td>0</td>\n",
       "      <td>0</td>\n",
       "      <td>0</td>\n",
       "      <td>0</td>\n",
       "      <td>1</td>\n",
       "      <td>0</td>\n",
       "      <td>1</td>\n",
       "      <td>0</td>\n",
       "    </tr>\n",
       "  </tbody>\n",
       "</table>\n",
       "<p>5 rows × 407 columns</p>\n",
       "</div>"
      ],
      "text/plain": [
       "   id  age  detailed industry recode  detailed occupation recode  \\\n",
       "0   0   33                        34                          26   \n",
       "1   1   63                         7                          22   \n",
       "2   2   71                         0                           0   \n",
       "3   3   43                        43                          10   \n",
       "4   4   57                        40                          32   \n",
       "\n",
       "   wage per hour  capital gains  capital losses  dividends from stocks  \\\n",
       "0              0              0               0                      0   \n",
       "1              0              0               0                      0   \n",
       "2              0              0               0                      0   \n",
       "3              0              0               0                      0   \n",
       "4              0              0               0                      0   \n",
       "\n",
       "   num persons worked for employer  own business or self employed  \\\n",
       "0                                6                              2   \n",
       "1                                4                              0   \n",
       "2                                0                              0   \n",
       "3                                6                              0   \n",
       "4                                6                              0   \n",
       "\n",
       "                        ...                         \\\n",
       "0                       ...                          \n",
       "1                       ...                          \n",
       "2                       ...                          \n",
       "3                       ...                          \n",
       "4                       ...                          \n",
       "\n",
       "   country of birth self_ Vietnam  country of birth self_ Yugoslavia  \\\n",
       "0                               0                                  0   \n",
       "1                               0                                  0   \n",
       "2                               0                                  0   \n",
       "3                               0                                  0   \n",
       "4                               0                                  0   \n",
       "\n",
       "   citizenship_ Foreign born- Not a citizen of U S   \\\n",
       "0                                                 1   \n",
       "1                                                 0   \n",
       "2                                                 0   \n",
       "3                                                 0   \n",
       "4                                                 0   \n",
       "\n",
       "   citizenship_ Foreign born- U S citizen by naturalization  \\\n",
       "0                                                  0          \n",
       "1                                                  0          \n",
       "2                                                  0          \n",
       "3                                                  0          \n",
       "4                                                  0          \n",
       "\n",
       "   citizenship_ Native- Born abroad of American Parent(s)  \\\n",
       "0                                                  0        \n",
       "1                                                  0        \n",
       "2                                                  0        \n",
       "3                                                  0        \n",
       "4                                                  0        \n",
       "\n",
       "   citizenship_ Native- Born in Puerto Rico or U S Outlying  \\\n",
       "0                                                  0          \n",
       "1                                                  0          \n",
       "2                                                  0          \n",
       "3                                                  0          \n",
       "4                                                  0          \n",
       "\n",
       "   citizenship_ Native- Born in the United States  \\\n",
       "0                                               0   \n",
       "1                                               1   \n",
       "2                                               1   \n",
       "3                                               1   \n",
       "4                                               1   \n",
       "\n",
       "   fill inc questionnaire for veteran's admin_ No  \\\n",
       "0                                               0   \n",
       "1                                               0   \n",
       "2                                               0   \n",
       "3                                               0   \n",
       "4                                               0   \n",
       "\n",
       "   fill inc questionnaire for veteran's admin_ Not in universe  \\\n",
       "0                                                  1             \n",
       "1                                                  1             \n",
       "2                                                  1             \n",
       "3                                                  1             \n",
       "4                                                  1             \n",
       "\n",
       "   fill inc questionnaire for veteran's admin_ Yes  \n",
       "0                                                0  \n",
       "1                                                0  \n",
       "2                                                0  \n",
       "3                                                0  \n",
       "4                                                0  \n",
       "\n",
       "[5 rows x 407 columns]"
      ]
     },
     "execution_count": 8,
     "metadata": {},
     "output_type": "execute_result"
    }
   ],
   "source": [
    "df_x_all_no_category=pd.get_dummies(df_x_all)\n",
    "df_x_all_no_category.head()\n"
   ]
  },
  {
   "cell_type": "code",
   "execution_count": 9,
   "metadata": {
    "ExecuteTime": {
     "end_time": "2020-05-17T17:35:58.639497Z",
     "start_time": "2020-05-17T17:35:58.634516Z"
    },
    "collapsed": true
   },
   "outputs": [],
   "source": [
    "# df_train_test_no_category.columns.tolist()"
   ]
  },
  {
   "cell_type": "code",
   "execution_count": 10,
   "metadata": {
    "ExecuteTime": {
     "end_time": "2020-05-17T17:35:58.751500Z",
     "start_time": "2020-05-17T17:35:58.642222Z"
    },
    "scrolled": true
   },
   "outputs": [
    {
     "data": {
      "text/html": [
       "<div>\n",
       "<style scoped>\n",
       "    .dataframe tbody tr th:only-of-type {\n",
       "        vertical-align: middle;\n",
       "    }\n",
       "\n",
       "    .dataframe tbody tr th {\n",
       "        vertical-align: top;\n",
       "    }\n",
       "\n",
       "    .dataframe thead th {\n",
       "        text-align: right;\n",
       "    }\n",
       "</style>\n",
       "<table border=\"1\" class=\"dataframe\">\n",
       "  <thead>\n",
       "    <tr style=\"text-align: right;\">\n",
       "      <th></th>\n",
       "      <th>y</th>\n",
       "      <th>y_label</th>\n",
       "    </tr>\n",
       "  </thead>\n",
       "  <tbody>\n",
       "    <tr>\n",
       "      <th>0</th>\n",
       "      <td>50000+.</td>\n",
       "      <td>0</td>\n",
       "    </tr>\n",
       "    <tr>\n",
       "      <th>1</th>\n",
       "      <td>- 50000.</td>\n",
       "      <td>1</td>\n",
       "    </tr>\n",
       "    <tr>\n",
       "      <th>2</th>\n",
       "      <td>- 50000.</td>\n",
       "      <td>1</td>\n",
       "    </tr>\n",
       "    <tr>\n",
       "      <th>3</th>\n",
       "      <td>- 50000.</td>\n",
       "      <td>1</td>\n",
       "    </tr>\n",
       "    <tr>\n",
       "      <th>4</th>\n",
       "      <td>- 50000.</td>\n",
       "      <td>1</td>\n",
       "    </tr>\n",
       "  </tbody>\n",
       "</table>\n",
       "</div>"
      ],
      "text/plain": [
       "           y  y_label\n",
       "0    50000+.        0\n",
       "1   - 50000.        1\n",
       "2   - 50000.        1\n",
       "3   - 50000.        1\n",
       "4   - 50000.        1"
      ]
     },
     "execution_count": 10,
     "metadata": {},
     "output_type": "execute_result"
    }
   ],
   "source": [
    "df_y_train=df_y_train.copy()\n",
    "df_y_train['y_label']=pd.factorize(df_y_train['y'])[0]\n",
    "df_y_train.head(5)"
   ]
  },
  {
   "cell_type": "markdown",
   "metadata": {},
   "source": [
    "#### drop id"
   ]
  },
  {
   "cell_type": "code",
   "execution_count": 11,
   "metadata": {
    "ExecuteTime": {
     "end_time": "2020-05-17T17:35:58.883048Z",
     "start_time": "2020-05-17T17:35:58.754169Z"
    }
   },
   "outputs": [
    {
     "data": {
      "text/plain": [
       "(81878, 406)"
      ]
     },
     "execution_count": 11,
     "metadata": {},
     "output_type": "execute_result"
    }
   ],
   "source": [
    "df_x_all_drop=df_x_all_no_category.drop(columns='id')\n",
    "df_x_all_drop.shape"
   ]
  },
  {
   "cell_type": "code",
   "execution_count": 12,
   "metadata": {
    "ExecuteTime": {
     "end_time": "2020-05-17T17:35:58.915334Z",
     "start_time": "2020-05-17T17:35:58.885291Z"
    }
   },
   "outputs": [
    {
     "name": "stdout",
     "output_type": "stream",
     "text": [
      "<class 'pandas.core.frame.DataFrame'>\n",
      "Int64Index: 81878 entries, 0 to 27621\n",
      "Columns: 406 entries, age to fill inc questionnaire for veteran's admin_ Yes\n",
      "dtypes: int64(12), uint8(394)\n",
      "memory usage: 38.9 MB\n"
     ]
    }
   ],
   "source": [
    "df_x_all_drop.info()"
   ]
  },
  {
   "cell_type": "markdown",
   "metadata": {
    "collapsed": true
   },
   "source": [
    "#### get npy"
   ]
  },
  {
   "cell_type": "code",
   "execution_count": 13,
   "metadata": {
    "ExecuteTime": {
     "end_time": "2020-05-17T17:35:59.153575Z",
     "start_time": "2020-05-17T17:35:58.917930Z"
    }
   },
   "outputs": [
    {
     "name": "stdout",
     "output_type": "stream",
     "text": [
      "(54256, 406) (54256,) (27622, 406)\n"
     ]
    }
   ],
   "source": [
    "dtype='float64'\n",
    "x_train=df_x_all_drop[:len(df_x_train)].values.astype(dtype) \n",
    "y_train=df_y_train.y_label.values.astype(dtype)\n",
    "x_test=df_x_all_drop[len(df_x_train):].values.astype(dtype)\n",
    "\n",
    "print(x_train.shape,y_train.shape,x_test.shape)"
   ]
  },
  {
   "cell_type": "code",
   "execution_count": null,
   "metadata": {
    "collapsed": true
   },
   "outputs": [],
   "source": []
  },
  {
   "cell_type": "markdown",
   "metadata": {},
   "source": [
    "## normalize"
   ]
  },
  {
   "cell_type": "code",
   "execution_count": 14,
   "metadata": {
    "ExecuteTime": {
     "end_time": "2020-05-17T17:35:59.517662Z",
     "start_time": "2020-05-17T17:35:59.156001Z"
    }
   },
   "outputs": [
    {
     "data": {
      "text/plain": [
       "((54256, 406), (27622, 406))"
      ]
     },
     "execution_count": 14,
     "metadata": {},
     "output_type": "execute_result"
    }
   ],
   "source": [
    "def normalize(arr, arr_mean, arr_std):\n",
    "    for i_feature in range(arr.shape[1]): \n",
    "        mean = arr_mean[i_feature]\n",
    "#         std = arr_std[i_feature] + eps # prevent divide by 0\n",
    "        std = arr_std[i_feature] \n",
    "        std = std if std!=0 else 1\n",
    "    \n",
    "        val = arr[:, i_feature]\n",
    "        arr[:, i_feature] = (val - mean) / std\n",
    "    \n",
    "    \n",
    "x_train_mean = np.mean(x_train, axis = 0) \n",
    "x_train_std = np.std(x_train, axis = 0) \n",
    "\n",
    "normalize(x_train, x_train_mean, x_train_std)\n",
    "normalize(x_test, x_train_mean, x_train_std)\n",
    "\n",
    "x_train.shape, x_test.shape"
   ]
  },
  {
   "cell_type": "code",
   "execution_count": 15,
   "metadata": {
    "ExecuteTime": {
     "end_time": "2020-05-17T17:35:59.522141Z",
     "start_time": "2020-05-17T17:35:59.519729Z"
    },
    "scrolled": true
   },
   "outputs": [],
   "source": [
    "# np.mean(x_train, axis = 0)\n",
    "# np.std(x_train, axis = 0) \n",
    "\n",
    "# np.mean(x_test, axis = 0)\n",
    "# np.std(x_test, axis = 0) "
   ]
  },
  {
   "cell_type": "code",
   "execution_count": null,
   "metadata": {
    "ExecuteTime": {
     "end_time": "2020-05-15T05:23:26.779838Z",
     "start_time": "2020-05-15T05:23:26.689538Z"
    },
    "scrolled": true
   },
   "outputs": [],
   "source": []
  },
  {
   "cell_type": "markdown",
   "metadata": {},
   "source": [
    "## append 1 to x"
   ]
  },
  {
   "cell_type": "code",
   "execution_count": 16,
   "metadata": {
    "ExecuteTime": {
     "end_time": "2020-05-17T17:35:59.537438Z",
     "start_time": "2020-05-17T17:35:59.524999Z"
    },
    "collapsed": true
   },
   "outputs": [],
   "source": [
    "def append_ones(arr):\n",
    "    ones = np.ones(len(arr)).reshape(-1,1)\n",
    "    arr = np.concatenate([arr, ones], axis=1)\n",
    "    return arr"
   ]
  },
  {
   "cell_type": "code",
   "execution_count": 17,
   "metadata": {
    "ExecuteTime": {
     "end_time": "2020-05-17T17:35:59.636675Z",
     "start_time": "2020-05-17T17:35:59.539919Z"
    }
   },
   "outputs": [
    {
     "data": {
      "text/plain": [
       "((54256, 407), (54256, 406))"
      ]
     },
     "execution_count": 17,
     "metadata": {},
     "output_type": "execute_result"
    }
   ],
   "source": [
    "x_train_append = append_ones(x_train)\n",
    "x_train_append.shape, x_train.shape"
   ]
  },
  {
   "cell_type": "code",
   "execution_count": 18,
   "metadata": {
    "ExecuteTime": {
     "end_time": "2020-05-17T17:35:59.683118Z",
     "start_time": "2020-05-17T17:35:59.638514Z"
    }
   },
   "outputs": [
    {
     "data": {
      "text/plain": [
       "((27622, 407), (27622, 406))"
      ]
     },
     "execution_count": 18,
     "metadata": {},
     "output_type": "execute_result"
    }
   ],
   "source": [
    "x_test_append = append_ones(x_test)\n",
    "x_test_append.shape, x_test.shape"
   ]
  },
  {
   "cell_type": "markdown",
   "metadata": {},
   "source": [
    "## train valid split"
   ]
  },
  {
   "cell_type": "code",
   "execution_count": 19,
   "metadata": {
    "ExecuteTime": {
     "end_time": "2020-05-17T17:35:59.764969Z",
     "start_time": "2020-05-17T17:35:59.685146Z"
    }
   },
   "outputs": [],
   "source": [
    "import random\n",
    "\n",
    "def train_valid_split(x_train, y_train, split_ratio):\n",
    "    indexs = np.arange(len(x_train))\n",
    "    random.seed(5)\n",
    "    random.shuffle(indexs)\n",
    "\n",
    "    train_num = int(len(x_train) * (1-split_ratio))\n",
    "    train_indexes = indexs[:train_num]\n",
    "    valid_indexes = indexs[train_num:]\n",
    "\n",
    "    x_train_split, y_train_split = x_train[train_indexes], y_train[train_indexes]\n",
    "    x_valid_split, y_valid_split = x_train[valid_indexes], y_train[valid_indexes]\n",
    "    return x_train_split, x_valid_split, y_train_split, y_valid_split\n"
   ]
  },
  {
   "cell_type": "code",
   "execution_count": 20,
   "metadata": {
    "ExecuteTime": {
     "end_time": "2020-05-17T17:36:00.228071Z",
     "start_time": "2020-05-17T17:35:59.767285Z"
    }
   },
   "outputs": [
    {
     "name": "stdout",
     "output_type": "stream",
     "text": [
      "(43404, 407) (43404, 1)\n",
      "(10852, 407) (10852, 1)\n"
     ]
    }
   ],
   "source": [
    "\n",
    "split_ratio = 0.2\n",
    "x = x_train_append\n",
    "y = y_train.reshape(-1, 1)\n",
    "X_train, X_valid, Y_train, Y_valid = train_valid_split(x, y, split_ratio)\n",
    "print(X_train.shape, Y_train.shape)\n",
    "print(X_valid.shape, Y_valid.shape)"
   ]
  },
  {
   "cell_type": "markdown",
   "metadata": {},
   "source": [
    "# model"
   ]
  },
  {
   "cell_type": "code",
   "execution_count": 21,
   "metadata": {
    "ExecuteTime": {
     "end_time": "2020-05-17T17:36:00.234071Z",
     "start_time": "2020-05-17T17:36:00.230452Z"
    },
    "collapsed": true
   },
   "outputs": [],
   "source": [
    "def mean_cross_entropy(Y, Y_hat):\n",
    "    L = - Y * np.log(Y_hat) - (1-Y) * np.log(1-Y_hat)\n",
    "    L_mean = np.mean(L, axis=0)\n",
    "    return L_mean\n",
    "    "
   ]
  },
  {
   "cell_type": "code",
   "execution_count": 22,
   "metadata": {
    "ExecuteTime": {
     "end_time": "2020-05-17T17:36:00.261335Z",
     "start_time": "2020-05-17T17:36:00.236016Z"
    }
   },
   "outputs": [],
   "source": [
    "def acc(Y, Y_hat):\n",
    "    Y_hat=np.round(Y_hat)\n",
    "    match=Y==Y_hat\n",
    "    acc=np.mean(match)    \n",
    "    return acc\n",
    "\n",
    "# Y=np.array([1,0,1])\n",
    "# Y_hat=np.array([0.2, 0.3, 0.7])\n",
    "# acc(Y, Y_hat)"
   ]
  },
  {
   "cell_type": "code",
   "execution_count": 23,
   "metadata": {
    "ExecuteTime": {
     "end_time": "2020-05-17T17:36:00.348947Z",
     "start_time": "2020-05-17T17:36:00.263372Z"
    }
   },
   "outputs": [],
   "source": [
    "# def sigmoid(z):\n",
    "#     z = float(z)\n",
    "#     y = 1 / (1+np.exp(-z))\n",
    "#     return y\n",
    "\n",
    "def sigmoid(z):\n",
    "    eps = np.finfo(float).eps\n",
    "    res = 1 / (1.0 + np.exp(-z))\n",
    "    return np.clip(res, eps, 1-eps)\n",
    "\n",
    "# sigmoid(-100)\n",
    "# sigmoid(100)"
   ]
  },
  {
   "cell_type": "code",
   "execution_count": 24,
   "metadata": {
    "ExecuteTime": {
     "end_time": "2020-05-17T17:36:03.558586Z",
     "start_time": "2020-05-17T17:36:00.351683Z"
    },
    "scrolled": true
   },
   "outputs": [
    {
     "name": "stdout",
     "output_type": "stream",
     "text": [
      "0 train_mce = 0.6931 train_acc = 0.2049 valid_mce = 0.5780 valid_acc = 0.6801\n",
      "1 train_mce = 0.5725 train_acc = 0.6894 valid_mce = 0.5241 valid_acc = 0.7690\n",
      "2 train_mce = 0.5189 train_acc = 0.7785 valid_mce = 0.4885 valid_acc = 0.7962\n",
      "3 train_mce = 0.4826 train_acc = 0.8051 valid_mce = 0.4615 valid_acc = 0.8190\n",
      "4 train_mce = 0.4552 train_acc = 0.8253 valid_mce = 0.4402 valid_acc = 0.8317\n",
      "5 train_mce = 0.4335 train_acc = 0.8388 valid_mce = 0.4229 valid_acc = 0.8402\n",
      "6 train_mce = 0.4158 train_acc = 0.8468 valid_mce = 0.4086 valid_acc = 0.8474\n",
      "7 train_mce = 0.4011 train_acc = 0.8528 valid_mce = 0.3965 valid_acc = 0.8537\n",
      "8 train_mce = 0.3887 train_acc = 0.8569 valid_mce = 0.3862 valid_acc = 0.8551\n",
      "9 train_mce = 0.3781 train_acc = 0.8602 valid_mce = 0.3773 valid_acc = 0.8579\n",
      "10 train_mce = 0.3690 train_acc = 0.8625 valid_mce = 0.3697 valid_acc = 0.8603\n",
      "11 train_mce = 0.3612 train_acc = 0.8645 valid_mce = 0.3630 valid_acc = 0.8616\n",
      "12 train_mce = 0.3542 train_acc = 0.8661 valid_mce = 0.3571 valid_acc = 0.8629\n",
      "13 train_mce = 0.3482 train_acc = 0.8675 valid_mce = 0.3518 valid_acc = 0.8633\n",
      "14 train_mce = 0.3428 train_acc = 0.8690 valid_mce = 0.3472 valid_acc = 0.8640\n",
      "15 train_mce = 0.3380 train_acc = 0.8701 valid_mce = 0.3431 valid_acc = 0.8650\n",
      "16 train_mce = 0.3337 train_acc = 0.8709 valid_mce = 0.3394 valid_acc = 0.8657\n",
      "17 train_mce = 0.3298 train_acc = 0.8719 valid_mce = 0.3360 valid_acc = 0.8658\n",
      "18 train_mce = 0.3263 train_acc = 0.8719 valid_mce = 0.3330 valid_acc = 0.8661\n",
      "19 train_mce = 0.3232 train_acc = 0.8724 valid_mce = 0.3302 valid_acc = 0.8672\n",
      "20 train_mce = 0.3203 train_acc = 0.8731 valid_mce = 0.3277 valid_acc = 0.8682\n",
      "21 train_mce = 0.3177 train_acc = 0.8734 valid_mce = 0.3254 valid_acc = 0.8691\n",
      "22 train_mce = 0.3153 train_acc = 0.8737 valid_mce = 0.3233 valid_acc = 0.8695\n",
      "23 train_mce = 0.3131 train_acc = 0.8741 valid_mce = 0.3214 valid_acc = 0.8700\n",
      "24 train_mce = 0.3110 train_acc = 0.8743 valid_mce = 0.3196 valid_acc = 0.8708\n",
      "25 train_mce = 0.3091 train_acc = 0.8745 valid_mce = 0.3179 valid_acc = 0.8713\n",
      "26 train_mce = 0.3074 train_acc = 0.8750 valid_mce = 0.3164 valid_acc = 0.8710\n",
      "27 train_mce = 0.3058 train_acc = 0.8753 valid_mce = 0.3150 valid_acc = 0.8716\n",
      "28 train_mce = 0.3043 train_acc = 0.8753 valid_mce = 0.3137 valid_acc = 0.8714\n",
      "29 train_mce = 0.3029 train_acc = 0.8757 valid_mce = 0.3124 valid_acc = 0.8719\n",
      "30 train_mce = 0.3016 train_acc = 0.8760 valid_mce = 0.3113 valid_acc = 0.8723\n",
      "31 train_mce = 0.3003 train_acc = 0.8762 valid_mce = 0.3102 valid_acc = 0.8731\n",
      "32 train_mce = 0.2992 train_acc = 0.8763 valid_mce = 0.3092 valid_acc = 0.8731\n",
      "33 train_mce = 0.2981 train_acc = 0.8765 valid_mce = 0.3083 valid_acc = 0.8729\n",
      "34 train_mce = 0.2971 train_acc = 0.8767 valid_mce = 0.3074 valid_acc = 0.8727\n",
      "35 train_mce = 0.2961 train_acc = 0.8771 valid_mce = 0.3065 valid_acc = 0.8727\n",
      "36 train_mce = 0.2952 train_acc = 0.8772 valid_mce = 0.3057 valid_acc = 0.8727\n",
      "37 train_mce = 0.2943 train_acc = 0.8774 valid_mce = 0.3050 valid_acc = 0.8727\n",
      "38 train_mce = 0.2935 train_acc = 0.8776 valid_mce = 0.3043 valid_acc = 0.8730\n",
      "39 train_mce = 0.2928 train_acc = 0.8776 valid_mce = 0.3036 valid_acc = 0.8729\n",
      "40 train_mce = 0.2920 train_acc = 0.8777 valid_mce = 0.3029 valid_acc = 0.8729\n",
      "41 train_mce = 0.2913 train_acc = 0.8779 valid_mce = 0.3023 valid_acc = 0.8729\n",
      "42 train_mce = 0.2907 train_acc = 0.8781 valid_mce = 0.3018 valid_acc = 0.8731\n",
      "43 train_mce = 0.2900 train_acc = 0.8782 valid_mce = 0.3012 valid_acc = 0.8733\n",
      "44 train_mce = 0.2894 train_acc = 0.8782 valid_mce = 0.3007 valid_acc = 0.8736\n",
      "45 train_mce = 0.2889 train_acc = 0.8784 valid_mce = 0.3002 valid_acc = 0.8738\n",
      "46 train_mce = 0.2883 train_acc = 0.8786 valid_mce = 0.2997 valid_acc = 0.8739\n",
      "47 train_mce = 0.2878 train_acc = 0.8786 valid_mce = 0.2993 valid_acc = 0.8742\n",
      "48 train_mce = 0.2873 train_acc = 0.8787 valid_mce = 0.2988 valid_acc = 0.8742\n",
      "49 train_mce = 0.2868 train_acc = 0.8788 valid_mce = 0.2984 valid_acc = 0.8740\n",
      "50 train_mce = 0.2864 train_acc = 0.8788 valid_mce = 0.2980 valid_acc = 0.8741\n",
      "51 train_mce = 0.2859 train_acc = 0.8789 valid_mce = 0.2976 valid_acc = 0.8742\n",
      "52 train_mce = 0.2855 train_acc = 0.8789 valid_mce = 0.2973 valid_acc = 0.8743\n",
      "53 train_mce = 0.2851 train_acc = 0.8792 valid_mce = 0.2969 valid_acc = 0.8743\n",
      "54 train_mce = 0.2847 train_acc = 0.8792 valid_mce = 0.2966 valid_acc = 0.8745\n",
      "55 train_mce = 0.2843 train_acc = 0.8792 valid_mce = 0.2963 valid_acc = 0.8745\n",
      "56 train_mce = 0.2840 train_acc = 0.8791 valid_mce = 0.2960 valid_acc = 0.8745\n",
      "57 train_mce = 0.2836 train_acc = 0.8793 valid_mce = 0.2957 valid_acc = 0.8745\n",
      "58 train_mce = 0.2833 train_acc = 0.8795 valid_mce = 0.2954 valid_acc = 0.8746\n",
      "59 train_mce = 0.2830 train_acc = 0.8795 valid_mce = 0.2951 valid_acc = 0.8747\n",
      "60 train_mce = 0.2827 train_acc = 0.8795 valid_mce = 0.2948 valid_acc = 0.8747\n",
      "61 train_mce = 0.2824 train_acc = 0.8796 valid_mce = 0.2946 valid_acc = 0.8747\n",
      "62 train_mce = 0.2821 train_acc = 0.8795 valid_mce = 0.2943 valid_acc = 0.8744\n",
      "63 train_mce = 0.2818 train_acc = 0.8797 valid_mce = 0.2941 valid_acc = 0.8747\n",
      "64 train_mce = 0.2815 train_acc = 0.8797 valid_mce = 0.2939 valid_acc = 0.8749\n",
      "65 train_mce = 0.2813 train_acc = 0.8798 valid_mce = 0.2936 valid_acc = 0.8751\n",
      "66 train_mce = 0.2810 train_acc = 0.8798 valid_mce = 0.2934 valid_acc = 0.8751\n",
      "67 train_mce = 0.2808 train_acc = 0.8799 valid_mce = 0.2932 valid_acc = 0.8751\n",
      "68 train_mce = 0.2805 train_acc = 0.8800 valid_mce = 0.2930 valid_acc = 0.8751\n",
      "69 train_mce = 0.2803 train_acc = 0.8800 valid_mce = 0.2928 valid_acc = 0.8752\n",
      "70 train_mce = 0.2801 train_acc = 0.8799 valid_mce = 0.2926 valid_acc = 0.8752\n",
      "71 train_mce = 0.2799 train_acc = 0.8800 valid_mce = 0.2925 valid_acc = 0.8752\n",
      "72 train_mce = 0.2796 train_acc = 0.8799 valid_mce = 0.2923 valid_acc = 0.8753\n",
      "73 train_mce = 0.2794 train_acc = 0.8799 valid_mce = 0.2921 valid_acc = 0.8753\n",
      "74 train_mce = 0.2792 train_acc = 0.8799 valid_mce = 0.2919 valid_acc = 0.8754\n",
      "75 train_mce = 0.2790 train_acc = 0.8801 valid_mce = 0.2918 valid_acc = 0.8750\n",
      "76 train_mce = 0.2789 train_acc = 0.8801 valid_mce = 0.2916 valid_acc = 0.8750\n",
      "77 train_mce = 0.2787 train_acc = 0.8801 valid_mce = 0.2915 valid_acc = 0.8749\n",
      "78 train_mce = 0.2785 train_acc = 0.8802 valid_mce = 0.2913 valid_acc = 0.8748\n",
      "79 train_mce = 0.2783 train_acc = 0.8803 valid_mce = 0.2912 valid_acc = 0.8749\n",
      "80 train_mce = 0.2782 train_acc = 0.8802 valid_mce = 0.2910 valid_acc = 0.8748\n",
      "81 train_mce = 0.2780 train_acc = 0.8802 valid_mce = 0.2909 valid_acc = 0.8748\n",
      "82 train_mce = 0.2778 train_acc = 0.8802 valid_mce = 0.2908 valid_acc = 0.8749\n",
      "83 train_mce = 0.2777 train_acc = 0.8802 valid_mce = 0.2907 valid_acc = 0.8749\n",
      "84 train_mce = 0.2775 train_acc = 0.8801 valid_mce = 0.2905 valid_acc = 0.8749\n",
      "85 train_mce = 0.2774 train_acc = 0.8802 valid_mce = 0.2904 valid_acc = 0.8750\n",
      "86 train_mce = 0.2772 train_acc = 0.8802 valid_mce = 0.2903 valid_acc = 0.8751\n",
      "87 train_mce = 0.2771 train_acc = 0.8802 valid_mce = 0.2902 valid_acc = 0.8750\n",
      "88 train_mce = 0.2770 train_acc = 0.8801 valid_mce = 0.2901 valid_acc = 0.8750\n",
      "89 train_mce = 0.2768 train_acc = 0.8802 valid_mce = 0.2900 valid_acc = 0.8751\n",
      "90 train_mce = 0.2767 train_acc = 0.8803 valid_mce = 0.2899 valid_acc = 0.8752\n",
      "91 train_mce = 0.2766 train_acc = 0.8804 valid_mce = 0.2898 valid_acc = 0.8753\n",
      "92 train_mce = 0.2764 train_acc = 0.8804 valid_mce = 0.2897 valid_acc = 0.8751\n",
      "93 train_mce = 0.2763 train_acc = 0.8804 valid_mce = 0.2896 valid_acc = 0.8753\n",
      "94 train_mce = 0.2762 train_acc = 0.8805 valid_mce = 0.2895 valid_acc = 0.8755\n",
      "95 train_mce = 0.2761 train_acc = 0.8805 valid_mce = 0.2894 valid_acc = 0.8755\n",
      "96 train_mce = 0.2760 train_acc = 0.8806 valid_mce = 0.2893 valid_acc = 0.8754\n",
      "97 train_mce = 0.2759 train_acc = 0.8806 valid_mce = 0.2892 valid_acc = 0.8753\n",
      "98 train_mce = 0.2758 train_acc = 0.8807 valid_mce = 0.2891 valid_acc = 0.8753\n",
      "99 train_mce = 0.2757 train_acc = 0.8807 valid_mce = 0.2890 valid_acc = 0.8754\n"
     ]
    }
   ],
   "source": [
    "learning_rate = 0.00001 ###\n",
    "weight_num = X_train.shape[1]\n",
    "W = np.zeros(weight_num).reshape(-1, 1)\n",
    "R = np.zeros(weight_num).reshape(-1, 1)\n",
    "epochs = 100\n",
    "eps = np.finfo(float).eps\n",
    "\n",
    "for i in range(epochs):\n",
    "    Z_train_hat = X_train @ W\n",
    "    Y_train_hat = sigmoid(Z_train_hat)\n",
    "    Y_train_delta = Y_train_hat - Y_train ###\n",
    "    \n",
    "    # calculate gradients\n",
    "    G = X_train.T @ Y_train_delta\n",
    "    R += G ** 2\n",
    "    sigma = np.sqrt(R) + eps # prevent 0\n",
    "    adaG = G / sigma\n",
    "    \n",
    "    # update weights\n",
    "    W -= learning_rate * G\n",
    "    \n",
    "    # metrics\n",
    "    Z_valid_hat = X_valid @ W\n",
    "    Y_valid_hat = sigmoid(Z_valid_hat)\n",
    "    \n",
    "    train_mce = mean_cross_entropy(Y_train, Y_train_hat)\n",
    "    train_acc = acc(Y_train, Y_train_hat)\n",
    "    \n",
    "    valid_mce = mean_cross_entropy(Y_valid, Y_valid_hat)\n",
    "    valid_acc = acc(Y_valid, Y_valid_hat)\n",
    "    print(\n",
    "        i, \n",
    "        'train_mce = %.4f'%(train_mce), 'train_acc = %.4f'%(train_acc), \n",
    "        'valid_mce = %.4f'%(valid_mce), 'valid_acc = %.4f'%(valid_acc))\n"
   ]
  },
  {
   "cell_type": "markdown",
   "metadata": {},
   "source": [
    "## exp"
   ]
  },
  {
   "cell_type": "code",
   "execution_count": 25,
   "metadata": {
    "ExecuteTime": {
     "end_time": "2020-05-17T17:36:03.573087Z",
     "start_time": "2020-05-17T17:36:03.567246Z"
    },
    "scrolled": true
   },
   "outputs": [],
   "source": [
    "# x_train=df_x_all_drop[:len(df_x_train)].values.astype('float32')\n",
    "# y_train=df_y_train.y_label.values.astype('float32')\n",
    "# x_test=df_x_all_drop[len(df_x_train):].values.astype('float32')\n",
    "\n",
    "# for is_normalize in [0,1]:\n",
    "#     for is_adaG in [0,1]:\n",
    "#         print('#'*50)\n",
    "#         print('normalize',is_normalize,'adaG',is_adaG)\n",
    "#         if is_normalize==1: normalize(x_train, x_test)\n",
    "#         x_train_append = append_ones(x_train)\n",
    "#         x_test_append = append_ones(x_test)\n",
    "#         X_train, X_valid, Y_train, Y_valid = train_valid_split(x_train_append, y_train.reshape(-1, 1), 0.2)\n",
    "\n",
    "#         learning_rate = 0.00001 ###\n",
    "#         weight_num = X_train.shape[1]\n",
    "#         W = np.zeros(weight_num).reshape(-1, 1)\n",
    "#         R = np.zeros(weight_num).reshape(-1, 1)\n",
    "#         epochs = 100\n",
    "#         eps = np.finfo(float).eps\n",
    "\n",
    "#         for i in range(epochs):\n",
    "#             Z_train_hat = X_train @ W\n",
    "#             Y_train_hat = sigmoid(Z_train_hat)\n",
    "#             Y_train_delta = Y_train_hat - Y_train ###\n",
    "\n",
    "#             # calculate gradients\n",
    "#             G = X_train.T @ Y_train_delta\n",
    "#             if is_adaG==1: \n",
    "#                 R += G ** 2\n",
    "#                 sigma = np.sqrt(R) + eps # prevent 0\n",
    "#                 G = G / sigma\n",
    "\n",
    "#             # update weights\n",
    "#             W -= learning_rate * G\n",
    "\n",
    "#             # metrics\n",
    "#             Z_valid_hat = X_valid @ W\n",
    "#             Y_valid_hat = sigmoid(Z_valid_hat)\n",
    "#             train_mce = mean_cross_entropy(Y_train, Y_train_hat)\n",
    "#             valid_mce = mean_cross_entropy(Y_valid, Y_valid_hat)\n",
    "#             print(i, 'train_mce = %.4f'%(train_mce), 'valid_mce = %.4f'%(valid_mce))"
   ]
  },
  {
   "cell_type": "code",
   "execution_count": null,
   "metadata": {
    "collapsed": true
   },
   "outputs": [],
   "source": []
  }
 ],
 "metadata": {
  "kernelspec": {
   "display_name": "Python 3",
   "language": "python",
   "name": "python3"
  },
  "language_info": {
   "codemirror_mode": {
    "name": "ipython",
    "version": 3
   },
   "file_extension": ".py",
   "mimetype": "text/x-python",
   "name": "python",
   "nbconvert_exporter": "python",
   "pygments_lexer": "ipython3",
   "version": "3.6.5"
  },
  "toc": {
   "base_numbering": 1,
   "nav_menu": {},
   "number_sections": true,
   "sideBar": true,
   "skip_h1_title": false,
   "title_cell": "Table of Contents",
   "title_sidebar": "Contents",
   "toc_cell": false,
   "toc_position": {
    "height": "calc(100% - 180px)",
    "left": "10px",
    "top": "150px",
    "width": "165px"
   },
   "toc_section_display": true,
   "toc_window_display": true
  }
 },
 "nbformat": 4,
 "nbformat_minor": 2
}
